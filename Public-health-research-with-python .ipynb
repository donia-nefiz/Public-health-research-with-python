{
 "cells": [
  {
   "cell_type": "markdown",
   "id": "f8b22c1d",
   "metadata": {},
   "source": [
    "# Public health research with python"
   ]
  },
  {
   "cell_type": "markdown",
   "id": "e0e867f8",
   "metadata": {},
   "source": [
    " "
   ]
  },
  {
   "cell_type": "markdown",
   "id": "aa3a3a62",
   "metadata": {},
   "source": [
    "**FAO data, files exploration and data cleaning**"
   ]
  },
  {
   "cell_type": "code",
   "execution_count": 1,
   "id": "95056797",
   "metadata": {},
   "outputs": [],
   "source": [
    "import pandas as pd"
   ]
  },
  {
   "cell_type": "code",
   "execution_count": 2,
   "id": "24b9522c",
   "metadata": {},
   "outputs": [],
   "source": [
    "import numpy as np"
   ]
  },
  {
   "cell_type": "markdown",
   "id": "9abf2cd9",
   "metadata": {},
   "source": [
    " "
   ]
  },
  {
   "cell_type": "markdown",
   "id": "3cb10302",
   "metadata": {},
   "source": [
    "*a. [undernutrition.csv](http://localhost:8888/edit/undernutrition.csv) : exploration and data cleaning*"
   ]
  },
  {
   "cell_type": "markdown",
   "id": "a0f710aa",
   "metadata": {},
   "source": [
    "- Loading file:"
   ]
  },
  {
   "cell_type": "code",
   "execution_count": 3,
   "id": "045b66e5",
   "metadata": {},
   "outputs": [],
   "source": [
    "undernutrition = pd.read_csv('undernutrition.csv', sep=';')"
   ]
  },
  {
   "cell_type": "markdown",
   "id": "1442e77f",
   "metadata": {},
   "source": [
    "- First 5 rows display :"
   ]
  },
  {
   "cell_type": "code",
   "execution_count": 4,
   "id": "49a5be12",
   "metadata": {},
   "outputs": [
    {
     "data": {
      "text/html": [
       "<div>\n",
       "<style scoped>\n",
       "    .dataframe tbody tr th:only-of-type {\n",
       "        vertical-align: middle;\n",
       "    }\n",
       "\n",
       "    .dataframe tbody tr th {\n",
       "        vertical-align: top;\n",
       "    }\n",
       "\n",
       "    .dataframe thead th {\n",
       "        text-align: right;\n",
       "    }\n",
       "</style>\n",
       "<table border=\"1\" class=\"dataframe\">\n",
       "  <thead>\n",
       "    <tr style=\"text-align: right;\">\n",
       "      <th></th>\n",
       "      <th>Zone</th>\n",
       "      <th>Année</th>\n",
       "      <th>Valeur (en million d'hab)</th>\n",
       "    </tr>\n",
       "  </thead>\n",
       "  <tbody>\n",
       "    <tr>\n",
       "      <th>0</th>\n",
       "      <td>Afghanistan</td>\n",
       "      <td>2012-2014</td>\n",
       "      <td>8.6</td>\n",
       "    </tr>\n",
       "    <tr>\n",
       "      <th>1</th>\n",
       "      <td>Afghanistan</td>\n",
       "      <td>2013-2015</td>\n",
       "      <td>8.8</td>\n",
       "    </tr>\n",
       "    <tr>\n",
       "      <th>2</th>\n",
       "      <td>Afghanistan</td>\n",
       "      <td>2014-2016</td>\n",
       "      <td>8.9</td>\n",
       "    </tr>\n",
       "    <tr>\n",
       "      <th>3</th>\n",
       "      <td>Afghanistan</td>\n",
       "      <td>2015-2017</td>\n",
       "      <td>9.7</td>\n",
       "    </tr>\n",
       "    <tr>\n",
       "      <th>4</th>\n",
       "      <td>Afghanistan</td>\n",
       "      <td>2016-2018</td>\n",
       "      <td>10.5</td>\n",
       "    </tr>\n",
       "  </tbody>\n",
       "</table>\n",
       "</div>"
      ],
      "text/plain": [
       "          Zone      Année Valeur (en million d'hab)\n",
       "0  Afghanistan  2012-2014                       8.6\n",
       "1  Afghanistan  2013-2015                       8.8\n",
       "2  Afghanistan  2014-2016                       8.9\n",
       "3  Afghanistan  2015-2017                       9.7\n",
       "4  Afghanistan  2016-2018                      10.5"
      ]
     },
     "execution_count": 4,
     "metadata": {},
     "output_type": "execute_result"
    }
   ],
   "source": [
    "undernutrition.head()"
   ]
  },
  {
   "cell_type": "markdown",
   "id": "ff790a4c",
   "metadata": {},
   "source": [
    "- Number of rows and columns :"
   ]
  },
  {
   "cell_type": "code",
   "execution_count": 5,
   "id": "7b00a5ae",
   "metadata": {},
   "outputs": [
    {
     "data": {
      "text/plain": [
       "(1218, 3)"
      ]
     },
     "execution_count": 5,
     "metadata": {},
     "output_type": "execute_result"
    }
   ],
   "source": [
    "undernutrition.shape"
   ]
  },
  {
   "cell_type": "markdown",
   "id": "f8ed62a1",
   "metadata": {},
   "source": [
    "- .dtypes display :"
   ]
  },
  {
   "cell_type": "code",
   "execution_count": 6,
   "id": "9e58bc0e",
   "metadata": {},
   "outputs": [
    {
     "data": {
      "text/plain": [
       "Zone                         object\n",
       "Année                        object\n",
       "Valeur (en million d'hab)    object\n",
       "dtype: object"
      ]
     },
     "execution_count": 6,
     "metadata": {},
     "output_type": "execute_result"
    }
   ],
   "source": [
    "undernutrition.dtypes"
   ]
  },
  {
   "cell_type": "markdown",
   "id": "a7f126f6",
   "metadata": {},
   "source": [
    "- \"Valeur\" column .unique values display :"
   ]
  },
  {
   "cell_type": "code",
   "execution_count": 7,
   "id": "fd9c6b69",
   "metadata": {},
   "outputs": [
    {
     "data": {
      "text/plain": [
       "array(['8.6', '8.8', '8.9', '9.7', '10.5', '11.1', '2.2', '2.5', '2.8',\n",
       "       '3', '3.1', '3.3', '0.1', '1.3', '1.2', nan, '7.6', '6.2', '5.3',\n",
       "       '5.6', '5.8', '5.7', '1.5', '1.6', '1.1', '1.7', '<0.1', '21.7',\n",
       "       '22.4', '23.3', '22.3', '21.5', '20.9', '0.8', '2', '1.9', '1.8',\n",
       "       '0.4', '0.5', '0.3', '0.2', '3.2', '3.4', '3.6', '3.8', '2.1',\n",
       "       '2.3', '2.4', '0.6', '0.7', '0.9', '3.9', '2.7', '1.4', '4.8',\n",
       "       '4.6', '4.9', '5', '4.4', '4.3', '4.2', '4.5', '26.2', '24.3',\n",
       "       '21.3', '21.1', '2.9', '5.1', '5.2', '5.4', '203.8', '198.3',\n",
       "       '193.1', '190.9', '190.1', '189.2', '23.6', '24', '24.1', '3.7',\n",
       "       '7.3', '7.8', '8.4', '9', '9.1', '10.1', '10', '10.7', '11.5',\n",
       "       '11.9', '11.8', '8.7', '10.3', '11', '1', '5.5', '6.8', '7.9',\n",
       "       '5.9', '7', '9.2', '9.4', '9.6', '6.7', '7.1', '7.2', '14.7',\n",
       "       '17.4', '20.2', '22.2', '22.8', '24.6', '31.1', '28.5', '25.4',\n",
       "       '24.8', '26.1', '14.5', '15.4', '16.5', '15.8', '15.7', '10.8',\n",
       "       '11.2', '11.6', '12', '12.2', '13.5', '13.2', '12.8', '13', '13.4',\n",
       "       '14.1', '4.1', '6.1', '6', '6.5', '2.6', '8', '8.3'], dtype=object)"
      ]
     },
     "execution_count": 7,
     "metadata": {},
     "output_type": "execute_result"
    }
   ],
   "source": [
    "undernutrition[\"Valeur (en million d'hab)\"].unique()"
   ]
  },
  {
   "cell_type": "markdown",
   "id": "fc7aaa66",
   "metadata": {},
   "source": [
    "- Update \"Valeur\" column to numeric :"
   ]
  },
  {
   "cell_type": "code",
   "execution_count": 8,
   "id": "038ad63c",
   "metadata": {},
   "outputs": [],
   "source": [
    "undernutrition[\"Valeur (en million d'hab)\"] = pd.to_numeric(undernutrition[\"Valeur (en million d'hab)\"],errors = 'coerce')"
   ]
  },
  {
   "cell_type": "markdown",
   "id": "fd45dc7d",
   "metadata": {},
   "source": [
    "- .dtypes display :"
   ]
  },
  {
   "cell_type": "code",
   "execution_count": 9,
   "id": "2da272d3",
   "metadata": {},
   "outputs": [
    {
     "data": {
      "text/plain": [
       "Zone                          object\n",
       "Année                         object\n",
       "Valeur (en million d'hab)    float64\n",
       "dtype: object"
      ]
     },
     "execution_count": 9,
     "metadata": {},
     "output_type": "execute_result"
    }
   ],
   "source": [
    "undernutrition.dtypes"
   ]
  },
  {
   "cell_type": "markdown",
   "id": "19c82881",
   "metadata": {},
   "source": [
    "- \"Valeur\" column display :"
   ]
  },
  {
   "cell_type": "code",
   "execution_count": 10,
   "id": "0a970417",
   "metadata": {},
   "outputs": [
    {
     "data": {
      "text/plain": [
       "0        8.6\n",
       "1        8.8\n",
       "2        8.9\n",
       "3        9.7\n",
       "4       10.5\n",
       "        ... \n",
       "1213     NaN\n",
       "1214     NaN\n",
       "1215     NaN\n",
       "1216     NaN\n",
       "1217     NaN\n",
       "Name: Valeur (en million d'hab), Length: 1218, dtype: float64"
      ]
     },
     "execution_count": 10,
     "metadata": {},
     "output_type": "execute_result"
    }
   ],
   "source": [
    "undernutrition[\"Valeur (en million d'hab)\"]"
   ]
  },
  {
   "cell_type": "markdown",
   "id": "bf08fd05",
   "metadata": {},
   "source": [
    "- Replace NaN values by 0.00 :"
   ]
  },
  {
   "cell_type": "code",
   "execution_count": 11,
   "id": "aa6becbf",
   "metadata": {},
   "outputs": [],
   "source": [
    "undernutrition[\"Valeur (en million d'hab)\"].fillna(0, inplace=True)"
   ]
  },
  {
   "cell_type": "code",
   "execution_count": 12,
   "id": "97176c18",
   "metadata": {},
   "outputs": [
    {
     "data": {
      "text/plain": [
       "0        8.6\n",
       "1        8.8\n",
       "2        8.9\n",
       "3        9.7\n",
       "4       10.5\n",
       "        ... \n",
       "1213     0.0\n",
       "1214     0.0\n",
       "1215     0.0\n",
       "1216     0.0\n",
       "1217     0.0\n",
       "Name: Valeur (en million d'hab), Length: 1218, dtype: float64"
      ]
     },
     "execution_count": 12,
     "metadata": {},
     "output_type": "execute_result"
    }
   ],
   "source": [
    "undernutrition[\"Valeur (en million d'hab)\"]"
   ]
  },
  {
   "cell_type": "markdown",
   "id": "cbf1637a",
   "metadata": {},
   "source": [
    "- Update \"Année\" column values :"
   ]
  },
  {
   "cell_type": "code",
   "execution_count": 13,
   "id": "c36552fc",
   "metadata": {},
   "outputs": [],
   "source": [
    "undernutrition = undernutrition.replace([\"2012-2014\",\"2013-2015\",\"2014-2016\",\"2015-2017\",\"2016-2018\",\"2017-2019\"],\n",
    "                                        [\"2013\",\"2014\",\"2015\",\"2016\",\"2017\",\"2018\"])"
   ]
  },
  {
   "cell_type": "code",
   "execution_count": 14,
   "id": "2b35b655",
   "metadata": {},
   "outputs": [
    {
     "name": "stdout",
     "output_type": "stream",
     "text": [
      "             Zone Année  Valeur (en million d'hab)\n",
      "0     Afghanistan  2013                        8.6\n",
      "1     Afghanistan  2014                        8.8\n",
      "2     Afghanistan  2015                        8.9\n",
      "3     Afghanistan  2016                        9.7\n",
      "4     Afghanistan  2017                       10.5\n",
      "...           ...   ...                        ...\n",
      "1213     Zimbabwe  2014                        0.0\n",
      "1214     Zimbabwe  2015                        0.0\n",
      "1215     Zimbabwe  2016                        0.0\n",
      "1216     Zimbabwe  2017                        0.0\n",
      "1217     Zimbabwe  2018                        0.0\n",
      "\n",
      "[1218 rows x 3 columns]\n"
     ]
    }
   ],
   "source": [
    "print(undernutrition)"
   ]
  },
  {
   "cell_type": "markdown",
   "id": "59d579e9",
   "metadata": {},
   "source": [
    "- Convert \"Valeur\" column values in thousands of inhabitants :"
   ]
  },
  {
   "cell_type": "code",
   "execution_count": 15,
   "id": "144b8ce8",
   "metadata": {},
   "outputs": [],
   "source": [
    "undernutrition[\"Valeur (en milliers d'hab)\"] = undernutrition[\"Valeur (en million d'hab)\"] * 1000"
   ]
  },
  {
   "cell_type": "code",
   "execution_count": 16,
   "id": "138786c0",
   "metadata": {},
   "outputs": [
    {
     "data": {
      "text/html": [
       "<div>\n",
       "<style scoped>\n",
       "    .dataframe tbody tr th:only-of-type {\n",
       "        vertical-align: middle;\n",
       "    }\n",
       "\n",
       "    .dataframe tbody tr th {\n",
       "        vertical-align: top;\n",
       "    }\n",
       "\n",
       "    .dataframe thead th {\n",
       "        text-align: right;\n",
       "    }\n",
       "</style>\n",
       "<table border=\"1\" class=\"dataframe\">\n",
       "  <thead>\n",
       "    <tr style=\"text-align: right;\">\n",
       "      <th></th>\n",
       "      <th>Zone</th>\n",
       "      <th>Année</th>\n",
       "      <th>Valeur (en million d'hab)</th>\n",
       "      <th>Valeur (en milliers d'hab)</th>\n",
       "    </tr>\n",
       "  </thead>\n",
       "  <tbody>\n",
       "    <tr>\n",
       "      <th>0</th>\n",
       "      <td>Afghanistan</td>\n",
       "      <td>2013</td>\n",
       "      <td>8.6</td>\n",
       "      <td>8600.0</td>\n",
       "    </tr>\n",
       "    <tr>\n",
       "      <th>1</th>\n",
       "      <td>Afghanistan</td>\n",
       "      <td>2014</td>\n",
       "      <td>8.8</td>\n",
       "      <td>8800.0</td>\n",
       "    </tr>\n",
       "    <tr>\n",
       "      <th>2</th>\n",
       "      <td>Afghanistan</td>\n",
       "      <td>2015</td>\n",
       "      <td>8.9</td>\n",
       "      <td>8900.0</td>\n",
       "    </tr>\n",
       "    <tr>\n",
       "      <th>3</th>\n",
       "      <td>Afghanistan</td>\n",
       "      <td>2016</td>\n",
       "      <td>9.7</td>\n",
       "      <td>9700.0</td>\n",
       "    </tr>\n",
       "    <tr>\n",
       "      <th>4</th>\n",
       "      <td>Afghanistan</td>\n",
       "      <td>2017</td>\n",
       "      <td>10.5</td>\n",
       "      <td>10500.0</td>\n",
       "    </tr>\n",
       "  </tbody>\n",
       "</table>\n",
       "</div>"
      ],
      "text/plain": [
       "          Zone Année  Valeur (en million d'hab)  Valeur (en milliers d'hab)\n",
       "0  Afghanistan  2013                        8.6                      8600.0\n",
       "1  Afghanistan  2014                        8.8                      8800.0\n",
       "2  Afghanistan  2015                        8.9                      8900.0\n",
       "3  Afghanistan  2016                        9.7                      9700.0\n",
       "4  Afghanistan  2017                       10.5                     10500.0"
      ]
     },
     "execution_count": 16,
     "metadata": {},
     "output_type": "execute_result"
    }
   ],
   "source": [
    "undernutrition.head()"
   ]
  },
  {
   "cell_type": "markdown",
   "id": "a36c06bb",
   "metadata": {},
   "source": [
    "- Convert \"Valeur (en milliers d'hab)\" column to integer :"
   ]
  },
  {
   "cell_type": "code",
   "execution_count": 17,
   "id": "9669a6d6",
   "metadata": {},
   "outputs": [],
   "source": [
    "undernutrition = undernutrition.astype({\"Valeur (en milliers d'hab)\": int})"
   ]
  },
  {
   "cell_type": "code",
   "execution_count": 18,
   "id": "c938b0c5",
   "metadata": {},
   "outputs": [
    {
     "data": {
      "text/html": [
       "<div>\n",
       "<style scoped>\n",
       "    .dataframe tbody tr th:only-of-type {\n",
       "        vertical-align: middle;\n",
       "    }\n",
       "\n",
       "    .dataframe tbody tr th {\n",
       "        vertical-align: top;\n",
       "    }\n",
       "\n",
       "    .dataframe thead th {\n",
       "        text-align: right;\n",
       "    }\n",
       "</style>\n",
       "<table border=\"1\" class=\"dataframe\">\n",
       "  <thead>\n",
       "    <tr style=\"text-align: right;\">\n",
       "      <th></th>\n",
       "      <th>Zone</th>\n",
       "      <th>Année</th>\n",
       "      <th>Valeur (en million d'hab)</th>\n",
       "      <th>Valeur (en milliers d'hab)</th>\n",
       "    </tr>\n",
       "  </thead>\n",
       "  <tbody>\n",
       "    <tr>\n",
       "      <th>0</th>\n",
       "      <td>Afghanistan</td>\n",
       "      <td>2013</td>\n",
       "      <td>8.6</td>\n",
       "      <td>8600</td>\n",
       "    </tr>\n",
       "    <tr>\n",
       "      <th>1</th>\n",
       "      <td>Afghanistan</td>\n",
       "      <td>2014</td>\n",
       "      <td>8.8</td>\n",
       "      <td>8800</td>\n",
       "    </tr>\n",
       "    <tr>\n",
       "      <th>2</th>\n",
       "      <td>Afghanistan</td>\n",
       "      <td>2015</td>\n",
       "      <td>8.9</td>\n",
       "      <td>8900</td>\n",
       "    </tr>\n",
       "    <tr>\n",
       "      <th>3</th>\n",
       "      <td>Afghanistan</td>\n",
       "      <td>2016</td>\n",
       "      <td>9.7</td>\n",
       "      <td>9700</td>\n",
       "    </tr>\n",
       "    <tr>\n",
       "      <th>4</th>\n",
       "      <td>Afghanistan</td>\n",
       "      <td>2017</td>\n",
       "      <td>10.5</td>\n",
       "      <td>10500</td>\n",
       "    </tr>\n",
       "  </tbody>\n",
       "</table>\n",
       "</div>"
      ],
      "text/plain": [
       "          Zone Année  Valeur (en million d'hab)  Valeur (en milliers d'hab)\n",
       "0  Afghanistan  2013                        8.6                        8600\n",
       "1  Afghanistan  2014                        8.8                        8800\n",
       "2  Afghanistan  2015                        8.9                        8900\n",
       "3  Afghanistan  2016                        9.7                        9700\n",
       "4  Afghanistan  2017                       10.5                       10500"
      ]
     },
     "execution_count": 18,
     "metadata": {},
     "output_type": "execute_result"
    }
   ],
   "source": [
    "undernutrition.head()"
   ]
  },
  {
   "cell_type": "markdown",
   "id": "7aff0172",
   "metadata": {},
   "source": [
    "- New df on 2017:"
   ]
  },
  {
   "cell_type": "code",
   "execution_count": 19,
   "id": "07e992ef",
   "metadata": {},
   "outputs": [],
   "source": [
    "undernutrition2017 = undernutrition.loc[undernutrition[\"Année\"].isin([\"2017\"])].copy()"
   ]
  },
  {
   "cell_type": "code",
   "execution_count": 20,
   "id": "3703f4dd",
   "metadata": {},
   "outputs": [
    {
     "data": {
      "text/html": [
       "<div>\n",
       "<style scoped>\n",
       "    .dataframe tbody tr th:only-of-type {\n",
       "        vertical-align: middle;\n",
       "    }\n",
       "\n",
       "    .dataframe tbody tr th {\n",
       "        vertical-align: top;\n",
       "    }\n",
       "\n",
       "    .dataframe thead th {\n",
       "        text-align: right;\n",
       "    }\n",
       "</style>\n",
       "<table border=\"1\" class=\"dataframe\">\n",
       "  <thead>\n",
       "    <tr style=\"text-align: right;\">\n",
       "      <th></th>\n",
       "      <th>Zone</th>\n",
       "      <th>Année</th>\n",
       "      <th>Valeur (en million d'hab)</th>\n",
       "      <th>Valeur (en milliers d'hab)</th>\n",
       "    </tr>\n",
       "  </thead>\n",
       "  <tbody>\n",
       "    <tr>\n",
       "      <th>4</th>\n",
       "      <td>Afghanistan</td>\n",
       "      <td>2017</td>\n",
       "      <td>10.5</td>\n",
       "      <td>10500</td>\n",
       "    </tr>\n",
       "    <tr>\n",
       "      <th>10</th>\n",
       "      <td>Afrique du Sud</td>\n",
       "      <td>2017</td>\n",
       "      <td>3.1</td>\n",
       "      <td>3100</td>\n",
       "    </tr>\n",
       "    <tr>\n",
       "      <th>16</th>\n",
       "      <td>Albanie</td>\n",
       "      <td>2017</td>\n",
       "      <td>0.1</td>\n",
       "      <td>100</td>\n",
       "    </tr>\n",
       "    <tr>\n",
       "      <th>22</th>\n",
       "      <td>Algérie</td>\n",
       "      <td>2017</td>\n",
       "      <td>1.3</td>\n",
       "      <td>1300</td>\n",
       "    </tr>\n",
       "    <tr>\n",
       "      <th>28</th>\n",
       "      <td>Allemagne</td>\n",
       "      <td>2017</td>\n",
       "      <td>0.0</td>\n",
       "      <td>0</td>\n",
       "    </tr>\n",
       "  </tbody>\n",
       "</table>\n",
       "</div>"
      ],
      "text/plain": [
       "              Zone Année  Valeur (en million d'hab)  \\\n",
       "4      Afghanistan  2017                       10.5   \n",
       "10  Afrique du Sud  2017                        3.1   \n",
       "16         Albanie  2017                        0.1   \n",
       "22         Algérie  2017                        1.3   \n",
       "28       Allemagne  2017                        0.0   \n",
       "\n",
       "    Valeur (en milliers d'hab)  \n",
       "4                        10500  \n",
       "10                        3100  \n",
       "16                         100  \n",
       "22                        1300  \n",
       "28                           0  "
      ]
     },
     "execution_count": 20,
     "metadata": {},
     "output_type": "execute_result"
    }
   ],
   "source": [
    "undernutrition2017.head()"
   ]
  },
  {
   "cell_type": "markdown",
   "id": "d877e2f0",
   "metadata": {},
   "source": [
    "\n"
   ]
  },
  {
   "cell_type": "markdown",
   "id": "7a86823f",
   "metadata": {},
   "source": [
    "*b. [population.csv](http://localhost:8888/edit/population.csv) : exploration and data cleaning*"
   ]
  },
  {
   "cell_type": "markdown",
   "id": "82925741",
   "metadata": {},
   "source": [
    "- Loading file:"
   ]
  },
  {
   "cell_type": "code",
   "execution_count": 21,
   "id": "38e7d46c",
   "metadata": {},
   "outputs": [],
   "source": [
    "population = pd.read_csv('population.csv', sep=';')"
   ]
  },
  {
   "cell_type": "markdown",
   "id": "8932303b",
   "metadata": {},
   "source": [
    "- First 5 rows display :"
   ]
  },
  {
   "cell_type": "code",
   "execution_count": 22,
   "id": "05ce6096",
   "metadata": {},
   "outputs": [
    {
     "data": {
      "text/html": [
       "<div>\n",
       "<style scoped>\n",
       "    .dataframe tbody tr th:only-of-type {\n",
       "        vertical-align: middle;\n",
       "    }\n",
       "\n",
       "    .dataframe tbody tr th {\n",
       "        vertical-align: top;\n",
       "    }\n",
       "\n",
       "    .dataframe thead th {\n",
       "        text-align: right;\n",
       "    }\n",
       "</style>\n",
       "<table border=\"1\" class=\"dataframe\">\n",
       "  <thead>\n",
       "    <tr style=\"text-align: right;\">\n",
       "      <th></th>\n",
       "      <th>Zone</th>\n",
       "      <th>Année</th>\n",
       "      <th>Valeur (en milliers d'hab)</th>\n",
       "    </tr>\n",
       "  </thead>\n",
       "  <tbody>\n",
       "    <tr>\n",
       "      <th>0</th>\n",
       "      <td>Afghanistan</td>\n",
       "      <td>2013</td>\n",
       "      <td>32269.589</td>\n",
       "    </tr>\n",
       "    <tr>\n",
       "      <th>1</th>\n",
       "      <td>Afghanistan</td>\n",
       "      <td>2014</td>\n",
       "      <td>33370.794</td>\n",
       "    </tr>\n",
       "    <tr>\n",
       "      <th>2</th>\n",
       "      <td>Afghanistan</td>\n",
       "      <td>2015</td>\n",
       "      <td>34413.603</td>\n",
       "    </tr>\n",
       "    <tr>\n",
       "      <th>3</th>\n",
       "      <td>Afghanistan</td>\n",
       "      <td>2016</td>\n",
       "      <td>35383.032</td>\n",
       "    </tr>\n",
       "    <tr>\n",
       "      <th>4</th>\n",
       "      <td>Afghanistan</td>\n",
       "      <td>2017</td>\n",
       "      <td>36296.113</td>\n",
       "    </tr>\n",
       "  </tbody>\n",
       "</table>\n",
       "</div>"
      ],
      "text/plain": [
       "          Zone  Année  Valeur (en milliers d'hab)\n",
       "0  Afghanistan   2013                   32269.589\n",
       "1  Afghanistan   2014                   33370.794\n",
       "2  Afghanistan   2015                   34413.603\n",
       "3  Afghanistan   2016                   35383.032\n",
       "4  Afghanistan   2017                   36296.113"
      ]
     },
     "execution_count": 22,
     "metadata": {},
     "output_type": "execute_result"
    }
   ],
   "source": [
    "population.head()"
   ]
  },
  {
   "cell_type": "markdown",
   "id": "6769255d",
   "metadata": {},
   "source": [
    "- Number of rows and columns :"
   ]
  },
  {
   "cell_type": "code",
   "execution_count": 23,
   "id": "50473c0c",
   "metadata": {},
   "outputs": [
    {
     "data": {
      "text/plain": [
       "(1416, 3)"
      ]
     },
     "execution_count": 23,
     "metadata": {},
     "output_type": "execute_result"
    }
   ],
   "source": [
    "population.shape"
   ]
  },
  {
   "cell_type": "markdown",
   "id": "f368d0e4",
   "metadata": {},
   "source": [
    "- .dtypes display :"
   ]
  },
  {
   "cell_type": "code",
   "execution_count": 24,
   "id": "e02bda03",
   "metadata": {},
   "outputs": [
    {
     "data": {
      "text/plain": [
       "Zone                           object\n",
       "Année                           int64\n",
       "Valeur (en milliers d'hab)    float64\n",
       "dtype: object"
      ]
     },
     "execution_count": 24,
     "metadata": {},
     "output_type": "execute_result"
    }
   ],
   "source": [
    "population.dtypes"
   ]
  },
  {
   "cell_type": "markdown",
   "id": "48d5bb6c",
   "metadata": {},
   "source": [
    "- Convert \"Valeur\" column values to million of inhabitants :"
   ]
  },
  {
   "cell_type": "code",
   "execution_count": 25,
   "id": "4c66b7b6",
   "metadata": {},
   "outputs": [],
   "source": [
    "population[\"Valeur (en million d'hab)\"] = population[\"Valeur (en milliers d'hab)\"] / 1000"
   ]
  },
  {
   "cell_type": "code",
   "execution_count": 26,
   "id": "f63e2140",
   "metadata": {},
   "outputs": [],
   "source": [
    "population[\"Population totale\"] = population[\"Valeur (en milliers d'hab)\"] * 1000"
   ]
  },
  {
   "cell_type": "code",
   "execution_count": 27,
   "id": "37f7788d",
   "metadata": {},
   "outputs": [
    {
     "data": {
      "text/html": [
       "<div>\n",
       "<style scoped>\n",
       "    .dataframe tbody tr th:only-of-type {\n",
       "        vertical-align: middle;\n",
       "    }\n",
       "\n",
       "    .dataframe tbody tr th {\n",
       "        vertical-align: top;\n",
       "    }\n",
       "\n",
       "    .dataframe thead th {\n",
       "        text-align: right;\n",
       "    }\n",
       "</style>\n",
       "<table border=\"1\" class=\"dataframe\">\n",
       "  <thead>\n",
       "    <tr style=\"text-align: right;\">\n",
       "      <th></th>\n",
       "      <th>Zone</th>\n",
       "      <th>Année</th>\n",
       "      <th>Valeur (en milliers d'hab)</th>\n",
       "      <th>Valeur (en million d'hab)</th>\n",
       "      <th>Population totale</th>\n",
       "    </tr>\n",
       "  </thead>\n",
       "  <tbody>\n",
       "    <tr>\n",
       "      <th>0</th>\n",
       "      <td>Afghanistan</td>\n",
       "      <td>2013</td>\n",
       "      <td>32269.589</td>\n",
       "      <td>32.269589</td>\n",
       "      <td>32269589.0</td>\n",
       "    </tr>\n",
       "    <tr>\n",
       "      <th>1</th>\n",
       "      <td>Afghanistan</td>\n",
       "      <td>2014</td>\n",
       "      <td>33370.794</td>\n",
       "      <td>33.370794</td>\n",
       "      <td>33370794.0</td>\n",
       "    </tr>\n",
       "    <tr>\n",
       "      <th>2</th>\n",
       "      <td>Afghanistan</td>\n",
       "      <td>2015</td>\n",
       "      <td>34413.603</td>\n",
       "      <td>34.413603</td>\n",
       "      <td>34413603.0</td>\n",
       "    </tr>\n",
       "    <tr>\n",
       "      <th>3</th>\n",
       "      <td>Afghanistan</td>\n",
       "      <td>2016</td>\n",
       "      <td>35383.032</td>\n",
       "      <td>35.383032</td>\n",
       "      <td>35383032.0</td>\n",
       "    </tr>\n",
       "    <tr>\n",
       "      <th>4</th>\n",
       "      <td>Afghanistan</td>\n",
       "      <td>2017</td>\n",
       "      <td>36296.113</td>\n",
       "      <td>36.296113</td>\n",
       "      <td>36296113.0</td>\n",
       "    </tr>\n",
       "  </tbody>\n",
       "</table>\n",
       "</div>"
      ],
      "text/plain": [
       "          Zone  Année  Valeur (en milliers d'hab)  Valeur (en million d'hab)  \\\n",
       "0  Afghanistan   2013                   32269.589                  32.269589   \n",
       "1  Afghanistan   2014                   33370.794                  33.370794   \n",
       "2  Afghanistan   2015                   34413.603                  34.413603   \n",
       "3  Afghanistan   2016                   35383.032                  35.383032   \n",
       "4  Afghanistan   2017                   36296.113                  36.296113   \n",
       "\n",
       "   Population totale  \n",
       "0         32269589.0  \n",
       "1         33370794.0  \n",
       "2         34413603.0  \n",
       "3         35383032.0  \n",
       "4         36296113.0  "
      ]
     },
     "execution_count": 27,
     "metadata": {},
     "output_type": "execute_result"
    }
   ],
   "source": [
    "population.head()"
   ]
  },
  {
   "cell_type": "markdown",
   "id": "e2b9203c",
   "metadata": {},
   "source": [
    "- population 2017 new df :"
   ]
  },
  {
   "cell_type": "code",
   "execution_count": 28,
   "id": "af8d11dc",
   "metadata": {},
   "outputs": [],
   "source": [
    "pop2017 = population.loc[population[\"Année\"].isin([2017])].copy()"
   ]
  },
  {
   "cell_type": "code",
   "execution_count": 29,
   "id": "087421e1",
   "metadata": {},
   "outputs": [
    {
     "data": {
      "text/html": [
       "<div>\n",
       "<style scoped>\n",
       "    .dataframe tbody tr th:only-of-type {\n",
       "        vertical-align: middle;\n",
       "    }\n",
       "\n",
       "    .dataframe tbody tr th {\n",
       "        vertical-align: top;\n",
       "    }\n",
       "\n",
       "    .dataframe thead th {\n",
       "        text-align: right;\n",
       "    }\n",
       "</style>\n",
       "<table border=\"1\" class=\"dataframe\">\n",
       "  <thead>\n",
       "    <tr style=\"text-align: right;\">\n",
       "      <th></th>\n",
       "      <th>Zone</th>\n",
       "      <th>Année</th>\n",
       "      <th>Valeur (en milliers d'hab)</th>\n",
       "      <th>Valeur (en million d'hab)</th>\n",
       "      <th>Population totale</th>\n",
       "    </tr>\n",
       "  </thead>\n",
       "  <tbody>\n",
       "    <tr>\n",
       "      <th>4</th>\n",
       "      <td>Afghanistan</td>\n",
       "      <td>2017</td>\n",
       "      <td>36296.113</td>\n",
       "      <td>36.296113</td>\n",
       "      <td>36296113.0</td>\n",
       "    </tr>\n",
       "    <tr>\n",
       "      <th>10</th>\n",
       "      <td>Afrique du Sud</td>\n",
       "      <td>2017</td>\n",
       "      <td>57009.756</td>\n",
       "      <td>57.009756</td>\n",
       "      <td>57009756.0</td>\n",
       "    </tr>\n",
       "    <tr>\n",
       "      <th>16</th>\n",
       "      <td>Albanie</td>\n",
       "      <td>2017</td>\n",
       "      <td>2884.169</td>\n",
       "      <td>2.884169</td>\n",
       "      <td>2884169.0</td>\n",
       "    </tr>\n",
       "    <tr>\n",
       "      <th>22</th>\n",
       "      <td>Algérie</td>\n",
       "      <td>2017</td>\n",
       "      <td>41389.189</td>\n",
       "      <td>41.389189</td>\n",
       "      <td>41389189.0</td>\n",
       "    </tr>\n",
       "    <tr>\n",
       "      <th>28</th>\n",
       "      <td>Allemagne</td>\n",
       "      <td>2017</td>\n",
       "      <td>82658.409</td>\n",
       "      <td>82.658409</td>\n",
       "      <td>82658409.0</td>\n",
       "    </tr>\n",
       "  </tbody>\n",
       "</table>\n",
       "</div>"
      ],
      "text/plain": [
       "              Zone  Année  Valeur (en milliers d'hab)  \\\n",
       "4      Afghanistan   2017                   36296.113   \n",
       "10  Afrique du Sud   2017                   57009.756   \n",
       "16         Albanie   2017                    2884.169   \n",
       "22         Algérie   2017                   41389.189   \n",
       "28       Allemagne   2017                   82658.409   \n",
       "\n",
       "    Valeur (en million d'hab)  Population totale  \n",
       "4                   36.296113         36296113.0  \n",
       "10                  57.009756         57009756.0  \n",
       "16                   2.884169          2884169.0  \n",
       "22                  41.389189         41389189.0  \n",
       "28                  82.658409         82658409.0  "
      ]
     },
     "execution_count": 29,
     "metadata": {},
     "output_type": "execute_result"
    }
   ],
   "source": [
    "pop2017.head()"
   ]
  },
  {
   "cell_type": "code",
   "execution_count": 30,
   "id": "1dcc3f9c",
   "metadata": {},
   "outputs": [],
   "source": [
    "pop2017.rename(columns = {\"Valeur (en milliers d'hab)\": \"Population (en milliers d'hab)\",\n",
    "                          \"Valeur (en million d'hab)\": \"Population (en million d'hab)\",\n",
    "                         \"Année\": \"2017\"}, inplace=True)"
   ]
  },
  {
   "cell_type": "code",
   "execution_count": 31,
   "id": "b903d19f",
   "metadata": {},
   "outputs": [
    {
     "data": {
      "text/html": [
       "<div>\n",
       "<style scoped>\n",
       "    .dataframe tbody tr th:only-of-type {\n",
       "        vertical-align: middle;\n",
       "    }\n",
       "\n",
       "    .dataframe tbody tr th {\n",
       "        vertical-align: top;\n",
       "    }\n",
       "\n",
       "    .dataframe thead th {\n",
       "        text-align: right;\n",
       "    }\n",
       "</style>\n",
       "<table border=\"1\" class=\"dataframe\">\n",
       "  <thead>\n",
       "    <tr style=\"text-align: right;\">\n",
       "      <th></th>\n",
       "      <th>Zone</th>\n",
       "      <th>2017</th>\n",
       "      <th>Population (en milliers d'hab)</th>\n",
       "      <th>Population (en million d'hab)</th>\n",
       "      <th>Population totale</th>\n",
       "    </tr>\n",
       "  </thead>\n",
       "  <tbody>\n",
       "    <tr>\n",
       "      <th>4</th>\n",
       "      <td>Afghanistan</td>\n",
       "      <td>2017</td>\n",
       "      <td>36296.113</td>\n",
       "      <td>36.296113</td>\n",
       "      <td>36296113.0</td>\n",
       "    </tr>\n",
       "    <tr>\n",
       "      <th>10</th>\n",
       "      <td>Afrique du Sud</td>\n",
       "      <td>2017</td>\n",
       "      <td>57009.756</td>\n",
       "      <td>57.009756</td>\n",
       "      <td>57009756.0</td>\n",
       "    </tr>\n",
       "    <tr>\n",
       "      <th>16</th>\n",
       "      <td>Albanie</td>\n",
       "      <td>2017</td>\n",
       "      <td>2884.169</td>\n",
       "      <td>2.884169</td>\n",
       "      <td>2884169.0</td>\n",
       "    </tr>\n",
       "    <tr>\n",
       "      <th>22</th>\n",
       "      <td>Algérie</td>\n",
       "      <td>2017</td>\n",
       "      <td>41389.189</td>\n",
       "      <td>41.389189</td>\n",
       "      <td>41389189.0</td>\n",
       "    </tr>\n",
       "    <tr>\n",
       "      <th>28</th>\n",
       "      <td>Allemagne</td>\n",
       "      <td>2017</td>\n",
       "      <td>82658.409</td>\n",
       "      <td>82.658409</td>\n",
       "      <td>82658409.0</td>\n",
       "    </tr>\n",
       "  </tbody>\n",
       "</table>\n",
       "</div>"
      ],
      "text/plain": [
       "              Zone  2017  Population (en milliers d'hab)  \\\n",
       "4      Afghanistan  2017                       36296.113   \n",
       "10  Afrique du Sud  2017                       57009.756   \n",
       "16         Albanie  2017                        2884.169   \n",
       "22         Algérie  2017                       41389.189   \n",
       "28       Allemagne  2017                       82658.409   \n",
       "\n",
       "    Population (en million d'hab)  Population totale  \n",
       "4                       36.296113         36296113.0  \n",
       "10                      57.009756         57009756.0  \n",
       "16                       2.884169          2884169.0  \n",
       "22                      41.389189         41389189.0  \n",
       "28                      82.658409         82658409.0  "
      ]
     },
     "execution_count": 31,
     "metadata": {},
     "output_type": "execute_result"
    }
   ],
   "source": [
    "pop2017.head()"
   ]
  },
  {
   "cell_type": "code",
   "execution_count": 32,
   "id": "7680222e",
   "metadata": {},
   "outputs": [
    {
     "data": {
      "text/plain": [
       "(236, 5)"
      ]
     },
     "execution_count": 32,
     "metadata": {},
     "output_type": "execute_result"
    }
   ],
   "source": [
    "pop2017.shape"
   ]
  },
  {
   "cell_type": "markdown",
   "id": "32d1ace9",
   "metadata": {},
   "source": [
    " "
   ]
  },
  {
   "cell_type": "markdown",
   "id": "59d67a9f",
   "metadata": {},
   "source": [
    "*c. [food_help.csv](http://localhost:8888/edit/food_help.csv) : exploration and data cleaning*\n"
   ]
  },
  {
   "cell_type": "markdown",
   "id": "2c06c344",
   "metadata": {},
   "source": [
    "- Loading file:"
   ]
  },
  {
   "cell_type": "code",
   "execution_count": 33,
   "id": "afa04da3",
   "metadata": {},
   "outputs": [],
   "source": [
    "foodHelp = pd.read_csv('food_help.csv', sep=';')"
   ]
  },
  {
   "cell_type": "markdown",
   "id": "61799f36",
   "metadata": {},
   "source": [
    "- First 5 rows display :"
   ]
  },
  {
   "cell_type": "code",
   "execution_count": 34,
   "id": "928ed6c2",
   "metadata": {},
   "outputs": [
    {
     "data": {
      "text/html": [
       "<div>\n",
       "<style scoped>\n",
       "    .dataframe tbody tr th:only-of-type {\n",
       "        vertical-align: middle;\n",
       "    }\n",
       "\n",
       "    .dataframe tbody tr th {\n",
       "        vertical-align: top;\n",
       "    }\n",
       "\n",
       "    .dataframe thead th {\n",
       "        text-align: right;\n",
       "    }\n",
       "</style>\n",
       "<table border=\"1\" class=\"dataframe\">\n",
       "  <thead>\n",
       "    <tr style=\"text-align: right;\">\n",
       "      <th></th>\n",
       "      <th>Pays bénéficiaire</th>\n",
       "      <th>Année</th>\n",
       "      <th>Produit</th>\n",
       "      <th>Valeur</th>\n",
       "    </tr>\n",
       "  </thead>\n",
       "  <tbody>\n",
       "    <tr>\n",
       "      <th>0</th>\n",
       "      <td>Afghanistan</td>\n",
       "      <td>2013</td>\n",
       "      <td>Autres non-céréales</td>\n",
       "      <td>682</td>\n",
       "    </tr>\n",
       "    <tr>\n",
       "      <th>1</th>\n",
       "      <td>Afghanistan</td>\n",
       "      <td>2014</td>\n",
       "      <td>Autres non-céréales</td>\n",
       "      <td>335</td>\n",
       "    </tr>\n",
       "    <tr>\n",
       "      <th>2</th>\n",
       "      <td>Afghanistan</td>\n",
       "      <td>2013</td>\n",
       "      <td>Blé et Farin</td>\n",
       "      <td>39224</td>\n",
       "    </tr>\n",
       "    <tr>\n",
       "      <th>3</th>\n",
       "      <td>Afghanistan</td>\n",
       "      <td>2014</td>\n",
       "      <td>Blé et Farin</td>\n",
       "      <td>15160</td>\n",
       "    </tr>\n",
       "    <tr>\n",
       "      <th>4</th>\n",
       "      <td>Afghanistan</td>\n",
       "      <td>2013</td>\n",
       "      <td>Céréales</td>\n",
       "      <td>40504</td>\n",
       "    </tr>\n",
       "  </tbody>\n",
       "</table>\n",
       "</div>"
      ],
      "text/plain": [
       "  Pays bénéficiaire  Année              Produit  Valeur\n",
       "0       Afghanistan   2013  Autres non-céréales     682\n",
       "1       Afghanistan   2014  Autres non-céréales     335\n",
       "2       Afghanistan   2013         Blé et Farin   39224\n",
       "3       Afghanistan   2014         Blé et Farin   15160\n",
       "4       Afghanistan   2013             Céréales   40504"
      ]
     },
     "execution_count": 34,
     "metadata": {},
     "output_type": "execute_result"
    }
   ],
   "source": [
    "foodHelp.head()"
   ]
  },
  {
   "cell_type": "markdown",
   "id": "1c288812",
   "metadata": {},
   "source": [
    "- Number of rows and columns :"
   ]
  },
  {
   "cell_type": "code",
   "execution_count": 35,
   "id": "7bfa1dce",
   "metadata": {},
   "outputs": [
    {
     "data": {
      "text/plain": [
       "(1475, 4)"
      ]
     },
     "execution_count": 35,
     "metadata": {},
     "output_type": "execute_result"
    }
   ],
   "source": [
    "foodHelp.shape"
   ]
  },
  {
   "cell_type": "markdown",
   "id": "3591f866",
   "metadata": {},
   "source": [
    "- .dtypes display :"
   ]
  },
  {
   "cell_type": "code",
   "execution_count": 36,
   "id": "40cad71c",
   "metadata": {},
   "outputs": [
    {
     "data": {
      "text/plain": [
       "Pays bénéficiaire    object\n",
       "Année                 int64\n",
       "Produit              object\n",
       "Valeur                int64\n",
       "dtype: object"
      ]
     },
     "execution_count": 36,
     "metadata": {},
     "output_type": "execute_result"
    }
   ],
   "source": [
    "foodHelp.dtypes"
   ]
  },
  {
   "cell_type": "markdown",
   "id": "27ca8bc1",
   "metadata": {},
   "source": [
    "- Rename \"Valeur\" column by \"Valeur (en tonnes)\" :"
   ]
  },
  {
   "cell_type": "code",
   "execution_count": 37,
   "id": "05288579",
   "metadata": {},
   "outputs": [],
   "source": [
    "foodHelp.rename(columns = {'Valeur': 'Valeur (en tonnes)'}, inplace=True)"
   ]
  },
  {
   "cell_type": "code",
   "execution_count": 38,
   "id": "bdaac04f",
   "metadata": {},
   "outputs": [
    {
     "name": "stdout",
     "output_type": "stream",
     "text": [
      "     Pays bénéficiaire  Année                   Produit  Valeur (en tonnes)\n",
      "0          Afghanistan   2013       Autres non-céréales                 682\n",
      "1          Afghanistan   2014       Autres non-céréales                 335\n",
      "2          Afghanistan   2013              Blé et Farin               39224\n",
      "3          Afghanistan   2014              Blé et Farin               15160\n",
      "4          Afghanistan   2013                  Céréales               40504\n",
      "...                ...    ...                       ...                 ...\n",
      "1470          Zimbabwe   2015  Mélanges et préparations                  96\n",
      "1471          Zimbabwe   2013              Non-céréales                5022\n",
      "1472          Zimbabwe   2014              Non-céréales                2310\n",
      "1473          Zimbabwe   2015              Non-céréales                 306\n",
      "1474          Zimbabwe   2013                Riz, total                  64\n",
      "\n",
      "[1475 rows x 4 columns]\n"
     ]
    }
   ],
   "source": [
    "print(foodHelp)"
   ]
  },
  {
   "cell_type": "markdown",
   "id": "d5cf0b14",
   "metadata": {},
   "source": [
    " "
   ]
  },
  {
   "cell_type": "markdown",
   "id": "bae67f7d",
   "metadata": {},
   "source": [
    "*d. [food_availability.csv](http://localhost:8888/edit/food_availability.csv) : exploration and data cleaning*"
   ]
  },
  {
   "cell_type": "markdown",
   "id": "2fb27799",
   "metadata": {},
   "source": [
    "- Loading file:"
   ]
  },
  {
   "cell_type": "code",
   "execution_count": 39,
   "id": "fa1adaa1",
   "metadata": {},
   "outputs": [],
   "source": [
    "foodAvailability = pd.read_csv('food_availability.csv', sep=';')"
   ]
  },
  {
   "cell_type": "markdown",
   "id": "058cd848",
   "metadata": {},
   "source": [
    "- First 5 rows display :"
   ]
  },
  {
   "cell_type": "code",
   "execution_count": 40,
   "id": "fe267d61",
   "metadata": {},
   "outputs": [
    {
     "data": {
      "text/html": [
       "<div>\n",
       "<style scoped>\n",
       "    .dataframe tbody tr th:only-of-type {\n",
       "        vertical-align: middle;\n",
       "    }\n",
       "\n",
       "    .dataframe tbody tr th {\n",
       "        vertical-align: top;\n",
       "    }\n",
       "\n",
       "    .dataframe thead th {\n",
       "        text-align: right;\n",
       "    }\n",
       "</style>\n",
       "<table border=\"1\" class=\"dataframe\">\n",
       "  <thead>\n",
       "    <tr style=\"text-align: right;\">\n",
       "      <th></th>\n",
       "      <th>Zone</th>\n",
       "      <th>Produit</th>\n",
       "      <th>Origine</th>\n",
       "      <th>Aliments pour animaux</th>\n",
       "      <th>Autres Utilisations</th>\n",
       "      <th>Disponibilité alimentaire (Kcal/personne/jour)</th>\n",
       "      <th>Disponibilité alimentaire en quantité (kg/personne/an)</th>\n",
       "      <th>Disponibilité de matière grasse en quantité (g/personne/jour)</th>\n",
       "      <th>Disponibilité de protéines en quantité (g/personne/jour)</th>\n",
       "      <th>Disponibilité intérieure</th>\n",
       "      <th>Exportations - Quantité</th>\n",
       "      <th>Importations - Quantité</th>\n",
       "      <th>Nourriture</th>\n",
       "      <th>Pertes</th>\n",
       "      <th>Production</th>\n",
       "      <th>Semences</th>\n",
       "      <th>Traitement</th>\n",
       "      <th>Variation de stock</th>\n",
       "    </tr>\n",
       "  </thead>\n",
       "  <tbody>\n",
       "    <tr>\n",
       "      <th>0</th>\n",
       "      <td>Afghanistan</td>\n",
       "      <td>Abats Comestible</td>\n",
       "      <td>animale</td>\n",
       "      <td>NaN</td>\n",
       "      <td>NaN</td>\n",
       "      <td>5.0</td>\n",
       "      <td>1.72</td>\n",
       "      <td>0.20</td>\n",
       "      <td>0.77</td>\n",
       "      <td>53.0</td>\n",
       "      <td>NaN</td>\n",
       "      <td>NaN</td>\n",
       "      <td>53.0</td>\n",
       "      <td>NaN</td>\n",
       "      <td>53.0</td>\n",
       "      <td>NaN</td>\n",
       "      <td>NaN</td>\n",
       "      <td>NaN</td>\n",
       "    </tr>\n",
       "    <tr>\n",
       "      <th>1</th>\n",
       "      <td>Afghanistan</td>\n",
       "      <td>Agrumes, Autres</td>\n",
       "      <td>vegetale</td>\n",
       "      <td>NaN</td>\n",
       "      <td>NaN</td>\n",
       "      <td>1.0</td>\n",
       "      <td>1.29</td>\n",
       "      <td>0.01</td>\n",
       "      <td>0.02</td>\n",
       "      <td>41.0</td>\n",
       "      <td>2.0</td>\n",
       "      <td>40.0</td>\n",
       "      <td>39.0</td>\n",
       "      <td>2.0</td>\n",
       "      <td>3.0</td>\n",
       "      <td>NaN</td>\n",
       "      <td>NaN</td>\n",
       "      <td>NaN</td>\n",
       "    </tr>\n",
       "    <tr>\n",
       "      <th>2</th>\n",
       "      <td>Afghanistan</td>\n",
       "      <td>Aliments pour enfants</td>\n",
       "      <td>vegetale</td>\n",
       "      <td>NaN</td>\n",
       "      <td>NaN</td>\n",
       "      <td>1.0</td>\n",
       "      <td>0.06</td>\n",
       "      <td>0.01</td>\n",
       "      <td>0.03</td>\n",
       "      <td>2.0</td>\n",
       "      <td>NaN</td>\n",
       "      <td>2.0</td>\n",
       "      <td>2.0</td>\n",
       "      <td>NaN</td>\n",
       "      <td>NaN</td>\n",
       "      <td>NaN</td>\n",
       "      <td>NaN</td>\n",
       "      <td>NaN</td>\n",
       "    </tr>\n",
       "    <tr>\n",
       "      <th>3</th>\n",
       "      <td>Afghanistan</td>\n",
       "      <td>Ananas</td>\n",
       "      <td>vegetale</td>\n",
       "      <td>NaN</td>\n",
       "      <td>NaN</td>\n",
       "      <td>0.0</td>\n",
       "      <td>0.00</td>\n",
       "      <td>NaN</td>\n",
       "      <td>NaN</td>\n",
       "      <td>0.0</td>\n",
       "      <td>NaN</td>\n",
       "      <td>0.0</td>\n",
       "      <td>0.0</td>\n",
       "      <td>NaN</td>\n",
       "      <td>NaN</td>\n",
       "      <td>NaN</td>\n",
       "      <td>NaN</td>\n",
       "      <td>NaN</td>\n",
       "    </tr>\n",
       "    <tr>\n",
       "      <th>4</th>\n",
       "      <td>Afghanistan</td>\n",
       "      <td>Bananes</td>\n",
       "      <td>vegetale</td>\n",
       "      <td>NaN</td>\n",
       "      <td>NaN</td>\n",
       "      <td>4.0</td>\n",
       "      <td>2.70</td>\n",
       "      <td>0.02</td>\n",
       "      <td>0.05</td>\n",
       "      <td>82.0</td>\n",
       "      <td>NaN</td>\n",
       "      <td>82.0</td>\n",
       "      <td>82.0</td>\n",
       "      <td>NaN</td>\n",
       "      <td>NaN</td>\n",
       "      <td>NaN</td>\n",
       "      <td>NaN</td>\n",
       "      <td>NaN</td>\n",
       "    </tr>\n",
       "  </tbody>\n",
       "</table>\n",
       "</div>"
      ],
      "text/plain": [
       "          Zone                Produit   Origine  Aliments pour animaux  \\\n",
       "0  Afghanistan       Abats Comestible   animale                    NaN   \n",
       "1  Afghanistan        Agrumes, Autres  vegetale                    NaN   \n",
       "2  Afghanistan  Aliments pour enfants  vegetale                    NaN   \n",
       "3  Afghanistan                 Ananas  vegetale                    NaN   \n",
       "4  Afghanistan                Bananes  vegetale                    NaN   \n",
       "\n",
       "   Autres Utilisations  Disponibilité alimentaire (Kcal/personne/jour)  \\\n",
       "0                  NaN                                             5.0   \n",
       "1                  NaN                                             1.0   \n",
       "2                  NaN                                             1.0   \n",
       "3                  NaN                                             0.0   \n",
       "4                  NaN                                             4.0   \n",
       "\n",
       "   Disponibilité alimentaire en quantité (kg/personne/an)  \\\n",
       "0                                               1.72        \n",
       "1                                               1.29        \n",
       "2                                               0.06        \n",
       "3                                               0.00        \n",
       "4                                               2.70        \n",
       "\n",
       "   Disponibilité de matière grasse en quantité (g/personne/jour)  \\\n",
       "0                                               0.20               \n",
       "1                                               0.01               \n",
       "2                                               0.01               \n",
       "3                                                NaN               \n",
       "4                                               0.02               \n",
       "\n",
       "   Disponibilité de protéines en quantité (g/personne/jour)  \\\n",
       "0                                               0.77          \n",
       "1                                               0.02          \n",
       "2                                               0.03          \n",
       "3                                                NaN          \n",
       "4                                               0.05          \n",
       "\n",
       "   Disponibilité intérieure  Exportations - Quantité  Importations - Quantité  \\\n",
       "0                      53.0                      NaN                      NaN   \n",
       "1                      41.0                      2.0                     40.0   \n",
       "2                       2.0                      NaN                      2.0   \n",
       "3                       0.0                      NaN                      0.0   \n",
       "4                      82.0                      NaN                     82.0   \n",
       "\n",
       "   Nourriture  Pertes  Production  Semences  Traitement  Variation de stock  \n",
       "0        53.0     NaN        53.0       NaN         NaN                 NaN  \n",
       "1        39.0     2.0         3.0       NaN         NaN                 NaN  \n",
       "2         2.0     NaN         NaN       NaN         NaN                 NaN  \n",
       "3         0.0     NaN         NaN       NaN         NaN                 NaN  \n",
       "4        82.0     NaN         NaN       NaN         NaN                 NaN  "
      ]
     },
     "execution_count": 40,
     "metadata": {},
     "output_type": "execute_result"
    }
   ],
   "source": [
    "foodAvailability.head()"
   ]
  },
  {
   "cell_type": "markdown",
   "id": "36689173",
   "metadata": {},
   "source": [
    "- Number of rows and columns :"
   ]
  },
  {
   "cell_type": "code",
   "execution_count": 41,
   "id": "b14ea53f",
   "metadata": {},
   "outputs": [
    {
     "data": {
      "text/plain": [
       "(15605, 18)"
      ]
     },
     "execution_count": 41,
     "metadata": {},
     "output_type": "execute_result"
    }
   ],
   "source": [
    "foodAvailability.shape"
   ]
  },
  {
   "cell_type": "markdown",
   "id": "f18f63b8",
   "metadata": {},
   "source": [
    "- Replace NaN values by 0.00 :"
   ]
  },
  {
   "cell_type": "code",
   "execution_count": 42,
   "id": "c4fb7045",
   "metadata": {},
   "outputs": [],
   "source": [
    "foodAvailability.fillna(0, inplace=True)"
   ]
  },
  {
   "cell_type": "markdown",
   "id": "6d4e76a1",
   "metadata": {},
   "source": [
    "- foodAvailability dataframe display :"
   ]
  },
  {
   "cell_type": "code",
   "execution_count": 43,
   "id": "d2a419e3",
   "metadata": {},
   "outputs": [
    {
     "name": "stdout",
     "output_type": "stream",
     "text": [
      "               Zone                Produit   Origine  Aliments pour animaux  \\\n",
      "0       Afghanistan       Abats Comestible   animale                    0.0   \n",
      "1       Afghanistan        Agrumes, Autres  vegetale                    0.0   \n",
      "2       Afghanistan  Aliments pour enfants  vegetale                    0.0   \n",
      "3       Afghanistan                 Ananas  vegetale                    0.0   \n",
      "4       Afghanistan                Bananes  vegetale                    0.0   \n",
      "...             ...                    ...       ...                    ...   \n",
      "15600  Îles Salomon       Viande de Suides   animale                    0.0   \n",
      "15601  Îles Salomon    Viande de Volailles   animale                    0.0   \n",
      "15602  Îles Salomon          Viande, Autre   animale                    0.0   \n",
      "15603  Îles Salomon                    Vin  vegetale                    0.0   \n",
      "15604  Îles Salomon         Épices, Autres  vegetale                    0.0   \n",
      "\n",
      "       Autres Utilisations  Disponibilité alimentaire (Kcal/personne/jour)  \\\n",
      "0                      0.0                                             5.0   \n",
      "1                      0.0                                             1.0   \n",
      "2                      0.0                                             1.0   \n",
      "3                      0.0                                             0.0   \n",
      "4                      0.0                                             4.0   \n",
      "...                    ...                                             ...   \n",
      "15600                  0.0                                            45.0   \n",
      "15601                  0.0                                            11.0   \n",
      "15602                  0.0                                             0.0   \n",
      "15603                  0.0                                             0.0   \n",
      "15604                  0.0                                             4.0   \n",
      "\n",
      "       Disponibilité alimentaire en quantité (kg/personne/an)  \\\n",
      "0                                                   1.72        \n",
      "1                                                   1.29        \n",
      "2                                                   0.06        \n",
      "3                                                   0.00        \n",
      "4                                                   2.70        \n",
      "...                                                  ...        \n",
      "15600                                               4.70        \n",
      "15601                                               3.34        \n",
      "15602                                               0.06        \n",
      "15603                                               0.07        \n",
      "15604                                               0.48        \n",
      "\n",
      "       Disponibilité de matière grasse en quantité (g/personne/jour)  \\\n",
      "0                                                   0.20               \n",
      "1                                                   0.01               \n",
      "2                                                   0.01               \n",
      "3                                                   0.00               \n",
      "4                                                   0.02               \n",
      "...                                                  ...               \n",
      "15600                                               4.28               \n",
      "15601                                               0.69               \n",
      "15602                                               0.00               \n",
      "15603                                               0.00               \n",
      "15604                                               0.21               \n",
      "\n",
      "       Disponibilité de protéines en quantité (g/personne/jour)  \\\n",
      "0                                                   0.77          \n",
      "1                                                   0.02          \n",
      "2                                                   0.03          \n",
      "3                                                   0.00          \n",
      "4                                                   0.05          \n",
      "...                                                  ...          \n",
      "15600                                               1.41          \n",
      "15601                                               1.14          \n",
      "15602                                               0.04          \n",
      "15603                                               0.00          \n",
      "15604                                               0.15          \n",
      "\n",
      "       Disponibilité intérieure  Exportations - Quantité  \\\n",
      "0                          53.0                      0.0   \n",
      "1                          41.0                      2.0   \n",
      "2                           2.0                      0.0   \n",
      "3                           0.0                      0.0   \n",
      "4                          82.0                      0.0   \n",
      "...                         ...                      ...   \n",
      "15600                       3.0                      0.0   \n",
      "15601                       2.0                      0.0   \n",
      "15602                       0.0                      0.0   \n",
      "15603                       0.0                      0.0   \n",
      "15604                       0.0                      0.0   \n",
      "\n",
      "       Importations - Quantité  Nourriture  Pertes  Production  Semences  \\\n",
      "0                          0.0        53.0     0.0        53.0       0.0   \n",
      "1                         40.0        39.0     2.0         3.0       0.0   \n",
      "2                          2.0         2.0     0.0         0.0       0.0   \n",
      "3                          0.0         0.0     0.0         0.0       0.0   \n",
      "4                         82.0        82.0     0.0         0.0       0.0   \n",
      "...                        ...         ...     ...         ...       ...   \n",
      "15600                      0.0         3.0     0.0         2.0       0.0   \n",
      "15601                      2.0         2.0     0.0         0.0       0.0   \n",
      "15602                      0.0         0.0     0.0         0.0       0.0   \n",
      "15603                      0.0         0.0     0.0         0.0       0.0   \n",
      "15604                      0.0         0.0     0.0         0.0       0.0   \n",
      "\n",
      "       Traitement  Variation de stock  \n",
      "0             0.0                 0.0  \n",
      "1             0.0                 0.0  \n",
      "2             0.0                 0.0  \n",
      "3             0.0                 0.0  \n",
      "4             0.0                 0.0  \n",
      "...           ...                 ...  \n",
      "15600         0.0                 0.0  \n",
      "15601         0.0                 0.0  \n",
      "15602         0.0                 0.0  \n",
      "15603         0.0                 0.0  \n",
      "15604         0.0                 0.0  \n",
      "\n",
      "[15605 rows x 18 columns]\n"
     ]
    }
   ],
   "source": [
    "print(foodAvailability)"
   ]
  },
  {
   "cell_type": "markdown",
   "id": "56315480",
   "metadata": {},
   "source": [
    "- .dtypes display :"
   ]
  },
  {
   "cell_type": "code",
   "execution_count": 44,
   "id": "7884bd41",
   "metadata": {},
   "outputs": [
    {
     "data": {
      "text/plain": [
       "Zone                                                              object\n",
       "Produit                                                           object\n",
       "Origine                                                           object\n",
       "Aliments pour animaux                                            float64\n",
       "Autres Utilisations                                              float64\n",
       "Disponibilité alimentaire (Kcal/personne/jour)                   float64\n",
       "Disponibilité alimentaire en quantité (kg/personne/an)           float64\n",
       "Disponibilité de matière grasse en quantité (g/personne/jour)    float64\n",
       "Disponibilité de protéines en quantité (g/personne/jour)         float64\n",
       "Disponibilité intérieure                                         float64\n",
       "Exportations - Quantité                                          float64\n",
       "Importations - Quantité                                          float64\n",
       "Nourriture                                                       float64\n",
       "Pertes                                                           float64\n",
       "Production                                                       float64\n",
       "Semences                                                         float64\n",
       "Traitement                                                       float64\n",
       "Variation de stock                                               float64\n",
       "dtype: object"
      ]
     },
     "execution_count": 44,
     "metadata": {},
     "output_type": "execute_result"
    }
   ],
   "source": [
    "foodAvailability.dtypes"
   ]
  },
  {
   "cell_type": "markdown",
   "id": "defdc40a",
   "metadata": {},
   "source": [
    "- Convert use of food availability columns in \"kilogram\" :"
   ]
  },
  {
   "cell_type": "code",
   "execution_count": 45,
   "id": "3f43bfcc",
   "metadata": {},
   "outputs": [],
   "source": [
    "Convert1 = [\"Aliments pour animaux\",\n",
    "            \"Autres Utilisations\",\n",
    "            \"Disponibilité intérieure\",\n",
    "            \"Exportations - Quantité\",\n",
    "            \"Importations - Quantité\",\n",
    "            \"Nourriture\",\n",
    "            \"Pertes\",\n",
    "            \"Production\",\n",
    "            \"Semences\",\n",
    "            \"Traitement\",\n",
    "            \"Variation de stock\"]\n",
    "\n",
    "for columns in Convert1 :\n",
    "    foodAvailability[columns]*= 1000000"
   ]
  },
  {
   "cell_type": "code",
   "execution_count": 46,
   "id": "328cfef9",
   "metadata": {},
   "outputs": [
    {
     "name": "stdout",
     "output_type": "stream",
     "text": [
      "               Zone                Produit   Origine  Aliments pour animaux  \\\n",
      "0       Afghanistan       Abats Comestible   animale                    0.0   \n",
      "1       Afghanistan        Agrumes, Autres  vegetale                    0.0   \n",
      "2       Afghanistan  Aliments pour enfants  vegetale                    0.0   \n",
      "3       Afghanistan                 Ananas  vegetale                    0.0   \n",
      "4       Afghanistan                Bananes  vegetale                    0.0   \n",
      "...             ...                    ...       ...                    ...   \n",
      "15600  Îles Salomon       Viande de Suides   animale                    0.0   \n",
      "15601  Îles Salomon    Viande de Volailles   animale                    0.0   \n",
      "15602  Îles Salomon          Viande, Autre   animale                    0.0   \n",
      "15603  Îles Salomon                    Vin  vegetale                    0.0   \n",
      "15604  Îles Salomon         Épices, Autres  vegetale                    0.0   \n",
      "\n",
      "       Autres Utilisations  Disponibilité alimentaire (Kcal/personne/jour)  \\\n",
      "0                      0.0                                             5.0   \n",
      "1                      0.0                                             1.0   \n",
      "2                      0.0                                             1.0   \n",
      "3                      0.0                                             0.0   \n",
      "4                      0.0                                             4.0   \n",
      "...                    ...                                             ...   \n",
      "15600                  0.0                                            45.0   \n",
      "15601                  0.0                                            11.0   \n",
      "15602                  0.0                                             0.0   \n",
      "15603                  0.0                                             0.0   \n",
      "15604                  0.0                                             4.0   \n",
      "\n",
      "       Disponibilité alimentaire en quantité (kg/personne/an)  \\\n",
      "0                                                   1.72        \n",
      "1                                                   1.29        \n",
      "2                                                   0.06        \n",
      "3                                                   0.00        \n",
      "4                                                   2.70        \n",
      "...                                                  ...        \n",
      "15600                                               4.70        \n",
      "15601                                               3.34        \n",
      "15602                                               0.06        \n",
      "15603                                               0.07        \n",
      "15604                                               0.48        \n",
      "\n",
      "       Disponibilité de matière grasse en quantité (g/personne/jour)  \\\n",
      "0                                                   0.20               \n",
      "1                                                   0.01               \n",
      "2                                                   0.01               \n",
      "3                                                   0.00               \n",
      "4                                                   0.02               \n",
      "...                                                  ...               \n",
      "15600                                               4.28               \n",
      "15601                                               0.69               \n",
      "15602                                               0.00               \n",
      "15603                                               0.00               \n",
      "15604                                               0.21               \n",
      "\n",
      "       Disponibilité de protéines en quantité (g/personne/jour)  \\\n",
      "0                                                   0.77          \n",
      "1                                                   0.02          \n",
      "2                                                   0.03          \n",
      "3                                                   0.00          \n",
      "4                                                   0.05          \n",
      "...                                                  ...          \n",
      "15600                                               1.41          \n",
      "15601                                               1.14          \n",
      "15602                                               0.04          \n",
      "15603                                               0.00          \n",
      "15604                                               0.15          \n",
      "\n",
      "       Disponibilité intérieure  Exportations - Quantité  \\\n",
      "0                    53000000.0                      0.0   \n",
      "1                    41000000.0                2000000.0   \n",
      "2                     2000000.0                      0.0   \n",
      "3                           0.0                      0.0   \n",
      "4                    82000000.0                      0.0   \n",
      "...                         ...                      ...   \n",
      "15600                 3000000.0                      0.0   \n",
      "15601                 2000000.0                      0.0   \n",
      "15602                       0.0                      0.0   \n",
      "15603                       0.0                      0.0   \n",
      "15604                       0.0                      0.0   \n",
      "\n",
      "       Importations - Quantité  Nourriture     Pertes  Production  Semences  \\\n",
      "0                          0.0  53000000.0        0.0  53000000.0       0.0   \n",
      "1                   40000000.0  39000000.0  2000000.0   3000000.0       0.0   \n",
      "2                    2000000.0   2000000.0        0.0         0.0       0.0   \n",
      "3                          0.0         0.0        0.0         0.0       0.0   \n",
      "4                   82000000.0  82000000.0        0.0         0.0       0.0   \n",
      "...                        ...         ...        ...         ...       ...   \n",
      "15600                      0.0   3000000.0        0.0   2000000.0       0.0   \n",
      "15601                2000000.0   2000000.0        0.0         0.0       0.0   \n",
      "15602                      0.0         0.0        0.0         0.0       0.0   \n",
      "15603                      0.0         0.0        0.0         0.0       0.0   \n",
      "15604                      0.0         0.0        0.0         0.0       0.0   \n",
      "\n",
      "       Traitement  Variation de stock  \n",
      "0             0.0                 0.0  \n",
      "1             0.0                 0.0  \n",
      "2             0.0                 0.0  \n",
      "3             0.0                 0.0  \n",
      "4             0.0                 0.0  \n",
      "...           ...                 ...  \n",
      "15600         0.0                 0.0  \n",
      "15601         0.0                 0.0  \n",
      "15602         0.0                 0.0  \n",
      "15603         0.0                 0.0  \n",
      "15604         0.0                 0.0  \n",
      "\n",
      "[15605 rows x 18 columns]\n"
     ]
    }
   ],
   "source": [
    "print(foodAvailability)"
   ]
  },
  {
   "cell_type": "markdown",
   "id": "1d38953d",
   "metadata": {},
   "source": [
    "- Rename use of food availability columns by adding \"(en kg)\" :"
   ]
  },
  {
   "cell_type": "code",
   "execution_count": 47,
   "id": "8565e576",
   "metadata": {},
   "outputs": [
    {
     "data": {
      "text/html": [
       "<div>\n",
       "<style scoped>\n",
       "    .dataframe tbody tr th:only-of-type {\n",
       "        vertical-align: middle;\n",
       "    }\n",
       "\n",
       "    .dataframe tbody tr th {\n",
       "        vertical-align: top;\n",
       "    }\n",
       "\n",
       "    .dataframe thead th {\n",
       "        text-align: right;\n",
       "    }\n",
       "</style>\n",
       "<table border=\"1\" class=\"dataframe\">\n",
       "  <thead>\n",
       "    <tr style=\"text-align: right;\">\n",
       "      <th></th>\n",
       "      <th>Zone</th>\n",
       "      <th>Produit</th>\n",
       "      <th>Origine</th>\n",
       "      <th>Aliments pour animaux (en kg)</th>\n",
       "      <th>Autres Utilisations (en kg)</th>\n",
       "      <th>Disponibilité alimentaire (Kcal/personne/jour)</th>\n",
       "      <th>Disponibilité alimentaire en quantité (kg/personne/an)</th>\n",
       "      <th>Disponibilité de matière grasse en quantité (g/personne/jour)</th>\n",
       "      <th>Disponibilité de protéines en quantité (g/personne/jour)</th>\n",
       "      <th>Disponibilité intérieure (en kg)</th>\n",
       "      <th>Exportations - Quantité (en kg)</th>\n",
       "      <th>Importations - Quantité (en kg)</th>\n",
       "      <th>Nourriture (en kg)</th>\n",
       "      <th>Pertes (en kg)</th>\n",
       "      <th>Production (en kg)</th>\n",
       "      <th>Semences (en kg)</th>\n",
       "      <th>Traitement (en kg)</th>\n",
       "      <th>Variation de stock (en kg)</th>\n",
       "    </tr>\n",
       "  </thead>\n",
       "  <tbody>\n",
       "    <tr>\n",
       "      <th>0</th>\n",
       "      <td>Afghanistan</td>\n",
       "      <td>Abats Comestible</td>\n",
       "      <td>animale</td>\n",
       "      <td>0.0</td>\n",
       "      <td>0.0</td>\n",
       "      <td>5.0</td>\n",
       "      <td>1.72</td>\n",
       "      <td>0.20</td>\n",
       "      <td>0.77</td>\n",
       "      <td>53000000.0</td>\n",
       "      <td>0.0</td>\n",
       "      <td>0.0</td>\n",
       "      <td>53000000.0</td>\n",
       "      <td>0.0</td>\n",
       "      <td>53000000.0</td>\n",
       "      <td>0.0</td>\n",
       "      <td>0.0</td>\n",
       "      <td>0.0</td>\n",
       "    </tr>\n",
       "    <tr>\n",
       "      <th>1</th>\n",
       "      <td>Afghanistan</td>\n",
       "      <td>Agrumes, Autres</td>\n",
       "      <td>vegetale</td>\n",
       "      <td>0.0</td>\n",
       "      <td>0.0</td>\n",
       "      <td>1.0</td>\n",
       "      <td>1.29</td>\n",
       "      <td>0.01</td>\n",
       "      <td>0.02</td>\n",
       "      <td>41000000.0</td>\n",
       "      <td>2000000.0</td>\n",
       "      <td>40000000.0</td>\n",
       "      <td>39000000.0</td>\n",
       "      <td>2000000.0</td>\n",
       "      <td>3000000.0</td>\n",
       "      <td>0.0</td>\n",
       "      <td>0.0</td>\n",
       "      <td>0.0</td>\n",
       "    </tr>\n",
       "    <tr>\n",
       "      <th>2</th>\n",
       "      <td>Afghanistan</td>\n",
       "      <td>Aliments pour enfants</td>\n",
       "      <td>vegetale</td>\n",
       "      <td>0.0</td>\n",
       "      <td>0.0</td>\n",
       "      <td>1.0</td>\n",
       "      <td>0.06</td>\n",
       "      <td>0.01</td>\n",
       "      <td>0.03</td>\n",
       "      <td>2000000.0</td>\n",
       "      <td>0.0</td>\n",
       "      <td>2000000.0</td>\n",
       "      <td>2000000.0</td>\n",
       "      <td>0.0</td>\n",
       "      <td>0.0</td>\n",
       "      <td>0.0</td>\n",
       "      <td>0.0</td>\n",
       "      <td>0.0</td>\n",
       "    </tr>\n",
       "    <tr>\n",
       "      <th>3</th>\n",
       "      <td>Afghanistan</td>\n",
       "      <td>Ananas</td>\n",
       "      <td>vegetale</td>\n",
       "      <td>0.0</td>\n",
       "      <td>0.0</td>\n",
       "      <td>0.0</td>\n",
       "      <td>0.00</td>\n",
       "      <td>0.00</td>\n",
       "      <td>0.00</td>\n",
       "      <td>0.0</td>\n",
       "      <td>0.0</td>\n",
       "      <td>0.0</td>\n",
       "      <td>0.0</td>\n",
       "      <td>0.0</td>\n",
       "      <td>0.0</td>\n",
       "      <td>0.0</td>\n",
       "      <td>0.0</td>\n",
       "      <td>0.0</td>\n",
       "    </tr>\n",
       "    <tr>\n",
       "      <th>4</th>\n",
       "      <td>Afghanistan</td>\n",
       "      <td>Bananes</td>\n",
       "      <td>vegetale</td>\n",
       "      <td>0.0</td>\n",
       "      <td>0.0</td>\n",
       "      <td>4.0</td>\n",
       "      <td>2.70</td>\n",
       "      <td>0.02</td>\n",
       "      <td>0.05</td>\n",
       "      <td>82000000.0</td>\n",
       "      <td>0.0</td>\n",
       "      <td>82000000.0</td>\n",
       "      <td>82000000.0</td>\n",
       "      <td>0.0</td>\n",
       "      <td>0.0</td>\n",
       "      <td>0.0</td>\n",
       "      <td>0.0</td>\n",
       "      <td>0.0</td>\n",
       "    </tr>\n",
       "    <tr>\n",
       "      <th>...</th>\n",
       "      <td>...</td>\n",
       "      <td>...</td>\n",
       "      <td>...</td>\n",
       "      <td>...</td>\n",
       "      <td>...</td>\n",
       "      <td>...</td>\n",
       "      <td>...</td>\n",
       "      <td>...</td>\n",
       "      <td>...</td>\n",
       "      <td>...</td>\n",
       "      <td>...</td>\n",
       "      <td>...</td>\n",
       "      <td>...</td>\n",
       "      <td>...</td>\n",
       "      <td>...</td>\n",
       "      <td>...</td>\n",
       "      <td>...</td>\n",
       "      <td>...</td>\n",
       "    </tr>\n",
       "    <tr>\n",
       "      <th>15600</th>\n",
       "      <td>Îles Salomon</td>\n",
       "      <td>Viande de Suides</td>\n",
       "      <td>animale</td>\n",
       "      <td>0.0</td>\n",
       "      <td>0.0</td>\n",
       "      <td>45.0</td>\n",
       "      <td>4.70</td>\n",
       "      <td>4.28</td>\n",
       "      <td>1.41</td>\n",
       "      <td>3000000.0</td>\n",
       "      <td>0.0</td>\n",
       "      <td>0.0</td>\n",
       "      <td>3000000.0</td>\n",
       "      <td>0.0</td>\n",
       "      <td>2000000.0</td>\n",
       "      <td>0.0</td>\n",
       "      <td>0.0</td>\n",
       "      <td>0.0</td>\n",
       "    </tr>\n",
       "    <tr>\n",
       "      <th>15601</th>\n",
       "      <td>Îles Salomon</td>\n",
       "      <td>Viande de Volailles</td>\n",
       "      <td>animale</td>\n",
       "      <td>0.0</td>\n",
       "      <td>0.0</td>\n",
       "      <td>11.0</td>\n",
       "      <td>3.34</td>\n",
       "      <td>0.69</td>\n",
       "      <td>1.14</td>\n",
       "      <td>2000000.0</td>\n",
       "      <td>0.0</td>\n",
       "      <td>2000000.0</td>\n",
       "      <td>2000000.0</td>\n",
       "      <td>0.0</td>\n",
       "      <td>0.0</td>\n",
       "      <td>0.0</td>\n",
       "      <td>0.0</td>\n",
       "      <td>0.0</td>\n",
       "    </tr>\n",
       "    <tr>\n",
       "      <th>15602</th>\n",
       "      <td>Îles Salomon</td>\n",
       "      <td>Viande, Autre</td>\n",
       "      <td>animale</td>\n",
       "      <td>0.0</td>\n",
       "      <td>0.0</td>\n",
       "      <td>0.0</td>\n",
       "      <td>0.06</td>\n",
       "      <td>0.00</td>\n",
       "      <td>0.04</td>\n",
       "      <td>0.0</td>\n",
       "      <td>0.0</td>\n",
       "      <td>0.0</td>\n",
       "      <td>0.0</td>\n",
       "      <td>0.0</td>\n",
       "      <td>0.0</td>\n",
       "      <td>0.0</td>\n",
       "      <td>0.0</td>\n",
       "      <td>0.0</td>\n",
       "    </tr>\n",
       "    <tr>\n",
       "      <th>15603</th>\n",
       "      <td>Îles Salomon</td>\n",
       "      <td>Vin</td>\n",
       "      <td>vegetale</td>\n",
       "      <td>0.0</td>\n",
       "      <td>0.0</td>\n",
       "      <td>0.0</td>\n",
       "      <td>0.07</td>\n",
       "      <td>0.00</td>\n",
       "      <td>0.00</td>\n",
       "      <td>0.0</td>\n",
       "      <td>0.0</td>\n",
       "      <td>0.0</td>\n",
       "      <td>0.0</td>\n",
       "      <td>0.0</td>\n",
       "      <td>0.0</td>\n",
       "      <td>0.0</td>\n",
       "      <td>0.0</td>\n",
       "      <td>0.0</td>\n",
       "    </tr>\n",
       "    <tr>\n",
       "      <th>15604</th>\n",
       "      <td>Îles Salomon</td>\n",
       "      <td>Épices, Autres</td>\n",
       "      <td>vegetale</td>\n",
       "      <td>0.0</td>\n",
       "      <td>0.0</td>\n",
       "      <td>4.0</td>\n",
       "      <td>0.48</td>\n",
       "      <td>0.21</td>\n",
       "      <td>0.15</td>\n",
       "      <td>0.0</td>\n",
       "      <td>0.0</td>\n",
       "      <td>0.0</td>\n",
       "      <td>0.0</td>\n",
       "      <td>0.0</td>\n",
       "      <td>0.0</td>\n",
       "      <td>0.0</td>\n",
       "      <td>0.0</td>\n",
       "      <td>0.0</td>\n",
       "    </tr>\n",
       "  </tbody>\n",
       "</table>\n",
       "<p>15605 rows × 18 columns</p>\n",
       "</div>"
      ],
      "text/plain": [
       "               Zone                Produit   Origine  \\\n",
       "0       Afghanistan       Abats Comestible   animale   \n",
       "1       Afghanistan        Agrumes, Autres  vegetale   \n",
       "2       Afghanistan  Aliments pour enfants  vegetale   \n",
       "3       Afghanistan                 Ananas  vegetale   \n",
       "4       Afghanistan                Bananes  vegetale   \n",
       "...             ...                    ...       ...   \n",
       "15600  Îles Salomon       Viande de Suides   animale   \n",
       "15601  Îles Salomon    Viande de Volailles   animale   \n",
       "15602  Îles Salomon          Viande, Autre   animale   \n",
       "15603  Îles Salomon                    Vin  vegetale   \n",
       "15604  Îles Salomon         Épices, Autres  vegetale   \n",
       "\n",
       "       Aliments pour animaux (en kg)  Autres Utilisations (en kg)  \\\n",
       "0                                0.0                          0.0   \n",
       "1                                0.0                          0.0   \n",
       "2                                0.0                          0.0   \n",
       "3                                0.0                          0.0   \n",
       "4                                0.0                          0.0   \n",
       "...                              ...                          ...   \n",
       "15600                            0.0                          0.0   \n",
       "15601                            0.0                          0.0   \n",
       "15602                            0.0                          0.0   \n",
       "15603                            0.0                          0.0   \n",
       "15604                            0.0                          0.0   \n",
       "\n",
       "       Disponibilité alimentaire (Kcal/personne/jour)  \\\n",
       "0                                                 5.0   \n",
       "1                                                 1.0   \n",
       "2                                                 1.0   \n",
       "3                                                 0.0   \n",
       "4                                                 4.0   \n",
       "...                                               ...   \n",
       "15600                                            45.0   \n",
       "15601                                            11.0   \n",
       "15602                                             0.0   \n",
       "15603                                             0.0   \n",
       "15604                                             4.0   \n",
       "\n",
       "       Disponibilité alimentaire en quantité (kg/personne/an)  \\\n",
       "0                                                   1.72        \n",
       "1                                                   1.29        \n",
       "2                                                   0.06        \n",
       "3                                                   0.00        \n",
       "4                                                   2.70        \n",
       "...                                                  ...        \n",
       "15600                                               4.70        \n",
       "15601                                               3.34        \n",
       "15602                                               0.06        \n",
       "15603                                               0.07        \n",
       "15604                                               0.48        \n",
       "\n",
       "       Disponibilité de matière grasse en quantité (g/personne/jour)  \\\n",
       "0                                                   0.20               \n",
       "1                                                   0.01               \n",
       "2                                                   0.01               \n",
       "3                                                   0.00               \n",
       "4                                                   0.02               \n",
       "...                                                  ...               \n",
       "15600                                               4.28               \n",
       "15601                                               0.69               \n",
       "15602                                               0.00               \n",
       "15603                                               0.00               \n",
       "15604                                               0.21               \n",
       "\n",
       "       Disponibilité de protéines en quantité (g/personne/jour)  \\\n",
       "0                                                   0.77          \n",
       "1                                                   0.02          \n",
       "2                                                   0.03          \n",
       "3                                                   0.00          \n",
       "4                                                   0.05          \n",
       "...                                                  ...          \n",
       "15600                                               1.41          \n",
       "15601                                               1.14          \n",
       "15602                                               0.04          \n",
       "15603                                               0.00          \n",
       "15604                                               0.15          \n",
       "\n",
       "       Disponibilité intérieure (en kg)  Exportations - Quantité (en kg)  \\\n",
       "0                            53000000.0                              0.0   \n",
       "1                            41000000.0                        2000000.0   \n",
       "2                             2000000.0                              0.0   \n",
       "3                                   0.0                              0.0   \n",
       "4                            82000000.0                              0.0   \n",
       "...                                 ...                              ...   \n",
       "15600                         3000000.0                              0.0   \n",
       "15601                         2000000.0                              0.0   \n",
       "15602                               0.0                              0.0   \n",
       "15603                               0.0                              0.0   \n",
       "15604                               0.0                              0.0   \n",
       "\n",
       "       Importations - Quantité (en kg)  Nourriture (en kg)  Pertes (en kg)  \\\n",
       "0                                  0.0          53000000.0             0.0   \n",
       "1                           40000000.0          39000000.0       2000000.0   \n",
       "2                            2000000.0           2000000.0             0.0   \n",
       "3                                  0.0                 0.0             0.0   \n",
       "4                           82000000.0          82000000.0             0.0   \n",
       "...                                ...                 ...             ...   \n",
       "15600                              0.0           3000000.0             0.0   \n",
       "15601                        2000000.0           2000000.0             0.0   \n",
       "15602                              0.0                 0.0             0.0   \n",
       "15603                              0.0                 0.0             0.0   \n",
       "15604                              0.0                 0.0             0.0   \n",
       "\n",
       "       Production (en kg)  Semences (en kg)  Traitement (en kg)  \\\n",
       "0              53000000.0               0.0                 0.0   \n",
       "1               3000000.0               0.0                 0.0   \n",
       "2                     0.0               0.0                 0.0   \n",
       "3                     0.0               0.0                 0.0   \n",
       "4                     0.0               0.0                 0.0   \n",
       "...                   ...               ...                 ...   \n",
       "15600           2000000.0               0.0                 0.0   \n",
       "15601                 0.0               0.0                 0.0   \n",
       "15602                 0.0               0.0                 0.0   \n",
       "15603                 0.0               0.0                 0.0   \n",
       "15604                 0.0               0.0                 0.0   \n",
       "\n",
       "       Variation de stock (en kg)  \n",
       "0                             0.0  \n",
       "1                             0.0  \n",
       "2                             0.0  \n",
       "3                             0.0  \n",
       "4                             0.0  \n",
       "...                           ...  \n",
       "15600                         0.0  \n",
       "15601                         0.0  \n",
       "15602                         0.0  \n",
       "15603                         0.0  \n",
       "15604                         0.0  \n",
       "\n",
       "[15605 rows x 18 columns]"
      ]
     },
     "execution_count": 47,
     "metadata": {},
     "output_type": "execute_result"
    }
   ],
   "source": [
    "foodAvailability.rename(columns = {'Nourriture': 'Nourriture (en kg)','Pertes': 'Pertes (en kg)','Aliments pour animaux': 'Aliments pour animaux (en kg)','Autres Utilisations': 'Autres Utilisations (en kg)','Disponibilité intérieure': 'Disponibilité intérieure (en kg)','Exportations - Quantité': 'Exportations - Quantité (en kg)','Importations - Quantité': 'Importations - Quantité (en kg)','Nourriture (en kg)': 'Nourriture (en kg)','Pertes': 'Pertes (en kg)','Production': 'Production (en kg)','Semences': 'Semences (en kg)','Traitement': 'Traitement (en kg)','Variation de stock': 'Variation de stock (en kg)'}) "
   ]
  },
  {
   "cell_type": "markdown",
   "id": "aeea39d5",
   "metadata": {},
   "source": [
    " "
   ]
  },
  {
   "cell_type": "markdown",
   "id": "cf5e1c5f",
   "metadata": {},
   "source": [
    "**The State of Food Security and Nutrition in the World 2017**"
   ]
  },
  {
   "cell_type": "markdown",
   "id": "e3d4b52b",
   "metadata": {},
   "source": [
    "*1. Proportion of people undernourished in 2017 :*"
   ]
  },
  {
   "cell_type": "markdown",
   "id": "24fb1ee8",
   "metadata": {},
   "source": [
    "- DataFrames display :"
   ]
  },
  {
   "cell_type": "code",
   "execution_count": 48,
   "id": "fc54c75d",
   "metadata": {},
   "outputs": [
    {
     "data": {
      "text/html": [
       "<div>\n",
       "<style scoped>\n",
       "    .dataframe tbody tr th:only-of-type {\n",
       "        vertical-align: middle;\n",
       "    }\n",
       "\n",
       "    .dataframe tbody tr th {\n",
       "        vertical-align: top;\n",
       "    }\n",
       "\n",
       "    .dataframe thead th {\n",
       "        text-align: right;\n",
       "    }\n",
       "</style>\n",
       "<table border=\"1\" class=\"dataframe\">\n",
       "  <thead>\n",
       "    <tr style=\"text-align: right;\">\n",
       "      <th></th>\n",
       "      <th>Zone</th>\n",
       "      <th>Année</th>\n",
       "      <th>Valeur (en million d'hab)</th>\n",
       "      <th>Valeur (en milliers d'hab)</th>\n",
       "    </tr>\n",
       "  </thead>\n",
       "  <tbody>\n",
       "    <tr>\n",
       "      <th>4</th>\n",
       "      <td>Afghanistan</td>\n",
       "      <td>2017</td>\n",
       "      <td>10.5</td>\n",
       "      <td>10500</td>\n",
       "    </tr>\n",
       "    <tr>\n",
       "      <th>10</th>\n",
       "      <td>Afrique du Sud</td>\n",
       "      <td>2017</td>\n",
       "      <td>3.1</td>\n",
       "      <td>3100</td>\n",
       "    </tr>\n",
       "    <tr>\n",
       "      <th>16</th>\n",
       "      <td>Albanie</td>\n",
       "      <td>2017</td>\n",
       "      <td>0.1</td>\n",
       "      <td>100</td>\n",
       "    </tr>\n",
       "    <tr>\n",
       "      <th>22</th>\n",
       "      <td>Algérie</td>\n",
       "      <td>2017</td>\n",
       "      <td>1.3</td>\n",
       "      <td>1300</td>\n",
       "    </tr>\n",
       "    <tr>\n",
       "      <th>28</th>\n",
       "      <td>Allemagne</td>\n",
       "      <td>2017</td>\n",
       "      <td>0.0</td>\n",
       "      <td>0</td>\n",
       "    </tr>\n",
       "    <tr>\n",
       "      <th>...</th>\n",
       "      <td>...</td>\n",
       "      <td>...</td>\n",
       "      <td>...</td>\n",
       "      <td>...</td>\n",
       "    </tr>\n",
       "    <tr>\n",
       "      <th>1192</th>\n",
       "      <td>Venezuela (République bolivarienne du)</td>\n",
       "      <td>2017</td>\n",
       "      <td>8.0</td>\n",
       "      <td>8000</td>\n",
       "    </tr>\n",
       "    <tr>\n",
       "      <th>1198</th>\n",
       "      <td>Viet Nam</td>\n",
       "      <td>2017</td>\n",
       "      <td>6.5</td>\n",
       "      <td>6500</td>\n",
       "    </tr>\n",
       "    <tr>\n",
       "      <th>1204</th>\n",
       "      <td>Yémen</td>\n",
       "      <td>2017</td>\n",
       "      <td>0.0</td>\n",
       "      <td>0</td>\n",
       "    </tr>\n",
       "    <tr>\n",
       "      <th>1210</th>\n",
       "      <td>Zambie</td>\n",
       "      <td>2017</td>\n",
       "      <td>0.0</td>\n",
       "      <td>0</td>\n",
       "    </tr>\n",
       "    <tr>\n",
       "      <th>1216</th>\n",
       "      <td>Zimbabwe</td>\n",
       "      <td>2017</td>\n",
       "      <td>0.0</td>\n",
       "      <td>0</td>\n",
       "    </tr>\n",
       "  </tbody>\n",
       "</table>\n",
       "<p>203 rows × 4 columns</p>\n",
       "</div>"
      ],
      "text/plain": [
       "                                        Zone Année  Valeur (en million d'hab)  \\\n",
       "4                                Afghanistan  2017                       10.5   \n",
       "10                            Afrique du Sud  2017                        3.1   \n",
       "16                                   Albanie  2017                        0.1   \n",
       "22                                   Algérie  2017                        1.3   \n",
       "28                                 Allemagne  2017                        0.0   \n",
       "...                                      ...   ...                        ...   \n",
       "1192  Venezuela (République bolivarienne du)  2017                        8.0   \n",
       "1198                                Viet Nam  2017                        6.5   \n",
       "1204                                   Yémen  2017                        0.0   \n",
       "1210                                  Zambie  2017                        0.0   \n",
       "1216                                Zimbabwe  2017                        0.0   \n",
       "\n",
       "      Valeur (en milliers d'hab)  \n",
       "4                          10500  \n",
       "10                          3100  \n",
       "16                           100  \n",
       "22                          1300  \n",
       "28                             0  \n",
       "...                          ...  \n",
       "1192                        8000  \n",
       "1198                        6500  \n",
       "1204                           0  \n",
       "1210                           0  \n",
       "1216                           0  \n",
       "\n",
       "[203 rows x 4 columns]"
      ]
     },
     "execution_count": 48,
     "metadata": {},
     "output_type": "execute_result"
    }
   ],
   "source": [
    "undernutrition2017"
   ]
  },
  {
   "cell_type": "markdown",
   "id": "0b4badb2",
   "metadata": {},
   "source": [
    "- Merge DataFrames :"
   ]
  },
  {
   "cell_type": "code",
   "execution_count": 49,
   "id": "9e105699",
   "metadata": {},
   "outputs": [],
   "source": [
    "proportionUndernutrition = pop2017.merge(undernutrition2017, on=\"Zone\", how=\"left\")"
   ]
  },
  {
   "cell_type": "code",
   "execution_count": 50,
   "id": "0e4342e2",
   "metadata": {},
   "outputs": [
    {
     "data": {
      "text/html": [
       "<div>\n",
       "<style scoped>\n",
       "    .dataframe tbody tr th:only-of-type {\n",
       "        vertical-align: middle;\n",
       "    }\n",
       "\n",
       "    .dataframe tbody tr th {\n",
       "        vertical-align: top;\n",
       "    }\n",
       "\n",
       "    .dataframe thead th {\n",
       "        text-align: right;\n",
       "    }\n",
       "</style>\n",
       "<table border=\"1\" class=\"dataframe\">\n",
       "  <thead>\n",
       "    <tr style=\"text-align: right;\">\n",
       "      <th></th>\n",
       "      <th>Zone</th>\n",
       "      <th>2017</th>\n",
       "      <th>Population (en milliers d'hab)</th>\n",
       "      <th>Population (en million d'hab)</th>\n",
       "      <th>Population totale</th>\n",
       "      <th>Année</th>\n",
       "      <th>Valeur (en million d'hab)</th>\n",
       "      <th>Valeur (en milliers d'hab)</th>\n",
       "    </tr>\n",
       "  </thead>\n",
       "  <tbody>\n",
       "    <tr>\n",
       "      <th>0</th>\n",
       "      <td>Afghanistan</td>\n",
       "      <td>2017</td>\n",
       "      <td>36296.113</td>\n",
       "      <td>36.296113</td>\n",
       "      <td>36296113.0</td>\n",
       "      <td>2017</td>\n",
       "      <td>10.5</td>\n",
       "      <td>10500.0</td>\n",
       "    </tr>\n",
       "    <tr>\n",
       "      <th>1</th>\n",
       "      <td>Afrique du Sud</td>\n",
       "      <td>2017</td>\n",
       "      <td>57009.756</td>\n",
       "      <td>57.009756</td>\n",
       "      <td>57009756.0</td>\n",
       "      <td>2017</td>\n",
       "      <td>3.1</td>\n",
       "      <td>3100.0</td>\n",
       "    </tr>\n",
       "    <tr>\n",
       "      <th>2</th>\n",
       "      <td>Albanie</td>\n",
       "      <td>2017</td>\n",
       "      <td>2884.169</td>\n",
       "      <td>2.884169</td>\n",
       "      <td>2884169.0</td>\n",
       "      <td>2017</td>\n",
       "      <td>0.1</td>\n",
       "      <td>100.0</td>\n",
       "    </tr>\n",
       "    <tr>\n",
       "      <th>3</th>\n",
       "      <td>Algérie</td>\n",
       "      <td>2017</td>\n",
       "      <td>41389.189</td>\n",
       "      <td>41.389189</td>\n",
       "      <td>41389189.0</td>\n",
       "      <td>2017</td>\n",
       "      <td>1.3</td>\n",
       "      <td>1300.0</td>\n",
       "    </tr>\n",
       "    <tr>\n",
       "      <th>4</th>\n",
       "      <td>Allemagne</td>\n",
       "      <td>2017</td>\n",
       "      <td>82658.409</td>\n",
       "      <td>82.658409</td>\n",
       "      <td>82658409.0</td>\n",
       "      <td>2017</td>\n",
       "      <td>0.0</td>\n",
       "      <td>0.0</td>\n",
       "    </tr>\n",
       "    <tr>\n",
       "      <th>...</th>\n",
       "      <td>...</td>\n",
       "      <td>...</td>\n",
       "      <td>...</td>\n",
       "      <td>...</td>\n",
       "      <td>...</td>\n",
       "      <td>...</td>\n",
       "      <td>...</td>\n",
       "      <td>...</td>\n",
       "    </tr>\n",
       "    <tr>\n",
       "      <th>231</th>\n",
       "      <td>Venezuela (République bolivarienne du)</td>\n",
       "      <td>2017</td>\n",
       "      <td>29402.484</td>\n",
       "      <td>29.402484</td>\n",
       "      <td>29402484.0</td>\n",
       "      <td>2017</td>\n",
       "      <td>8.0</td>\n",
       "      <td>8000.0</td>\n",
       "    </tr>\n",
       "    <tr>\n",
       "      <th>232</th>\n",
       "      <td>Viet Nam</td>\n",
       "      <td>2017</td>\n",
       "      <td>94600.648</td>\n",
       "      <td>94.600648</td>\n",
       "      <td>94600648.0</td>\n",
       "      <td>2017</td>\n",
       "      <td>6.5</td>\n",
       "      <td>6500.0</td>\n",
       "    </tr>\n",
       "    <tr>\n",
       "      <th>233</th>\n",
       "      <td>Yémen</td>\n",
       "      <td>2017</td>\n",
       "      <td>27834.819</td>\n",
       "      <td>27.834819</td>\n",
       "      <td>27834819.0</td>\n",
       "      <td>2017</td>\n",
       "      <td>0.0</td>\n",
       "      <td>0.0</td>\n",
       "    </tr>\n",
       "    <tr>\n",
       "      <th>234</th>\n",
       "      <td>Zambie</td>\n",
       "      <td>2017</td>\n",
       "      <td>16853.599</td>\n",
       "      <td>16.853599</td>\n",
       "      <td>16853599.0</td>\n",
       "      <td>2017</td>\n",
       "      <td>0.0</td>\n",
       "      <td>0.0</td>\n",
       "    </tr>\n",
       "    <tr>\n",
       "      <th>235</th>\n",
       "      <td>Zimbabwe</td>\n",
       "      <td>2017</td>\n",
       "      <td>14236.595</td>\n",
       "      <td>14.236595</td>\n",
       "      <td>14236595.0</td>\n",
       "      <td>2017</td>\n",
       "      <td>0.0</td>\n",
       "      <td>0.0</td>\n",
       "    </tr>\n",
       "  </tbody>\n",
       "</table>\n",
       "<p>236 rows × 8 columns</p>\n",
       "</div>"
      ],
      "text/plain": [
       "                                       Zone  2017  \\\n",
       "0                               Afghanistan  2017   \n",
       "1                            Afrique du Sud  2017   \n",
       "2                                   Albanie  2017   \n",
       "3                                   Algérie  2017   \n",
       "4                                 Allemagne  2017   \n",
       "..                                      ...   ...   \n",
       "231  Venezuela (République bolivarienne du)  2017   \n",
       "232                                Viet Nam  2017   \n",
       "233                                   Yémen  2017   \n",
       "234                                  Zambie  2017   \n",
       "235                                Zimbabwe  2017   \n",
       "\n",
       "     Population (en milliers d'hab)  Population (en million d'hab)  \\\n",
       "0                         36296.113                      36.296113   \n",
       "1                         57009.756                      57.009756   \n",
       "2                          2884.169                       2.884169   \n",
       "3                         41389.189                      41.389189   \n",
       "4                         82658.409                      82.658409   \n",
       "..                              ...                            ...   \n",
       "231                       29402.484                      29.402484   \n",
       "232                       94600.648                      94.600648   \n",
       "233                       27834.819                      27.834819   \n",
       "234                       16853.599                      16.853599   \n",
       "235                       14236.595                      14.236595   \n",
       "\n",
       "     Population totale Année  Valeur (en million d'hab)  \\\n",
       "0           36296113.0  2017                       10.5   \n",
       "1           57009756.0  2017                        3.1   \n",
       "2            2884169.0  2017                        0.1   \n",
       "3           41389189.0  2017                        1.3   \n",
       "4           82658409.0  2017                        0.0   \n",
       "..                 ...   ...                        ...   \n",
       "231         29402484.0  2017                        8.0   \n",
       "232         94600648.0  2017                        6.5   \n",
       "233         27834819.0  2017                        0.0   \n",
       "234         16853599.0  2017                        0.0   \n",
       "235         14236595.0  2017                        0.0   \n",
       "\n",
       "     Valeur (en milliers d'hab)  \n",
       "0                       10500.0  \n",
       "1                        3100.0  \n",
       "2                         100.0  \n",
       "3                        1300.0  \n",
       "4                           0.0  \n",
       "..                          ...  \n",
       "231                      8000.0  \n",
       "232                      6500.0  \n",
       "233                         0.0  \n",
       "234                         0.0  \n",
       "235                         0.0  \n",
       "\n",
       "[236 rows x 8 columns]"
      ]
     },
     "execution_count": 50,
     "metadata": {},
     "output_type": "execute_result"
    }
   ],
   "source": [
    "proportionUndernutrition"
   ]
  },
  {
   "cell_type": "markdown",
   "id": "d396921a",
   "metadata": {},
   "source": [
    "- Replace N/A with 0 and check :"
   ]
  },
  {
   "cell_type": "code",
   "execution_count": 51,
   "id": "61b9bb4e",
   "metadata": {},
   "outputs": [],
   "source": [
    "proportionUndernutrition.fillna(0, inplace=True)"
   ]
  },
  {
   "cell_type": "markdown",
   "id": "43a62116",
   "metadata": {},
   "source": [
    "- Create a new df only with columns 0, 2 and 6 :"
   ]
  },
  {
   "cell_type": "code",
   "execution_count": 52,
   "id": "f0c15514",
   "metadata": {},
   "outputs": [],
   "source": [
    "proportionUndernutrition_final = proportionUndernutrition.iloc[0:237, [0,2,7]]"
   ]
  },
  {
   "cell_type": "code",
   "execution_count": 53,
   "id": "910773eb",
   "metadata": {
    "scrolled": true
   },
   "outputs": [
    {
     "data": {
      "text/html": [
       "<div>\n",
       "<style scoped>\n",
       "    .dataframe tbody tr th:only-of-type {\n",
       "        vertical-align: middle;\n",
       "    }\n",
       "\n",
       "    .dataframe tbody tr th {\n",
       "        vertical-align: top;\n",
       "    }\n",
       "\n",
       "    .dataframe thead th {\n",
       "        text-align: right;\n",
       "    }\n",
       "</style>\n",
       "<table border=\"1\" class=\"dataframe\">\n",
       "  <thead>\n",
       "    <tr style=\"text-align: right;\">\n",
       "      <th></th>\n",
       "      <th>Zone</th>\n",
       "      <th>Population (en milliers d'hab)</th>\n",
       "      <th>Valeur (en milliers d'hab)</th>\n",
       "    </tr>\n",
       "  </thead>\n",
       "  <tbody>\n",
       "    <tr>\n",
       "      <th>0</th>\n",
       "      <td>Afghanistan</td>\n",
       "      <td>36296.113</td>\n",
       "      <td>10500.0</td>\n",
       "    </tr>\n",
       "    <tr>\n",
       "      <th>1</th>\n",
       "      <td>Afrique du Sud</td>\n",
       "      <td>57009.756</td>\n",
       "      <td>3100.0</td>\n",
       "    </tr>\n",
       "    <tr>\n",
       "      <th>2</th>\n",
       "      <td>Albanie</td>\n",
       "      <td>2884.169</td>\n",
       "      <td>100.0</td>\n",
       "    </tr>\n",
       "    <tr>\n",
       "      <th>3</th>\n",
       "      <td>Algérie</td>\n",
       "      <td>41389.189</td>\n",
       "      <td>1300.0</td>\n",
       "    </tr>\n",
       "    <tr>\n",
       "      <th>4</th>\n",
       "      <td>Allemagne</td>\n",
       "      <td>82658.409</td>\n",
       "      <td>0.0</td>\n",
       "    </tr>\n",
       "    <tr>\n",
       "      <th>...</th>\n",
       "      <td>...</td>\n",
       "      <td>...</td>\n",
       "      <td>...</td>\n",
       "    </tr>\n",
       "    <tr>\n",
       "      <th>231</th>\n",
       "      <td>Venezuela (République bolivarienne du)</td>\n",
       "      <td>29402.484</td>\n",
       "      <td>8000.0</td>\n",
       "    </tr>\n",
       "    <tr>\n",
       "      <th>232</th>\n",
       "      <td>Viet Nam</td>\n",
       "      <td>94600.648</td>\n",
       "      <td>6500.0</td>\n",
       "    </tr>\n",
       "    <tr>\n",
       "      <th>233</th>\n",
       "      <td>Yémen</td>\n",
       "      <td>27834.819</td>\n",
       "      <td>0.0</td>\n",
       "    </tr>\n",
       "    <tr>\n",
       "      <th>234</th>\n",
       "      <td>Zambie</td>\n",
       "      <td>16853.599</td>\n",
       "      <td>0.0</td>\n",
       "    </tr>\n",
       "    <tr>\n",
       "      <th>235</th>\n",
       "      <td>Zimbabwe</td>\n",
       "      <td>14236.595</td>\n",
       "      <td>0.0</td>\n",
       "    </tr>\n",
       "  </tbody>\n",
       "</table>\n",
       "<p>236 rows × 3 columns</p>\n",
       "</div>"
      ],
      "text/plain": [
       "                                       Zone  Population (en milliers d'hab)  \\\n",
       "0                               Afghanistan                       36296.113   \n",
       "1                            Afrique du Sud                       57009.756   \n",
       "2                                   Albanie                        2884.169   \n",
       "3                                   Algérie                       41389.189   \n",
       "4                                 Allemagne                       82658.409   \n",
       "..                                      ...                             ...   \n",
       "231  Venezuela (République bolivarienne du)                       29402.484   \n",
       "232                                Viet Nam                       94600.648   \n",
       "233                                   Yémen                       27834.819   \n",
       "234                                  Zambie                       16853.599   \n",
       "235                                Zimbabwe                       14236.595   \n",
       "\n",
       "     Valeur (en milliers d'hab)  \n",
       "0                       10500.0  \n",
       "1                        3100.0  \n",
       "2                         100.0  \n",
       "3                        1300.0  \n",
       "4                           0.0  \n",
       "..                          ...  \n",
       "231                      8000.0  \n",
       "232                      6500.0  \n",
       "233                         0.0  \n",
       "234                         0.0  \n",
       "235                         0.0  \n",
       "\n",
       "[236 rows x 3 columns]"
      ]
     },
     "execution_count": 53,
     "metadata": {},
     "output_type": "execute_result"
    }
   ],
   "source": [
    "proportionUndernutrition_final"
   ]
  },
  {
   "cell_type": "markdown",
   "id": "acfebbc6",
   "metadata": {},
   "source": [
    "- Sum the column \"Valeur (en milliers d'hab)\" :"
   ]
  },
  {
   "cell_type": "code",
   "execution_count": 54,
   "id": "a2e5433a",
   "metadata": {},
   "outputs": [],
   "source": [
    "undernutrition_sum = proportionUndernutrition_final[\"Valeur (en milliers d'hab)\"].sum()"
   ]
  },
  {
   "cell_type": "markdown",
   "id": "afb01363",
   "metadata": {},
   "source": [
    "- Sum the column \"Population (en milliers d'hab)\" :"
   ]
  },
  {
   "cell_type": "code",
   "execution_count": 55,
   "id": "bd7697ce",
   "metadata": {},
   "outputs": [],
   "source": [
    "population_sum = proportionUndernutrition_final[\"Population (en milliers d'hab)\"].sum()"
   ]
  },
  {
   "cell_type": "markdown",
   "id": "7e7c8131",
   "metadata": {},
   "source": [
    "- Final result :"
   ]
  },
  {
   "cell_type": "code",
   "execution_count": 56,
   "id": "84e9019b",
   "metadata": {},
   "outputs": [
    {
     "name": "stdout",
     "output_type": "stream",
     "text": [
      "La proportion de personnes en état de sous-nutrition dans le monde en 2017 est de 7.1 %\n"
     ]
    }
   ],
   "source": [
    "print(\"La proportion de personnes en état de sous-nutrition dans le monde en 2017 est de\", round(undernutrition_sum / population_sum * 100, 2), \"%\")"
   ]
  },
  {
   "cell_type": "markdown",
   "id": "a13712db",
   "metadata": {},
   "source": [
    " "
   ]
  },
  {
   "cell_type": "markdown",
   "id": "23a29060",
   "metadata": {},
   "source": [
    "*2. Theoretical number of people who could be fed in the world in 2017 :*"
   ]
  },
  {
   "cell_type": "markdown",
   "id": "4dcc20b1",
   "metadata": {},
   "source": [
    "- Df foodAvailability display :"
   ]
  },
  {
   "cell_type": "code",
   "execution_count": 57,
   "id": "1b22752f",
   "metadata": {
    "scrolled": false
   },
   "outputs": [
    {
     "data": {
      "text/html": [
       "<div>\n",
       "<style scoped>\n",
       "    .dataframe tbody tr th:only-of-type {\n",
       "        vertical-align: middle;\n",
       "    }\n",
       "\n",
       "    .dataframe tbody tr th {\n",
       "        vertical-align: top;\n",
       "    }\n",
       "\n",
       "    .dataframe thead th {\n",
       "        text-align: right;\n",
       "    }\n",
       "</style>\n",
       "<table border=\"1\" class=\"dataframe\">\n",
       "  <thead>\n",
       "    <tr style=\"text-align: right;\">\n",
       "      <th></th>\n",
       "      <th>Zone</th>\n",
       "      <th>Produit</th>\n",
       "      <th>Origine</th>\n",
       "      <th>Aliments pour animaux</th>\n",
       "      <th>Autres Utilisations</th>\n",
       "      <th>Disponibilité alimentaire (Kcal/personne/jour)</th>\n",
       "      <th>Disponibilité alimentaire en quantité (kg/personne/an)</th>\n",
       "      <th>Disponibilité de matière grasse en quantité (g/personne/jour)</th>\n",
       "      <th>Disponibilité de protéines en quantité (g/personne/jour)</th>\n",
       "      <th>Disponibilité intérieure</th>\n",
       "      <th>Exportations - Quantité</th>\n",
       "      <th>Importations - Quantité</th>\n",
       "      <th>Nourriture</th>\n",
       "      <th>Pertes</th>\n",
       "      <th>Production</th>\n",
       "      <th>Semences</th>\n",
       "      <th>Traitement</th>\n",
       "      <th>Variation de stock</th>\n",
       "    </tr>\n",
       "  </thead>\n",
       "  <tbody>\n",
       "    <tr>\n",
       "      <th>0</th>\n",
       "      <td>Afghanistan</td>\n",
       "      <td>Abats Comestible</td>\n",
       "      <td>animale</td>\n",
       "      <td>0.0</td>\n",
       "      <td>0.0</td>\n",
       "      <td>5.0</td>\n",
       "      <td>1.72</td>\n",
       "      <td>0.20</td>\n",
       "      <td>0.77</td>\n",
       "      <td>53000000.0</td>\n",
       "      <td>0.0</td>\n",
       "      <td>0.0</td>\n",
       "      <td>53000000.0</td>\n",
       "      <td>0.0</td>\n",
       "      <td>53000000.0</td>\n",
       "      <td>0.0</td>\n",
       "      <td>0.0</td>\n",
       "      <td>0.0</td>\n",
       "    </tr>\n",
       "    <tr>\n",
       "      <th>1</th>\n",
       "      <td>Afghanistan</td>\n",
       "      <td>Agrumes, Autres</td>\n",
       "      <td>vegetale</td>\n",
       "      <td>0.0</td>\n",
       "      <td>0.0</td>\n",
       "      <td>1.0</td>\n",
       "      <td>1.29</td>\n",
       "      <td>0.01</td>\n",
       "      <td>0.02</td>\n",
       "      <td>41000000.0</td>\n",
       "      <td>2000000.0</td>\n",
       "      <td>40000000.0</td>\n",
       "      <td>39000000.0</td>\n",
       "      <td>2000000.0</td>\n",
       "      <td>3000000.0</td>\n",
       "      <td>0.0</td>\n",
       "      <td>0.0</td>\n",
       "      <td>0.0</td>\n",
       "    </tr>\n",
       "    <tr>\n",
       "      <th>2</th>\n",
       "      <td>Afghanistan</td>\n",
       "      <td>Aliments pour enfants</td>\n",
       "      <td>vegetale</td>\n",
       "      <td>0.0</td>\n",
       "      <td>0.0</td>\n",
       "      <td>1.0</td>\n",
       "      <td>0.06</td>\n",
       "      <td>0.01</td>\n",
       "      <td>0.03</td>\n",
       "      <td>2000000.0</td>\n",
       "      <td>0.0</td>\n",
       "      <td>2000000.0</td>\n",
       "      <td>2000000.0</td>\n",
       "      <td>0.0</td>\n",
       "      <td>0.0</td>\n",
       "      <td>0.0</td>\n",
       "      <td>0.0</td>\n",
       "      <td>0.0</td>\n",
       "    </tr>\n",
       "    <tr>\n",
       "      <th>3</th>\n",
       "      <td>Afghanistan</td>\n",
       "      <td>Ananas</td>\n",
       "      <td>vegetale</td>\n",
       "      <td>0.0</td>\n",
       "      <td>0.0</td>\n",
       "      <td>0.0</td>\n",
       "      <td>0.00</td>\n",
       "      <td>0.00</td>\n",
       "      <td>0.00</td>\n",
       "      <td>0.0</td>\n",
       "      <td>0.0</td>\n",
       "      <td>0.0</td>\n",
       "      <td>0.0</td>\n",
       "      <td>0.0</td>\n",
       "      <td>0.0</td>\n",
       "      <td>0.0</td>\n",
       "      <td>0.0</td>\n",
       "      <td>0.0</td>\n",
       "    </tr>\n",
       "    <tr>\n",
       "      <th>4</th>\n",
       "      <td>Afghanistan</td>\n",
       "      <td>Bananes</td>\n",
       "      <td>vegetale</td>\n",
       "      <td>0.0</td>\n",
       "      <td>0.0</td>\n",
       "      <td>4.0</td>\n",
       "      <td>2.70</td>\n",
       "      <td>0.02</td>\n",
       "      <td>0.05</td>\n",
       "      <td>82000000.0</td>\n",
       "      <td>0.0</td>\n",
       "      <td>82000000.0</td>\n",
       "      <td>82000000.0</td>\n",
       "      <td>0.0</td>\n",
       "      <td>0.0</td>\n",
       "      <td>0.0</td>\n",
       "      <td>0.0</td>\n",
       "      <td>0.0</td>\n",
       "    </tr>\n",
       "  </tbody>\n",
       "</table>\n",
       "</div>"
      ],
      "text/plain": [
       "          Zone                Produit   Origine  Aliments pour animaux  \\\n",
       "0  Afghanistan       Abats Comestible   animale                    0.0   \n",
       "1  Afghanistan        Agrumes, Autres  vegetale                    0.0   \n",
       "2  Afghanistan  Aliments pour enfants  vegetale                    0.0   \n",
       "3  Afghanistan                 Ananas  vegetale                    0.0   \n",
       "4  Afghanistan                Bananes  vegetale                    0.0   \n",
       "\n",
       "   Autres Utilisations  Disponibilité alimentaire (Kcal/personne/jour)  \\\n",
       "0                  0.0                                             5.0   \n",
       "1                  0.0                                             1.0   \n",
       "2                  0.0                                             1.0   \n",
       "3                  0.0                                             0.0   \n",
       "4                  0.0                                             4.0   \n",
       "\n",
       "   Disponibilité alimentaire en quantité (kg/personne/an)  \\\n",
       "0                                               1.72        \n",
       "1                                               1.29        \n",
       "2                                               0.06        \n",
       "3                                               0.00        \n",
       "4                                               2.70        \n",
       "\n",
       "   Disponibilité de matière grasse en quantité (g/personne/jour)  \\\n",
       "0                                               0.20               \n",
       "1                                               0.01               \n",
       "2                                               0.01               \n",
       "3                                               0.00               \n",
       "4                                               0.02               \n",
       "\n",
       "   Disponibilité de protéines en quantité (g/personne/jour)  \\\n",
       "0                                               0.77          \n",
       "1                                               0.02          \n",
       "2                                               0.03          \n",
       "3                                               0.00          \n",
       "4                                               0.05          \n",
       "\n",
       "   Disponibilité intérieure  Exportations - Quantité  Importations - Quantité  \\\n",
       "0                53000000.0                      0.0                      0.0   \n",
       "1                41000000.0                2000000.0               40000000.0   \n",
       "2                 2000000.0                      0.0                2000000.0   \n",
       "3                       0.0                      0.0                      0.0   \n",
       "4                82000000.0                      0.0               82000000.0   \n",
       "\n",
       "   Nourriture     Pertes  Production  Semences  Traitement  Variation de stock  \n",
       "0  53000000.0        0.0  53000000.0       0.0         0.0                 0.0  \n",
       "1  39000000.0  2000000.0   3000000.0       0.0         0.0                 0.0  \n",
       "2   2000000.0        0.0         0.0       0.0         0.0                 0.0  \n",
       "3         0.0        0.0         0.0       0.0         0.0                 0.0  \n",
       "4  82000000.0        0.0         0.0       0.0         0.0                 0.0  "
      ]
     },
     "execution_count": 57,
     "metadata": {},
     "output_type": "execute_result"
    }
   ],
   "source": [
    "foodAvailability.head()"
   ]
  },
  {
   "cell_type": "markdown",
   "id": "fb57211b",
   "metadata": {},
   "source": [
    "- Creation new df only on 2 columns :"
   ]
  },
  {
   "cell_type": "code",
   "execution_count": 58,
   "id": "5151ce52",
   "metadata": {},
   "outputs": [],
   "source": [
    "foodAvailibilityKcal = foodAvailability[{'Zone','Disponibilité alimentaire (Kcal/personne/jour)'}]"
   ]
  },
  {
   "cell_type": "code",
   "execution_count": 59,
   "id": "79773e90",
   "metadata": {},
   "outputs": [
    {
     "data": {
      "text/html": [
       "<div>\n",
       "<style scoped>\n",
       "    .dataframe tbody tr th:only-of-type {\n",
       "        vertical-align: middle;\n",
       "    }\n",
       "\n",
       "    .dataframe tbody tr th {\n",
       "        vertical-align: top;\n",
       "    }\n",
       "\n",
       "    .dataframe thead th {\n",
       "        text-align: right;\n",
       "    }\n",
       "</style>\n",
       "<table border=\"1\" class=\"dataframe\">\n",
       "  <thead>\n",
       "    <tr style=\"text-align: right;\">\n",
       "      <th></th>\n",
       "      <th>Disponibilité alimentaire (Kcal/personne/jour)</th>\n",
       "      <th>Zone</th>\n",
       "    </tr>\n",
       "  </thead>\n",
       "  <tbody>\n",
       "    <tr>\n",
       "      <th>0</th>\n",
       "      <td>5.0</td>\n",
       "      <td>Afghanistan</td>\n",
       "    </tr>\n",
       "    <tr>\n",
       "      <th>1</th>\n",
       "      <td>1.0</td>\n",
       "      <td>Afghanistan</td>\n",
       "    </tr>\n",
       "    <tr>\n",
       "      <th>2</th>\n",
       "      <td>1.0</td>\n",
       "      <td>Afghanistan</td>\n",
       "    </tr>\n",
       "    <tr>\n",
       "      <th>3</th>\n",
       "      <td>0.0</td>\n",
       "      <td>Afghanistan</td>\n",
       "    </tr>\n",
       "    <tr>\n",
       "      <th>4</th>\n",
       "      <td>4.0</td>\n",
       "      <td>Afghanistan</td>\n",
       "    </tr>\n",
       "  </tbody>\n",
       "</table>\n",
       "</div>"
      ],
      "text/plain": [
       "   Disponibilité alimentaire (Kcal/personne/jour)         Zone\n",
       "0                                             5.0  Afghanistan\n",
       "1                                             1.0  Afghanistan\n",
       "2                                             1.0  Afghanistan\n",
       "3                                             0.0  Afghanistan\n",
       "4                                             4.0  Afghanistan"
      ]
     },
     "execution_count": 59,
     "metadata": {},
     "output_type": "execute_result"
    }
   ],
   "source": [
    "foodAvailibilityKcal.head()"
   ]
  },
  {
   "cell_type": "markdown",
   "id": "5044687b",
   "metadata": {},
   "source": [
    "- Creation new df foodAvailibilityKcal group by \"Zone\" :"
   ]
  },
  {
   "cell_type": "code",
   "execution_count": 60,
   "id": "711451d4",
   "metadata": {},
   "outputs": [],
   "source": [
    "foodAvailibilityKcalGroupByZone = foodAvailibilityKcal.groupby(by=\"Zone\").sum()"
   ]
  },
  {
   "cell_type": "code",
   "execution_count": 61,
   "id": "020c6a7a",
   "metadata": {},
   "outputs": [],
   "source": [
    "foodAvailibilityKcalGroupByZone = foodAvailibilityKcalGroupByZone.astype({\"Disponibilité alimentaire (Kcal/personne/jour)\": int})"
   ]
  },
  {
   "cell_type": "code",
   "execution_count": 62,
   "id": "0ce5eb0f",
   "metadata": {
    "scrolled": true
   },
   "outputs": [
    {
     "data": {
      "text/html": [
       "<div>\n",
       "<style scoped>\n",
       "    .dataframe tbody tr th:only-of-type {\n",
       "        vertical-align: middle;\n",
       "    }\n",
       "\n",
       "    .dataframe tbody tr th {\n",
       "        vertical-align: top;\n",
       "    }\n",
       "\n",
       "    .dataframe thead th {\n",
       "        text-align: right;\n",
       "    }\n",
       "</style>\n",
       "<table border=\"1\" class=\"dataframe\">\n",
       "  <thead>\n",
       "    <tr style=\"text-align: right;\">\n",
       "      <th></th>\n",
       "      <th>Disponibilité alimentaire (Kcal/personne/jour)</th>\n",
       "    </tr>\n",
       "    <tr>\n",
       "      <th>Zone</th>\n",
       "      <th></th>\n",
       "    </tr>\n",
       "  </thead>\n",
       "  <tbody>\n",
       "    <tr>\n",
       "      <th>Afghanistan</th>\n",
       "      <td>2087</td>\n",
       "    </tr>\n",
       "    <tr>\n",
       "      <th>Afrique du Sud</th>\n",
       "      <td>3020</td>\n",
       "    </tr>\n",
       "    <tr>\n",
       "      <th>Albanie</th>\n",
       "      <td>3188</td>\n",
       "    </tr>\n",
       "    <tr>\n",
       "      <th>Algérie</th>\n",
       "      <td>3293</td>\n",
       "    </tr>\n",
       "    <tr>\n",
       "      <th>Allemagne</th>\n",
       "      <td>3503</td>\n",
       "    </tr>\n",
       "  </tbody>\n",
       "</table>\n",
       "</div>"
      ],
      "text/plain": [
       "                Disponibilité alimentaire (Kcal/personne/jour)\n",
       "Zone                                                          \n",
       "Afghanistan                                               2087\n",
       "Afrique du Sud                                            3020\n",
       "Albanie                                                   3188\n",
       "Algérie                                                   3293\n",
       "Allemagne                                                 3503"
      ]
     },
     "execution_count": 62,
     "metadata": {},
     "output_type": "execute_result"
    }
   ],
   "source": [
    "foodAvailibilityKcalGroupByZone.head()"
   ]
  },
  {
   "cell_type": "markdown",
   "id": "078095a5",
   "metadata": {},
   "source": [
    "- Df pop2017 display :"
   ]
  },
  {
   "cell_type": "code",
   "execution_count": 63,
   "id": "35238bec",
   "metadata": {},
   "outputs": [
    {
     "data": {
      "text/html": [
       "<div>\n",
       "<style scoped>\n",
       "    .dataframe tbody tr th:only-of-type {\n",
       "        vertical-align: middle;\n",
       "    }\n",
       "\n",
       "    .dataframe tbody tr th {\n",
       "        vertical-align: top;\n",
       "    }\n",
       "\n",
       "    .dataframe thead th {\n",
       "        text-align: right;\n",
       "    }\n",
       "</style>\n",
       "<table border=\"1\" class=\"dataframe\">\n",
       "  <thead>\n",
       "    <tr style=\"text-align: right;\">\n",
       "      <th></th>\n",
       "      <th>Zone</th>\n",
       "      <th>2017</th>\n",
       "      <th>Population (en milliers d'hab)</th>\n",
       "      <th>Population (en million d'hab)</th>\n",
       "      <th>Population totale</th>\n",
       "    </tr>\n",
       "  </thead>\n",
       "  <tbody>\n",
       "    <tr>\n",
       "      <th>4</th>\n",
       "      <td>Afghanistan</td>\n",
       "      <td>2017</td>\n",
       "      <td>36296.113</td>\n",
       "      <td>36.296113</td>\n",
       "      <td>36296113.0</td>\n",
       "    </tr>\n",
       "    <tr>\n",
       "      <th>10</th>\n",
       "      <td>Afrique du Sud</td>\n",
       "      <td>2017</td>\n",
       "      <td>57009.756</td>\n",
       "      <td>57.009756</td>\n",
       "      <td>57009756.0</td>\n",
       "    </tr>\n",
       "    <tr>\n",
       "      <th>16</th>\n",
       "      <td>Albanie</td>\n",
       "      <td>2017</td>\n",
       "      <td>2884.169</td>\n",
       "      <td>2.884169</td>\n",
       "      <td>2884169.0</td>\n",
       "    </tr>\n",
       "    <tr>\n",
       "      <th>22</th>\n",
       "      <td>Algérie</td>\n",
       "      <td>2017</td>\n",
       "      <td>41389.189</td>\n",
       "      <td>41.389189</td>\n",
       "      <td>41389189.0</td>\n",
       "    </tr>\n",
       "    <tr>\n",
       "      <th>28</th>\n",
       "      <td>Allemagne</td>\n",
       "      <td>2017</td>\n",
       "      <td>82658.409</td>\n",
       "      <td>82.658409</td>\n",
       "      <td>82658409.0</td>\n",
       "    </tr>\n",
       "  </tbody>\n",
       "</table>\n",
       "</div>"
      ],
      "text/plain": [
       "              Zone  2017  Population (en milliers d'hab)  \\\n",
       "4      Afghanistan  2017                       36296.113   \n",
       "10  Afrique du Sud  2017                       57009.756   \n",
       "16         Albanie  2017                        2884.169   \n",
       "22         Algérie  2017                       41389.189   \n",
       "28       Allemagne  2017                       82658.409   \n",
       "\n",
       "    Population (en million d'hab)  Population totale  \n",
       "4                       36.296113         36296113.0  \n",
       "10                      57.009756         57009756.0  \n",
       "16                       2.884169          2884169.0  \n",
       "22                      41.389189         41389189.0  \n",
       "28                      82.658409         82658409.0  "
      ]
     },
     "execution_count": 63,
     "metadata": {},
     "output_type": "execute_result"
    }
   ],
   "source": [
    "pop2017.head()"
   ]
  },
  {
   "cell_type": "markdown",
   "id": "3bd50f7d",
   "metadata": {},
   "source": [
    "- Creation new df (merged \"pop2017\" and \"foodAvailibilityKcalGroupByZone\") :"
   ]
  },
  {
   "cell_type": "code",
   "execution_count": 64,
   "id": "b2683a82",
   "metadata": {},
   "outputs": [],
   "source": [
    "foodAvailibility_Total = pop2017.merge(foodAvailibilityKcalGroupByZone, on=\"Zone\", how=\"inner\")"
   ]
  },
  {
   "cell_type": "code",
   "execution_count": 65,
   "id": "a51036be",
   "metadata": {},
   "outputs": [
    {
     "data": {
      "text/html": [
       "<div>\n",
       "<style scoped>\n",
       "    .dataframe tbody tr th:only-of-type {\n",
       "        vertical-align: middle;\n",
       "    }\n",
       "\n",
       "    .dataframe tbody tr th {\n",
       "        vertical-align: top;\n",
       "    }\n",
       "\n",
       "    .dataframe thead th {\n",
       "        text-align: right;\n",
       "    }\n",
       "</style>\n",
       "<table border=\"1\" class=\"dataframe\">\n",
       "  <thead>\n",
       "    <tr style=\"text-align: right;\">\n",
       "      <th></th>\n",
       "      <th>Zone</th>\n",
       "      <th>2017</th>\n",
       "      <th>Population (en milliers d'hab)</th>\n",
       "      <th>Population (en million d'hab)</th>\n",
       "      <th>Population totale</th>\n",
       "      <th>Disponibilité alimentaire (Kcal/personne/jour)</th>\n",
       "    </tr>\n",
       "  </thead>\n",
       "  <tbody>\n",
       "    <tr>\n",
       "      <th>0</th>\n",
       "      <td>Afghanistan</td>\n",
       "      <td>2017</td>\n",
       "      <td>36296.113</td>\n",
       "      <td>36.296113</td>\n",
       "      <td>36296113.0</td>\n",
       "      <td>2087</td>\n",
       "    </tr>\n",
       "    <tr>\n",
       "      <th>1</th>\n",
       "      <td>Afrique du Sud</td>\n",
       "      <td>2017</td>\n",
       "      <td>57009.756</td>\n",
       "      <td>57.009756</td>\n",
       "      <td>57009756.0</td>\n",
       "      <td>3020</td>\n",
       "    </tr>\n",
       "    <tr>\n",
       "      <th>2</th>\n",
       "      <td>Albanie</td>\n",
       "      <td>2017</td>\n",
       "      <td>2884.169</td>\n",
       "      <td>2.884169</td>\n",
       "      <td>2884169.0</td>\n",
       "      <td>3188</td>\n",
       "    </tr>\n",
       "    <tr>\n",
       "      <th>3</th>\n",
       "      <td>Algérie</td>\n",
       "      <td>2017</td>\n",
       "      <td>41389.189</td>\n",
       "      <td>41.389189</td>\n",
       "      <td>41389189.0</td>\n",
       "      <td>3293</td>\n",
       "    </tr>\n",
       "    <tr>\n",
       "      <th>4</th>\n",
       "      <td>Allemagne</td>\n",
       "      <td>2017</td>\n",
       "      <td>82658.409</td>\n",
       "      <td>82.658409</td>\n",
       "      <td>82658409.0</td>\n",
       "      <td>3503</td>\n",
       "    </tr>\n",
       "    <tr>\n",
       "      <th>...</th>\n",
       "      <td>...</td>\n",
       "      <td>...</td>\n",
       "      <td>...</td>\n",
       "      <td>...</td>\n",
       "      <td>...</td>\n",
       "      <td>...</td>\n",
       "    </tr>\n",
       "    <tr>\n",
       "      <th>167</th>\n",
       "      <td>Venezuela (République bolivarienne du)</td>\n",
       "      <td>2017</td>\n",
       "      <td>29402.484</td>\n",
       "      <td>29.402484</td>\n",
       "      <td>29402484.0</td>\n",
       "      <td>2633</td>\n",
       "    </tr>\n",
       "    <tr>\n",
       "      <th>168</th>\n",
       "      <td>Viet Nam</td>\n",
       "      <td>2017</td>\n",
       "      <td>94600.648</td>\n",
       "      <td>94.600648</td>\n",
       "      <td>94600648.0</td>\n",
       "      <td>2744</td>\n",
       "    </tr>\n",
       "    <tr>\n",
       "      <th>169</th>\n",
       "      <td>Yémen</td>\n",
       "      <td>2017</td>\n",
       "      <td>27834.819</td>\n",
       "      <td>27.834819</td>\n",
       "      <td>27834819.0</td>\n",
       "      <td>2217</td>\n",
       "    </tr>\n",
       "    <tr>\n",
       "      <th>170</th>\n",
       "      <td>Zambie</td>\n",
       "      <td>2017</td>\n",
       "      <td>16853.599</td>\n",
       "      <td>16.853599</td>\n",
       "      <td>16853599.0</td>\n",
       "      <td>1924</td>\n",
       "    </tr>\n",
       "    <tr>\n",
       "      <th>171</th>\n",
       "      <td>Zimbabwe</td>\n",
       "      <td>2017</td>\n",
       "      <td>14236.595</td>\n",
       "      <td>14.236595</td>\n",
       "      <td>14236595.0</td>\n",
       "      <td>2113</td>\n",
       "    </tr>\n",
       "  </tbody>\n",
       "</table>\n",
       "<p>172 rows × 6 columns</p>\n",
       "</div>"
      ],
      "text/plain": [
       "                                       Zone  2017  \\\n",
       "0                               Afghanistan  2017   \n",
       "1                            Afrique du Sud  2017   \n",
       "2                                   Albanie  2017   \n",
       "3                                   Algérie  2017   \n",
       "4                                 Allemagne  2017   \n",
       "..                                      ...   ...   \n",
       "167  Venezuela (République bolivarienne du)  2017   \n",
       "168                                Viet Nam  2017   \n",
       "169                                   Yémen  2017   \n",
       "170                                  Zambie  2017   \n",
       "171                                Zimbabwe  2017   \n",
       "\n",
       "     Population (en milliers d'hab)  Population (en million d'hab)  \\\n",
       "0                         36296.113                      36.296113   \n",
       "1                         57009.756                      57.009756   \n",
       "2                          2884.169                       2.884169   \n",
       "3                         41389.189                      41.389189   \n",
       "4                         82658.409                      82.658409   \n",
       "..                              ...                            ...   \n",
       "167                       29402.484                      29.402484   \n",
       "168                       94600.648                      94.600648   \n",
       "169                       27834.819                      27.834819   \n",
       "170                       16853.599                      16.853599   \n",
       "171                       14236.595                      14.236595   \n",
       "\n",
       "     Population totale  Disponibilité alimentaire (Kcal/personne/jour)  \n",
       "0           36296113.0                                            2087  \n",
       "1           57009756.0                                            3020  \n",
       "2            2884169.0                                            3188  \n",
       "3           41389189.0                                            3293  \n",
       "4           82658409.0                                            3503  \n",
       "..                 ...                                             ...  \n",
       "167         29402484.0                                            2633  \n",
       "168         94600648.0                                            2744  \n",
       "169         27834819.0                                            2217  \n",
       "170         16853599.0                                            1924  \n",
       "171         14236595.0                                            2113  \n",
       "\n",
       "[172 rows x 6 columns]"
      ]
     },
     "execution_count": 65,
     "metadata": {},
     "output_type": "execute_result"
    }
   ],
   "source": [
    "foodAvailibility_Total"
   ]
  },
  {
   "cell_type": "markdown",
   "id": "bbfe89ff",
   "metadata": {},
   "source": [
    "- Align pop2017 \"Zone\" column values with those of foodAvailibilityKcalGroupByZone df :"
   ]
  },
  {
   "cell_type": "code",
   "execution_count": 66,
   "id": "3d8360c2",
   "metadata": {},
   "outputs": [],
   "source": [
    "pop2017 = pop2017.replace(\"Royaume-Uni de Grande-Bretagne et d'Irlande du Nord\",\"Royaume-Uni\")"
   ]
  },
  {
   "cell_type": "code",
   "execution_count": 67,
   "id": "50cfc16b",
   "metadata": {},
   "outputs": [],
   "source": [
    "pop2017 = pop2017.replace(\"Tchéquie\",\"Tchéquie (la)\")"
   ]
  },
  {
   "cell_type": "code",
   "execution_count": 68,
   "id": "5908d070",
   "metadata": {},
   "outputs": [
    {
     "data": {
      "text/html": [
       "<div>\n",
       "<style scoped>\n",
       "    .dataframe tbody tr th:only-of-type {\n",
       "        vertical-align: middle;\n",
       "    }\n",
       "\n",
       "    .dataframe tbody tr th {\n",
       "        vertical-align: top;\n",
       "    }\n",
       "\n",
       "    .dataframe thead th {\n",
       "        text-align: right;\n",
       "    }\n",
       "</style>\n",
       "<table border=\"1\" class=\"dataframe\">\n",
       "  <thead>\n",
       "    <tr style=\"text-align: right;\">\n",
       "      <th></th>\n",
       "      <th>Zone</th>\n",
       "      <th>2017</th>\n",
       "      <th>Population (en milliers d'hab)</th>\n",
       "      <th>Population (en million d'hab)</th>\n",
       "      <th>Population totale</th>\n",
       "    </tr>\n",
       "  </thead>\n",
       "  <tbody>\n",
       "    <tr>\n",
       "      <th>1114</th>\n",
       "      <td>Royaume-Uni</td>\n",
       "      <td>2017</td>\n",
       "      <td>66727.461</td>\n",
       "      <td>66.727461</td>\n",
       "      <td>66727461.0</td>\n",
       "    </tr>\n",
       "  </tbody>\n",
       "</table>\n",
       "</div>"
      ],
      "text/plain": [
       "             Zone  2017  Population (en milliers d'hab)  \\\n",
       "1114  Royaume-Uni  2017                       66727.461   \n",
       "\n",
       "      Population (en million d'hab)  Population totale  \n",
       "1114                      66.727461         66727461.0  "
      ]
     },
     "execution_count": 68,
     "metadata": {},
     "output_type": "execute_result"
    }
   ],
   "source": [
    "pop2017.iloc[185:186]"
   ]
  },
  {
   "cell_type": "code",
   "execution_count": 69,
   "id": "308d96f8",
   "metadata": {},
   "outputs": [
    {
     "data": {
      "text/html": [
       "<div>\n",
       "<style scoped>\n",
       "    .dataframe tbody tr th:only-of-type {\n",
       "        vertical-align: middle;\n",
       "    }\n",
       "\n",
       "    .dataframe tbody tr th {\n",
       "        vertical-align: top;\n",
       "    }\n",
       "\n",
       "    .dataframe thead th {\n",
       "        text-align: right;\n",
       "    }\n",
       "</style>\n",
       "<table border=\"1\" class=\"dataframe\">\n",
       "  <thead>\n",
       "    <tr style=\"text-align: right;\">\n",
       "      <th></th>\n",
       "      <th>Zone</th>\n",
       "      <th>2017</th>\n",
       "      <th>Population (en milliers d'hab)</th>\n",
       "      <th>Population (en million d'hab)</th>\n",
       "      <th>Population totale</th>\n",
       "    </tr>\n",
       "  </thead>\n",
       "  <tbody>\n",
       "    <tr>\n",
       "      <th>1306</th>\n",
       "      <td>Tchéquie (la)</td>\n",
       "      <td>2017</td>\n",
       "      <td>10641.034</td>\n",
       "      <td>10.641034</td>\n",
       "      <td>10641034.0</td>\n",
       "    </tr>\n",
       "  </tbody>\n",
       "</table>\n",
       "</div>"
      ],
      "text/plain": [
       "               Zone  2017  Population (en milliers d'hab)  \\\n",
       "1306  Tchéquie (la)  2017                       10641.034   \n",
       "\n",
       "      Population (en million d'hab)  Population totale  \n",
       "1306                      10.641034         10641034.0  "
      ]
     },
     "execution_count": 69,
     "metadata": {},
     "output_type": "execute_result"
    }
   ],
   "source": [
    "pop2017.iloc[217:218]"
   ]
  },
  {
   "cell_type": "markdown",
   "id": "e30b650e",
   "metadata": {},
   "source": [
    "- Run new df (merged \"pop2017\" and \"foodAvailibilityKcalGroupByZone\") :"
   ]
  },
  {
   "cell_type": "code",
   "execution_count": 70,
   "id": "743a1b04",
   "metadata": {},
   "outputs": [],
   "source": [
    "foodAvailibility_Total = pop2017.merge(foodAvailibilityKcalGroupByZone, on=\"Zone\", how=\"inner\")"
   ]
  },
  {
   "cell_type": "code",
   "execution_count": 71,
   "id": "0384e7c5",
   "metadata": {
    "scrolled": true
   },
   "outputs": [
    {
     "data": {
      "text/plain": [
       "(174, 6)"
      ]
     },
     "execution_count": 71,
     "metadata": {},
     "output_type": "execute_result"
    }
   ],
   "source": [
    "foodAvailibility_Total.shape"
   ]
  },
  {
   "cell_type": "markdown",
   "id": "5a6adb4f",
   "metadata": {},
   "source": [
    "- China population checking in the df :"
   ]
  },
  {
   "cell_type": "code",
   "execution_count": 72,
   "id": "8dfa02e8",
   "metadata": {},
   "outputs": [
    {
     "data": {
      "text/html": [
       "<div>\n",
       "<style scoped>\n",
       "    .dataframe tbody tr th:only-of-type {\n",
       "        vertical-align: middle;\n",
       "    }\n",
       "\n",
       "    .dataframe tbody tr th {\n",
       "        vertical-align: top;\n",
       "    }\n",
       "\n",
       "    .dataframe thead th {\n",
       "        text-align: right;\n",
       "    }\n",
       "</style>\n",
       "<table border=\"1\" class=\"dataframe\">\n",
       "  <thead>\n",
       "    <tr style=\"text-align: right;\">\n",
       "      <th></th>\n",
       "      <th>Zone</th>\n",
       "      <th>2017</th>\n",
       "      <th>Population (en milliers d'hab)</th>\n",
       "      <th>Population (en million d'hab)</th>\n",
       "      <th>Population totale</th>\n",
       "      <th>Disponibilité alimentaire (Kcal/personne/jour)</th>\n",
       "    </tr>\n",
       "  </thead>\n",
       "  <tbody>\n",
       "    <tr>\n",
       "      <th>33</th>\n",
       "      <td>Chine - RAS de Hong-Kong</td>\n",
       "      <td>2017</td>\n",
       "      <td>7306.322</td>\n",
       "      <td>7.306322</td>\n",
       "      <td>7.306322e+06</td>\n",
       "      <td>3286</td>\n",
       "    </tr>\n",
       "    <tr>\n",
       "      <th>34</th>\n",
       "      <td>Chine - RAS de Macao</td>\n",
       "      <td>2017</td>\n",
       "      <td>622.585</td>\n",
       "      <td>0.622585</td>\n",
       "      <td>6.225850e+05</td>\n",
       "      <td>2915</td>\n",
       "    </tr>\n",
       "    <tr>\n",
       "      <th>35</th>\n",
       "      <td>Chine (continentale)</td>\n",
       "      <td>2017</td>\n",
       "      <td>1421021.791</td>\n",
       "      <td>1421.021791</td>\n",
       "      <td>1.421022e+09</td>\n",
       "      <td>3112</td>\n",
       "    </tr>\n",
       "    <tr>\n",
       "      <th>36</th>\n",
       "      <td>Chine (Taiwan Province de)</td>\n",
       "      <td>2017</td>\n",
       "      <td>23674.546</td>\n",
       "      <td>23.674546</td>\n",
       "      <td>2.367455e+07</td>\n",
       "      <td>2987</td>\n",
       "    </tr>\n",
       "  </tbody>\n",
       "</table>\n",
       "</div>"
      ],
      "text/plain": [
       "                          Zone  2017  Population (en milliers d'hab)  \\\n",
       "33    Chine - RAS de Hong-Kong  2017                        7306.322   \n",
       "34        Chine - RAS de Macao  2017                         622.585   \n",
       "35        Chine (continentale)  2017                     1421021.791   \n",
       "36  Chine (Taiwan Province de)  2017                       23674.546   \n",
       "\n",
       "    Population (en million d'hab)  Population totale  \\\n",
       "33                       7.306322       7.306322e+06   \n",
       "34                       0.622585       6.225850e+05   \n",
       "35                    1421.021791       1.421022e+09   \n",
       "36                      23.674546       2.367455e+07   \n",
       "\n",
       "    Disponibilité alimentaire (Kcal/personne/jour)  \n",
       "33                                            3286  \n",
       "34                                            2915  \n",
       "35                                            3112  \n",
       "36                                            2987  "
      ]
     },
     "execution_count": 72,
     "metadata": {},
     "output_type": "execute_result"
    }
   ],
   "source": [
    "foodAvailibility_Total.iloc[33:37]"
   ]
  },
  {
   "cell_type": "markdown",
   "id": "de095def",
   "metadata": {},
   "source": [
    "- Create new df foodAvailibility_Total_final (only on 3 columns) :"
   ]
  },
  {
   "cell_type": "code",
   "execution_count": 73,
   "id": "c74a4550",
   "metadata": {},
   "outputs": [],
   "source": [
    "foodAvailibility_Total_final = foodAvailibility_Total.iloc[0:175, [0,4,5]]"
   ]
  },
  {
   "cell_type": "code",
   "execution_count": 74,
   "id": "cee9f887",
   "metadata": {},
   "outputs": [
    {
     "data": {
      "text/html": [
       "<div>\n",
       "<style scoped>\n",
       "    .dataframe tbody tr th:only-of-type {\n",
       "        vertical-align: middle;\n",
       "    }\n",
       "\n",
       "    .dataframe tbody tr th {\n",
       "        vertical-align: top;\n",
       "    }\n",
       "\n",
       "    .dataframe thead th {\n",
       "        text-align: right;\n",
       "    }\n",
       "</style>\n",
       "<table border=\"1\" class=\"dataframe\">\n",
       "  <thead>\n",
       "    <tr style=\"text-align: right;\">\n",
       "      <th></th>\n",
       "      <th>Zone</th>\n",
       "      <th>Population totale</th>\n",
       "      <th>Disponibilité alimentaire (Kcal/personne/jour)</th>\n",
       "    </tr>\n",
       "  </thead>\n",
       "  <tbody>\n",
       "    <tr>\n",
       "      <th>0</th>\n",
       "      <td>Afghanistan</td>\n",
       "      <td>36296113.0</td>\n",
       "      <td>2087</td>\n",
       "    </tr>\n",
       "    <tr>\n",
       "      <th>1</th>\n",
       "      <td>Afrique du Sud</td>\n",
       "      <td>57009756.0</td>\n",
       "      <td>3020</td>\n",
       "    </tr>\n",
       "    <tr>\n",
       "      <th>2</th>\n",
       "      <td>Albanie</td>\n",
       "      <td>2884169.0</td>\n",
       "      <td>3188</td>\n",
       "    </tr>\n",
       "    <tr>\n",
       "      <th>3</th>\n",
       "      <td>Algérie</td>\n",
       "      <td>41389189.0</td>\n",
       "      <td>3293</td>\n",
       "    </tr>\n",
       "    <tr>\n",
       "      <th>4</th>\n",
       "      <td>Allemagne</td>\n",
       "      <td>82658409.0</td>\n",
       "      <td>3503</td>\n",
       "    </tr>\n",
       "    <tr>\n",
       "      <th>...</th>\n",
       "      <td>...</td>\n",
       "      <td>...</td>\n",
       "      <td>...</td>\n",
       "    </tr>\n",
       "    <tr>\n",
       "      <th>169</th>\n",
       "      <td>Venezuela (République bolivarienne du)</td>\n",
       "      <td>29402484.0</td>\n",
       "      <td>2633</td>\n",
       "    </tr>\n",
       "    <tr>\n",
       "      <th>170</th>\n",
       "      <td>Viet Nam</td>\n",
       "      <td>94600648.0</td>\n",
       "      <td>2744</td>\n",
       "    </tr>\n",
       "    <tr>\n",
       "      <th>171</th>\n",
       "      <td>Yémen</td>\n",
       "      <td>27834819.0</td>\n",
       "      <td>2217</td>\n",
       "    </tr>\n",
       "    <tr>\n",
       "      <th>172</th>\n",
       "      <td>Zambie</td>\n",
       "      <td>16853599.0</td>\n",
       "      <td>1924</td>\n",
       "    </tr>\n",
       "    <tr>\n",
       "      <th>173</th>\n",
       "      <td>Zimbabwe</td>\n",
       "      <td>14236595.0</td>\n",
       "      <td>2113</td>\n",
       "    </tr>\n",
       "  </tbody>\n",
       "</table>\n",
       "<p>174 rows × 3 columns</p>\n",
       "</div>"
      ],
      "text/plain": [
       "                                       Zone  Population totale  \\\n",
       "0                               Afghanistan         36296113.0   \n",
       "1                            Afrique du Sud         57009756.0   \n",
       "2                                   Albanie          2884169.0   \n",
       "3                                   Algérie         41389189.0   \n",
       "4                                 Allemagne         82658409.0   \n",
       "..                                      ...                ...   \n",
       "169  Venezuela (République bolivarienne du)         29402484.0   \n",
       "170                                Viet Nam         94600648.0   \n",
       "171                                   Yémen         27834819.0   \n",
       "172                                  Zambie         16853599.0   \n",
       "173                                Zimbabwe         14236595.0   \n",
       "\n",
       "     Disponibilité alimentaire (Kcal/personne/jour)  \n",
       "0                                              2087  \n",
       "1                                              3020  \n",
       "2                                              3188  \n",
       "3                                              3293  \n",
       "4                                              3503  \n",
       "..                                              ...  \n",
       "169                                            2633  \n",
       "170                                            2744  \n",
       "171                                            2217  \n",
       "172                                            1924  \n",
       "173                                            2113  \n",
       "\n",
       "[174 rows x 3 columns]"
      ]
     },
     "execution_count": 74,
     "metadata": {},
     "output_type": "execute_result"
    }
   ],
   "source": [
    "foodAvailibility_Total_final"
   ]
  },
  {
   "cell_type": "markdown",
   "id": "b10c88d0",
   "metadata": {},
   "source": [
    "- Final result :"
   ]
  },
  {
   "cell_type": "code",
   "execution_count": 75,
   "id": "d6ff67e2",
   "metadata": {},
   "outputs": [],
   "source": [
    "foodAvailibility_Total_final[\"Disponibilité alimentaire (Kcal/Pays/jour)\"] = foodAvailibility_Total_final[\"Population totale\"] * foodAvailibility_Total_final[\"Disponibilité alimentaire (Kcal/personne/jour)\"]"
   ]
  },
  {
   "cell_type": "code",
   "execution_count": 76,
   "id": "6cfcea13",
   "metadata": {},
   "outputs": [
    {
     "data": {
      "text/html": [
       "<div>\n",
       "<style scoped>\n",
       "    .dataframe tbody tr th:only-of-type {\n",
       "        vertical-align: middle;\n",
       "    }\n",
       "\n",
       "    .dataframe tbody tr th {\n",
       "        vertical-align: top;\n",
       "    }\n",
       "\n",
       "    .dataframe thead th {\n",
       "        text-align: right;\n",
       "    }\n",
       "</style>\n",
       "<table border=\"1\" class=\"dataframe\">\n",
       "  <thead>\n",
       "    <tr style=\"text-align: right;\">\n",
       "      <th></th>\n",
       "      <th>Zone</th>\n",
       "      <th>Population totale</th>\n",
       "      <th>Disponibilité alimentaire (Kcal/personne/jour)</th>\n",
       "      <th>Disponibilité alimentaire (Kcal/Pays/jour)</th>\n",
       "    </tr>\n",
       "  </thead>\n",
       "  <tbody>\n",
       "    <tr>\n",
       "      <th>0</th>\n",
       "      <td>Afghanistan</td>\n",
       "      <td>36296113.0</td>\n",
       "      <td>2087</td>\n",
       "      <td>7.574999e+10</td>\n",
       "    </tr>\n",
       "    <tr>\n",
       "      <th>1</th>\n",
       "      <td>Afrique du Sud</td>\n",
       "      <td>57009756.0</td>\n",
       "      <td>3020</td>\n",
       "      <td>1.721695e+11</td>\n",
       "    </tr>\n",
       "    <tr>\n",
       "      <th>2</th>\n",
       "      <td>Albanie</td>\n",
       "      <td>2884169.0</td>\n",
       "      <td>3188</td>\n",
       "      <td>9.194731e+09</td>\n",
       "    </tr>\n",
       "    <tr>\n",
       "      <th>3</th>\n",
       "      <td>Algérie</td>\n",
       "      <td>41389189.0</td>\n",
       "      <td>3293</td>\n",
       "      <td>1.362946e+11</td>\n",
       "    </tr>\n",
       "    <tr>\n",
       "      <th>4</th>\n",
       "      <td>Allemagne</td>\n",
       "      <td>82658409.0</td>\n",
       "      <td>3503</td>\n",
       "      <td>2.895524e+11</td>\n",
       "    </tr>\n",
       "    <tr>\n",
       "      <th>...</th>\n",
       "      <td>...</td>\n",
       "      <td>...</td>\n",
       "      <td>...</td>\n",
       "      <td>...</td>\n",
       "    </tr>\n",
       "    <tr>\n",
       "      <th>169</th>\n",
       "      <td>Venezuela (République bolivarienne du)</td>\n",
       "      <td>29402484.0</td>\n",
       "      <td>2633</td>\n",
       "      <td>7.741674e+10</td>\n",
       "    </tr>\n",
       "    <tr>\n",
       "      <th>170</th>\n",
       "      <td>Viet Nam</td>\n",
       "      <td>94600648.0</td>\n",
       "      <td>2744</td>\n",
       "      <td>2.595842e+11</td>\n",
       "    </tr>\n",
       "    <tr>\n",
       "      <th>171</th>\n",
       "      <td>Yémen</td>\n",
       "      <td>27834819.0</td>\n",
       "      <td>2217</td>\n",
       "      <td>6.170979e+10</td>\n",
       "    </tr>\n",
       "    <tr>\n",
       "      <th>172</th>\n",
       "      <td>Zambie</td>\n",
       "      <td>16853599.0</td>\n",
       "      <td>1924</td>\n",
       "      <td>3.242632e+10</td>\n",
       "    </tr>\n",
       "    <tr>\n",
       "      <th>173</th>\n",
       "      <td>Zimbabwe</td>\n",
       "      <td>14236595.0</td>\n",
       "      <td>2113</td>\n",
       "      <td>3.008193e+10</td>\n",
       "    </tr>\n",
       "  </tbody>\n",
       "</table>\n",
       "<p>174 rows × 4 columns</p>\n",
       "</div>"
      ],
      "text/plain": [
       "                                       Zone  Population totale  \\\n",
       "0                               Afghanistan         36296113.0   \n",
       "1                            Afrique du Sud         57009756.0   \n",
       "2                                   Albanie          2884169.0   \n",
       "3                                   Algérie         41389189.0   \n",
       "4                                 Allemagne         82658409.0   \n",
       "..                                      ...                ...   \n",
       "169  Venezuela (République bolivarienne du)         29402484.0   \n",
       "170                                Viet Nam         94600648.0   \n",
       "171                                   Yémen         27834819.0   \n",
       "172                                  Zambie         16853599.0   \n",
       "173                                Zimbabwe         14236595.0   \n",
       "\n",
       "     Disponibilité alimentaire (Kcal/personne/jour)  \\\n",
       "0                                              2087   \n",
       "1                                              3020   \n",
       "2                                              3188   \n",
       "3                                              3293   \n",
       "4                                              3503   \n",
       "..                                              ...   \n",
       "169                                            2633   \n",
       "170                                            2744   \n",
       "171                                            2217   \n",
       "172                                            1924   \n",
       "173                                            2113   \n",
       "\n",
       "     Disponibilité alimentaire (Kcal/Pays/jour)  \n",
       "0                                  7.574999e+10  \n",
       "1                                  1.721695e+11  \n",
       "2                                  9.194731e+09  \n",
       "3                                  1.362946e+11  \n",
       "4                                  2.895524e+11  \n",
       "..                                          ...  \n",
       "169                                7.741674e+10  \n",
       "170                                2.595842e+11  \n",
       "171                                6.170979e+10  \n",
       "172                                3.242632e+10  \n",
       "173                                3.008193e+10  \n",
       "\n",
       "[174 rows x 4 columns]"
      ]
     },
     "execution_count": 76,
     "metadata": {},
     "output_type": "execute_result"
    }
   ],
   "source": [
    "foodAvailibility_Total_final"
   ]
  },
  {
   "cell_type": "code",
   "execution_count": 77,
   "id": "f188ee8d",
   "metadata": {},
   "outputs": [],
   "source": [
    "foodAvailibility_Total_final_Sum = foodAvailibility_Total_final[\"Disponibilité alimentaire (Kcal/Pays/jour)\"].sum()"
   ]
  },
  {
   "cell_type": "code",
   "execution_count": 78,
   "id": "2e11a3a1",
   "metadata": {},
   "outputs": [],
   "source": [
    "NbrThéorique = foodAvailibility_Total_final[\"Disponibilité alimentaire (Kcal/Pays/jour)\"].sum() / 2500"
   ]
  },
  {
   "cell_type": "code",
   "execution_count": 79,
   "id": "eb070217",
   "metadata": {},
   "outputs": [
    {
     "name": "stdout",
     "output_type": "stream",
     "text": [
      "Le nombre théorique de personnes pouvant être nourris chaque jour en 2017 est de 8472760931 d'individus.\n"
     ]
    }
   ],
   "source": [
    "print(\"Le nombre théorique de personnes pouvant être nourris chaque jour en 2017 est de\",round(NbrThéorique),\"d'individus.\")"
   ]
  },
  {
   "cell_type": "markdown",
   "id": "9c81d51c",
   "metadata": {},
   "source": [
    " "
   ]
  },
  {
   "cell_type": "markdown",
   "id": "32f57dd5",
   "metadata": {},
   "source": [
    "*3. Theoretical number of people who could be fed in the world in 2017 (only with vegetables) :*"
   ]
  },
  {
   "cell_type": "markdown",
   "id": "ea11c42d",
   "metadata": {},
   "source": [
    "- Df foodAvailability display :"
   ]
  },
  {
   "cell_type": "code",
   "execution_count": 80,
   "id": "c9e9d17e",
   "metadata": {},
   "outputs": [
    {
     "data": {
      "text/html": [
       "<div>\n",
       "<style scoped>\n",
       "    .dataframe tbody tr th:only-of-type {\n",
       "        vertical-align: middle;\n",
       "    }\n",
       "\n",
       "    .dataframe tbody tr th {\n",
       "        vertical-align: top;\n",
       "    }\n",
       "\n",
       "    .dataframe thead th {\n",
       "        text-align: right;\n",
       "    }\n",
       "</style>\n",
       "<table border=\"1\" class=\"dataframe\">\n",
       "  <thead>\n",
       "    <tr style=\"text-align: right;\">\n",
       "      <th></th>\n",
       "      <th>Zone</th>\n",
       "      <th>Produit</th>\n",
       "      <th>Origine</th>\n",
       "      <th>Aliments pour animaux</th>\n",
       "      <th>Autres Utilisations</th>\n",
       "      <th>Disponibilité alimentaire (Kcal/personne/jour)</th>\n",
       "      <th>Disponibilité alimentaire en quantité (kg/personne/an)</th>\n",
       "      <th>Disponibilité de matière grasse en quantité (g/personne/jour)</th>\n",
       "      <th>Disponibilité de protéines en quantité (g/personne/jour)</th>\n",
       "      <th>Disponibilité intérieure</th>\n",
       "      <th>Exportations - Quantité</th>\n",
       "      <th>Importations - Quantité</th>\n",
       "      <th>Nourriture</th>\n",
       "      <th>Pertes</th>\n",
       "      <th>Production</th>\n",
       "      <th>Semences</th>\n",
       "      <th>Traitement</th>\n",
       "      <th>Variation de stock</th>\n",
       "    </tr>\n",
       "  </thead>\n",
       "  <tbody>\n",
       "    <tr>\n",
       "      <th>0</th>\n",
       "      <td>Afghanistan</td>\n",
       "      <td>Abats Comestible</td>\n",
       "      <td>animale</td>\n",
       "      <td>0.0</td>\n",
       "      <td>0.0</td>\n",
       "      <td>5.0</td>\n",
       "      <td>1.72</td>\n",
       "      <td>0.20</td>\n",
       "      <td>0.77</td>\n",
       "      <td>53000000.0</td>\n",
       "      <td>0.0</td>\n",
       "      <td>0.0</td>\n",
       "      <td>53000000.0</td>\n",
       "      <td>0.0</td>\n",
       "      <td>53000000.0</td>\n",
       "      <td>0.0</td>\n",
       "      <td>0.0</td>\n",
       "      <td>0.0</td>\n",
       "    </tr>\n",
       "    <tr>\n",
       "      <th>1</th>\n",
       "      <td>Afghanistan</td>\n",
       "      <td>Agrumes, Autres</td>\n",
       "      <td>vegetale</td>\n",
       "      <td>0.0</td>\n",
       "      <td>0.0</td>\n",
       "      <td>1.0</td>\n",
       "      <td>1.29</td>\n",
       "      <td>0.01</td>\n",
       "      <td>0.02</td>\n",
       "      <td>41000000.0</td>\n",
       "      <td>2000000.0</td>\n",
       "      <td>40000000.0</td>\n",
       "      <td>39000000.0</td>\n",
       "      <td>2000000.0</td>\n",
       "      <td>3000000.0</td>\n",
       "      <td>0.0</td>\n",
       "      <td>0.0</td>\n",
       "      <td>0.0</td>\n",
       "    </tr>\n",
       "    <tr>\n",
       "      <th>2</th>\n",
       "      <td>Afghanistan</td>\n",
       "      <td>Aliments pour enfants</td>\n",
       "      <td>vegetale</td>\n",
       "      <td>0.0</td>\n",
       "      <td>0.0</td>\n",
       "      <td>1.0</td>\n",
       "      <td>0.06</td>\n",
       "      <td>0.01</td>\n",
       "      <td>0.03</td>\n",
       "      <td>2000000.0</td>\n",
       "      <td>0.0</td>\n",
       "      <td>2000000.0</td>\n",
       "      <td>2000000.0</td>\n",
       "      <td>0.0</td>\n",
       "      <td>0.0</td>\n",
       "      <td>0.0</td>\n",
       "      <td>0.0</td>\n",
       "      <td>0.0</td>\n",
       "    </tr>\n",
       "    <tr>\n",
       "      <th>3</th>\n",
       "      <td>Afghanistan</td>\n",
       "      <td>Ananas</td>\n",
       "      <td>vegetale</td>\n",
       "      <td>0.0</td>\n",
       "      <td>0.0</td>\n",
       "      <td>0.0</td>\n",
       "      <td>0.00</td>\n",
       "      <td>0.00</td>\n",
       "      <td>0.00</td>\n",
       "      <td>0.0</td>\n",
       "      <td>0.0</td>\n",
       "      <td>0.0</td>\n",
       "      <td>0.0</td>\n",
       "      <td>0.0</td>\n",
       "      <td>0.0</td>\n",
       "      <td>0.0</td>\n",
       "      <td>0.0</td>\n",
       "      <td>0.0</td>\n",
       "    </tr>\n",
       "    <tr>\n",
       "      <th>4</th>\n",
       "      <td>Afghanistan</td>\n",
       "      <td>Bananes</td>\n",
       "      <td>vegetale</td>\n",
       "      <td>0.0</td>\n",
       "      <td>0.0</td>\n",
       "      <td>4.0</td>\n",
       "      <td>2.70</td>\n",
       "      <td>0.02</td>\n",
       "      <td>0.05</td>\n",
       "      <td>82000000.0</td>\n",
       "      <td>0.0</td>\n",
       "      <td>82000000.0</td>\n",
       "      <td>82000000.0</td>\n",
       "      <td>0.0</td>\n",
       "      <td>0.0</td>\n",
       "      <td>0.0</td>\n",
       "      <td>0.0</td>\n",
       "      <td>0.0</td>\n",
       "    </tr>\n",
       "  </tbody>\n",
       "</table>\n",
       "</div>"
      ],
      "text/plain": [
       "          Zone                Produit   Origine  Aliments pour animaux  \\\n",
       "0  Afghanistan       Abats Comestible   animale                    0.0   \n",
       "1  Afghanistan        Agrumes, Autres  vegetale                    0.0   \n",
       "2  Afghanistan  Aliments pour enfants  vegetale                    0.0   \n",
       "3  Afghanistan                 Ananas  vegetale                    0.0   \n",
       "4  Afghanistan                Bananes  vegetale                    0.0   \n",
       "\n",
       "   Autres Utilisations  Disponibilité alimentaire (Kcal/personne/jour)  \\\n",
       "0                  0.0                                             5.0   \n",
       "1                  0.0                                             1.0   \n",
       "2                  0.0                                             1.0   \n",
       "3                  0.0                                             0.0   \n",
       "4                  0.0                                             4.0   \n",
       "\n",
       "   Disponibilité alimentaire en quantité (kg/personne/an)  \\\n",
       "0                                               1.72        \n",
       "1                                               1.29        \n",
       "2                                               0.06        \n",
       "3                                               0.00        \n",
       "4                                               2.70        \n",
       "\n",
       "   Disponibilité de matière grasse en quantité (g/personne/jour)  \\\n",
       "0                                               0.20               \n",
       "1                                               0.01               \n",
       "2                                               0.01               \n",
       "3                                               0.00               \n",
       "4                                               0.02               \n",
       "\n",
       "   Disponibilité de protéines en quantité (g/personne/jour)  \\\n",
       "0                                               0.77          \n",
       "1                                               0.02          \n",
       "2                                               0.03          \n",
       "3                                               0.00          \n",
       "4                                               0.05          \n",
       "\n",
       "   Disponibilité intérieure  Exportations - Quantité  Importations - Quantité  \\\n",
       "0                53000000.0                      0.0                      0.0   \n",
       "1                41000000.0                2000000.0               40000000.0   \n",
       "2                 2000000.0                      0.0                2000000.0   \n",
       "3                       0.0                      0.0                      0.0   \n",
       "4                82000000.0                      0.0               82000000.0   \n",
       "\n",
       "   Nourriture     Pertes  Production  Semences  Traitement  Variation de stock  \n",
       "0  53000000.0        0.0  53000000.0       0.0         0.0                 0.0  \n",
       "1  39000000.0  2000000.0   3000000.0       0.0         0.0                 0.0  \n",
       "2   2000000.0        0.0         0.0       0.0         0.0                 0.0  \n",
       "3         0.0        0.0         0.0       0.0         0.0                 0.0  \n",
       "4  82000000.0        0.0         0.0       0.0         0.0                 0.0  "
      ]
     },
     "execution_count": 80,
     "metadata": {},
     "output_type": "execute_result"
    }
   ],
   "source": [
    "foodAvailability.head()"
   ]
  },
  {
   "cell_type": "markdown",
   "id": "46c00319",
   "metadata": {},
   "source": [
    "- Creation new df only on 3 columns :"
   ]
  },
  {
   "cell_type": "code",
   "execution_count": 81,
   "id": "e218acb0",
   "metadata": {},
   "outputs": [],
   "source": [
    "foodAvailibilityKcal2 = foodAvailability[{'Zone','Origine','Disponibilité alimentaire (Kcal/personne/jour)'}]"
   ]
  },
  {
   "cell_type": "code",
   "execution_count": 82,
   "id": "5a43a65e",
   "metadata": {},
   "outputs": [
    {
     "data": {
      "text/html": [
       "<div>\n",
       "<style scoped>\n",
       "    .dataframe tbody tr th:only-of-type {\n",
       "        vertical-align: middle;\n",
       "    }\n",
       "\n",
       "    .dataframe tbody tr th {\n",
       "        vertical-align: top;\n",
       "    }\n",
       "\n",
       "    .dataframe thead th {\n",
       "        text-align: right;\n",
       "    }\n",
       "</style>\n",
       "<table border=\"1\" class=\"dataframe\">\n",
       "  <thead>\n",
       "    <tr style=\"text-align: right;\">\n",
       "      <th></th>\n",
       "      <th>Disponibilité alimentaire (Kcal/personne/jour)</th>\n",
       "      <th>Zone</th>\n",
       "      <th>Origine</th>\n",
       "    </tr>\n",
       "  </thead>\n",
       "  <tbody>\n",
       "    <tr>\n",
       "      <th>0</th>\n",
       "      <td>5.0</td>\n",
       "      <td>Afghanistan</td>\n",
       "      <td>animale</td>\n",
       "    </tr>\n",
       "    <tr>\n",
       "      <th>1</th>\n",
       "      <td>1.0</td>\n",
       "      <td>Afghanistan</td>\n",
       "      <td>vegetale</td>\n",
       "    </tr>\n",
       "    <tr>\n",
       "      <th>2</th>\n",
       "      <td>1.0</td>\n",
       "      <td>Afghanistan</td>\n",
       "      <td>vegetale</td>\n",
       "    </tr>\n",
       "    <tr>\n",
       "      <th>3</th>\n",
       "      <td>0.0</td>\n",
       "      <td>Afghanistan</td>\n",
       "      <td>vegetale</td>\n",
       "    </tr>\n",
       "    <tr>\n",
       "      <th>4</th>\n",
       "      <td>4.0</td>\n",
       "      <td>Afghanistan</td>\n",
       "      <td>vegetale</td>\n",
       "    </tr>\n",
       "    <tr>\n",
       "      <th>...</th>\n",
       "      <td>...</td>\n",
       "      <td>...</td>\n",
       "      <td>...</td>\n",
       "    </tr>\n",
       "    <tr>\n",
       "      <th>15600</th>\n",
       "      <td>45.0</td>\n",
       "      <td>Îles Salomon</td>\n",
       "      <td>animale</td>\n",
       "    </tr>\n",
       "    <tr>\n",
       "      <th>15601</th>\n",
       "      <td>11.0</td>\n",
       "      <td>Îles Salomon</td>\n",
       "      <td>animale</td>\n",
       "    </tr>\n",
       "    <tr>\n",
       "      <th>15602</th>\n",
       "      <td>0.0</td>\n",
       "      <td>Îles Salomon</td>\n",
       "      <td>animale</td>\n",
       "    </tr>\n",
       "    <tr>\n",
       "      <th>15603</th>\n",
       "      <td>0.0</td>\n",
       "      <td>Îles Salomon</td>\n",
       "      <td>vegetale</td>\n",
       "    </tr>\n",
       "    <tr>\n",
       "      <th>15604</th>\n",
       "      <td>4.0</td>\n",
       "      <td>Îles Salomon</td>\n",
       "      <td>vegetale</td>\n",
       "    </tr>\n",
       "  </tbody>\n",
       "</table>\n",
       "<p>15605 rows × 3 columns</p>\n",
       "</div>"
      ],
      "text/plain": [
       "       Disponibilité alimentaire (Kcal/personne/jour)          Zone   Origine\n",
       "0                                                 5.0   Afghanistan   animale\n",
       "1                                                 1.0   Afghanistan  vegetale\n",
       "2                                                 1.0   Afghanistan  vegetale\n",
       "3                                                 0.0   Afghanistan  vegetale\n",
       "4                                                 4.0   Afghanistan  vegetale\n",
       "...                                               ...           ...       ...\n",
       "15600                                            45.0  Îles Salomon   animale\n",
       "15601                                            11.0  Îles Salomon   animale\n",
       "15602                                             0.0  Îles Salomon   animale\n",
       "15603                                             0.0  Îles Salomon  vegetale\n",
       "15604                                             4.0  Îles Salomon  vegetale\n",
       "\n",
       "[15605 rows x 3 columns]"
      ]
     },
     "execution_count": 82,
     "metadata": {},
     "output_type": "execute_result"
    }
   ],
   "source": [
    "foodAvailibilityKcal2"
   ]
  },
  {
   "cell_type": "markdown",
   "id": "8c17b8a7",
   "metadata": {},
   "source": [
    "- Create a new df with only \"vegetale\" values on \"Origine\" Column :"
   ]
  },
  {
   "cell_type": "code",
   "execution_count": 83,
   "id": "00ca580e",
   "metadata": {},
   "outputs": [],
   "source": [
    "foodAvailibilityKcal3 = foodAvailibilityKcal2.loc[foodAvailibilityKcal2[\"Origine\"].isin([\"vegetale\"])].copy()"
   ]
  },
  {
   "cell_type": "code",
   "execution_count": 84,
   "id": "efe94eae",
   "metadata": {},
   "outputs": [
    {
     "data": {
      "text/html": [
       "<div>\n",
       "<style scoped>\n",
       "    .dataframe tbody tr th:only-of-type {\n",
       "        vertical-align: middle;\n",
       "    }\n",
       "\n",
       "    .dataframe tbody tr th {\n",
       "        vertical-align: top;\n",
       "    }\n",
       "\n",
       "    .dataframe thead th {\n",
       "        text-align: right;\n",
       "    }\n",
       "</style>\n",
       "<table border=\"1\" class=\"dataframe\">\n",
       "  <thead>\n",
       "    <tr style=\"text-align: right;\">\n",
       "      <th></th>\n",
       "      <th>Disponibilité alimentaire (Kcal/personne/jour)</th>\n",
       "      <th>Zone</th>\n",
       "      <th>Origine</th>\n",
       "    </tr>\n",
       "  </thead>\n",
       "  <tbody>\n",
       "    <tr>\n",
       "      <th>1</th>\n",
       "      <td>1.0</td>\n",
       "      <td>Afghanistan</td>\n",
       "      <td>vegetale</td>\n",
       "    </tr>\n",
       "    <tr>\n",
       "      <th>2</th>\n",
       "      <td>1.0</td>\n",
       "      <td>Afghanistan</td>\n",
       "      <td>vegetale</td>\n",
       "    </tr>\n",
       "    <tr>\n",
       "      <th>3</th>\n",
       "      <td>0.0</td>\n",
       "      <td>Afghanistan</td>\n",
       "      <td>vegetale</td>\n",
       "    </tr>\n",
       "    <tr>\n",
       "      <th>4</th>\n",
       "      <td>4.0</td>\n",
       "      <td>Afghanistan</td>\n",
       "      <td>vegetale</td>\n",
       "    </tr>\n",
       "    <tr>\n",
       "      <th>6</th>\n",
       "      <td>0.0</td>\n",
       "      <td>Afghanistan</td>\n",
       "      <td>vegetale</td>\n",
       "    </tr>\n",
       "    <tr>\n",
       "      <th>...</th>\n",
       "      <td>...</td>\n",
       "      <td>...</td>\n",
       "      <td>...</td>\n",
       "    </tr>\n",
       "    <tr>\n",
       "      <th>15595</th>\n",
       "      <td>0.0</td>\n",
       "      <td>Îles Salomon</td>\n",
       "      <td>vegetale</td>\n",
       "    </tr>\n",
       "    <tr>\n",
       "      <th>15596</th>\n",
       "      <td>0.0</td>\n",
       "      <td>Îles Salomon</td>\n",
       "      <td>vegetale</td>\n",
       "    </tr>\n",
       "    <tr>\n",
       "      <th>15597</th>\n",
       "      <td>0.0</td>\n",
       "      <td>Îles Salomon</td>\n",
       "      <td>vegetale</td>\n",
       "    </tr>\n",
       "    <tr>\n",
       "      <th>15603</th>\n",
       "      <td>0.0</td>\n",
       "      <td>Îles Salomon</td>\n",
       "      <td>vegetale</td>\n",
       "    </tr>\n",
       "    <tr>\n",
       "      <th>15604</th>\n",
       "      <td>4.0</td>\n",
       "      <td>Îles Salomon</td>\n",
       "      <td>vegetale</td>\n",
       "    </tr>\n",
       "  </tbody>\n",
       "</table>\n",
       "<p>11896 rows × 3 columns</p>\n",
       "</div>"
      ],
      "text/plain": [
       "       Disponibilité alimentaire (Kcal/personne/jour)          Zone   Origine\n",
       "1                                                 1.0   Afghanistan  vegetale\n",
       "2                                                 1.0   Afghanistan  vegetale\n",
       "3                                                 0.0   Afghanistan  vegetale\n",
       "4                                                 4.0   Afghanistan  vegetale\n",
       "6                                                 0.0   Afghanistan  vegetale\n",
       "...                                               ...           ...       ...\n",
       "15595                                             0.0  Îles Salomon  vegetale\n",
       "15596                                             0.0  Îles Salomon  vegetale\n",
       "15597                                             0.0  Îles Salomon  vegetale\n",
       "15603                                             0.0  Îles Salomon  vegetale\n",
       "15604                                             4.0  Îles Salomon  vegetale\n",
       "\n",
       "[11896 rows x 3 columns]"
      ]
     },
     "execution_count": 84,
     "metadata": {},
     "output_type": "execute_result"
    }
   ],
   "source": [
    "foodAvailibilityKcal3"
   ]
  },
  {
   "cell_type": "markdown",
   "id": "28547ac5",
   "metadata": {},
   "source": [
    "- Creation new df foodAvailibilityKcal4 group by \"Zone\" :"
   ]
  },
  {
   "cell_type": "code",
   "execution_count": 85,
   "id": "86a09352",
   "metadata": {},
   "outputs": [],
   "source": [
    "foodAvailibilityKcal4 = foodAvailibilityKcal3.groupby(by=\"Zone\").sum()"
   ]
  },
  {
   "cell_type": "code",
   "execution_count": 86,
   "id": "b037eb0c",
   "metadata": {},
   "outputs": [
    {
     "data": {
      "text/html": [
       "<div>\n",
       "<style scoped>\n",
       "    .dataframe tbody tr th:only-of-type {\n",
       "        vertical-align: middle;\n",
       "    }\n",
       "\n",
       "    .dataframe tbody tr th {\n",
       "        vertical-align: top;\n",
       "    }\n",
       "\n",
       "    .dataframe thead th {\n",
       "        text-align: right;\n",
       "    }\n",
       "</style>\n",
       "<table border=\"1\" class=\"dataframe\">\n",
       "  <thead>\n",
       "    <tr style=\"text-align: right;\">\n",
       "      <th></th>\n",
       "      <th>Disponibilité alimentaire (Kcal/personne/jour)</th>\n",
       "    </tr>\n",
       "    <tr>\n",
       "      <th>Zone</th>\n",
       "      <th></th>\n",
       "    </tr>\n",
       "  </thead>\n",
       "  <tbody>\n",
       "    <tr>\n",
       "      <th>Afghanistan</th>\n",
       "      <td>1871.0</td>\n",
       "    </tr>\n",
       "    <tr>\n",
       "      <th>Afrique du Sud</th>\n",
       "      <td>2533.0</td>\n",
       "    </tr>\n",
       "    <tr>\n",
       "      <th>Albanie</th>\n",
       "      <td>2203.0</td>\n",
       "    </tr>\n",
       "    <tr>\n",
       "      <th>Algérie</th>\n",
       "      <td>2915.0</td>\n",
       "    </tr>\n",
       "    <tr>\n",
       "      <th>Allemagne</th>\n",
       "      <td>2461.0</td>\n",
       "    </tr>\n",
       "    <tr>\n",
       "      <th>...</th>\n",
       "      <td>...</td>\n",
       "    </tr>\n",
       "    <tr>\n",
       "      <th>Émirats arabes unis</th>\n",
       "      <td>2718.0</td>\n",
       "    </tr>\n",
       "    <tr>\n",
       "      <th>Équateur</th>\n",
       "      <td>1732.0</td>\n",
       "    </tr>\n",
       "    <tr>\n",
       "      <th>États-Unis d'Amérique</th>\n",
       "      <td>2698.0</td>\n",
       "    </tr>\n",
       "    <tr>\n",
       "      <th>Éthiopie</th>\n",
       "      <td>2005.0</td>\n",
       "    </tr>\n",
       "    <tr>\n",
       "      <th>Îles Salomon</th>\n",
       "      <td>2187.0</td>\n",
       "    </tr>\n",
       "  </tbody>\n",
       "</table>\n",
       "<p>175 rows × 1 columns</p>\n",
       "</div>"
      ],
      "text/plain": [
       "                       Disponibilité alimentaire (Kcal/personne/jour)\n",
       "Zone                                                                 \n",
       "Afghanistan                                                    1871.0\n",
       "Afrique du Sud                                                 2533.0\n",
       "Albanie                                                        2203.0\n",
       "Algérie                                                        2915.0\n",
       "Allemagne                                                      2461.0\n",
       "...                                                               ...\n",
       "Émirats arabes unis                                            2718.0\n",
       "Équateur                                                       1732.0\n",
       "États-Unis d'Amérique                                          2698.0\n",
       "Éthiopie                                                       2005.0\n",
       "Îles Salomon                                                   2187.0\n",
       "\n",
       "[175 rows x 1 columns]"
      ]
     },
     "execution_count": 86,
     "metadata": {},
     "output_type": "execute_result"
    }
   ],
   "source": [
    "foodAvailibilityKcal4"
   ]
  },
  {
   "cell_type": "markdown",
   "id": "b2d92755",
   "metadata": {},
   "source": [
    "- Df pop2017 display :"
   ]
  },
  {
   "cell_type": "code",
   "execution_count": 87,
   "id": "439d3db8",
   "metadata": {},
   "outputs": [
    {
     "data": {
      "text/html": [
       "<div>\n",
       "<style scoped>\n",
       "    .dataframe tbody tr th:only-of-type {\n",
       "        vertical-align: middle;\n",
       "    }\n",
       "\n",
       "    .dataframe tbody tr th {\n",
       "        vertical-align: top;\n",
       "    }\n",
       "\n",
       "    .dataframe thead th {\n",
       "        text-align: right;\n",
       "    }\n",
       "</style>\n",
       "<table border=\"1\" class=\"dataframe\">\n",
       "  <thead>\n",
       "    <tr style=\"text-align: right;\">\n",
       "      <th></th>\n",
       "      <th>Zone</th>\n",
       "      <th>2017</th>\n",
       "      <th>Population (en milliers d'hab)</th>\n",
       "      <th>Population (en million d'hab)</th>\n",
       "      <th>Population totale</th>\n",
       "    </tr>\n",
       "  </thead>\n",
       "  <tbody>\n",
       "    <tr>\n",
       "      <th>4</th>\n",
       "      <td>Afghanistan</td>\n",
       "      <td>2017</td>\n",
       "      <td>36296.113</td>\n",
       "      <td>36.296113</td>\n",
       "      <td>36296113.0</td>\n",
       "    </tr>\n",
       "    <tr>\n",
       "      <th>10</th>\n",
       "      <td>Afrique du Sud</td>\n",
       "      <td>2017</td>\n",
       "      <td>57009.756</td>\n",
       "      <td>57.009756</td>\n",
       "      <td>57009756.0</td>\n",
       "    </tr>\n",
       "    <tr>\n",
       "      <th>16</th>\n",
       "      <td>Albanie</td>\n",
       "      <td>2017</td>\n",
       "      <td>2884.169</td>\n",
       "      <td>2.884169</td>\n",
       "      <td>2884169.0</td>\n",
       "    </tr>\n",
       "    <tr>\n",
       "      <th>22</th>\n",
       "      <td>Algérie</td>\n",
       "      <td>2017</td>\n",
       "      <td>41389.189</td>\n",
       "      <td>41.389189</td>\n",
       "      <td>41389189.0</td>\n",
       "    </tr>\n",
       "    <tr>\n",
       "      <th>28</th>\n",
       "      <td>Allemagne</td>\n",
       "      <td>2017</td>\n",
       "      <td>82658.409</td>\n",
       "      <td>82.658409</td>\n",
       "      <td>82658409.0</td>\n",
       "    </tr>\n",
       "  </tbody>\n",
       "</table>\n",
       "</div>"
      ],
      "text/plain": [
       "              Zone  2017  Population (en milliers d'hab)  \\\n",
       "4      Afghanistan  2017                       36296.113   \n",
       "10  Afrique du Sud  2017                       57009.756   \n",
       "16         Albanie  2017                        2884.169   \n",
       "22         Algérie  2017                       41389.189   \n",
       "28       Allemagne  2017                       82658.409   \n",
       "\n",
       "    Population (en million d'hab)  Population totale  \n",
       "4                       36.296113         36296113.0  \n",
       "10                      57.009756         57009756.0  \n",
       "16                       2.884169          2884169.0  \n",
       "22                      41.389189         41389189.0  \n",
       "28                      82.658409         82658409.0  "
      ]
     },
     "execution_count": 87,
     "metadata": {},
     "output_type": "execute_result"
    }
   ],
   "source": [
    "pop2017.head()"
   ]
  },
  {
   "cell_type": "markdown",
   "id": "e5cd5822",
   "metadata": {},
   "source": [
    "- Creation new df (merged \"pop2017\" and \"foodAvailibilityKcal4\") :"
   ]
  },
  {
   "cell_type": "code",
   "execution_count": 88,
   "id": "a8a85ad1",
   "metadata": {},
   "outputs": [],
   "source": [
    "foodAvailibility_Total_Veg = pop2017.merge(foodAvailibilityKcal4, on=\"Zone\", how=\"inner\")"
   ]
  },
  {
   "cell_type": "code",
   "execution_count": 89,
   "id": "ed592e82",
   "metadata": {},
   "outputs": [
    {
     "data": {
      "text/html": [
       "<div>\n",
       "<style scoped>\n",
       "    .dataframe tbody tr th:only-of-type {\n",
       "        vertical-align: middle;\n",
       "    }\n",
       "\n",
       "    .dataframe tbody tr th {\n",
       "        vertical-align: top;\n",
       "    }\n",
       "\n",
       "    .dataframe thead th {\n",
       "        text-align: right;\n",
       "    }\n",
       "</style>\n",
       "<table border=\"1\" class=\"dataframe\">\n",
       "  <thead>\n",
       "    <tr style=\"text-align: right;\">\n",
       "      <th></th>\n",
       "      <th>Zone</th>\n",
       "      <th>2017</th>\n",
       "      <th>Population (en milliers d'hab)</th>\n",
       "      <th>Population (en million d'hab)</th>\n",
       "      <th>Population totale</th>\n",
       "      <th>Disponibilité alimentaire (Kcal/personne/jour)</th>\n",
       "    </tr>\n",
       "  </thead>\n",
       "  <tbody>\n",
       "    <tr>\n",
       "      <th>0</th>\n",
       "      <td>Afghanistan</td>\n",
       "      <td>2017</td>\n",
       "      <td>36296.113</td>\n",
       "      <td>36.296113</td>\n",
       "      <td>36296113.0</td>\n",
       "      <td>1871.0</td>\n",
       "    </tr>\n",
       "    <tr>\n",
       "      <th>1</th>\n",
       "      <td>Afrique du Sud</td>\n",
       "      <td>2017</td>\n",
       "      <td>57009.756</td>\n",
       "      <td>57.009756</td>\n",
       "      <td>57009756.0</td>\n",
       "      <td>2533.0</td>\n",
       "    </tr>\n",
       "    <tr>\n",
       "      <th>2</th>\n",
       "      <td>Albanie</td>\n",
       "      <td>2017</td>\n",
       "      <td>2884.169</td>\n",
       "      <td>2.884169</td>\n",
       "      <td>2884169.0</td>\n",
       "      <td>2203.0</td>\n",
       "    </tr>\n",
       "    <tr>\n",
       "      <th>3</th>\n",
       "      <td>Algérie</td>\n",
       "      <td>2017</td>\n",
       "      <td>41389.189</td>\n",
       "      <td>41.389189</td>\n",
       "      <td>41389189.0</td>\n",
       "      <td>2915.0</td>\n",
       "    </tr>\n",
       "    <tr>\n",
       "      <th>4</th>\n",
       "      <td>Allemagne</td>\n",
       "      <td>2017</td>\n",
       "      <td>82658.409</td>\n",
       "      <td>82.658409</td>\n",
       "      <td>82658409.0</td>\n",
       "      <td>2461.0</td>\n",
       "    </tr>\n",
       "    <tr>\n",
       "      <th>...</th>\n",
       "      <td>...</td>\n",
       "      <td>...</td>\n",
       "      <td>...</td>\n",
       "      <td>...</td>\n",
       "      <td>...</td>\n",
       "      <td>...</td>\n",
       "    </tr>\n",
       "    <tr>\n",
       "      <th>169</th>\n",
       "      <td>Venezuela (République bolivarienne du)</td>\n",
       "      <td>2017</td>\n",
       "      <td>29402.484</td>\n",
       "      <td>29.402484</td>\n",
       "      <td>29402484.0</td>\n",
       "      <td>2157.0</td>\n",
       "    </tr>\n",
       "    <tr>\n",
       "      <th>170</th>\n",
       "      <td>Viet Nam</td>\n",
       "      <td>2017</td>\n",
       "      <td>94600.648</td>\n",
       "      <td>94.600648</td>\n",
       "      <td>94600648.0</td>\n",
       "      <td>2169.0</td>\n",
       "    </tr>\n",
       "    <tr>\n",
       "      <th>171</th>\n",
       "      <td>Yémen</td>\n",
       "      <td>2017</td>\n",
       "      <td>27834.819</td>\n",
       "      <td>27.834819</td>\n",
       "      <td>27834819.0</td>\n",
       "      <td>2028.0</td>\n",
       "    </tr>\n",
       "    <tr>\n",
       "      <th>172</th>\n",
       "      <td>Zambie</td>\n",
       "      <td>2017</td>\n",
       "      <td>16853.599</td>\n",
       "      <td>16.853599</td>\n",
       "      <td>16853599.0</td>\n",
       "      <td>1818.0</td>\n",
       "    </tr>\n",
       "    <tr>\n",
       "      <th>173</th>\n",
       "      <td>Zimbabwe</td>\n",
       "      <td>2017</td>\n",
       "      <td>14236.595</td>\n",
       "      <td>14.236595</td>\n",
       "      <td>14236595.0</td>\n",
       "      <td>1935.0</td>\n",
       "    </tr>\n",
       "  </tbody>\n",
       "</table>\n",
       "<p>174 rows × 6 columns</p>\n",
       "</div>"
      ],
      "text/plain": [
       "                                       Zone  2017  \\\n",
       "0                               Afghanistan  2017   \n",
       "1                            Afrique du Sud  2017   \n",
       "2                                   Albanie  2017   \n",
       "3                                   Algérie  2017   \n",
       "4                                 Allemagne  2017   \n",
       "..                                      ...   ...   \n",
       "169  Venezuela (République bolivarienne du)  2017   \n",
       "170                                Viet Nam  2017   \n",
       "171                                   Yémen  2017   \n",
       "172                                  Zambie  2017   \n",
       "173                                Zimbabwe  2017   \n",
       "\n",
       "     Population (en milliers d'hab)  Population (en million d'hab)  \\\n",
       "0                         36296.113                      36.296113   \n",
       "1                         57009.756                      57.009756   \n",
       "2                          2884.169                       2.884169   \n",
       "3                         41389.189                      41.389189   \n",
       "4                         82658.409                      82.658409   \n",
       "..                              ...                            ...   \n",
       "169                       29402.484                      29.402484   \n",
       "170                       94600.648                      94.600648   \n",
       "171                       27834.819                      27.834819   \n",
       "172                       16853.599                      16.853599   \n",
       "173                       14236.595                      14.236595   \n",
       "\n",
       "     Population totale  Disponibilité alimentaire (Kcal/personne/jour)  \n",
       "0           36296113.0                                          1871.0  \n",
       "1           57009756.0                                          2533.0  \n",
       "2            2884169.0                                          2203.0  \n",
       "3           41389189.0                                          2915.0  \n",
       "4           82658409.0                                          2461.0  \n",
       "..                 ...                                             ...  \n",
       "169         29402484.0                                          2157.0  \n",
       "170         94600648.0                                          2169.0  \n",
       "171         27834819.0                                          2028.0  \n",
       "172         16853599.0                                          1818.0  \n",
       "173         14236595.0                                          1935.0  \n",
       "\n",
       "[174 rows x 6 columns]"
      ]
     },
     "execution_count": 89,
     "metadata": {},
     "output_type": "execute_result"
    }
   ],
   "source": [
    "foodAvailibility_Total_Veg"
   ]
  },
  {
   "cell_type": "markdown",
   "id": "2640122b",
   "metadata": {},
   "source": [
    "- Create new df foodAvailibility_Total_Veg (only on 3 columns) :"
   ]
  },
  {
   "cell_type": "code",
   "execution_count": 90,
   "id": "c1a3663d",
   "metadata": {},
   "outputs": [],
   "source": [
    "foodAvailibility_Total_Veg = foodAvailibility_Total_Veg.iloc[0:175, [0,4,5]]"
   ]
  },
  {
   "cell_type": "code",
   "execution_count": 91,
   "id": "c7e95627",
   "metadata": {},
   "outputs": [
    {
     "data": {
      "text/html": [
       "<div>\n",
       "<style scoped>\n",
       "    .dataframe tbody tr th:only-of-type {\n",
       "        vertical-align: middle;\n",
       "    }\n",
       "\n",
       "    .dataframe tbody tr th {\n",
       "        vertical-align: top;\n",
       "    }\n",
       "\n",
       "    .dataframe thead th {\n",
       "        text-align: right;\n",
       "    }\n",
       "</style>\n",
       "<table border=\"1\" class=\"dataframe\">\n",
       "  <thead>\n",
       "    <tr style=\"text-align: right;\">\n",
       "      <th></th>\n",
       "      <th>Zone</th>\n",
       "      <th>Population totale</th>\n",
       "      <th>Disponibilité alimentaire (Kcal/personne/jour)</th>\n",
       "    </tr>\n",
       "  </thead>\n",
       "  <tbody>\n",
       "    <tr>\n",
       "      <th>0</th>\n",
       "      <td>Afghanistan</td>\n",
       "      <td>36296113.0</td>\n",
       "      <td>1871.0</td>\n",
       "    </tr>\n",
       "    <tr>\n",
       "      <th>1</th>\n",
       "      <td>Afrique du Sud</td>\n",
       "      <td>57009756.0</td>\n",
       "      <td>2533.0</td>\n",
       "    </tr>\n",
       "    <tr>\n",
       "      <th>2</th>\n",
       "      <td>Albanie</td>\n",
       "      <td>2884169.0</td>\n",
       "      <td>2203.0</td>\n",
       "    </tr>\n",
       "    <tr>\n",
       "      <th>3</th>\n",
       "      <td>Algérie</td>\n",
       "      <td>41389189.0</td>\n",
       "      <td>2915.0</td>\n",
       "    </tr>\n",
       "    <tr>\n",
       "      <th>4</th>\n",
       "      <td>Allemagne</td>\n",
       "      <td>82658409.0</td>\n",
       "      <td>2461.0</td>\n",
       "    </tr>\n",
       "    <tr>\n",
       "      <th>...</th>\n",
       "      <td>...</td>\n",
       "      <td>...</td>\n",
       "      <td>...</td>\n",
       "    </tr>\n",
       "    <tr>\n",
       "      <th>169</th>\n",
       "      <td>Venezuela (République bolivarienne du)</td>\n",
       "      <td>29402484.0</td>\n",
       "      <td>2157.0</td>\n",
       "    </tr>\n",
       "    <tr>\n",
       "      <th>170</th>\n",
       "      <td>Viet Nam</td>\n",
       "      <td>94600648.0</td>\n",
       "      <td>2169.0</td>\n",
       "    </tr>\n",
       "    <tr>\n",
       "      <th>171</th>\n",
       "      <td>Yémen</td>\n",
       "      <td>27834819.0</td>\n",
       "      <td>2028.0</td>\n",
       "    </tr>\n",
       "    <tr>\n",
       "      <th>172</th>\n",
       "      <td>Zambie</td>\n",
       "      <td>16853599.0</td>\n",
       "      <td>1818.0</td>\n",
       "    </tr>\n",
       "    <tr>\n",
       "      <th>173</th>\n",
       "      <td>Zimbabwe</td>\n",
       "      <td>14236595.0</td>\n",
       "      <td>1935.0</td>\n",
       "    </tr>\n",
       "  </tbody>\n",
       "</table>\n",
       "<p>174 rows × 3 columns</p>\n",
       "</div>"
      ],
      "text/plain": [
       "                                       Zone  Population totale  \\\n",
       "0                               Afghanistan         36296113.0   \n",
       "1                            Afrique du Sud         57009756.0   \n",
       "2                                   Albanie          2884169.0   \n",
       "3                                   Algérie         41389189.0   \n",
       "4                                 Allemagne         82658409.0   \n",
       "..                                      ...                ...   \n",
       "169  Venezuela (République bolivarienne du)         29402484.0   \n",
       "170                                Viet Nam         94600648.0   \n",
       "171                                   Yémen         27834819.0   \n",
       "172                                  Zambie         16853599.0   \n",
       "173                                Zimbabwe         14236595.0   \n",
       "\n",
       "     Disponibilité alimentaire (Kcal/personne/jour)  \n",
       "0                                            1871.0  \n",
       "1                                            2533.0  \n",
       "2                                            2203.0  \n",
       "3                                            2915.0  \n",
       "4                                            2461.0  \n",
       "..                                              ...  \n",
       "169                                          2157.0  \n",
       "170                                          2169.0  \n",
       "171                                          2028.0  \n",
       "172                                          1818.0  \n",
       "173                                          1935.0  \n",
       "\n",
       "[174 rows x 3 columns]"
      ]
     },
     "execution_count": 91,
     "metadata": {},
     "output_type": "execute_result"
    }
   ],
   "source": [
    "foodAvailibility_Total_Veg"
   ]
  },
  {
   "cell_type": "markdown",
   "id": "d1c9bd33",
   "metadata": {},
   "source": [
    "- Final result :"
   ]
  },
  {
   "cell_type": "code",
   "execution_count": 92,
   "id": "bef580b1",
   "metadata": {},
   "outputs": [],
   "source": [
    "foodAvailibility_Total_Veg[\"Disponibilité alimentaire veg (Kcal/Pays/jour)\"] = foodAvailibility_Total_Veg[\"Population totale\"] * foodAvailibility_Total_Veg[\"Disponibilité alimentaire (Kcal/personne/jour)\"]"
   ]
  },
  {
   "cell_type": "code",
   "execution_count": 93,
   "id": "9c9eceaf",
   "metadata": {},
   "outputs": [
    {
     "data": {
      "text/html": [
       "<div>\n",
       "<style scoped>\n",
       "    .dataframe tbody tr th:only-of-type {\n",
       "        vertical-align: middle;\n",
       "    }\n",
       "\n",
       "    .dataframe tbody tr th {\n",
       "        vertical-align: top;\n",
       "    }\n",
       "\n",
       "    .dataframe thead th {\n",
       "        text-align: right;\n",
       "    }\n",
       "</style>\n",
       "<table border=\"1\" class=\"dataframe\">\n",
       "  <thead>\n",
       "    <tr style=\"text-align: right;\">\n",
       "      <th></th>\n",
       "      <th>Zone</th>\n",
       "      <th>Population totale</th>\n",
       "      <th>Disponibilité alimentaire (Kcal/personne/jour)</th>\n",
       "      <th>Disponibilité alimentaire veg (Kcal/Pays/jour)</th>\n",
       "    </tr>\n",
       "  </thead>\n",
       "  <tbody>\n",
       "    <tr>\n",
       "      <th>0</th>\n",
       "      <td>Afghanistan</td>\n",
       "      <td>36296113.0</td>\n",
       "      <td>1871.0</td>\n",
       "      <td>6.791003e+10</td>\n",
       "    </tr>\n",
       "    <tr>\n",
       "      <th>1</th>\n",
       "      <td>Afrique du Sud</td>\n",
       "      <td>57009756.0</td>\n",
       "      <td>2533.0</td>\n",
       "      <td>1.444057e+11</td>\n",
       "    </tr>\n",
       "    <tr>\n",
       "      <th>2</th>\n",
       "      <td>Albanie</td>\n",
       "      <td>2884169.0</td>\n",
       "      <td>2203.0</td>\n",
       "      <td>6.353824e+09</td>\n",
       "    </tr>\n",
       "    <tr>\n",
       "      <th>3</th>\n",
       "      <td>Algérie</td>\n",
       "      <td>41389189.0</td>\n",
       "      <td>2915.0</td>\n",
       "      <td>1.206495e+11</td>\n",
       "    </tr>\n",
       "    <tr>\n",
       "      <th>4</th>\n",
       "      <td>Allemagne</td>\n",
       "      <td>82658409.0</td>\n",
       "      <td>2461.0</td>\n",
       "      <td>2.034223e+11</td>\n",
       "    </tr>\n",
       "    <tr>\n",
       "      <th>...</th>\n",
       "      <td>...</td>\n",
       "      <td>...</td>\n",
       "      <td>...</td>\n",
       "      <td>...</td>\n",
       "    </tr>\n",
       "    <tr>\n",
       "      <th>169</th>\n",
       "      <td>Venezuela (République bolivarienne du)</td>\n",
       "      <td>29402484.0</td>\n",
       "      <td>2157.0</td>\n",
       "      <td>6.342116e+10</td>\n",
       "    </tr>\n",
       "    <tr>\n",
       "      <th>170</th>\n",
       "      <td>Viet Nam</td>\n",
       "      <td>94600648.0</td>\n",
       "      <td>2169.0</td>\n",
       "      <td>2.051888e+11</td>\n",
       "    </tr>\n",
       "    <tr>\n",
       "      <th>171</th>\n",
       "      <td>Yémen</td>\n",
       "      <td>27834819.0</td>\n",
       "      <td>2028.0</td>\n",
       "      <td>5.644901e+10</td>\n",
       "    </tr>\n",
       "    <tr>\n",
       "      <th>172</th>\n",
       "      <td>Zambie</td>\n",
       "      <td>16853599.0</td>\n",
       "      <td>1818.0</td>\n",
       "      <td>3.063984e+10</td>\n",
       "    </tr>\n",
       "    <tr>\n",
       "      <th>173</th>\n",
       "      <td>Zimbabwe</td>\n",
       "      <td>14236595.0</td>\n",
       "      <td>1935.0</td>\n",
       "      <td>2.754781e+10</td>\n",
       "    </tr>\n",
       "  </tbody>\n",
       "</table>\n",
       "<p>174 rows × 4 columns</p>\n",
       "</div>"
      ],
      "text/plain": [
       "                                       Zone  Population totale  \\\n",
       "0                               Afghanistan         36296113.0   \n",
       "1                            Afrique du Sud         57009756.0   \n",
       "2                                   Albanie          2884169.0   \n",
       "3                                   Algérie         41389189.0   \n",
       "4                                 Allemagne         82658409.0   \n",
       "..                                      ...                ...   \n",
       "169  Venezuela (République bolivarienne du)         29402484.0   \n",
       "170                                Viet Nam         94600648.0   \n",
       "171                                   Yémen         27834819.0   \n",
       "172                                  Zambie         16853599.0   \n",
       "173                                Zimbabwe         14236595.0   \n",
       "\n",
       "     Disponibilité alimentaire (Kcal/personne/jour)  \\\n",
       "0                                            1871.0   \n",
       "1                                            2533.0   \n",
       "2                                            2203.0   \n",
       "3                                            2915.0   \n",
       "4                                            2461.0   \n",
       "..                                              ...   \n",
       "169                                          2157.0   \n",
       "170                                          2169.0   \n",
       "171                                          2028.0   \n",
       "172                                          1818.0   \n",
       "173                                          1935.0   \n",
       "\n",
       "     Disponibilité alimentaire veg (Kcal/Pays/jour)  \n",
       "0                                      6.791003e+10  \n",
       "1                                      1.444057e+11  \n",
       "2                                      6.353824e+09  \n",
       "3                                      1.206495e+11  \n",
       "4                                      2.034223e+11  \n",
       "..                                              ...  \n",
       "169                                    6.342116e+10  \n",
       "170                                    2.051888e+11  \n",
       "171                                    5.644901e+10  \n",
       "172                                    3.063984e+10  \n",
       "173                                    2.754781e+10  \n",
       "\n",
       "[174 rows x 4 columns]"
      ]
     },
     "execution_count": 93,
     "metadata": {},
     "output_type": "execute_result"
    }
   ],
   "source": [
    "foodAvailibility_Total_Veg"
   ]
  },
  {
   "cell_type": "code",
   "execution_count": 94,
   "id": "f8a16807",
   "metadata": {},
   "outputs": [],
   "source": [
    "foodAvailibility_Total_Veg_Sum = foodAvailibility_Total_Veg[\"Disponibilité alimentaire veg (Kcal/Pays/jour)\"].sum()"
   ]
  },
  {
   "cell_type": "code",
   "execution_count": 95,
   "id": "aaecf3c2",
   "metadata": {},
   "outputs": [],
   "source": [
    "NbrThéorique_veg = foodAvailibility_Total_Veg[\"Disponibilité alimentaire veg (Kcal/Pays/jour)\"].sum() / 2500"
   ]
  },
  {
   "cell_type": "code",
   "execution_count": 96,
   "id": "97062412",
   "metadata": {},
   "outputs": [
    {
     "name": "stdout",
     "output_type": "stream",
     "text": [
      "Le nombre théorique de personnes pouvant être nourris uniquement à partir de produits végétaux chaque jour en 2017 est de 6979699600 d'individus.\n"
     ]
    }
   ],
   "source": [
    "print(\"Le nombre théorique de personnes pouvant être nourris uniquement à partir de produits végétaux chaque jour en 2017 est de\",round(NbrThéorique_veg),\"d'individus.\")"
   ]
  },
  {
   "cell_type": "markdown",
   "id": "9419bc42",
   "metadata": {},
   "source": [
    " "
   ]
  },
  {
   "cell_type": "markdown",
   "id": "8c14fc96",
   "metadata": {},
   "source": [
    "*4. Use of domestic availibility :*"
   ]
  },
  {
   "cell_type": "markdown",
   "id": "7ac526f8",
   "metadata": {},
   "source": [
    "    → Disponibilité intérieure = Aliments pour animaux + Nourriture + Pertes + Autres utilisations + Semences + Traitements"
   ]
  },
  {
   "cell_type": "code",
   "execution_count": 97,
   "id": "a4657967",
   "metadata": {},
   "outputs": [
    {
     "data": {
      "text/html": [
       "<div>\n",
       "<style scoped>\n",
       "    .dataframe tbody tr th:only-of-type {\n",
       "        vertical-align: middle;\n",
       "    }\n",
       "\n",
       "    .dataframe tbody tr th {\n",
       "        vertical-align: top;\n",
       "    }\n",
       "\n",
       "    .dataframe thead th {\n",
       "        text-align: right;\n",
       "    }\n",
       "</style>\n",
       "<table border=\"1\" class=\"dataframe\">\n",
       "  <thead>\n",
       "    <tr style=\"text-align: right;\">\n",
       "      <th></th>\n",
       "      <th>Zone</th>\n",
       "      <th>Produit</th>\n",
       "      <th>Origine</th>\n",
       "      <th>Aliments pour animaux</th>\n",
       "      <th>Autres Utilisations</th>\n",
       "      <th>Disponibilité alimentaire (Kcal/personne/jour)</th>\n",
       "      <th>Disponibilité alimentaire en quantité (kg/personne/an)</th>\n",
       "      <th>Disponibilité de matière grasse en quantité (g/personne/jour)</th>\n",
       "      <th>Disponibilité de protéines en quantité (g/personne/jour)</th>\n",
       "      <th>Disponibilité intérieure</th>\n",
       "      <th>Exportations - Quantité</th>\n",
       "      <th>Importations - Quantité</th>\n",
       "      <th>Nourriture</th>\n",
       "      <th>Pertes</th>\n",
       "      <th>Production</th>\n",
       "      <th>Semences</th>\n",
       "      <th>Traitement</th>\n",
       "      <th>Variation de stock</th>\n",
       "    </tr>\n",
       "  </thead>\n",
       "  <tbody>\n",
       "    <tr>\n",
       "      <th>0</th>\n",
       "      <td>Afghanistan</td>\n",
       "      <td>Abats Comestible</td>\n",
       "      <td>animale</td>\n",
       "      <td>0.0</td>\n",
       "      <td>0.0</td>\n",
       "      <td>5.0</td>\n",
       "      <td>1.72</td>\n",
       "      <td>0.20</td>\n",
       "      <td>0.77</td>\n",
       "      <td>53000000.0</td>\n",
       "      <td>0.0</td>\n",
       "      <td>0.0</td>\n",
       "      <td>53000000.0</td>\n",
       "      <td>0.0</td>\n",
       "      <td>53000000.0</td>\n",
       "      <td>0.0</td>\n",
       "      <td>0.0</td>\n",
       "      <td>0.0</td>\n",
       "    </tr>\n",
       "    <tr>\n",
       "      <th>1</th>\n",
       "      <td>Afghanistan</td>\n",
       "      <td>Agrumes, Autres</td>\n",
       "      <td>vegetale</td>\n",
       "      <td>0.0</td>\n",
       "      <td>0.0</td>\n",
       "      <td>1.0</td>\n",
       "      <td>1.29</td>\n",
       "      <td>0.01</td>\n",
       "      <td>0.02</td>\n",
       "      <td>41000000.0</td>\n",
       "      <td>2000000.0</td>\n",
       "      <td>40000000.0</td>\n",
       "      <td>39000000.0</td>\n",
       "      <td>2000000.0</td>\n",
       "      <td>3000000.0</td>\n",
       "      <td>0.0</td>\n",
       "      <td>0.0</td>\n",
       "      <td>0.0</td>\n",
       "    </tr>\n",
       "    <tr>\n",
       "      <th>2</th>\n",
       "      <td>Afghanistan</td>\n",
       "      <td>Aliments pour enfants</td>\n",
       "      <td>vegetale</td>\n",
       "      <td>0.0</td>\n",
       "      <td>0.0</td>\n",
       "      <td>1.0</td>\n",
       "      <td>0.06</td>\n",
       "      <td>0.01</td>\n",
       "      <td>0.03</td>\n",
       "      <td>2000000.0</td>\n",
       "      <td>0.0</td>\n",
       "      <td>2000000.0</td>\n",
       "      <td>2000000.0</td>\n",
       "      <td>0.0</td>\n",
       "      <td>0.0</td>\n",
       "      <td>0.0</td>\n",
       "      <td>0.0</td>\n",
       "      <td>0.0</td>\n",
       "    </tr>\n",
       "    <tr>\n",
       "      <th>3</th>\n",
       "      <td>Afghanistan</td>\n",
       "      <td>Ananas</td>\n",
       "      <td>vegetale</td>\n",
       "      <td>0.0</td>\n",
       "      <td>0.0</td>\n",
       "      <td>0.0</td>\n",
       "      <td>0.00</td>\n",
       "      <td>0.00</td>\n",
       "      <td>0.00</td>\n",
       "      <td>0.0</td>\n",
       "      <td>0.0</td>\n",
       "      <td>0.0</td>\n",
       "      <td>0.0</td>\n",
       "      <td>0.0</td>\n",
       "      <td>0.0</td>\n",
       "      <td>0.0</td>\n",
       "      <td>0.0</td>\n",
       "      <td>0.0</td>\n",
       "    </tr>\n",
       "    <tr>\n",
       "      <th>4</th>\n",
       "      <td>Afghanistan</td>\n",
       "      <td>Bananes</td>\n",
       "      <td>vegetale</td>\n",
       "      <td>0.0</td>\n",
       "      <td>0.0</td>\n",
       "      <td>4.0</td>\n",
       "      <td>2.70</td>\n",
       "      <td>0.02</td>\n",
       "      <td>0.05</td>\n",
       "      <td>82000000.0</td>\n",
       "      <td>0.0</td>\n",
       "      <td>82000000.0</td>\n",
       "      <td>82000000.0</td>\n",
       "      <td>0.0</td>\n",
       "      <td>0.0</td>\n",
       "      <td>0.0</td>\n",
       "      <td>0.0</td>\n",
       "      <td>0.0</td>\n",
       "    </tr>\n",
       "    <tr>\n",
       "      <th>...</th>\n",
       "      <td>...</td>\n",
       "      <td>...</td>\n",
       "      <td>...</td>\n",
       "      <td>...</td>\n",
       "      <td>...</td>\n",
       "      <td>...</td>\n",
       "      <td>...</td>\n",
       "      <td>...</td>\n",
       "      <td>...</td>\n",
       "      <td>...</td>\n",
       "      <td>...</td>\n",
       "      <td>...</td>\n",
       "      <td>...</td>\n",
       "      <td>...</td>\n",
       "      <td>...</td>\n",
       "      <td>...</td>\n",
       "      <td>...</td>\n",
       "      <td>...</td>\n",
       "    </tr>\n",
       "    <tr>\n",
       "      <th>15600</th>\n",
       "      <td>Îles Salomon</td>\n",
       "      <td>Viande de Suides</td>\n",
       "      <td>animale</td>\n",
       "      <td>0.0</td>\n",
       "      <td>0.0</td>\n",
       "      <td>45.0</td>\n",
       "      <td>4.70</td>\n",
       "      <td>4.28</td>\n",
       "      <td>1.41</td>\n",
       "      <td>3000000.0</td>\n",
       "      <td>0.0</td>\n",
       "      <td>0.0</td>\n",
       "      <td>3000000.0</td>\n",
       "      <td>0.0</td>\n",
       "      <td>2000000.0</td>\n",
       "      <td>0.0</td>\n",
       "      <td>0.0</td>\n",
       "      <td>0.0</td>\n",
       "    </tr>\n",
       "    <tr>\n",
       "      <th>15601</th>\n",
       "      <td>Îles Salomon</td>\n",
       "      <td>Viande de Volailles</td>\n",
       "      <td>animale</td>\n",
       "      <td>0.0</td>\n",
       "      <td>0.0</td>\n",
       "      <td>11.0</td>\n",
       "      <td>3.34</td>\n",
       "      <td>0.69</td>\n",
       "      <td>1.14</td>\n",
       "      <td>2000000.0</td>\n",
       "      <td>0.0</td>\n",
       "      <td>2000000.0</td>\n",
       "      <td>2000000.0</td>\n",
       "      <td>0.0</td>\n",
       "      <td>0.0</td>\n",
       "      <td>0.0</td>\n",
       "      <td>0.0</td>\n",
       "      <td>0.0</td>\n",
       "    </tr>\n",
       "    <tr>\n",
       "      <th>15602</th>\n",
       "      <td>Îles Salomon</td>\n",
       "      <td>Viande, Autre</td>\n",
       "      <td>animale</td>\n",
       "      <td>0.0</td>\n",
       "      <td>0.0</td>\n",
       "      <td>0.0</td>\n",
       "      <td>0.06</td>\n",
       "      <td>0.00</td>\n",
       "      <td>0.04</td>\n",
       "      <td>0.0</td>\n",
       "      <td>0.0</td>\n",
       "      <td>0.0</td>\n",
       "      <td>0.0</td>\n",
       "      <td>0.0</td>\n",
       "      <td>0.0</td>\n",
       "      <td>0.0</td>\n",
       "      <td>0.0</td>\n",
       "      <td>0.0</td>\n",
       "    </tr>\n",
       "    <tr>\n",
       "      <th>15603</th>\n",
       "      <td>Îles Salomon</td>\n",
       "      <td>Vin</td>\n",
       "      <td>vegetale</td>\n",
       "      <td>0.0</td>\n",
       "      <td>0.0</td>\n",
       "      <td>0.0</td>\n",
       "      <td>0.07</td>\n",
       "      <td>0.00</td>\n",
       "      <td>0.00</td>\n",
       "      <td>0.0</td>\n",
       "      <td>0.0</td>\n",
       "      <td>0.0</td>\n",
       "      <td>0.0</td>\n",
       "      <td>0.0</td>\n",
       "      <td>0.0</td>\n",
       "      <td>0.0</td>\n",
       "      <td>0.0</td>\n",
       "      <td>0.0</td>\n",
       "    </tr>\n",
       "    <tr>\n",
       "      <th>15604</th>\n",
       "      <td>Îles Salomon</td>\n",
       "      <td>Épices, Autres</td>\n",
       "      <td>vegetale</td>\n",
       "      <td>0.0</td>\n",
       "      <td>0.0</td>\n",
       "      <td>4.0</td>\n",
       "      <td>0.48</td>\n",
       "      <td>0.21</td>\n",
       "      <td>0.15</td>\n",
       "      <td>0.0</td>\n",
       "      <td>0.0</td>\n",
       "      <td>0.0</td>\n",
       "      <td>0.0</td>\n",
       "      <td>0.0</td>\n",
       "      <td>0.0</td>\n",
       "      <td>0.0</td>\n",
       "      <td>0.0</td>\n",
       "      <td>0.0</td>\n",
       "    </tr>\n",
       "  </tbody>\n",
       "</table>\n",
       "<p>15605 rows × 18 columns</p>\n",
       "</div>"
      ],
      "text/plain": [
       "               Zone                Produit   Origine  Aliments pour animaux  \\\n",
       "0       Afghanistan       Abats Comestible   animale                    0.0   \n",
       "1       Afghanistan        Agrumes, Autres  vegetale                    0.0   \n",
       "2       Afghanistan  Aliments pour enfants  vegetale                    0.0   \n",
       "3       Afghanistan                 Ananas  vegetale                    0.0   \n",
       "4       Afghanistan                Bananes  vegetale                    0.0   \n",
       "...             ...                    ...       ...                    ...   \n",
       "15600  Îles Salomon       Viande de Suides   animale                    0.0   \n",
       "15601  Îles Salomon    Viande de Volailles   animale                    0.0   \n",
       "15602  Îles Salomon          Viande, Autre   animale                    0.0   \n",
       "15603  Îles Salomon                    Vin  vegetale                    0.0   \n",
       "15604  Îles Salomon         Épices, Autres  vegetale                    0.0   \n",
       "\n",
       "       Autres Utilisations  Disponibilité alimentaire (Kcal/personne/jour)  \\\n",
       "0                      0.0                                             5.0   \n",
       "1                      0.0                                             1.0   \n",
       "2                      0.0                                             1.0   \n",
       "3                      0.0                                             0.0   \n",
       "4                      0.0                                             4.0   \n",
       "...                    ...                                             ...   \n",
       "15600                  0.0                                            45.0   \n",
       "15601                  0.0                                            11.0   \n",
       "15602                  0.0                                             0.0   \n",
       "15603                  0.0                                             0.0   \n",
       "15604                  0.0                                             4.0   \n",
       "\n",
       "       Disponibilité alimentaire en quantité (kg/personne/an)  \\\n",
       "0                                                   1.72        \n",
       "1                                                   1.29        \n",
       "2                                                   0.06        \n",
       "3                                                   0.00        \n",
       "4                                                   2.70        \n",
       "...                                                  ...        \n",
       "15600                                               4.70        \n",
       "15601                                               3.34        \n",
       "15602                                               0.06        \n",
       "15603                                               0.07        \n",
       "15604                                               0.48        \n",
       "\n",
       "       Disponibilité de matière grasse en quantité (g/personne/jour)  \\\n",
       "0                                                   0.20               \n",
       "1                                                   0.01               \n",
       "2                                                   0.01               \n",
       "3                                                   0.00               \n",
       "4                                                   0.02               \n",
       "...                                                  ...               \n",
       "15600                                               4.28               \n",
       "15601                                               0.69               \n",
       "15602                                               0.00               \n",
       "15603                                               0.00               \n",
       "15604                                               0.21               \n",
       "\n",
       "       Disponibilité de protéines en quantité (g/personne/jour)  \\\n",
       "0                                                   0.77          \n",
       "1                                                   0.02          \n",
       "2                                                   0.03          \n",
       "3                                                   0.00          \n",
       "4                                                   0.05          \n",
       "...                                                  ...          \n",
       "15600                                               1.41          \n",
       "15601                                               1.14          \n",
       "15602                                               0.04          \n",
       "15603                                               0.00          \n",
       "15604                                               0.15          \n",
       "\n",
       "       Disponibilité intérieure  Exportations - Quantité  \\\n",
       "0                    53000000.0                      0.0   \n",
       "1                    41000000.0                2000000.0   \n",
       "2                     2000000.0                      0.0   \n",
       "3                           0.0                      0.0   \n",
       "4                    82000000.0                      0.0   \n",
       "...                         ...                      ...   \n",
       "15600                 3000000.0                      0.0   \n",
       "15601                 2000000.0                      0.0   \n",
       "15602                       0.0                      0.0   \n",
       "15603                       0.0                      0.0   \n",
       "15604                       0.0                      0.0   \n",
       "\n",
       "       Importations - Quantité  Nourriture     Pertes  Production  Semences  \\\n",
       "0                          0.0  53000000.0        0.0  53000000.0       0.0   \n",
       "1                   40000000.0  39000000.0  2000000.0   3000000.0       0.0   \n",
       "2                    2000000.0   2000000.0        0.0         0.0       0.0   \n",
       "3                          0.0         0.0        0.0         0.0       0.0   \n",
       "4                   82000000.0  82000000.0        0.0         0.0       0.0   \n",
       "...                        ...         ...        ...         ...       ...   \n",
       "15600                      0.0   3000000.0        0.0   2000000.0       0.0   \n",
       "15601                2000000.0   2000000.0        0.0         0.0       0.0   \n",
       "15602                      0.0         0.0        0.0         0.0       0.0   \n",
       "15603                      0.0         0.0        0.0         0.0       0.0   \n",
       "15604                      0.0         0.0        0.0         0.0       0.0   \n",
       "\n",
       "       Traitement  Variation de stock  \n",
       "0             0.0                 0.0  \n",
       "1             0.0                 0.0  \n",
       "2             0.0                 0.0  \n",
       "3             0.0                 0.0  \n",
       "4             0.0                 0.0  \n",
       "...           ...                 ...  \n",
       "15600         0.0                 0.0  \n",
       "15601         0.0                 0.0  \n",
       "15602         0.0                 0.0  \n",
       "15603         0.0                 0.0  \n",
       "15604         0.0                 0.0  \n",
       "\n",
       "[15605 rows x 18 columns]"
      ]
     },
     "execution_count": 97,
     "metadata": {},
     "output_type": "execute_result"
    }
   ],
   "source": [
    "foodAvailability"
   ]
  },
  {
   "cell_type": "markdown",
   "id": "a6b977b0",
   "metadata": {},
   "source": [
    "- \"Aliments pour animaux\" on \"Disponibilité intérieure\" (%) :"
   ]
  },
  {
   "cell_type": "code",
   "execution_count": 98,
   "id": "b16be3ed",
   "metadata": {},
   "outputs": [],
   "source": [
    "Calc_part_animaux = (foodAvailability[\"Aliments pour animaux\"].sum() / foodAvailability[\"Disponibilité intérieure\"].sum()) * 100"
   ]
  },
  {
   "cell_type": "code",
   "execution_count": 99,
   "id": "77671633",
   "metadata": {},
   "outputs": [
    {
     "name": "stdout",
     "output_type": "stream",
     "text": [
      "La part des aliments pour animaux dans la disponilité intérieure mondiale en 2017 est de 13.24 %\n"
     ]
    }
   ],
   "source": [
    "print(\"La part des aliments pour animaux dans la disponilité intérieure mondiale en 2017 est de\", round(Calc_part_animaux, 2), \"%\")"
   ]
  },
  {
   "cell_type": "markdown",
   "id": "6abb7c76",
   "metadata": {},
   "source": [
    "- \"Pertes\" on \"Disponibilité intérieure\" (%) :"
   ]
  },
  {
   "cell_type": "code",
   "execution_count": 100,
   "id": "27a7eb64",
   "metadata": {},
   "outputs": [],
   "source": [
    "Calc_part_pertes = (foodAvailability[\"Pertes\"].sum() / foodAvailability[\"Disponibilité intérieure\"].sum()) * 100"
   ]
  },
  {
   "cell_type": "code",
   "execution_count": 101,
   "id": "92659427",
   "metadata": {},
   "outputs": [
    {
     "name": "stdout",
     "output_type": "stream",
     "text": [
      "La part des aliments perdue dans la disponilité intérieure mondiale en 2017 est de 4.61 %\n"
     ]
    }
   ],
   "source": [
    "print(\"La part des aliments perdue dans la disponilité intérieure mondiale en 2017 est de\", round(Calc_part_pertes, 2), \"%\")"
   ]
  },
  {
   "cell_type": "markdown",
   "id": "8f9c39dc",
   "metadata": {},
   "source": [
    "- \"Nourriture\" on \"Disponibilité intérieure\" (%) :"
   ]
  },
  {
   "cell_type": "code",
   "execution_count": 102,
   "id": "60ab853f",
   "metadata": {},
   "outputs": [],
   "source": [
    "Calc_part_nourriture = (foodAvailability[\"Nourriture\"].sum() / foodAvailability[\"Disponibilité intérieure\"].sum()) * 100"
   ]
  },
  {
   "cell_type": "code",
   "execution_count": 103,
   "id": "79afe340",
   "metadata": {},
   "outputs": [
    {
     "name": "stdout",
     "output_type": "stream",
     "text": [
      "La part des aliments destinée à l'alimentation humaine dans la disponilité intérieure mondiale en 2017 est de 49.51 %\n"
     ]
    }
   ],
   "source": [
    "print(\"La part des aliments destinée à l'alimentation humaine dans la disponilité intérieure mondiale en 2017 est de\", round(Calc_part_nourriture, 2), \"%\")"
   ]
  },
  {
   "cell_type": "markdown",
   "id": "8d9fbe2d",
   "metadata": {},
   "source": [
    "- \"Semences\" on \"Disponibilité intérieure\" (%) :"
   ]
  },
  {
   "cell_type": "code",
   "execution_count": 104,
   "id": "2e165794",
   "metadata": {},
   "outputs": [],
   "source": [
    "Calc_part_semences = (foodAvailability[\"Semences\"].sum() / foodAvailability[\"Disponibilité intérieure\"].sum()) * 100"
   ]
  },
  {
   "cell_type": "code",
   "execution_count": 105,
   "id": "e755f93d",
   "metadata": {},
   "outputs": [
    {
     "name": "stdout",
     "output_type": "stream",
     "text": [
      "La part des aliments destinée aux semences agricoles dans la disponilité intérieure mondiale en 2017 est de 1.57 %\n"
     ]
    }
   ],
   "source": [
    "print(\"La part des aliments destinée aux semences agricoles dans la disponilité intérieure mondiale en 2017 est de\", round(Calc_part_semences, 2), \"%\")"
   ]
  },
  {
   "cell_type": "markdown",
   "id": "c597af99",
   "metadata": {},
   "source": [
    "- \"Autres Utilisations\" on \"Disponibilité intérieure\" (%) :"
   ]
  },
  {
   "cell_type": "code",
   "execution_count": 106,
   "id": "e4c450e1",
   "metadata": {},
   "outputs": [],
   "source": [
    "Calc_part_autres = (foodAvailability[\"Autres Utilisations\"].sum() / foodAvailability[\"Disponibilité intérieure\"].sum()) * 100"
   ]
  },
  {
   "cell_type": "code",
   "execution_count": 107,
   "id": "1cb1a97b",
   "metadata": {},
   "outputs": [
    {
     "name": "stdout",
     "output_type": "stream",
     "text": [
      "La part des aliments destinée à d'autres usages dans la disponilité intérieure mondiale en 2017 est de 8.78 %\n"
     ]
    }
   ],
   "source": [
    "print(\"La part des aliments destinée à d'autres usages dans la disponilité intérieure mondiale en 2017 est de\", round(Calc_part_autres, 2), \"%\")"
   ]
  },
  {
   "cell_type": "markdown",
   "id": "09240f9b",
   "metadata": {},
   "source": [
    "- \"Traitement\" on \"Disponibilité intérieure\" (%) :"
   ]
  },
  {
   "cell_type": "code",
   "execution_count": 108,
   "id": "03c2c6f4",
   "metadata": {},
   "outputs": [],
   "source": [
    "Calc_part_traitement = (foodAvailability[\"Traitement\"].sum() / foodAvailability[\"Disponibilité intérieure\"].sum()) * 100"
   ]
  },
  {
   "cell_type": "code",
   "execution_count": 109,
   "id": "4f12c077",
   "metadata": {},
   "outputs": [
    {
     "name": "stdout",
     "output_type": "stream",
     "text": [
      "La part des aliments destinée aux traitements industriels dans la disponilité intérieure mondiale en 2017 est de 22.38 %\n"
     ]
    }
   ],
   "source": [
    "print(\"La part des aliments destinée aux traitements industriels dans la disponilité intérieure mondiale en 2017 est de\", round(Calc_part_traitement, 2), \"%\")"
   ]
  },
  {
   "cell_type": "markdown",
   "id": "bbc857d2",
   "metadata": {},
   "source": [
    "- \"Disponibilité intérieure\" (domestic availibility) repartition (%) :"
   ]
  },
  {
   "cell_type": "code",
   "execution_count": 110,
   "id": "c2fcb5b2",
   "metadata": {},
   "outputs": [],
   "source": [
    "import matplotlib.pyplot as plt"
   ]
  },
  {
   "cell_type": "code",
   "execution_count": 111,
   "id": "2bd6cd82",
   "metadata": {},
   "outputs": [],
   "source": [
    "labels = 'Aliments pour animaux', 'Pertes', 'Nourriture', 'Semences', 'Autres Utilisations', 'Traitement'\n",
    "colors = ['yellowgreen', 'gold', 'lightskyblue', 'lightcoral', 'red', 'yellow']"
   ]
  },
  {
   "cell_type": "code",
   "execution_count": 112,
   "id": "3c80f515",
   "metadata": {},
   "outputs": [],
   "source": [
    "sizes = [round(Calc_part_animaux, 2), round(Calc_part_pertes, 2), round(Calc_part_nourriture, 2), round(Calc_part_semences, 2), round(Calc_part_autres, 2), round(Calc_part_traitement, 2)]"
   ]
  },
  {
   "cell_type": "code",
   "execution_count": 113,
   "id": "af5e3b80",
   "metadata": {},
   "outputs": [
    {
     "data": {
      "image/png": "[encoded data removed]",
      "text/plain": [
       "<Figure size 432x288 with 1 Axes>"
      ]
     },
     "metadata": {},
     "output_type": "display_data"
    }
   ],
   "source": [
    "plt.pie = plt.pie(sizes, labels=labels, colors=colors, \n",
    "        autopct='%1.1f%%', shadow=True, startangle=90)"
   ]
  },
  {
   "cell_type": "markdown",
   "id": "35f7dac3",
   "metadata": {},
   "source": [
    " "
   ]
  },
  {
   "cell_type": "markdown",
   "id": "26257299",
   "metadata": {},
   "source": [
    "*5. Use of domestic grain availability :*"
   ]
  },
  {
   "attachments": {},
   "cell_type": "markdown",
   "id": "86e1adea",
   "metadata": {},
   "source": [
    "    → Grain list : Blé, Riz (Eq Blanchi), Orge, Maïs, Seigle, Avoine, Millet, Sorgho, Céréales, Autres"
   ]
  },
  {
   "cell_type": "code",
   "execution_count": 114,
   "id": "c99ce40e",
   "metadata": {},
   "outputs": [],
   "source": [
    "foodAvailabilityGrain = foodAvailability.loc[foodAvailability[\"Produit\"].isin(\n",
    "    [\"Blé\", \n",
    "     \"Riz (Eq Blanchi)\", \n",
    "     \"Orge\", \n",
    "     \"Maïs\", \n",
    "     \"Seigle\", \n",
    "     \"Avoine\", \n",
    "     \"Millet\", \n",
    "     \"Sorgho\", \n",
    "     \"Céréales, Autres\"])].copy()"
   ]
  },
  {
   "cell_type": "code",
   "execution_count": 115,
   "id": "f07b5409",
   "metadata": {},
   "outputs": [
    {
     "data": {
      "text/html": [
       "<div>\n",
       "<style scoped>\n",
       "    .dataframe tbody tr th:only-of-type {\n",
       "        vertical-align: middle;\n",
       "    }\n",
       "\n",
       "    .dataframe tbody tr th {\n",
       "        vertical-align: top;\n",
       "    }\n",
       "\n",
       "    .dataframe thead th {\n",
       "        text-align: right;\n",
       "    }\n",
       "</style>\n",
       "<table border=\"1\" class=\"dataframe\">\n",
       "  <thead>\n",
       "    <tr style=\"text-align: right;\">\n",
       "      <th></th>\n",
       "      <th>Zone</th>\n",
       "      <th>Produit</th>\n",
       "      <th>Origine</th>\n",
       "      <th>Aliments pour animaux</th>\n",
       "      <th>Autres Utilisations</th>\n",
       "      <th>Disponibilité alimentaire (Kcal/personne/jour)</th>\n",
       "      <th>Disponibilité alimentaire en quantité (kg/personne/an)</th>\n",
       "      <th>Disponibilité de matière grasse en quantité (g/personne/jour)</th>\n",
       "      <th>Disponibilité de protéines en quantité (g/personne/jour)</th>\n",
       "      <th>Disponibilité intérieure</th>\n",
       "      <th>Exportations - Quantité</th>\n",
       "      <th>Importations - Quantité</th>\n",
       "      <th>Nourriture</th>\n",
       "      <th>Pertes</th>\n",
       "      <th>Production</th>\n",
       "      <th>Semences</th>\n",
       "      <th>Traitement</th>\n",
       "      <th>Variation de stock</th>\n",
       "    </tr>\n",
       "  </thead>\n",
       "  <tbody>\n",
       "    <tr>\n",
       "      <th>7</th>\n",
       "      <td>Afghanistan</td>\n",
       "      <td>Blé</td>\n",
       "      <td>vegetale</td>\n",
       "      <td>0.0</td>\n",
       "      <td>0.0</td>\n",
       "      <td>1369.0</td>\n",
       "      <td>160.23</td>\n",
       "      <td>4.69</td>\n",
       "      <td>36.91</td>\n",
       "      <td>5.992000e+09</td>\n",
       "      <td>0.0</td>\n",
       "      <td>1.173000e+09</td>\n",
       "      <td>4.895000e+09</td>\n",
       "      <td>775000000.0</td>\n",
       "      <td>5.169000e+09</td>\n",
       "      <td>322000000.0</td>\n",
       "      <td>0.0</td>\n",
       "      <td>-350000000.0</td>\n",
       "    </tr>\n",
       "    <tr>\n",
       "      <th>12</th>\n",
       "      <td>Afghanistan</td>\n",
       "      <td>Céréales, Autres</td>\n",
       "      <td>vegetale</td>\n",
       "      <td>0.0</td>\n",
       "      <td>0.0</td>\n",
       "      <td>0.0</td>\n",
       "      <td>0.00</td>\n",
       "      <td>0.00</td>\n",
       "      <td>0.00</td>\n",
       "      <td>0.000000e+00</td>\n",
       "      <td>0.0</td>\n",
       "      <td>0.000000e+00</td>\n",
       "      <td>0.000000e+00</td>\n",
       "      <td>0.0</td>\n",
       "      <td>0.000000e+00</td>\n",
       "      <td>0.0</td>\n",
       "      <td>0.0</td>\n",
       "      <td>0.0</td>\n",
       "    </tr>\n",
       "    <tr>\n",
       "      <th>32</th>\n",
       "      <td>Afghanistan</td>\n",
       "      <td>Maïs</td>\n",
       "      <td>vegetale</td>\n",
       "      <td>200000000.0</td>\n",
       "      <td>0.0</td>\n",
       "      <td>21.0</td>\n",
       "      <td>2.50</td>\n",
       "      <td>0.30</td>\n",
       "      <td>0.56</td>\n",
       "      <td>3.130000e+08</td>\n",
       "      <td>0.0</td>\n",
       "      <td>1.000000e+06</td>\n",
       "      <td>7.600000e+07</td>\n",
       "      <td>31000000.0</td>\n",
       "      <td>3.120000e+08</td>\n",
       "      <td>5000000.0</td>\n",
       "      <td>0.0</td>\n",
       "      <td>0.0</td>\n",
       "    </tr>\n",
       "    <tr>\n",
       "      <th>34</th>\n",
       "      <td>Afghanistan</td>\n",
       "      <td>Millet</td>\n",
       "      <td>vegetale</td>\n",
       "      <td>0.0</td>\n",
       "      <td>0.0</td>\n",
       "      <td>3.0</td>\n",
       "      <td>0.40</td>\n",
       "      <td>0.02</td>\n",
       "      <td>0.08</td>\n",
       "      <td>1.300000e+07</td>\n",
       "      <td>0.0</td>\n",
       "      <td>0.000000e+00</td>\n",
       "      <td>1.200000e+07</td>\n",
       "      <td>1000000.0</td>\n",
       "      <td>1.300000e+07</td>\n",
       "      <td>0.0</td>\n",
       "      <td>0.0</td>\n",
       "      <td>0.0</td>\n",
       "    </tr>\n",
       "    <tr>\n",
       "      <th>40</th>\n",
       "      <td>Afghanistan</td>\n",
       "      <td>Orge</td>\n",
       "      <td>vegetale</td>\n",
       "      <td>360000000.0</td>\n",
       "      <td>0.0</td>\n",
       "      <td>26.0</td>\n",
       "      <td>2.92</td>\n",
       "      <td>0.24</td>\n",
       "      <td>0.79</td>\n",
       "      <td>5.240000e+08</td>\n",
       "      <td>0.0</td>\n",
       "      <td>1.000000e+07</td>\n",
       "      <td>8.900000e+07</td>\n",
       "      <td>52000000.0</td>\n",
       "      <td>5.140000e+08</td>\n",
       "      <td>22000000.0</td>\n",
       "      <td>0.0</td>\n",
       "      <td>0.0</td>\n",
       "    </tr>\n",
       "    <tr>\n",
       "      <th>...</th>\n",
       "      <td>...</td>\n",
       "      <td>...</td>\n",
       "      <td>...</td>\n",
       "      <td>...</td>\n",
       "      <td>...</td>\n",
       "      <td>...</td>\n",
       "      <td>...</td>\n",
       "      <td>...</td>\n",
       "      <td>...</td>\n",
       "      <td>...</td>\n",
       "      <td>...</td>\n",
       "      <td>...</td>\n",
       "      <td>...</td>\n",
       "      <td>...</td>\n",
       "      <td>...</td>\n",
       "      <td>...</td>\n",
       "      <td>...</td>\n",
       "      <td>...</td>\n",
       "    </tr>\n",
       "    <tr>\n",
       "      <th>15545</th>\n",
       "      <td>Îles Salomon</td>\n",
       "      <td>Céréales, Autres</td>\n",
       "      <td>vegetale</td>\n",
       "      <td>0.0</td>\n",
       "      <td>0.0</td>\n",
       "      <td>0.0</td>\n",
       "      <td>0.00</td>\n",
       "      <td>0.00</td>\n",
       "      <td>0.00</td>\n",
       "      <td>0.000000e+00</td>\n",
       "      <td>0.0</td>\n",
       "      <td>0.000000e+00</td>\n",
       "      <td>0.000000e+00</td>\n",
       "      <td>0.0</td>\n",
       "      <td>0.000000e+00</td>\n",
       "      <td>0.0</td>\n",
       "      <td>0.0</td>\n",
       "      <td>0.0</td>\n",
       "    </tr>\n",
       "    <tr>\n",
       "      <th>15568</th>\n",
       "      <td>Îles Salomon</td>\n",
       "      <td>Maïs</td>\n",
       "      <td>vegetale</td>\n",
       "      <td>0.0</td>\n",
       "      <td>0.0</td>\n",
       "      <td>1.0</td>\n",
       "      <td>0.15</td>\n",
       "      <td>0.01</td>\n",
       "      <td>0.03</td>\n",
       "      <td>0.000000e+00</td>\n",
       "      <td>0.0</td>\n",
       "      <td>0.000000e+00</td>\n",
       "      <td>0.000000e+00</td>\n",
       "      <td>0.0</td>\n",
       "      <td>0.000000e+00</td>\n",
       "      <td>0.0</td>\n",
       "      <td>0.0</td>\n",
       "      <td>0.0</td>\n",
       "    </tr>\n",
       "    <tr>\n",
       "      <th>15575</th>\n",
       "      <td>Îles Salomon</td>\n",
       "      <td>Orge</td>\n",
       "      <td>vegetale</td>\n",
       "      <td>0.0</td>\n",
       "      <td>0.0</td>\n",
       "      <td>0.0</td>\n",
       "      <td>0.07</td>\n",
       "      <td>0.00</td>\n",
       "      <td>0.01</td>\n",
       "      <td>1.000000e+06</td>\n",
       "      <td>0.0</td>\n",
       "      <td>1.000000e+06</td>\n",
       "      <td>0.000000e+00</td>\n",
       "      <td>0.0</td>\n",
       "      <td>0.000000e+00</td>\n",
       "      <td>0.0</td>\n",
       "      <td>1000000.0</td>\n",
       "      <td>0.0</td>\n",
       "    </tr>\n",
       "    <tr>\n",
       "      <th>15591</th>\n",
       "      <td>Îles Salomon</td>\n",
       "      <td>Riz (Eq Blanchi)</td>\n",
       "      <td>vegetale</td>\n",
       "      <td>0.0</td>\n",
       "      <td>12000000.0</td>\n",
       "      <td>623.0</td>\n",
       "      <td>63.76</td>\n",
       "      <td>1.36</td>\n",
       "      <td>10.90</td>\n",
       "      <td>4.900000e+07</td>\n",
       "      <td>0.0</td>\n",
       "      <td>4.700000e+07</td>\n",
       "      <td>3.600000e+07</td>\n",
       "      <td>1000000.0</td>\n",
       "      <td>3.000000e+06</td>\n",
       "      <td>0.0</td>\n",
       "      <td>0.0</td>\n",
       "      <td>0.0</td>\n",
       "    </tr>\n",
       "    <tr>\n",
       "      <th>15593</th>\n",
       "      <td>Îles Salomon</td>\n",
       "      <td>Sorgho</td>\n",
       "      <td>vegetale</td>\n",
       "      <td>0.0</td>\n",
       "      <td>0.0</td>\n",
       "      <td>0.0</td>\n",
       "      <td>0.00</td>\n",
       "      <td>0.00</td>\n",
       "      <td>0.00</td>\n",
       "      <td>0.000000e+00</td>\n",
       "      <td>0.0</td>\n",
       "      <td>0.000000e+00</td>\n",
       "      <td>0.000000e+00</td>\n",
       "      <td>0.0</td>\n",
       "      <td>0.000000e+00</td>\n",
       "      <td>0.0</td>\n",
       "      <td>0.0</td>\n",
       "      <td>0.0</td>\n",
       "    </tr>\n",
       "  </tbody>\n",
       "</table>\n",
       "<p>1497 rows × 18 columns</p>\n",
       "</div>"
      ],
      "text/plain": [
       "               Zone           Produit   Origine  Aliments pour animaux  \\\n",
       "7       Afghanistan               Blé  vegetale                    0.0   \n",
       "12      Afghanistan  Céréales, Autres  vegetale                    0.0   \n",
       "32      Afghanistan              Maïs  vegetale            200000000.0   \n",
       "34      Afghanistan            Millet  vegetale                    0.0   \n",
       "40      Afghanistan              Orge  vegetale            360000000.0   \n",
       "...             ...               ...       ...                    ...   \n",
       "15545  Îles Salomon  Céréales, Autres  vegetale                    0.0   \n",
       "15568  Îles Salomon              Maïs  vegetale                    0.0   \n",
       "15575  Îles Salomon              Orge  vegetale                    0.0   \n",
       "15591  Îles Salomon  Riz (Eq Blanchi)  vegetale                    0.0   \n",
       "15593  Îles Salomon            Sorgho  vegetale                    0.0   \n",
       "\n",
       "       Autres Utilisations  Disponibilité alimentaire (Kcal/personne/jour)  \\\n",
       "7                      0.0                                          1369.0   \n",
       "12                     0.0                                             0.0   \n",
       "32                     0.0                                            21.0   \n",
       "34                     0.0                                             3.0   \n",
       "40                     0.0                                            26.0   \n",
       "...                    ...                                             ...   \n",
       "15545                  0.0                                             0.0   \n",
       "15568                  0.0                                             1.0   \n",
       "15575                  0.0                                             0.0   \n",
       "15591           12000000.0                                           623.0   \n",
       "15593                  0.0                                             0.0   \n",
       "\n",
       "       Disponibilité alimentaire en quantité (kg/personne/an)  \\\n",
       "7                                                 160.23        \n",
       "12                                                  0.00        \n",
       "32                                                  2.50        \n",
       "34                                                  0.40        \n",
       "40                                                  2.92        \n",
       "...                                                  ...        \n",
       "15545                                               0.00        \n",
       "15568                                               0.15        \n",
       "15575                                               0.07        \n",
       "15591                                              63.76        \n",
       "15593                                               0.00        \n",
       "\n",
       "       Disponibilité de matière grasse en quantité (g/personne/jour)  \\\n",
       "7                                                   4.69               \n",
       "12                                                  0.00               \n",
       "32                                                  0.30               \n",
       "34                                                  0.02               \n",
       "40                                                  0.24               \n",
       "...                                                  ...               \n",
       "15545                                               0.00               \n",
       "15568                                               0.01               \n",
       "15575                                               0.00               \n",
       "15591                                               1.36               \n",
       "15593                                               0.00               \n",
       "\n",
       "       Disponibilité de protéines en quantité (g/personne/jour)  \\\n",
       "7                                                  36.91          \n",
       "12                                                  0.00          \n",
       "32                                                  0.56          \n",
       "34                                                  0.08          \n",
       "40                                                  0.79          \n",
       "...                                                  ...          \n",
       "15545                                               0.00          \n",
       "15568                                               0.03          \n",
       "15575                                               0.01          \n",
       "15591                                              10.90          \n",
       "15593                                               0.00          \n",
       "\n",
       "       Disponibilité intérieure  Exportations - Quantité  \\\n",
       "7                  5.992000e+09                      0.0   \n",
       "12                 0.000000e+00                      0.0   \n",
       "32                 3.130000e+08                      0.0   \n",
       "34                 1.300000e+07                      0.0   \n",
       "40                 5.240000e+08                      0.0   \n",
       "...                         ...                      ...   \n",
       "15545              0.000000e+00                      0.0   \n",
       "15568              0.000000e+00                      0.0   \n",
       "15575              1.000000e+06                      0.0   \n",
       "15591              4.900000e+07                      0.0   \n",
       "15593              0.000000e+00                      0.0   \n",
       "\n",
       "       Importations - Quantité    Nourriture       Pertes    Production  \\\n",
       "7                 1.173000e+09  4.895000e+09  775000000.0  5.169000e+09   \n",
       "12                0.000000e+00  0.000000e+00          0.0  0.000000e+00   \n",
       "32                1.000000e+06  7.600000e+07   31000000.0  3.120000e+08   \n",
       "34                0.000000e+00  1.200000e+07    1000000.0  1.300000e+07   \n",
       "40                1.000000e+07  8.900000e+07   52000000.0  5.140000e+08   \n",
       "...                        ...           ...          ...           ...   \n",
       "15545             0.000000e+00  0.000000e+00          0.0  0.000000e+00   \n",
       "15568             0.000000e+00  0.000000e+00          0.0  0.000000e+00   \n",
       "15575             1.000000e+06  0.000000e+00          0.0  0.000000e+00   \n",
       "15591             4.700000e+07  3.600000e+07    1000000.0  3.000000e+06   \n",
       "15593             0.000000e+00  0.000000e+00          0.0  0.000000e+00   \n",
       "\n",
       "          Semences  Traitement  Variation de stock  \n",
       "7      322000000.0         0.0        -350000000.0  \n",
       "12             0.0         0.0                 0.0  \n",
       "32       5000000.0         0.0                 0.0  \n",
       "34             0.0         0.0                 0.0  \n",
       "40      22000000.0         0.0                 0.0  \n",
       "...            ...         ...                 ...  \n",
       "15545          0.0         0.0                 0.0  \n",
       "15568          0.0         0.0                 0.0  \n",
       "15575          0.0   1000000.0                 0.0  \n",
       "15591          0.0         0.0                 0.0  \n",
       "15593          0.0         0.0                 0.0  \n",
       "\n",
       "[1497 rows x 18 columns]"
      ]
     },
     "execution_count": 115,
     "metadata": {},
     "output_type": "execute_result"
    }
   ],
   "source": [
    "foodAvailabilityGrain"
   ]
  },
  {
   "cell_type": "markdown",
   "id": "692c5347",
   "metadata": {},
   "source": [
    "- \"Aliments pour animaux\" on Domestic Grain Availability (%) :"
   ]
  },
  {
   "cell_type": "code",
   "execution_count": 116,
   "id": "d1bac1ae",
   "metadata": {},
   "outputs": [],
   "source": [
    "Calc_part_animaux2 = (foodAvailabilityGrain[\"Aliments pour animaux\"].sum() / foodAvailabilityGrain[\"Disponibilité intérieure\"].sum()) * 100"
   ]
  },
  {
   "cell_type": "code",
   "execution_count": 117,
   "id": "95a99d29",
   "metadata": {},
   "outputs": [
    {
     "name": "stdout",
     "output_type": "stream",
     "text": [
      "La part des aliments destinée aux animaux dans la disponilité intérieure mondiale des céréales en 2017 est de 36.29 %\n"
     ]
    }
   ],
   "source": [
    "print(\"La part des aliments destinée aux animaux dans la disponilité intérieure mondiale des céréales en 2017 est de\", round(Calc_part_animaux2, 2), \"%\")"
   ]
  },
  {
   "cell_type": "markdown",
   "id": "15b696aa",
   "metadata": {},
   "source": [
    "- \"Pertes\" on Domestic Grain Availability (%) :"
   ]
  },
  {
   "cell_type": "code",
   "execution_count": 118,
   "id": "6cfc5296",
   "metadata": {},
   "outputs": [],
   "source": [
    "Calc_part_pertes2 = (foodAvailabilityGrain[\"Pertes\"].sum() / foodAvailabilityGrain[\"Disponibilité intérieure\"].sum()) * 100"
   ]
  },
  {
   "cell_type": "code",
   "execution_count": 119,
   "id": "e5d9f671",
   "metadata": {},
   "outputs": [
    {
     "name": "stdout",
     "output_type": "stream",
     "text": [
      "La part des aliments perdue dans la disponilité intérieure mondiale des céréales en 2017 est de 4.45 %\n"
     ]
    }
   ],
   "source": [
    "print(\"La part des aliments perdue dans la disponilité intérieure mondiale des céréales en 2017 est de\", round(Calc_part_pertes2, 2), \"%\")"
   ]
  },
  {
   "cell_type": "markdown",
   "id": "c61f003b",
   "metadata": {},
   "source": [
    "- \"Nourriture\" on Domestic Grain Availability (%) :"
   ]
  },
  {
   "cell_type": "code",
   "execution_count": 120,
   "id": "f079e34a",
   "metadata": {},
   "outputs": [],
   "source": [
    "Calc_part_nourriture2 = (foodAvailabilityGrain[\"Nourriture\"].sum() / foodAvailabilityGrain[\"Disponibilité intérieure\"].sum()) * 100"
   ]
  },
  {
   "cell_type": "code",
   "execution_count": 121,
   "id": "41ab610e",
   "metadata": {},
   "outputs": [
    {
     "name": "stdout",
     "output_type": "stream",
     "text": [
      "La part des aliments destinée à l'alimentation humaine dans la disponilité intérieure mondiale des céréales en 2017 est de 42.75 %\n"
     ]
    }
   ],
   "source": [
    "print(\"La part des aliments destinée à l'alimentation humaine dans la disponilité intérieure mondiale des céréales en 2017 est de\", round(Calc_part_nourriture2, 2), \"%\")"
   ]
  },
  {
   "cell_type": "markdown",
   "id": "569f5e5b",
   "metadata": {},
   "source": [
    "- \"Semences\" on Domestic Grain Availability (%) :"
   ]
  },
  {
   "cell_type": "code",
   "execution_count": 122,
   "id": "230dba8b",
   "metadata": {},
   "outputs": [],
   "source": [
    "Calc_part_semences2 = (foodAvailabilityGrain[\"Semences\"].sum() / foodAvailabilityGrain[\"Disponibilité intérieure\"].sum()) * 100"
   ]
  },
  {
   "cell_type": "code",
   "execution_count": 123,
   "id": "4e7d14a9",
   "metadata": {},
   "outputs": [
    {
     "name": "stdout",
     "output_type": "stream",
     "text": [
      "La part des aliments destinée aux semences agricoles dans la disponilité intérieure mondiale des céréales en 2017 est de 2.85 %\n"
     ]
    }
   ],
   "source": [
    "print(\"La part des aliments destinée aux semences agricoles dans la disponilité intérieure mondiale des céréales en 2017 est de\", round(Calc_part_semences2, 2), \"%\")"
   ]
  },
  {
   "cell_type": "markdown",
   "id": "4225ff93",
   "metadata": {},
   "source": [
    "- \"Autres Utilisations\" on Domestic Grain Availability (%) :"
   ]
  },
  {
   "cell_type": "code",
   "execution_count": 124,
   "id": "5c497838",
   "metadata": {},
   "outputs": [],
   "source": [
    "Calc_part_autres2 = (foodAvailabilityGrain[\"Autres Utilisations\"].sum() / foodAvailabilityGrain[\"Disponibilité intérieure\"].sum()) * 100"
   ]
  },
  {
   "cell_type": "code",
   "execution_count": 125,
   "id": "3983e954",
   "metadata": {},
   "outputs": [
    {
     "name": "stdout",
     "output_type": "stream",
     "text": [
      "La part des aliments destinée aux autres usages dans la disponilité intérieure mondiale des céréales en 2017 est de 9.75 %\n"
     ]
    }
   ],
   "source": [
    "print(\"La part des aliments destinée aux autres usages dans la disponilité intérieure mondiale des céréales en 2017 est de\", round(Calc_part_autres2, 2), \"%\")"
   ]
  },
  {
   "cell_type": "markdown",
   "id": "09b8010f",
   "metadata": {},
   "source": [
    "- \"Traitement\" on Domestic Grain Availability (%) :"
   ]
  },
  {
   "cell_type": "code",
   "execution_count": 126,
   "id": "7b4b55cc",
   "metadata": {},
   "outputs": [],
   "source": [
    "Calc_part_traitement2 = (foodAvailabilityGrain[\"Traitement\"].sum() / foodAvailabilityGrain[\"Disponibilité intérieure\"].sum()) * 100"
   ]
  },
  {
   "cell_type": "code",
   "execution_count": 127,
   "id": "3266995b",
   "metadata": {},
   "outputs": [
    {
     "name": "stdout",
     "output_type": "stream",
     "text": [
      "La part des aliments destinée aux traitements industriels dans la disponilité intérieure mondiale des céréales en 2017 est de 3.93 %\n"
     ]
    }
   ],
   "source": [
    "print(\"La part des aliments destinée aux traitements industriels dans la disponilité intérieure mondiale des céréales en 2017 est de\", round(Calc_part_traitement2, 2), \"%\")"
   ]
  },
  {
   "cell_type": "markdown",
   "id": "8585e84c",
   "metadata": {},
   "source": [
    "- Domestic grain availability repartition (%) :"
   ]
  },
  {
   "cell_type": "code",
   "execution_count": 128,
   "id": "63acc347",
   "metadata": {},
   "outputs": [],
   "source": [
    "labels = 'Aliments pour animaux', 'Pertes', 'Nourriture', 'Semences', 'Autres Utilisations', 'Traitement'\n",
    "colors = ['yellowgreen', 'gold', 'lightskyblue', 'lightcoral', 'red', 'yellow']"
   ]
  },
  {
   "cell_type": "code",
   "execution_count": 129,
   "id": "2f0457ea",
   "metadata": {},
   "outputs": [],
   "source": [
    "sizes = [round(Calc_part_animaux2, 2),\n",
    "          round(Calc_part_pertes2, 2),\n",
    "          round(Calc_part_nourriture2,2),\n",
    "          round(Calc_part_semences2, 2),\n",
    "          round(Calc_part_autres2, 2),\n",
    "          round(Calc_part_traitement2, 2)]"
   ]
  },
  {
   "cell_type": "code",
   "execution_count": 130,
   "id": "2bbedceb",
   "metadata": {},
   "outputs": [
    {
     "ename": "TypeError",
     "evalue": "'tuple' object is not callable",
     "output_type": "error",
     "traceback": [
      "\u001b[1;31m---------------------------------------------------------------------------\u001b[0m",
      "\u001b[1;31mTypeError\u001b[0m                                 Traceback (most recent call last)",
      "\u001b[1;32m<ipython-input-130-e4793b734138>\u001b[0m in \u001b[0;36m<module>\u001b[1;34m\u001b[0m\n\u001b[1;32m----> 1\u001b[1;33m plt.pie = plt.pie(sizes, labels=labels, colors=colors, \n\u001b[0m\u001b[0;32m      2\u001b[0m         autopct='%1.1f%%', shadow=True, startangle=90)\n",
      "\u001b[1;31mTypeError\u001b[0m: 'tuple' object is not callable"
     ]
    }
   ],
   "source": [
    "plt.pie = plt.pie(sizes, labels=labels, colors=colors, \n",
    "        autopct='%1.1f%%', shadow=True, startangle=90)"
   ]
  },
  {
   "cell_type": "markdown",
   "id": "bb75952f",
   "metadata": {},
   "source": [
    " "
   ]
  },
  {
   "cell_type": "markdown",
   "id": "7de84049",
   "metadata": {},
   "source": [
    " *6. the example of Thailand in the use of cassava (manioc) :*"
   ]
  },
  {
   "cell_type": "markdown",
   "id": "b44505fb",
   "metadata": {},
   "source": [
    "- Undernutrition proportion in Thailand :"
   ]
  },
  {
   "cell_type": "code",
   "execution_count": 141,
   "id": "c073eccb",
   "metadata": {},
   "outputs": [],
   "source": [
    "undernutrition2017_Thailand = undernutrition2017.loc[undernutrition2017[\"Zone\"].isin([\"Thaïlande\"])].copy()"
   ]
  },
  {
   "cell_type": "code",
   "execution_count": 142,
   "id": "f1f9f99b",
   "metadata": {},
   "outputs": [
    {
     "data": {
      "text/html": [
       "<div>\n",
       "<style scoped>\n",
       "    .dataframe tbody tr th:only-of-type {\n",
       "        vertical-align: middle;\n",
       "    }\n",
       "\n",
       "    .dataframe tbody tr th {\n",
       "        vertical-align: top;\n",
       "    }\n",
       "\n",
       "    .dataframe thead th {\n",
       "        text-align: right;\n",
       "    }\n",
       "</style>\n",
       "<table border=\"1\" class=\"dataframe\">\n",
       "  <thead>\n",
       "    <tr style=\"text-align: right;\">\n",
       "      <th></th>\n",
       "      <th>Zone</th>\n",
       "      <th>Année</th>\n",
       "      <th>Valeur (en million d'hab)</th>\n",
       "      <th>Valeur (en milliers d'hab)</th>\n",
       "    </tr>\n",
       "  </thead>\n",
       "  <tbody>\n",
       "    <tr>\n",
       "      <th>1114</th>\n",
       "      <td>Thaïlande</td>\n",
       "      <td>2017</td>\n",
       "      <td>6.2</td>\n",
       "      <td>6200</td>\n",
       "    </tr>\n",
       "  </tbody>\n",
       "</table>\n",
       "</div>"
      ],
      "text/plain": [
       "           Zone Année  Valeur (en million d'hab)  Valeur (en milliers d'hab)\n",
       "1114  Thaïlande  2017                        6.2                        6200"
      ]
     },
     "execution_count": 142,
     "metadata": {},
     "output_type": "execute_result"
    }
   ],
   "source": [
    "undernutrition2017_Thailand"
   ]
  },
  {
   "cell_type": "code",
   "execution_count": 143,
   "id": "6bc2683c",
   "metadata": {},
   "outputs": [],
   "source": [
    "pop2017_Thailand = pop2017.loc[pop2017[\"Zone\"].isin([\"Thaïlande\"])].copy()"
   ]
  },
  {
   "cell_type": "code",
   "execution_count": 144,
   "id": "1dc742fa",
   "metadata": {},
   "outputs": [
    {
     "data": {
      "text/html": [
       "<div>\n",
       "<style scoped>\n",
       "    .dataframe tbody tr th:only-of-type {\n",
       "        vertical-align: middle;\n",
       "    }\n",
       "\n",
       "    .dataframe tbody tr th {\n",
       "        vertical-align: top;\n",
       "    }\n",
       "\n",
       "    .dataframe thead th {\n",
       "        text-align: right;\n",
       "    }\n",
       "</style>\n",
       "<table border=\"1\" class=\"dataframe\">\n",
       "  <thead>\n",
       "    <tr style=\"text-align: right;\">\n",
       "      <th></th>\n",
       "      <th>Zone</th>\n",
       "      <th>2017</th>\n",
       "      <th>Population (en milliers d'hab)</th>\n",
       "      <th>Population (en million d'hab)</th>\n",
       "      <th>Population totale</th>\n",
       "    </tr>\n",
       "  </thead>\n",
       "  <tbody>\n",
       "    <tr>\n",
       "      <th>1312</th>\n",
       "      <td>Thaïlande</td>\n",
       "      <td>2017</td>\n",
       "      <td>69209.81</td>\n",
       "      <td>69.20981</td>\n",
       "      <td>69209810.0</td>\n",
       "    </tr>\n",
       "  </tbody>\n",
       "</table>\n",
       "</div>"
      ],
      "text/plain": [
       "           Zone  2017  Population (en milliers d'hab)  \\\n",
       "1312  Thaïlande  2017                        69209.81   \n",
       "\n",
       "      Population (en million d'hab)  Population totale  \n",
       "1312                       69.20981         69209810.0  "
      ]
     },
     "execution_count": 144,
     "metadata": {},
     "output_type": "execute_result"
    }
   ],
   "source": [
    "pop2017_Thailand"
   ]
  },
  {
   "cell_type": "code",
   "execution_count": 135,
   "id": "a49fe13d",
   "metadata": {},
   "outputs": [],
   "source": [
    "Proportion_Undernutrition_Thailand = (undernutrition2017_Thailand[\"Valeur (en milliers d'hab)\"] / pop2017_Thailand[\"Population (en milliers d'hab)\"]) * 100"
   ]
  },
  {
   "cell_type": "code",
   "execution_count": 136,
   "id": "0668c87b",
   "metadata": {},
   "outputs": [],
   "source": [
    "undernutrition2017_Thailand[\"Valeur (en milliers d'hab)\"] = undernutrition2017_Thailand.astype({\"Valeur (en milliers d'hab)\": int})"
   ]
  },
  {
   "cell_type": "code",
   "execution_count": 137,
   "id": "4440540e",
   "metadata": {},
   "outputs": [],
   "source": [
    "pop2017_Thailand = pop2017_Thailand.astype({\"Population (en milliers d'hab)\": int})"
   ]
  },
  {
   "cell_type": "code",
   "execution_count": 145,
   "id": "146be8a6",
   "metadata": {},
   "outputs": [
    {
     "name": "stdout",
     "output_type": "stream",
     "text": [
      "1114    6200\n",
      "Name: Valeur (en milliers d'hab), dtype: int32\n"
     ]
    }
   ],
   "source": [
    "print(undernutrition2017_Thailand[\"Valeur (en milliers d'hab)\"])"
   ]
  },
  {
   "cell_type": "code",
   "execution_count": 139,
   "id": "259b6ed2",
   "metadata": {},
   "outputs": [
    {
     "name": "stdout",
     "output_type": "stream",
     "text": [
      "1312    69209\n",
      "Name: Population (en milliers d'hab), dtype: int32\n"
     ]
    }
   ],
   "source": [
    "print(pop2017_Thailand[\"Population (en milliers d'hab)\"])"
   ]
  },
  {
   "cell_type": "code",
   "execution_count": 140,
   "id": "4d1c3554",
   "metadata": {},
   "outputs": [
    {
     "name": "stdout",
     "output_type": "stream",
     "text": [
      "1114   NaN\n",
      "1312   NaN\n",
      "dtype: float64\n"
     ]
    }
   ],
   "source": [
    "print(Proportion_Undernutrition_Thailand)"
   ]
  },
  {
   "cell_type": "markdown",
   "id": "aa88ac45",
   "metadata": {},
   "source": [
    "- use of cassava (manioc) in Thailand :"
   ]
  },
  {
   "cell_type": "markdown",
   "id": "020f8529",
   "metadata": {},
   "source": [
    "    → Disponibilité intérieure = Production + Importations - Exportations + Variation de stock"
   ]
  },
  {
   "cell_type": "code",
   "execution_count": 146,
   "id": "83974e30",
   "metadata": {},
   "outputs": [],
   "source": [
    "foodAvailability_Manioc = foodAvailability.loc[foodAvailability[\"Produit\"].isin([\"Manioc\"])].copy()"
   ]
  },
  {
   "cell_type": "code",
   "execution_count": 147,
   "id": "a62745fb",
   "metadata": {},
   "outputs": [],
   "source": [
    "foodAvailability_Manioc_Thailand = foodAvailability_Manioc.loc[foodAvailability_Manioc[\"Zone\"].isin([\"Thaïlande\"])].copy()"
   ]
  },
  {
   "cell_type": "code",
   "execution_count": 148,
   "id": "23239417",
   "metadata": {},
   "outputs": [
    {
     "data": {
      "text/html": [
       "<div>\n",
       "<style scoped>\n",
       "    .dataframe tbody tr th:only-of-type {\n",
       "        vertical-align: middle;\n",
       "    }\n",
       "\n",
       "    .dataframe tbody tr th {\n",
       "        vertical-align: top;\n",
       "    }\n",
       "\n",
       "    .dataframe thead th {\n",
       "        text-align: right;\n",
       "    }\n",
       "</style>\n",
       "<table border=\"1\" class=\"dataframe\">\n",
       "  <thead>\n",
       "    <tr style=\"text-align: right;\">\n",
       "      <th></th>\n",
       "      <th>Zone</th>\n",
       "      <th>Produit</th>\n",
       "      <th>Origine</th>\n",
       "      <th>Aliments pour animaux</th>\n",
       "      <th>Autres Utilisations</th>\n",
       "      <th>Disponibilité alimentaire (Kcal/personne/jour)</th>\n",
       "      <th>Disponibilité alimentaire en quantité (kg/personne/an)</th>\n",
       "      <th>Disponibilité de matière grasse en quantité (g/personne/jour)</th>\n",
       "      <th>Disponibilité de protéines en quantité (g/personne/jour)</th>\n",
       "      <th>Disponibilité intérieure</th>\n",
       "      <th>Exportations - Quantité</th>\n",
       "      <th>Importations - Quantité</th>\n",
       "      <th>Nourriture</th>\n",
       "      <th>Pertes</th>\n",
       "      <th>Production</th>\n",
       "      <th>Semences</th>\n",
       "      <th>Traitement</th>\n",
       "      <th>Variation de stock</th>\n",
       "    </tr>\n",
       "  </thead>\n",
       "  <tbody>\n",
       "    <tr>\n",
       "      <th>13809</th>\n",
       "      <td>Thaïlande</td>\n",
       "      <td>Manioc</td>\n",
       "      <td>vegetale</td>\n",
       "      <td>1.800000e+09</td>\n",
       "      <td>2.081000e+09</td>\n",
       "      <td>40.0</td>\n",
       "      <td>13.0</td>\n",
       "      <td>0.05</td>\n",
       "      <td>0.14</td>\n",
       "      <td>6.264000e+09</td>\n",
       "      <td>2.521400e+10</td>\n",
       "      <td>1.250000e+09</td>\n",
       "      <td>871000000.0</td>\n",
       "      <td>1.511000e+09</td>\n",
       "      <td>3.022800e+10</td>\n",
       "      <td>0.0</td>\n",
       "      <td>0.0</td>\n",
       "      <td>0.0</td>\n",
       "    </tr>\n",
       "  </tbody>\n",
       "</table>\n",
       "</div>"
      ],
      "text/plain": [
       "            Zone Produit   Origine  Aliments pour animaux  \\\n",
       "13809  Thaïlande  Manioc  vegetale           1.800000e+09   \n",
       "\n",
       "       Autres Utilisations  Disponibilité alimentaire (Kcal/personne/jour)  \\\n",
       "13809         2.081000e+09                                            40.0   \n",
       "\n",
       "       Disponibilité alimentaire en quantité (kg/personne/an)  \\\n",
       "13809                                               13.0        \n",
       "\n",
       "       Disponibilité de matière grasse en quantité (g/personne/jour)  \\\n",
       "13809                                               0.05               \n",
       "\n",
       "       Disponibilité de protéines en quantité (g/personne/jour)  \\\n",
       "13809                                               0.14          \n",
       "\n",
       "       Disponibilité intérieure  Exportations - Quantité  \\\n",
       "13809              6.264000e+09             2.521400e+10   \n",
       "\n",
       "       Importations - Quantité   Nourriture        Pertes    Production  \\\n",
       "13809             1.250000e+09  871000000.0  1.511000e+09  3.022800e+10   \n",
       "\n",
       "       Semences  Traitement  Variation de stock  \n",
       "13809       0.0         0.0                 0.0  "
      ]
     },
     "execution_count": 148,
     "metadata": {},
     "output_type": "execute_result"
    }
   ],
   "source": [
    "foodAvailability_Manioc_Thailand"
   ]
  },
  {
   "cell_type": "markdown",
   "id": "70ff5f7e",
   "metadata": {},
   "source": [
    "- \"Exportations\" on cassava availability (%) :"
   ]
  },
  {
   "cell_type": "code",
   "execution_count": 149,
   "id": "6272fcee",
   "metadata": {},
   "outputs": [],
   "source": [
    "Calc_part_exportations = (foodAvailability_Manioc_Thailand[\"Disponibilité intérieure\"].sum() / foodAvailability_Manioc_Thailand[\"Exportations - Quantité\"].sum()) * 100"
   ]
  },
  {
   "cell_type": "code",
   "execution_count": 150,
   "id": "da5504fc",
   "metadata": {},
   "outputs": [
    {
     "name": "stdout",
     "output_type": "stream",
     "text": [
      "La part du manioc destinée à l'exportation dans la disponilité intérieure totale du manioc en 2017 en Thaïlande est de 24.84 %\n"
     ]
    }
   ],
   "source": [
    "print(\"La part du manioc destinée à l'exportation dans la disponilité intérieure totale du manioc en 2017 en Thaïlande est de\", round(Calc_part_exportations, 2), \"%\")"
   ]
  },
  {
   "cell_type": "markdown",
   "id": "24dc2616",
   "metadata": {},
   "source": [
    "- \"Importations\" on cassava availability (%) :"
   ]
  },
  {
   "cell_type": "code",
   "execution_count": 151,
   "id": "343300ab",
   "metadata": {},
   "outputs": [],
   "source": [
    "Calc_part_importations = (foodAvailability_Manioc_Thailand[\"Importations - Quantité\"].sum() / foodAvailability_Manioc_Thailand[\"Disponibilité intérieure\"].sum()) * 100"
   ]
  },
  {
   "cell_type": "code",
   "execution_count": 152,
   "id": "ab03230a",
   "metadata": {},
   "outputs": [
    {
     "name": "stdout",
     "output_type": "stream",
     "text": [
      "La part du manioc destinée à l'importation dans la disponilité intérieure totale du manioc en 2017 en Thaïlande est de 19.96 %\n"
     ]
    }
   ],
   "source": [
    "print(\"La part du manioc destinée à l'importation dans la disponilité intérieure totale du manioc en 2017 en Thaïlande est de\", round(Calc_part_importations, 2), \"%\")"
   ]
  },
  {
   "cell_type": "markdown",
   "id": "27b99e57",
   "metadata": {},
   "source": [
    "- \"Production\" on cassava availability (%) :"
   ]
  },
  {
   "cell_type": "code",
   "execution_count": 153,
   "id": "1577531e",
   "metadata": {},
   "outputs": [],
   "source": [
    "Calc_part_production = (foodAvailability_Manioc_Thailand[\"Disponibilité intérieure\"].sum() / foodAvailability_Manioc_Thailand[\"Production\"].sum()) * 100"
   ]
  },
  {
   "cell_type": "code",
   "execution_count": 154,
   "id": "a54834b6",
   "metadata": {},
   "outputs": [
    {
     "name": "stdout",
     "output_type": "stream",
     "text": [
      "La part du manioc destinée à la production dans la disponilité intérieure totale du manioc en 2017 en Thaïlande est de 20.72 %\n"
     ]
    }
   ],
   "source": [
    "print(\"La part du manioc destinée à la production dans la disponilité intérieure totale du manioc en 2017 en Thaïlande est de\", round(Calc_part_production, 2), \"%\")"
   ]
  },
  {
   "cell_type": "markdown",
   "id": "8d532f21",
   "metadata": {},
   "source": [
    "- \"Variation de stock\" on cassava availability (%) :"
   ]
  },
  {
   "cell_type": "code",
   "execution_count": 155,
   "id": "74c94dfa",
   "metadata": {},
   "outputs": [],
   "source": [
    "Calc_part_stock = (foodAvailability_Manioc_Thailand[\"Variation de stock\"].sum() / foodAvailability_Manioc_Thailand[\"Disponibilité intérieure\"].sum()) * 100"
   ]
  },
  {
   "cell_type": "code",
   "execution_count": 157,
   "id": "2de50276",
   "metadata": {},
   "outputs": [
    {
     "name": "stdout",
     "output_type": "stream",
     "text": [
      "La part du manioc liée à la variation des stocks dans la disponilité intérieure totale du manioc en 2017 en Thaïlande est de 0 %\n"
     ]
    }
   ],
   "source": [
    "print(\"La part du manioc liée à la variation des stocks dans la disponilité intérieure totale du manioc en 2017 en Thaïlande est de\", round(Calc_part_stock), \"%\")"
   ]
  },
  {
   "cell_type": "markdown",
   "id": "9d496dab",
   "metadata": {},
   "source": [
    "- Manioc availability repartition in Thailand (%) :"
   ]
  },
  {
   "cell_type": "code",
   "execution_count": 158,
   "id": "353a1527",
   "metadata": {},
   "outputs": [],
   "source": [
    "labels = 'Exportations', 'Importations', 'Production'\n",
    "colors = ['yellowgreen', 'gold', 'lightskyblue']"
   ]
  },
  {
   "cell_type": "code",
   "execution_count": 159,
   "id": "24e5202f",
   "metadata": {},
   "outputs": [],
   "source": [
    "sizes = [round(Calc_part_exportations, 2),\n",
    "          round(Calc_part_importations, 2),\n",
    "          round(Calc_part_production,2)]"
   ]
  },
  {
   "cell_type": "code",
   "execution_count": 160,
   "id": "bfe68da0",
   "metadata": {},
   "outputs": [
    {
     "ename": "TypeError",
     "evalue": "'tuple' object is not callable",
     "output_type": "error",
     "traceback": [
      "\u001b[1;31m---------------------------------------------------------------------------\u001b[0m",
      "\u001b[1;31mTypeError\u001b[0m                                 Traceback (most recent call last)",
      "\u001b[1;32m<ipython-input-160-e4793b734138>\u001b[0m in \u001b[0;36m<module>\u001b[1;34m\u001b[0m\n\u001b[1;32m----> 1\u001b[1;33m plt.pie = plt.pie(sizes, labels=labels, colors=colors, \n\u001b[0m\u001b[0;32m      2\u001b[0m         autopct='%1.1f%%', shadow=True, startangle=90)\n",
      "\u001b[1;31mTypeError\u001b[0m: 'tuple' object is not callable"
     ]
    }
   ],
   "source": [
    "plt.pie = plt.pie(sizes, labels=labels, colors=colors, \n",
    "        autopct='%1.1f%%', shadow=True, startangle=90)"
   ]
  },
  {
   "cell_type": "code",
   "execution_count": null,
   "id": "c695f67f",
   "metadata": {},
   "outputs": [],
   "source": []
  },
  {
   "cell_type": "code",
   "execution_count": null,
   "id": "fd1619e0",
   "metadata": {},
   "outputs": [],
   "source": []
  }
 ],
 "metadata": {
  "kernelspec": {
   "display_name": "Python 3",
   "language": "python",
   "name": "python3"
  },
  "language_info": {
   "codemirror_mode": {
    "name": "ipython",
    "version": 3
   },
   "file_extension": ".py",
   "mimetype": "text/x-python",
   "name": "python",
   "nbconvert_exporter": "python",
   "pygments_lexer": "ipython3",
   "version": "3.8.8"
  }
 },
 "nbformat": 4,
 "nbformat_minor": 5
}
