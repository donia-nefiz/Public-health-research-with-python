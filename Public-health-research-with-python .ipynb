{
 "cells": [
  {
   "cell_type": "markdown",
   "id": "f8b22c1d",
   "metadata": {},
   "source": [
    "# Public health research with python"
   ]
  },
  {
   "cell_type": "markdown",
   "id": "e0e867f8",
   "metadata": {},
   "source": [
    " "
   ]
  },
  {
   "cell_type": "markdown",
   "id": "aa3a3a62",
   "metadata": {},
   "source": [
    "**FAO data, files exploration and data cleaning**"
   ]
  },
  {
   "cell_type": "code",
   "execution_count": 62,
   "id": "95056797",
   "metadata": {},
   "outputs": [],
   "source": [
    "import pandas as pd"
   ]
  },
  {
   "cell_type": "code",
   "execution_count": 63,
   "id": "24b9522c",
   "metadata": {},
   "outputs": [],
   "source": [
    "import numpy as np"
   ]
  },
  {
   "cell_type": "markdown",
   "id": "9abf2cd9",
   "metadata": {},
   "source": [
    " "
   ]
  },
  {
   "cell_type": "markdown",
   "id": "3cb10302",
   "metadata": {},
   "source": [
    "*a. [undernutrition.csv](http://localhost:8888/edit/undernutrition.csv) : exploration and data cleaning*"
   ]
  },
  {
   "cell_type": "markdown",
   "id": "a0f710aa",
   "metadata": {},
   "source": [
    "- Loading file:"
   ]
  },
  {
   "cell_type": "code",
   "execution_count": 110,
   "id": "045b66e5",
   "metadata": {},
   "outputs": [],
   "source": [
    "undernutrition = pd.read_csv('undernutrition.csv', sep=';')"
   ]
  },
  {
   "cell_type": "markdown",
   "id": "1442e77f",
   "metadata": {},
   "source": [
    "- First 5 rows display :"
   ]
  },
  {
   "cell_type": "code",
   "execution_count": 111,
   "id": "49a5be12",
   "metadata": {},
   "outputs": [
    {
     "data": {
      "text/html": [
       "<div>\n",
       "<style scoped>\n",
       "    .dataframe tbody tr th:only-of-type {\n",
       "        vertical-align: middle;\n",
       "    }\n",
       "\n",
       "    .dataframe tbody tr th {\n",
       "        vertical-align: top;\n",
       "    }\n",
       "\n",
       "    .dataframe thead th {\n",
       "        text-align: right;\n",
       "    }\n",
       "</style>\n",
       "<table border=\"1\" class=\"dataframe\">\n",
       "  <thead>\n",
       "    <tr style=\"text-align: right;\">\n",
       "      <th></th>\n",
       "      <th>Zone</th>\n",
       "      <th>Année</th>\n",
       "      <th>Valeur (en million d'hab)</th>\n",
       "    </tr>\n",
       "  </thead>\n",
       "  <tbody>\n",
       "    <tr>\n",
       "      <th>0</th>\n",
       "      <td>Afghanistan</td>\n",
       "      <td>2012-2014</td>\n",
       "      <td>8.6</td>\n",
       "    </tr>\n",
       "    <tr>\n",
       "      <th>1</th>\n",
       "      <td>Afghanistan</td>\n",
       "      <td>2013-2015</td>\n",
       "      <td>8.8</td>\n",
       "    </tr>\n",
       "    <tr>\n",
       "      <th>2</th>\n",
       "      <td>Afghanistan</td>\n",
       "      <td>2014-2016</td>\n",
       "      <td>8.9</td>\n",
       "    </tr>\n",
       "    <tr>\n",
       "      <th>3</th>\n",
       "      <td>Afghanistan</td>\n",
       "      <td>2015-2017</td>\n",
       "      <td>9.7</td>\n",
       "    </tr>\n",
       "    <tr>\n",
       "      <th>4</th>\n",
       "      <td>Afghanistan</td>\n",
       "      <td>2016-2018</td>\n",
       "      <td>10.5</td>\n",
       "    </tr>\n",
       "  </tbody>\n",
       "</table>\n",
       "</div>"
      ],
      "text/plain": [
       "          Zone      Année Valeur (en million d'hab)\n",
       "0  Afghanistan  2012-2014                       8.6\n",
       "1  Afghanistan  2013-2015                       8.8\n",
       "2  Afghanistan  2014-2016                       8.9\n",
       "3  Afghanistan  2015-2017                       9.7\n",
       "4  Afghanistan  2016-2018                      10.5"
      ]
     },
     "execution_count": 111,
     "metadata": {},
     "output_type": "execute_result"
    }
   ],
   "source": [
    "undernutrition.head()"
   ]
  },
  {
   "cell_type": "markdown",
   "id": "ff790a4c",
   "metadata": {},
   "source": [
    "- Number of rows and columns :"
   ]
  },
  {
   "cell_type": "code",
   "execution_count": 112,
   "id": "7b00a5ae",
   "metadata": {},
   "outputs": [
    {
     "data": {
      "text/plain": [
       "(1218, 3)"
      ]
     },
     "execution_count": 112,
     "metadata": {},
     "output_type": "execute_result"
    }
   ],
   "source": [
    "undernutrition.shape"
   ]
  },
  {
   "cell_type": "markdown",
   "id": "f8ed62a1",
   "metadata": {},
   "source": [
    "- .dtypes display :"
   ]
  },
  {
   "cell_type": "code",
   "execution_count": 113,
   "id": "9e58bc0e",
   "metadata": {},
   "outputs": [
    {
     "data": {
      "text/plain": [
       "Zone                         object\n",
       "Année                        object\n",
       "Valeur (en million d'hab)    object\n",
       "dtype: object"
      ]
     },
     "execution_count": 113,
     "metadata": {},
     "output_type": "execute_result"
    }
   ],
   "source": [
    "undernutrition.dtypes"
   ]
  },
  {
   "cell_type": "markdown",
   "id": "a7f126f6",
   "metadata": {},
   "source": [
    "- \"Valeur\" column .unique values display :"
   ]
  },
  {
   "cell_type": "code",
   "execution_count": 114,
   "id": "fd9c6b69",
   "metadata": {},
   "outputs": [
    {
     "data": {
      "text/plain": [
       "array(['8.6', '8.8', '8.9', '9.7', '10.5', '11.1', '2.2', '2.5', '2.8',\n",
       "       '3', '3.1', '3.3', '0.1', '1.3', '1.2', nan, '7.6', '6.2', '5.3',\n",
       "       '5.6', '5.8', '5.7', '1.5', '1.6', '1.1', '1.7', '<0.1', '21.7',\n",
       "       '22.4', '23.3', '22.3', '21.5', '20.9', '0.8', '2', '1.9', '1.8',\n",
       "       '0.4', '0.5', '0.3', '0.2', '3.2', '3.4', '3.6', '3.8', '2.1',\n",
       "       '2.3', '2.4', '0.6', '0.7', '0.9', '3.9', '2.7', '1.4', '4.8',\n",
       "       '4.6', '4.9', '5', '4.4', '4.3', '4.2', '4.5', '26.2', '24.3',\n",
       "       '21.3', '21.1', '2.9', '5.1', '5.2', '5.4', '203.8', '198.3',\n",
       "       '193.1', '190.9', '190.1', '189.2', '23.6', '24', '24.1', '3.7',\n",
       "       '7.3', '7.8', '8.4', '9', '9.1', '10.1', '10', '10.7', '11.5',\n",
       "       '11.9', '11.8', '8.7', '10.3', '11', '1', '5.5', '6.8', '7.9',\n",
       "       '5.9', '7', '9.2', '9.4', '9.6', '6.7', '7.1', '7.2', '14.7',\n",
       "       '17.4', '20.2', '22.2', '22.8', '24.6', '31.1', '28.5', '25.4',\n",
       "       '24.8', '26.1', '14.5', '15.4', '16.5', '15.8', '15.7', '10.8',\n",
       "       '11.2', '11.6', '12', '12.2', '13.5', '13.2', '12.8', '13', '13.4',\n",
       "       '14.1', '4.1', '6.1', '6', '6.5', '2.6', '8', '8.3'], dtype=object)"
      ]
     },
     "execution_count": 114,
     "metadata": {},
     "output_type": "execute_result"
    }
   ],
   "source": [
    "undernutrition[\"Valeur (en million d'hab)\"].unique()"
   ]
  },
  {
   "cell_type": "markdown",
   "id": "fc7aaa66",
   "metadata": {},
   "source": [
    "- Update \"Valeur\" column to numeric :"
   ]
  },
  {
   "cell_type": "code",
   "execution_count": 115,
   "id": "038ad63c",
   "metadata": {},
   "outputs": [],
   "source": [
    "undernutrition[\"Valeur (en million d'hab)\"] = pd.to_numeric(undernutrition[\"Valeur (en million d'hab)\"],errors = 'coerce')"
   ]
  },
  {
   "cell_type": "markdown",
   "id": "fd45dc7d",
   "metadata": {},
   "source": [
    "- .dtypes display :"
   ]
  },
  {
   "cell_type": "code",
   "execution_count": 116,
   "id": "2da272d3",
   "metadata": {},
   "outputs": [
    {
     "data": {
      "text/plain": [
       "Zone                          object\n",
       "Année                         object\n",
       "Valeur (en million d'hab)    float64\n",
       "dtype: object"
      ]
     },
     "execution_count": 116,
     "metadata": {},
     "output_type": "execute_result"
    }
   ],
   "source": [
    "undernutrition.dtypes"
   ]
  },
  {
   "cell_type": "markdown",
   "id": "74872ae8",
   "metadata": {},
   "source": [
    "- .unique values display :"
   ]
  },
  {
   "cell_type": "code",
   "execution_count": 117,
   "id": "129e7334",
   "metadata": {
    "scrolled": true
   },
   "outputs": [
    {
     "data": {
      "text/plain": [
       "array([8.600e+00, 8.800e+00, 8.900e+00, 9.700e+00, 1.050e+01, 1.110e+01,\n",
       "       2.200e+00, 2.500e+00, 2.800e+00, 3.000e+00, 3.100e+00, 3.300e+00,\n",
       "       1.000e-01, 1.300e+00, 1.200e+00,       nan, 7.600e+00, 6.200e+00,\n",
       "       5.300e+00, 5.600e+00, 5.800e+00, 5.700e+00, 1.500e+00, 1.600e+00,\n",
       "       1.100e+00, 1.700e+00, 2.170e+01, 2.240e+01, 2.330e+01, 2.230e+01,\n",
       "       2.150e+01, 2.090e+01, 8.000e-01, 2.000e+00, 1.900e+00, 1.800e+00,\n",
       "       4.000e-01, 5.000e-01, 3.000e-01, 2.000e-01, 3.200e+00, 3.400e+00,\n",
       "       3.600e+00, 3.800e+00, 2.100e+00, 2.300e+00, 2.400e+00, 6.000e-01,\n",
       "       7.000e-01, 9.000e-01, 3.900e+00, 2.700e+00, 1.400e+00, 4.800e+00,\n",
       "       4.600e+00, 4.900e+00, 5.000e+00, 4.400e+00, 4.300e+00, 4.200e+00,\n",
       "       4.500e+00, 2.620e+01, 2.430e+01, 2.130e+01, 2.110e+01, 2.900e+00,\n",
       "       5.100e+00, 5.200e+00, 5.400e+00, 2.038e+02, 1.983e+02, 1.931e+02,\n",
       "       1.909e+02, 1.901e+02, 1.892e+02, 2.360e+01, 2.400e+01, 2.410e+01,\n",
       "       3.700e+00, 7.300e+00, 7.800e+00, 8.400e+00, 9.000e+00, 9.100e+00,\n",
       "       1.010e+01, 1.000e+01, 1.070e+01, 1.150e+01, 1.190e+01, 1.180e+01,\n",
       "       8.700e+00, 1.030e+01, 1.100e+01, 1.000e+00, 5.500e+00, 6.800e+00,\n",
       "       7.900e+00, 5.900e+00, 7.000e+00, 9.200e+00, 9.400e+00, 9.600e+00,\n",
       "       6.700e+00, 7.100e+00, 7.200e+00, 1.470e+01, 1.740e+01, 2.020e+01,\n",
       "       2.220e+01, 2.280e+01, 2.460e+01, 3.110e+01, 2.850e+01, 2.540e+01,\n",
       "       2.480e+01, 2.610e+01, 1.450e+01, 1.540e+01, 1.650e+01, 1.580e+01,\n",
       "       1.570e+01, 1.080e+01, 1.120e+01, 1.160e+01, 1.200e+01, 1.220e+01,\n",
       "       1.350e+01, 1.320e+01, 1.280e+01, 1.300e+01, 1.340e+01, 1.410e+01,\n",
       "       4.100e+00, 6.100e+00, 6.000e+00, 6.500e+00, 2.600e+00, 8.000e+00,\n",
       "       8.300e+00])"
      ]
     },
     "execution_count": 117,
     "metadata": {},
     "output_type": "execute_result"
    }
   ],
   "source": [
    "undernutrition[\"Valeur (en million d'hab)\"].unique()"
   ]
  },
  {
   "cell_type": "markdown",
   "id": "d438d994",
   "metadata": {},
   "source": [
    "- Number of unique values :"
   ]
  },
  {
   "cell_type": "code",
   "execution_count": 118,
   "id": "6411c415",
   "metadata": {
    "scrolled": true
   },
   "outputs": [
    {
     "data": {
      "text/plain": [
       "139"
      ]
     },
     "execution_count": 118,
     "metadata": {},
     "output_type": "execute_result"
    }
   ],
   "source": [
    "len(undernutrition[\"Valeur (en million d'hab)\"].unique())"
   ]
  },
  {
   "cell_type": "markdown",
   "id": "19c82881",
   "metadata": {},
   "source": [
    "- \"Valeur\" column display :"
   ]
  },
  {
   "cell_type": "code",
   "execution_count": 119,
   "id": "0a970417",
   "metadata": {},
   "outputs": [
    {
     "data": {
      "text/plain": [
       "0        8.6\n",
       "1        8.8\n",
       "2        8.9\n",
       "3        9.7\n",
       "4       10.5\n",
       "        ... \n",
       "1213     NaN\n",
       "1214     NaN\n",
       "1215     NaN\n",
       "1216     NaN\n",
       "1217     NaN\n",
       "Name: Valeur (en million d'hab), Length: 1218, dtype: float64"
      ]
     },
     "execution_count": 119,
     "metadata": {},
     "output_type": "execute_result"
    }
   ],
   "source": [
    "undernutrition[\"Valeur (en million d'hab)\"]"
   ]
  },
  {
   "cell_type": "markdown",
   "id": "bf08fd05",
   "metadata": {},
   "source": [
    "- Replace NaN values by 0.00 :"
   ]
  },
  {
   "cell_type": "code",
   "execution_count": 120,
   "id": "aa6becbf",
   "metadata": {},
   "outputs": [],
   "source": [
    "undernutrition.fillna(0, inplace=True)"
   ]
  },
  {
   "cell_type": "markdown",
   "id": "28877bf4",
   "metadata": {},
   "source": [
    "- \"Valeur\" column display :"
   ]
  },
  {
   "cell_type": "code",
   "execution_count": 121,
   "id": "97176c18",
   "metadata": {},
   "outputs": [
    {
     "data": {
      "text/plain": [
       "0        8.6\n",
       "1        8.8\n",
       "2        8.9\n",
       "3        9.7\n",
       "4       10.5\n",
       "        ... \n",
       "1213     0.0\n",
       "1214     0.0\n",
       "1215     0.0\n",
       "1216     0.0\n",
       "1217     0.0\n",
       "Name: Valeur (en million d'hab), Length: 1218, dtype: float64"
      ]
     },
     "execution_count": 121,
     "metadata": {},
     "output_type": "execute_result"
    }
   ],
   "source": [
    "undernutrition[\"Valeur (en million d'hab)\"]"
   ]
  },
  {
   "cell_type": "markdown",
   "id": "cbf1637a",
   "metadata": {},
   "source": [
    "- Update \"Année\" column values :"
   ]
  },
  {
   "cell_type": "code",
   "execution_count": 122,
   "id": "c36552fc",
   "metadata": {},
   "outputs": [],
   "source": [
    "undernutrition = undernutrition.replace(\"2012-2014\",\"2013\")"
   ]
  },
  {
   "cell_type": "code",
   "execution_count": 123,
   "id": "4d9a84e6",
   "metadata": {},
   "outputs": [],
   "source": [
    "undernutrition = undernutrition.replace(\"2013-2015\",\"2014\")"
   ]
  },
  {
   "cell_type": "code",
   "execution_count": 124,
   "id": "a79b7ccd",
   "metadata": {},
   "outputs": [],
   "source": [
    "undernutrition = undernutrition.replace(\"2014-2016\",\"2015\")"
   ]
  },
  {
   "cell_type": "code",
   "execution_count": 125,
   "id": "8b2524c2",
   "metadata": {},
   "outputs": [],
   "source": [
    "undernutrition = undernutrition.replace(\"2015-2017\",\"2016\")"
   ]
  },
  {
   "cell_type": "code",
   "execution_count": 126,
   "id": "47a405b0",
   "metadata": {},
   "outputs": [],
   "source": [
    "undernutrition = undernutrition.replace(\"2016-2018\",\"2017\")"
   ]
  },
  {
   "cell_type": "code",
   "execution_count": 127,
   "id": "2a8dbc59",
   "metadata": {},
   "outputs": [],
   "source": [
    "undernutrition = undernutrition.replace(\"2017-2019\",\"2018\")"
   ]
  },
  {
   "cell_type": "markdown",
   "id": "8f01d508",
   "metadata": {},
   "source": [
    "- undernutrition dataframe display :"
   ]
  },
  {
   "cell_type": "code",
   "execution_count": 128,
   "id": "2b35b655",
   "metadata": {},
   "outputs": [
    {
     "name": "stdout",
     "output_type": "stream",
     "text": [
      "             Zone Année  Valeur (en million d'hab)\n",
      "0     Afghanistan  2013                        8.6\n",
      "1     Afghanistan  2014                        8.8\n",
      "2     Afghanistan  2015                        8.9\n",
      "3     Afghanistan  2016                        9.7\n",
      "4     Afghanistan  2017                       10.5\n",
      "...           ...   ...                        ...\n",
      "1213     Zimbabwe  2014                        0.0\n",
      "1214     Zimbabwe  2015                        0.0\n",
      "1215     Zimbabwe  2016                        0.0\n",
      "1216     Zimbabwe  2017                        0.0\n",
      "1217     Zimbabwe  2018                        0.0\n",
      "\n",
      "[1218 rows x 3 columns]\n"
     ]
    }
   ],
   "source": [
    "print(undernutrition)"
   ]
  },
  {
   "cell_type": "markdown",
   "id": "59d579e9",
   "metadata": {},
   "source": [
    "- Convert \"Valeur\" column values in thousands of inhabitants :"
   ]
  },
  {
   "cell_type": "code",
   "execution_count": 134,
   "id": "144b8ce8",
   "metadata": {},
   "outputs": [],
   "source": [
    "undernutrition[\"Valeur (en milliers d'hab)\"] = undernutrition[\"Valeur (en million d'hab)\"] * 1000"
   ]
  },
  {
   "cell_type": "markdown",
   "id": "2d7a49de",
   "metadata": {},
   "source": [
    "- undernutrition dataframe display :"
   ]
  },
  {
   "cell_type": "code",
   "execution_count": 135,
   "id": "138786c0",
   "metadata": {},
   "outputs": [
    {
     "data": {
      "text/html": [
       "<div>\n",
       "<style scoped>\n",
       "    .dataframe tbody tr th:only-of-type {\n",
       "        vertical-align: middle;\n",
       "    }\n",
       "\n",
       "    .dataframe tbody tr th {\n",
       "        vertical-align: top;\n",
       "    }\n",
       "\n",
       "    .dataframe thead th {\n",
       "        text-align: right;\n",
       "    }\n",
       "</style>\n",
       "<table border=\"1\" class=\"dataframe\">\n",
       "  <thead>\n",
       "    <tr style=\"text-align: right;\">\n",
       "      <th></th>\n",
       "      <th>Zone</th>\n",
       "      <th>Année</th>\n",
       "      <th>Valeur (en million d'hab)</th>\n",
       "      <th>Valeur (en milliers d'hab)</th>\n",
       "    </tr>\n",
       "  </thead>\n",
       "  <tbody>\n",
       "    <tr>\n",
       "      <th>0</th>\n",
       "      <td>Afghanistan</td>\n",
       "      <td>2013</td>\n",
       "      <td>8.6</td>\n",
       "      <td>8600.0</td>\n",
       "    </tr>\n",
       "    <tr>\n",
       "      <th>1</th>\n",
       "      <td>Afghanistan</td>\n",
       "      <td>2014</td>\n",
       "      <td>8.8</td>\n",
       "      <td>8800.0</td>\n",
       "    </tr>\n",
       "    <tr>\n",
       "      <th>2</th>\n",
       "      <td>Afghanistan</td>\n",
       "      <td>2015</td>\n",
       "      <td>8.9</td>\n",
       "      <td>8900.0</td>\n",
       "    </tr>\n",
       "    <tr>\n",
       "      <th>3</th>\n",
       "      <td>Afghanistan</td>\n",
       "      <td>2016</td>\n",
       "      <td>9.7</td>\n",
       "      <td>9700.0</td>\n",
       "    </tr>\n",
       "    <tr>\n",
       "      <th>4</th>\n",
       "      <td>Afghanistan</td>\n",
       "      <td>2017</td>\n",
       "      <td>10.5</td>\n",
       "      <td>10500.0</td>\n",
       "    </tr>\n",
       "  </tbody>\n",
       "</table>\n",
       "</div>"
      ],
      "text/plain": [
       "          Zone Année  Valeur (en million d'hab)  Valeur (en milliers d'hab)\n",
       "0  Afghanistan  2013                        8.6                      8600.0\n",
       "1  Afghanistan  2014                        8.8                      8800.0\n",
       "2  Afghanistan  2015                        8.9                      8900.0\n",
       "3  Afghanistan  2016                        9.7                      9700.0\n",
       "4  Afghanistan  2017                       10.5                     10500.0"
      ]
     },
     "execution_count": 135,
     "metadata": {},
     "output_type": "execute_result"
    }
   ],
   "source": [
    "undernutrition.head()"
   ]
  },
  {
   "cell_type": "markdown",
   "id": "a6f5f588",
   "metadata": {},
   "source": [
    "- Convert \"Valeur (en milliers d'hab)\" column to integer :"
   ]
  },
  {
   "cell_type": "code",
   "execution_count": 136,
   "id": "3271d321",
   "metadata": {},
   "outputs": [],
   "source": [
    "undernutrition = undernutrition.astype({\"Valeur (en milliers d'hab)\": int})"
   ]
  },
  {
   "cell_type": "markdown",
   "id": "6891c797",
   "metadata": {},
   "source": [
    "- undernutrition dataframe display :"
   ]
  },
  {
   "cell_type": "code",
   "execution_count": 137,
   "id": "b8fce4a7",
   "metadata": {},
   "outputs": [
    {
     "data": {
      "text/html": [
       "<div>\n",
       "<style scoped>\n",
       "    .dataframe tbody tr th:only-of-type {\n",
       "        vertical-align: middle;\n",
       "    }\n",
       "\n",
       "    .dataframe tbody tr th {\n",
       "        vertical-align: top;\n",
       "    }\n",
       "\n",
       "    .dataframe thead th {\n",
       "        text-align: right;\n",
       "    }\n",
       "</style>\n",
       "<table border=\"1\" class=\"dataframe\">\n",
       "  <thead>\n",
       "    <tr style=\"text-align: right;\">\n",
       "      <th></th>\n",
       "      <th>Zone</th>\n",
       "      <th>Année</th>\n",
       "      <th>Valeur (en million d'hab)</th>\n",
       "      <th>Valeur (en milliers d'hab)</th>\n",
       "    </tr>\n",
       "  </thead>\n",
       "  <tbody>\n",
       "    <tr>\n",
       "      <th>0</th>\n",
       "      <td>Afghanistan</td>\n",
       "      <td>2013</td>\n",
       "      <td>8.6</td>\n",
       "      <td>8600</td>\n",
       "    </tr>\n",
       "    <tr>\n",
       "      <th>1</th>\n",
       "      <td>Afghanistan</td>\n",
       "      <td>2014</td>\n",
       "      <td>8.8</td>\n",
       "      <td>8800</td>\n",
       "    </tr>\n",
       "    <tr>\n",
       "      <th>2</th>\n",
       "      <td>Afghanistan</td>\n",
       "      <td>2015</td>\n",
       "      <td>8.9</td>\n",
       "      <td>8900</td>\n",
       "    </tr>\n",
       "    <tr>\n",
       "      <th>3</th>\n",
       "      <td>Afghanistan</td>\n",
       "      <td>2016</td>\n",
       "      <td>9.7</td>\n",
       "      <td>9700</td>\n",
       "    </tr>\n",
       "    <tr>\n",
       "      <th>4</th>\n",
       "      <td>Afghanistan</td>\n",
       "      <td>2017</td>\n",
       "      <td>10.5</td>\n",
       "      <td>10500</td>\n",
       "    </tr>\n",
       "  </tbody>\n",
       "</table>\n",
       "</div>"
      ],
      "text/plain": [
       "          Zone Année  Valeur (en million d'hab)  Valeur (en milliers d'hab)\n",
       "0  Afghanistan  2013                        8.6                        8600\n",
       "1  Afghanistan  2014                        8.8                        8800\n",
       "2  Afghanistan  2015                        8.9                        8900\n",
       "3  Afghanistan  2016                        9.7                        9700\n",
       "4  Afghanistan  2017                       10.5                       10500"
      ]
     },
     "execution_count": 137,
     "metadata": {},
     "output_type": "execute_result"
    }
   ],
   "source": [
    "undernutrition.head()"
   ]
  },
  {
   "cell_type": "markdown",
   "id": "d877e2f0",
   "metadata": {},
   "source": [
    "\n"
   ]
  },
  {
   "cell_type": "markdown",
   "id": "7a86823f",
   "metadata": {},
   "source": [
    "*b. [population.csv](http://localhost:8888/edit/population.csv) : exploration and data cleaning*"
   ]
  },
  {
   "cell_type": "markdown",
   "id": "82925741",
   "metadata": {},
   "source": [
    "- Loading file:"
   ]
  },
  {
   "cell_type": "code",
   "execution_count": 138,
   "id": "38e7d46c",
   "metadata": {},
   "outputs": [],
   "source": [
    "population = pd.read_csv('population.csv', sep=';')"
   ]
  },
  {
   "cell_type": "markdown",
   "id": "8932303b",
   "metadata": {},
   "source": [
    "- First 5 rows display :"
   ]
  },
  {
   "cell_type": "code",
   "execution_count": 139,
   "id": "05ce6096",
   "metadata": {},
   "outputs": [
    {
     "data": {
      "text/html": [
       "<div>\n",
       "<style scoped>\n",
       "    .dataframe tbody tr th:only-of-type {\n",
       "        vertical-align: middle;\n",
       "    }\n",
       "\n",
       "    .dataframe tbody tr th {\n",
       "        vertical-align: top;\n",
       "    }\n",
       "\n",
       "    .dataframe thead th {\n",
       "        text-align: right;\n",
       "    }\n",
       "</style>\n",
       "<table border=\"1\" class=\"dataframe\">\n",
       "  <thead>\n",
       "    <tr style=\"text-align: right;\">\n",
       "      <th></th>\n",
       "      <th>Zone</th>\n",
       "      <th>Année</th>\n",
       "      <th>Valeur (en milliers d'hab)</th>\n",
       "    </tr>\n",
       "  </thead>\n",
       "  <tbody>\n",
       "    <tr>\n",
       "      <th>0</th>\n",
       "      <td>Afghanistan</td>\n",
       "      <td>2013</td>\n",
       "      <td>32269.589</td>\n",
       "    </tr>\n",
       "    <tr>\n",
       "      <th>1</th>\n",
       "      <td>Afghanistan</td>\n",
       "      <td>2014</td>\n",
       "      <td>33370.794</td>\n",
       "    </tr>\n",
       "    <tr>\n",
       "      <th>2</th>\n",
       "      <td>Afghanistan</td>\n",
       "      <td>2015</td>\n",
       "      <td>34413.603</td>\n",
       "    </tr>\n",
       "    <tr>\n",
       "      <th>3</th>\n",
       "      <td>Afghanistan</td>\n",
       "      <td>2016</td>\n",
       "      <td>35383.032</td>\n",
       "    </tr>\n",
       "    <tr>\n",
       "      <th>4</th>\n",
       "      <td>Afghanistan</td>\n",
       "      <td>2017</td>\n",
       "      <td>36296.113</td>\n",
       "    </tr>\n",
       "  </tbody>\n",
       "</table>\n",
       "</div>"
      ],
      "text/plain": [
       "          Zone  Année  Valeur (en milliers d'hab)\n",
       "0  Afghanistan   2013                   32269.589\n",
       "1  Afghanistan   2014                   33370.794\n",
       "2  Afghanistan   2015                   34413.603\n",
       "3  Afghanistan   2016                   35383.032\n",
       "4  Afghanistan   2017                   36296.113"
      ]
     },
     "execution_count": 139,
     "metadata": {},
     "output_type": "execute_result"
    }
   ],
   "source": [
    "population.head()"
   ]
  },
  {
   "cell_type": "markdown",
   "id": "6769255d",
   "metadata": {},
   "source": [
    "- Number of rows and columns :"
   ]
  },
  {
   "cell_type": "code",
   "execution_count": 140,
   "id": "50473c0c",
   "metadata": {},
   "outputs": [
    {
     "data": {
      "text/plain": [
       "(1416, 3)"
      ]
     },
     "execution_count": 140,
     "metadata": {},
     "output_type": "execute_result"
    }
   ],
   "source": [
    "population.shape"
   ]
  },
  {
   "cell_type": "markdown",
   "id": "f368d0e4",
   "metadata": {},
   "source": [
    "- .dtypes display :"
   ]
  },
  {
   "cell_type": "code",
   "execution_count": 141,
   "id": "e02bda03",
   "metadata": {},
   "outputs": [
    {
     "data": {
      "text/plain": [
       "Zone                           object\n",
       "Année                           int64\n",
       "Valeur (en milliers d'hab)    float64\n",
       "dtype: object"
      ]
     },
     "execution_count": 141,
     "metadata": {},
     "output_type": "execute_result"
    }
   ],
   "source": [
    "population.dtypes"
   ]
  },
  {
   "cell_type": "markdown",
   "id": "b6e63fe0",
   "metadata": {},
   "source": [
    "- .unique values display :"
   ]
  },
  {
   "cell_type": "code",
   "execution_count": 142,
   "id": "36df60b1",
   "metadata": {},
   "outputs": [
    {
     "data": {
      "text/plain": [
       "array([32269.589, 33370.794, 34413.603, ..., 14030.331, 14236.595,\n",
       "       14438.802])"
      ]
     },
     "execution_count": 142,
     "metadata": {},
     "output_type": "execute_result"
    }
   ],
   "source": [
    "population[\"Valeur (en milliers d'hab)\"].unique()"
   ]
  },
  {
   "cell_type": "markdown",
   "id": "f8f783b1",
   "metadata": {},
   "source": [
    "- Number of unique values :"
   ]
  },
  {
   "cell_type": "code",
   "execution_count": 143,
   "id": "c22e419c",
   "metadata": {},
   "outputs": [
    {
     "data": {
      "text/plain": [
       "1413"
      ]
     },
     "execution_count": 143,
     "metadata": {},
     "output_type": "execute_result"
    }
   ],
   "source": [
    "len(population[\"Valeur (en milliers d'hab)\"].unique())"
   ]
  },
  {
   "cell_type": "markdown",
   "id": "f4f60ae3",
   "metadata": {},
   "source": [
    "- Align \"Zone\" column name with those of \"food_availability\" file :"
   ]
  },
  {
   "cell_type": "code",
   "execution_count": 144,
   "id": "ea097ef0",
   "metadata": {},
   "outputs": [],
   "source": [
    "population = population.replace(\"Royaume-Uni de Grande-Bretagne et d'Irlande du Nord\",\"Royaume-Uni\")"
   ]
  },
  {
   "cell_type": "code",
   "execution_count": 145,
   "id": "7a85c984",
   "metadata": {},
   "outputs": [],
   "source": [
    "population = population.replace(\"Tchéquie\",\"Tchéquie (la)\")"
   ]
  },
  {
   "cell_type": "code",
   "execution_count": 146,
   "id": "08dea97e",
   "metadata": {},
   "outputs": [
    {
     "data": {
      "text/html": [
       "<div>\n",
       "<style scoped>\n",
       "    .dataframe tbody tr th:only-of-type {\n",
       "        vertical-align: middle;\n",
       "    }\n",
       "\n",
       "    .dataframe tbody tr th {\n",
       "        vertical-align: top;\n",
       "    }\n",
       "\n",
       "    .dataframe thead th {\n",
       "        text-align: right;\n",
       "    }\n",
       "</style>\n",
       "<table border=\"1\" class=\"dataframe\">\n",
       "  <thead>\n",
       "    <tr style=\"text-align: right;\">\n",
       "      <th></th>\n",
       "      <th>Zone</th>\n",
       "      <th>Année</th>\n",
       "      <th>Valeur (en milliers d'hab)</th>\n",
       "    </tr>\n",
       "  </thead>\n",
       "  <tbody>\n",
       "    <tr>\n",
       "      <th>1302</th>\n",
       "      <td>Tchéquie (la)</td>\n",
       "      <td>2013</td>\n",
       "      <td>10586.533</td>\n",
       "    </tr>\n",
       "    <tr>\n",
       "      <th>1303</th>\n",
       "      <td>Tchéquie (la)</td>\n",
       "      <td>2014</td>\n",
       "      <td>10591.108</td>\n",
       "    </tr>\n",
       "    <tr>\n",
       "      <th>1304</th>\n",
       "      <td>Tchéquie (la)</td>\n",
       "      <td>2015</td>\n",
       "      <td>10601.397</td>\n",
       "    </tr>\n",
       "    <tr>\n",
       "      <th>1305</th>\n",
       "      <td>Tchéquie (la)</td>\n",
       "      <td>2016</td>\n",
       "      <td>10618.857</td>\n",
       "    </tr>\n",
       "    <tr>\n",
       "      <th>1306</th>\n",
       "      <td>Tchéquie (la)</td>\n",
       "      <td>2017</td>\n",
       "      <td>10641.034</td>\n",
       "    </tr>\n",
       "    <tr>\n",
       "      <th>1307</th>\n",
       "      <td>Tchéquie (la)</td>\n",
       "      <td>2018</td>\n",
       "      <td>10665.677</td>\n",
       "    </tr>\n",
       "  </tbody>\n",
       "</table>\n",
       "</div>"
      ],
      "text/plain": [
       "               Zone  Année  Valeur (en milliers d'hab)\n",
       "1302  Tchéquie (la)   2013                   10586.533\n",
       "1303  Tchéquie (la)   2014                   10591.108\n",
       "1304  Tchéquie (la)   2015                   10601.397\n",
       "1305  Tchéquie (la)   2016                   10618.857\n",
       "1306  Tchéquie (la)   2017                   10641.034\n",
       "1307  Tchéquie (la)   2018                   10665.677"
      ]
     },
     "execution_count": 146,
     "metadata": {},
     "output_type": "execute_result"
    }
   ],
   "source": [
    "population.iloc[1302:1308]"
   ]
  },
  {
   "cell_type": "code",
   "execution_count": 147,
   "id": "c5dd23fc",
   "metadata": {},
   "outputs": [
    {
     "data": {
      "text/html": [
       "<div>\n",
       "<style scoped>\n",
       "    .dataframe tbody tr th:only-of-type {\n",
       "        vertical-align: middle;\n",
       "    }\n",
       "\n",
       "    .dataframe tbody tr th {\n",
       "        vertical-align: top;\n",
       "    }\n",
       "\n",
       "    .dataframe thead th {\n",
       "        text-align: right;\n",
       "    }\n",
       "</style>\n",
       "<table border=\"1\" class=\"dataframe\">\n",
       "  <thead>\n",
       "    <tr style=\"text-align: right;\">\n",
       "      <th></th>\n",
       "      <th>Zone</th>\n",
       "      <th>Année</th>\n",
       "      <th>Valeur (en milliers d'hab)</th>\n",
       "    </tr>\n",
       "  </thead>\n",
       "  <tbody>\n",
       "    <tr>\n",
       "      <th>1110</th>\n",
       "      <td>Royaume-Uni</td>\n",
       "      <td>2013</td>\n",
       "      <td>64984.018</td>\n",
       "    </tr>\n",
       "    <tr>\n",
       "      <th>1111</th>\n",
       "      <td>Royaume-Uni</td>\n",
       "      <td>2014</td>\n",
       "      <td>65423.047</td>\n",
       "    </tr>\n",
       "    <tr>\n",
       "      <th>1112</th>\n",
       "      <td>Royaume-Uni</td>\n",
       "      <td>2015</td>\n",
       "      <td>65860.146</td>\n",
       "    </tr>\n",
       "    <tr>\n",
       "      <th>1113</th>\n",
       "      <td>Royaume-Uni</td>\n",
       "      <td>2016</td>\n",
       "      <td>66297.944</td>\n",
       "    </tr>\n",
       "    <tr>\n",
       "      <th>1114</th>\n",
       "      <td>Royaume-Uni</td>\n",
       "      <td>2017</td>\n",
       "      <td>66727.461</td>\n",
       "    </tr>\n",
       "    <tr>\n",
       "      <th>1115</th>\n",
       "      <td>Royaume-Uni</td>\n",
       "      <td>2018</td>\n",
       "      <td>67141.684</td>\n",
       "    </tr>\n",
       "  </tbody>\n",
       "</table>\n",
       "</div>"
      ],
      "text/plain": [
       "             Zone  Année  Valeur (en milliers d'hab)\n",
       "1110  Royaume-Uni   2013                   64984.018\n",
       "1111  Royaume-Uni   2014                   65423.047\n",
       "1112  Royaume-Uni   2015                   65860.146\n",
       "1113  Royaume-Uni   2016                   66297.944\n",
       "1114  Royaume-Uni   2017                   66727.461\n",
       "1115  Royaume-Uni   2018                   67141.684"
      ]
     },
     "execution_count": 147,
     "metadata": {},
     "output_type": "execute_result"
    }
   ],
   "source": [
    "population.iloc[1110:1116]"
   ]
  },
  {
   "cell_type": "markdown",
   "id": "ae7e3da4",
   "metadata": {},
   "source": [
    "- Convert \"Valeur\" column values to million of inhabitants :"
   ]
  },
  {
   "cell_type": "code",
   "execution_count": 148,
   "id": "793af22c",
   "metadata": {},
   "outputs": [],
   "source": [
    "population[\"Valeur (en million d'hab)\"] = population[\"Valeur (en milliers d'hab)\"] * 1000"
   ]
  },
  {
   "cell_type": "markdown",
   "id": "2572e7a6",
   "metadata": {},
   "source": [
    "- population dataframe display :"
   ]
  },
  {
   "cell_type": "code",
   "execution_count": 150,
   "id": "9f302b79",
   "metadata": {},
   "outputs": [
    {
     "data": {
      "text/html": [
       "<div>\n",
       "<style scoped>\n",
       "    .dataframe tbody tr th:only-of-type {\n",
       "        vertical-align: middle;\n",
       "    }\n",
       "\n",
       "    .dataframe tbody tr th {\n",
       "        vertical-align: top;\n",
       "    }\n",
       "\n",
       "    .dataframe thead th {\n",
       "        text-align: right;\n",
       "    }\n",
       "</style>\n",
       "<table border=\"1\" class=\"dataframe\">\n",
       "  <thead>\n",
       "    <tr style=\"text-align: right;\">\n",
       "      <th></th>\n",
       "      <th>Zone</th>\n",
       "      <th>Année</th>\n",
       "      <th>Valeur (en milliers d'hab)</th>\n",
       "      <th>Valeur (en million d'hab)</th>\n",
       "    </tr>\n",
       "  </thead>\n",
       "  <tbody>\n",
       "    <tr>\n",
       "      <th>0</th>\n",
       "      <td>Afghanistan</td>\n",
       "      <td>2013</td>\n",
       "      <td>32269.589</td>\n",
       "      <td>32269589.0</td>\n",
       "    </tr>\n",
       "    <tr>\n",
       "      <th>1</th>\n",
       "      <td>Afghanistan</td>\n",
       "      <td>2014</td>\n",
       "      <td>33370.794</td>\n",
       "      <td>33370794.0</td>\n",
       "    </tr>\n",
       "    <tr>\n",
       "      <th>2</th>\n",
       "      <td>Afghanistan</td>\n",
       "      <td>2015</td>\n",
       "      <td>34413.603</td>\n",
       "      <td>34413603.0</td>\n",
       "    </tr>\n",
       "    <tr>\n",
       "      <th>3</th>\n",
       "      <td>Afghanistan</td>\n",
       "      <td>2016</td>\n",
       "      <td>35383.032</td>\n",
       "      <td>35383032.0</td>\n",
       "    </tr>\n",
       "    <tr>\n",
       "      <th>4</th>\n",
       "      <td>Afghanistan</td>\n",
       "      <td>2017</td>\n",
       "      <td>36296.113</td>\n",
       "      <td>36296113.0</td>\n",
       "    </tr>\n",
       "  </tbody>\n",
       "</table>\n",
       "</div>"
      ],
      "text/plain": [
       "          Zone  Année  Valeur (en milliers d'hab)  Valeur (en million d'hab)\n",
       "0  Afghanistan   2013                   32269.589                 32269589.0\n",
       "1  Afghanistan   2014                   33370.794                 33370794.0\n",
       "2  Afghanistan   2015                   34413.603                 34413603.0\n",
       "3  Afghanistan   2016                   35383.032                 35383032.0\n",
       "4  Afghanistan   2017                   36296.113                 36296113.0"
      ]
     },
     "execution_count": 150,
     "metadata": {},
     "output_type": "execute_result"
    }
   ],
   "source": [
    "population.head()"
   ]
  },
  {
   "cell_type": "markdown",
   "id": "101c2e5d",
   "metadata": {},
   "source": [
    "- Convert \"Valeur (en million d'hab)\" column to integer :"
   ]
  },
  {
   "cell_type": "code",
   "execution_count": 151,
   "id": "c9cbbc1a",
   "metadata": {},
   "outputs": [],
   "source": [
    "population = population.astype({\"Valeur (en million d'hab)\": int})"
   ]
  },
  {
   "cell_type": "markdown",
   "id": "71e7727b",
   "metadata": {},
   "source": [
    "- population dataframe display :"
   ]
  },
  {
   "cell_type": "code",
   "execution_count": 152,
   "id": "5dc2f511",
   "metadata": {},
   "outputs": [
    {
     "data": {
      "text/html": [
       "<div>\n",
       "<style scoped>\n",
       "    .dataframe tbody tr th:only-of-type {\n",
       "        vertical-align: middle;\n",
       "    }\n",
       "\n",
       "    .dataframe tbody tr th {\n",
       "        vertical-align: top;\n",
       "    }\n",
       "\n",
       "    .dataframe thead th {\n",
       "        text-align: right;\n",
       "    }\n",
       "</style>\n",
       "<table border=\"1\" class=\"dataframe\">\n",
       "  <thead>\n",
       "    <tr style=\"text-align: right;\">\n",
       "      <th></th>\n",
       "      <th>Zone</th>\n",
       "      <th>Année</th>\n",
       "      <th>Valeur (en milliers d'hab)</th>\n",
       "      <th>Valeur (en million d'hab)</th>\n",
       "    </tr>\n",
       "  </thead>\n",
       "  <tbody>\n",
       "    <tr>\n",
       "      <th>0</th>\n",
       "      <td>Afghanistan</td>\n",
       "      <td>2013</td>\n",
       "      <td>32269.589</td>\n",
       "      <td>32269589</td>\n",
       "    </tr>\n",
       "    <tr>\n",
       "      <th>1</th>\n",
       "      <td>Afghanistan</td>\n",
       "      <td>2014</td>\n",
       "      <td>33370.794</td>\n",
       "      <td>33370794</td>\n",
       "    </tr>\n",
       "    <tr>\n",
       "      <th>2</th>\n",
       "      <td>Afghanistan</td>\n",
       "      <td>2015</td>\n",
       "      <td>34413.603</td>\n",
       "      <td>34413603</td>\n",
       "    </tr>\n",
       "    <tr>\n",
       "      <th>3</th>\n",
       "      <td>Afghanistan</td>\n",
       "      <td>2016</td>\n",
       "      <td>35383.032</td>\n",
       "      <td>35383032</td>\n",
       "    </tr>\n",
       "    <tr>\n",
       "      <th>4</th>\n",
       "      <td>Afghanistan</td>\n",
       "      <td>2017</td>\n",
       "      <td>36296.113</td>\n",
       "      <td>36296113</td>\n",
       "    </tr>\n",
       "  </tbody>\n",
       "</table>\n",
       "</div>"
      ],
      "text/plain": [
       "          Zone  Année  Valeur (en milliers d'hab)  Valeur (en million d'hab)\n",
       "0  Afghanistan   2013                   32269.589                   32269589\n",
       "1  Afghanistan   2014                   33370.794                   33370794\n",
       "2  Afghanistan   2015                   34413.603                   34413603\n",
       "3  Afghanistan   2016                   35383.032                   35383032\n",
       "4  Afghanistan   2017                   36296.113                   36296113"
      ]
     },
     "execution_count": 152,
     "metadata": {},
     "output_type": "execute_result"
    }
   ],
   "source": [
    "population.head()"
   ]
  },
  {
   "cell_type": "markdown",
   "id": "e96bd6a9",
   "metadata": {},
   "source": [
    "- population 2017 new df :"
   ]
  },
  {
   "cell_type": "code",
   "execution_count": 169,
   "id": "e1f453c5",
   "metadata": {},
   "outputs": [],
   "source": [
    "pop2017 = population.loc[population[\"Année\"].isin([2017])]"
   ]
  },
  {
   "cell_type": "markdown",
   "id": "9fbc2f73",
   "metadata": {},
   "source": [
    "- population 2017 dataframe display :"
   ]
  },
  {
   "cell_type": "code",
   "execution_count": 171,
   "id": "9fcf6a75",
   "metadata": {},
   "outputs": [
    {
     "data": {
      "text/html": [
       "<div>\n",
       "<style scoped>\n",
       "    .dataframe tbody tr th:only-of-type {\n",
       "        vertical-align: middle;\n",
       "    }\n",
       "\n",
       "    .dataframe tbody tr th {\n",
       "        vertical-align: top;\n",
       "    }\n",
       "\n",
       "    .dataframe thead th {\n",
       "        text-align: right;\n",
       "    }\n",
       "</style>\n",
       "<table border=\"1\" class=\"dataframe\">\n",
       "  <thead>\n",
       "    <tr style=\"text-align: right;\">\n",
       "      <th></th>\n",
       "      <th>Zone</th>\n",
       "      <th>Année</th>\n",
       "      <th>Valeur (en milliers d'hab)</th>\n",
       "      <th>Valeur (en million d'hab)</th>\n",
       "    </tr>\n",
       "  </thead>\n",
       "  <tbody>\n",
       "    <tr>\n",
       "      <th>4</th>\n",
       "      <td>Afghanistan</td>\n",
       "      <td>2017</td>\n",
       "      <td>36296.113</td>\n",
       "      <td>36296113</td>\n",
       "    </tr>\n",
       "    <tr>\n",
       "      <th>10</th>\n",
       "      <td>Afrique du Sud</td>\n",
       "      <td>2017</td>\n",
       "      <td>57009.756</td>\n",
       "      <td>57009756</td>\n",
       "    </tr>\n",
       "    <tr>\n",
       "      <th>16</th>\n",
       "      <td>Albanie</td>\n",
       "      <td>2017</td>\n",
       "      <td>2884.169</td>\n",
       "      <td>2884169</td>\n",
       "    </tr>\n",
       "    <tr>\n",
       "      <th>22</th>\n",
       "      <td>Algérie</td>\n",
       "      <td>2017</td>\n",
       "      <td>41389.189</td>\n",
       "      <td>41389189</td>\n",
       "    </tr>\n",
       "    <tr>\n",
       "      <th>28</th>\n",
       "      <td>Allemagne</td>\n",
       "      <td>2017</td>\n",
       "      <td>82658.409</td>\n",
       "      <td>82658409</td>\n",
       "    </tr>\n",
       "  </tbody>\n",
       "</table>\n",
       "</div>"
      ],
      "text/plain": [
       "              Zone  Année  Valeur (en milliers d'hab)  \\\n",
       "4      Afghanistan   2017                   36296.113   \n",
       "10  Afrique du Sud   2017                   57009.756   \n",
       "16         Albanie   2017                    2884.169   \n",
       "22         Algérie   2017                   41389.189   \n",
       "28       Allemagne   2017                   82658.409   \n",
       "\n",
       "    Valeur (en million d'hab)  \n",
       "4                    36296113  \n",
       "10                   57009756  \n",
       "16                    2884169  \n",
       "22                   41389189  \n",
       "28                   82658409  "
      ]
     },
     "execution_count": 171,
     "metadata": {},
     "output_type": "execute_result"
    }
   ],
   "source": [
    "pop2017.head()"
   ]
  },
  {
   "cell_type": "code",
   "execution_count": 174,
   "id": "a5c32a9a",
   "metadata": {},
   "outputs": [
    {
     "data": {
      "text/plain": [
       "(236, 4)"
      ]
     },
     "execution_count": 174,
     "metadata": {},
     "output_type": "execute_result"
    }
   ],
   "source": [
    "pop2017.shape"
   ]
  },
  {
   "cell_type": "markdown",
   "id": "32d1ace9",
   "metadata": {},
   "source": [
    " "
   ]
  },
  {
   "cell_type": "markdown",
   "id": "59d67a9f",
   "metadata": {},
   "source": [
    "*c. [food_help.csv](http://localhost:8888/edit/food_help.csv) : exploration and data cleaning*\n"
   ]
  },
  {
   "cell_type": "markdown",
   "id": "2c06c344",
   "metadata": {},
   "source": [
    "- Loading file:"
   ]
  },
  {
   "cell_type": "code",
   "execution_count": 34,
   "id": "afa04da3",
   "metadata": {},
   "outputs": [],
   "source": [
    "foodHelp = pd.read_csv('food_help.csv', sep=';')"
   ]
  },
  {
   "cell_type": "markdown",
   "id": "61799f36",
   "metadata": {},
   "source": [
    "- First 5 rows display :"
   ]
  },
  {
   "cell_type": "code",
   "execution_count": 35,
   "id": "928ed6c2",
   "metadata": {},
   "outputs": [
    {
     "data": {
      "text/html": [
       "<div>\n",
       "<style scoped>\n",
       "    .dataframe tbody tr th:only-of-type {\n",
       "        vertical-align: middle;\n",
       "    }\n",
       "\n",
       "    .dataframe tbody tr th {\n",
       "        vertical-align: top;\n",
       "    }\n",
       "\n",
       "    .dataframe thead th {\n",
       "        text-align: right;\n",
       "    }\n",
       "</style>\n",
       "<table border=\"1\" class=\"dataframe\">\n",
       "  <thead>\n",
       "    <tr style=\"text-align: right;\">\n",
       "      <th></th>\n",
       "      <th>Pays bénéficiaire</th>\n",
       "      <th>Année</th>\n",
       "      <th>Produit</th>\n",
       "      <th>Valeur</th>\n",
       "    </tr>\n",
       "  </thead>\n",
       "  <tbody>\n",
       "    <tr>\n",
       "      <th>0</th>\n",
       "      <td>Afghanistan</td>\n",
       "      <td>2013</td>\n",
       "      <td>Autres non-céréales</td>\n",
       "      <td>682</td>\n",
       "    </tr>\n",
       "    <tr>\n",
       "      <th>1</th>\n",
       "      <td>Afghanistan</td>\n",
       "      <td>2014</td>\n",
       "      <td>Autres non-céréales</td>\n",
       "      <td>335</td>\n",
       "    </tr>\n",
       "    <tr>\n",
       "      <th>2</th>\n",
       "      <td>Afghanistan</td>\n",
       "      <td>2013</td>\n",
       "      <td>Blé et Farin</td>\n",
       "      <td>39224</td>\n",
       "    </tr>\n",
       "    <tr>\n",
       "      <th>3</th>\n",
       "      <td>Afghanistan</td>\n",
       "      <td>2014</td>\n",
       "      <td>Blé et Farin</td>\n",
       "      <td>15160</td>\n",
       "    </tr>\n",
       "    <tr>\n",
       "      <th>4</th>\n",
       "      <td>Afghanistan</td>\n",
       "      <td>2013</td>\n",
       "      <td>Céréales</td>\n",
       "      <td>40504</td>\n",
       "    </tr>\n",
       "  </tbody>\n",
       "</table>\n",
       "</div>"
      ],
      "text/plain": [
       "  Pays bénéficiaire  Année              Produit  Valeur\n",
       "0       Afghanistan   2013  Autres non-céréales     682\n",
       "1       Afghanistan   2014  Autres non-céréales     335\n",
       "2       Afghanistan   2013         Blé et Farin   39224\n",
       "3       Afghanistan   2014         Blé et Farin   15160\n",
       "4       Afghanistan   2013             Céréales   40504"
      ]
     },
     "execution_count": 35,
     "metadata": {},
     "output_type": "execute_result"
    }
   ],
   "source": [
    "foodHelp.head()"
   ]
  },
  {
   "cell_type": "markdown",
   "id": "1c288812",
   "metadata": {},
   "source": [
    "- Number of rows and columns :"
   ]
  },
  {
   "cell_type": "code",
   "execution_count": 36,
   "id": "7bfa1dce",
   "metadata": {},
   "outputs": [
    {
     "data": {
      "text/plain": [
       "(1475, 4)"
      ]
     },
     "execution_count": 36,
     "metadata": {},
     "output_type": "execute_result"
    }
   ],
   "source": [
    "foodHelp.shape"
   ]
  },
  {
   "cell_type": "markdown",
   "id": "3591f866",
   "metadata": {},
   "source": [
    "- .dtypes display :"
   ]
  },
  {
   "cell_type": "code",
   "execution_count": 37,
   "id": "40cad71c",
   "metadata": {},
   "outputs": [
    {
     "data": {
      "text/plain": [
       "Pays bénéficiaire    object\n",
       "Année                 int64\n",
       "Produit              object\n",
       "Valeur                int64\n",
       "dtype: object"
      ]
     },
     "execution_count": 37,
     "metadata": {},
     "output_type": "execute_result"
    }
   ],
   "source": [
    "foodHelp.dtypes"
   ]
  },
  {
   "cell_type": "markdown",
   "id": "c68dac69",
   "metadata": {},
   "source": [
    "- \"Valeur\" column .unique values display :"
   ]
  },
  {
   "cell_type": "code",
   "execution_count": 38,
   "id": "05c29e01",
   "metadata": {},
   "outputs": [
    {
     "data": {
      "text/plain": [
       "array([  682,   335, 39224, ...,    96,  5022,  2310], dtype=int64)"
      ]
     },
     "execution_count": 38,
     "metadata": {},
     "output_type": "execute_result"
    }
   ],
   "source": [
    "foodHelp[\"Valeur\"].unique()"
   ]
  },
  {
   "cell_type": "markdown",
   "id": "e14164d0",
   "metadata": {},
   "source": [
    "- Number of unique values :"
   ]
  },
  {
   "cell_type": "code",
   "execution_count": 39,
   "id": "fd8633eb",
   "metadata": {},
   "outputs": [
    {
     "data": {
      "text/plain": [
       "1086"
      ]
     },
     "execution_count": 39,
     "metadata": {},
     "output_type": "execute_result"
    }
   ],
   "source": [
    "len(foodHelp[\"Valeur\"].unique())"
   ]
  },
  {
   "cell_type": "markdown",
   "id": "27ca8bc1",
   "metadata": {},
   "source": [
    "- Rename \"Valeur\" column by \"Valeur (en tonnes)\" :"
   ]
  },
  {
   "cell_type": "code",
   "execution_count": 40,
   "id": "05288579",
   "metadata": {},
   "outputs": [],
   "source": [
    "foodHelp.rename(columns = {'Valeur': 'Valeur (en tonnes)'}, inplace=True)"
   ]
  },
  {
   "cell_type": "code",
   "execution_count": 41,
   "id": "bdaac04f",
   "metadata": {},
   "outputs": [
    {
     "name": "stdout",
     "output_type": "stream",
     "text": [
      "     Pays bénéficiaire  Année                   Produit  Valeur (en tonnes)\n",
      "0          Afghanistan   2013       Autres non-céréales                 682\n",
      "1          Afghanistan   2014       Autres non-céréales                 335\n",
      "2          Afghanistan   2013              Blé et Farin               39224\n",
      "3          Afghanistan   2014              Blé et Farin               15160\n",
      "4          Afghanistan   2013                  Céréales               40504\n",
      "...                ...    ...                       ...                 ...\n",
      "1470          Zimbabwe   2015  Mélanges et préparations                  96\n",
      "1471          Zimbabwe   2013              Non-céréales                5022\n",
      "1472          Zimbabwe   2014              Non-céréales                2310\n",
      "1473          Zimbabwe   2015              Non-céréales                 306\n",
      "1474          Zimbabwe   2013                Riz, total                  64\n",
      "\n",
      "[1475 rows x 4 columns]\n"
     ]
    }
   ],
   "source": [
    "print(foodHelp)"
   ]
  },
  {
   "cell_type": "markdown",
   "id": "d5cf0b14",
   "metadata": {},
   "source": [
    " "
   ]
  },
  {
   "cell_type": "markdown",
   "id": "bae67f7d",
   "metadata": {},
   "source": [
    "*d. [food_availability.csv](http://localhost:8888/edit/food_availability.csv) : exploration and data cleaning*"
   ]
  },
  {
   "cell_type": "markdown",
   "id": "2fb27799",
   "metadata": {},
   "source": [
    "- Loading file:"
   ]
  },
  {
   "cell_type": "code",
   "execution_count": 178,
   "id": "fa1adaa1",
   "metadata": {},
   "outputs": [],
   "source": [
    "foodAvailability = pd.read_csv('food_availability.csv', sep=';')"
   ]
  },
  {
   "cell_type": "markdown",
   "id": "058cd848",
   "metadata": {},
   "source": [
    "- First 5 rows display :"
   ]
  },
  {
   "cell_type": "code",
   "execution_count": 180,
   "id": "fe267d61",
   "metadata": {},
   "outputs": [
    {
     "data": {
      "text/html": [
       "<div>\n",
       "<style scoped>\n",
       "    .dataframe tbody tr th:only-of-type {\n",
       "        vertical-align: middle;\n",
       "    }\n",
       "\n",
       "    .dataframe tbody tr th {\n",
       "        vertical-align: top;\n",
       "    }\n",
       "\n",
       "    .dataframe thead th {\n",
       "        text-align: right;\n",
       "    }\n",
       "</style>\n",
       "<table border=\"1\" class=\"dataframe\">\n",
       "  <thead>\n",
       "    <tr style=\"text-align: right;\">\n",
       "      <th></th>\n",
       "      <th>Zone</th>\n",
       "      <th>Produit</th>\n",
       "      <th>Origine</th>\n",
       "      <th>Aliments pour animaux</th>\n",
       "      <th>Autres Utilisations</th>\n",
       "      <th>Disponibilité alimentaire (Kcal/personne/jour)</th>\n",
       "      <th>Disponibilité alimentaire en quantité (kg/personne/an)</th>\n",
       "      <th>Disponibilité de matière grasse en quantité (g/personne/jour)</th>\n",
       "      <th>Disponibilité de protéines en quantité (g/personne/jour)</th>\n",
       "      <th>Disponibilité intérieure</th>\n",
       "      <th>Exportations - Quantité</th>\n",
       "      <th>Importations - Quantité</th>\n",
       "      <th>Nourriture</th>\n",
       "      <th>Pertes</th>\n",
       "      <th>Production</th>\n",
       "      <th>Semences</th>\n",
       "      <th>Traitement</th>\n",
       "      <th>Variation de stock</th>\n",
       "    </tr>\n",
       "  </thead>\n",
       "  <tbody>\n",
       "    <tr>\n",
       "      <th>0</th>\n",
       "      <td>Afghanistan</td>\n",
       "      <td>Abats Comestible</td>\n",
       "      <td>animale</td>\n",
       "      <td>NaN</td>\n",
       "      <td>NaN</td>\n",
       "      <td>5.0</td>\n",
       "      <td>1.72</td>\n",
       "      <td>0.20</td>\n",
       "      <td>0.77</td>\n",
       "      <td>53.0</td>\n",
       "      <td>NaN</td>\n",
       "      <td>NaN</td>\n",
       "      <td>53.0</td>\n",
       "      <td>NaN</td>\n",
       "      <td>53.0</td>\n",
       "      <td>NaN</td>\n",
       "      <td>NaN</td>\n",
       "      <td>NaN</td>\n",
       "    </tr>\n",
       "    <tr>\n",
       "      <th>1</th>\n",
       "      <td>Afghanistan</td>\n",
       "      <td>Agrumes, Autres</td>\n",
       "      <td>vegetale</td>\n",
       "      <td>NaN</td>\n",
       "      <td>NaN</td>\n",
       "      <td>1.0</td>\n",
       "      <td>1.29</td>\n",
       "      <td>0.01</td>\n",
       "      <td>0.02</td>\n",
       "      <td>41.0</td>\n",
       "      <td>2.0</td>\n",
       "      <td>40.0</td>\n",
       "      <td>39.0</td>\n",
       "      <td>2.0</td>\n",
       "      <td>3.0</td>\n",
       "      <td>NaN</td>\n",
       "      <td>NaN</td>\n",
       "      <td>NaN</td>\n",
       "    </tr>\n",
       "    <tr>\n",
       "      <th>2</th>\n",
       "      <td>Afghanistan</td>\n",
       "      <td>Aliments pour enfants</td>\n",
       "      <td>vegetale</td>\n",
       "      <td>NaN</td>\n",
       "      <td>NaN</td>\n",
       "      <td>1.0</td>\n",
       "      <td>0.06</td>\n",
       "      <td>0.01</td>\n",
       "      <td>0.03</td>\n",
       "      <td>2.0</td>\n",
       "      <td>NaN</td>\n",
       "      <td>2.0</td>\n",
       "      <td>2.0</td>\n",
       "      <td>NaN</td>\n",
       "      <td>NaN</td>\n",
       "      <td>NaN</td>\n",
       "      <td>NaN</td>\n",
       "      <td>NaN</td>\n",
       "    </tr>\n",
       "    <tr>\n",
       "      <th>3</th>\n",
       "      <td>Afghanistan</td>\n",
       "      <td>Ananas</td>\n",
       "      <td>vegetale</td>\n",
       "      <td>NaN</td>\n",
       "      <td>NaN</td>\n",
       "      <td>0.0</td>\n",
       "      <td>0.00</td>\n",
       "      <td>NaN</td>\n",
       "      <td>NaN</td>\n",
       "      <td>0.0</td>\n",
       "      <td>NaN</td>\n",
       "      <td>0.0</td>\n",
       "      <td>0.0</td>\n",
       "      <td>NaN</td>\n",
       "      <td>NaN</td>\n",
       "      <td>NaN</td>\n",
       "      <td>NaN</td>\n",
       "      <td>NaN</td>\n",
       "    </tr>\n",
       "    <tr>\n",
       "      <th>4</th>\n",
       "      <td>Afghanistan</td>\n",
       "      <td>Bananes</td>\n",
       "      <td>vegetale</td>\n",
       "      <td>NaN</td>\n",
       "      <td>NaN</td>\n",
       "      <td>4.0</td>\n",
       "      <td>2.70</td>\n",
       "      <td>0.02</td>\n",
       "      <td>0.05</td>\n",
       "      <td>82.0</td>\n",
       "      <td>NaN</td>\n",
       "      <td>82.0</td>\n",
       "      <td>82.0</td>\n",
       "      <td>NaN</td>\n",
       "      <td>NaN</td>\n",
       "      <td>NaN</td>\n",
       "      <td>NaN</td>\n",
       "      <td>NaN</td>\n",
       "    </tr>\n",
       "  </tbody>\n",
       "</table>\n",
       "</div>"
      ],
      "text/plain": [
       "          Zone                Produit   Origine  Aliments pour animaux  \\\n",
       "0  Afghanistan       Abats Comestible   animale                    NaN   \n",
       "1  Afghanistan        Agrumes, Autres  vegetale                    NaN   \n",
       "2  Afghanistan  Aliments pour enfants  vegetale                    NaN   \n",
       "3  Afghanistan                 Ananas  vegetale                    NaN   \n",
       "4  Afghanistan                Bananes  vegetale                    NaN   \n",
       "\n",
       "   Autres Utilisations  Disponibilité alimentaire (Kcal/personne/jour)  \\\n",
       "0                  NaN                                             5.0   \n",
       "1                  NaN                                             1.0   \n",
       "2                  NaN                                             1.0   \n",
       "3                  NaN                                             0.0   \n",
       "4                  NaN                                             4.0   \n",
       "\n",
       "   Disponibilité alimentaire en quantité (kg/personne/an)  \\\n",
       "0                                               1.72        \n",
       "1                                               1.29        \n",
       "2                                               0.06        \n",
       "3                                               0.00        \n",
       "4                                               2.70        \n",
       "\n",
       "   Disponibilité de matière grasse en quantité (g/personne/jour)  \\\n",
       "0                                               0.20               \n",
       "1                                               0.01               \n",
       "2                                               0.01               \n",
       "3                                                NaN               \n",
       "4                                               0.02               \n",
       "\n",
       "   Disponibilité de protéines en quantité (g/personne/jour)  \\\n",
       "0                                               0.77          \n",
       "1                                               0.02          \n",
       "2                                               0.03          \n",
       "3                                                NaN          \n",
       "4                                               0.05          \n",
       "\n",
       "   Disponibilité intérieure  Exportations - Quantité  Importations - Quantité  \\\n",
       "0                      53.0                      NaN                      NaN   \n",
       "1                      41.0                      2.0                     40.0   \n",
       "2                       2.0                      NaN                      2.0   \n",
       "3                       0.0                      NaN                      0.0   \n",
       "4                      82.0                      NaN                     82.0   \n",
       "\n",
       "   Nourriture  Pertes  Production  Semences  Traitement  Variation de stock  \n",
       "0        53.0     NaN        53.0       NaN         NaN                 NaN  \n",
       "1        39.0     2.0         3.0       NaN         NaN                 NaN  \n",
       "2         2.0     NaN         NaN       NaN         NaN                 NaN  \n",
       "3         0.0     NaN         NaN       NaN         NaN                 NaN  \n",
       "4        82.0     NaN         NaN       NaN         NaN                 NaN  "
      ]
     },
     "execution_count": 180,
     "metadata": {},
     "output_type": "execute_result"
    }
   ],
   "source": [
    "foodAvailability.head()"
   ]
  },
  {
   "cell_type": "markdown",
   "id": "36689173",
   "metadata": {},
   "source": [
    "- Number of rows and columns :"
   ]
  },
  {
   "cell_type": "code",
   "execution_count": 181,
   "id": "b14ea53f",
   "metadata": {},
   "outputs": [
    {
     "data": {
      "text/plain": [
       "(15605, 18)"
      ]
     },
     "execution_count": 181,
     "metadata": {},
     "output_type": "execute_result"
    }
   ],
   "source": [
    "foodAvailability.shape"
   ]
  },
  {
   "cell_type": "markdown",
   "id": "f18f63b8",
   "metadata": {},
   "source": [
    "- Replace NaN values by 0.00 :"
   ]
  },
  {
   "cell_type": "code",
   "execution_count": 182,
   "id": "c4fb7045",
   "metadata": {},
   "outputs": [],
   "source": [
    "foodAvailability.fillna(0, inplace=True)"
   ]
  },
  {
   "cell_type": "markdown",
   "id": "6d4e76a1",
   "metadata": {},
   "source": [
    "- foodAvailability dataframe display :"
   ]
  },
  {
   "cell_type": "code",
   "execution_count": 183,
   "id": "d2a419e3",
   "metadata": {},
   "outputs": [
    {
     "name": "stdout",
     "output_type": "stream",
     "text": [
      "               Zone                Produit   Origine  Aliments pour animaux  \\\n",
      "0       Afghanistan       Abats Comestible   animale                    0.0   \n",
      "1       Afghanistan        Agrumes, Autres  vegetale                    0.0   \n",
      "2       Afghanistan  Aliments pour enfants  vegetale                    0.0   \n",
      "3       Afghanistan                 Ananas  vegetale                    0.0   \n",
      "4       Afghanistan                Bananes  vegetale                    0.0   \n",
      "...             ...                    ...       ...                    ...   \n",
      "15600  Îles Salomon       Viande de Suides   animale                    0.0   \n",
      "15601  Îles Salomon    Viande de Volailles   animale                    0.0   \n",
      "15602  Îles Salomon          Viande, Autre   animale                    0.0   \n",
      "15603  Îles Salomon                    Vin  vegetale                    0.0   \n",
      "15604  Îles Salomon         Épices, Autres  vegetale                    0.0   \n",
      "\n",
      "       Autres Utilisations  Disponibilité alimentaire (Kcal/personne/jour)  \\\n",
      "0                      0.0                                             5.0   \n",
      "1                      0.0                                             1.0   \n",
      "2                      0.0                                             1.0   \n",
      "3                      0.0                                             0.0   \n",
      "4                      0.0                                             4.0   \n",
      "...                    ...                                             ...   \n",
      "15600                  0.0                                            45.0   \n",
      "15601                  0.0                                            11.0   \n",
      "15602                  0.0                                             0.0   \n",
      "15603                  0.0                                             0.0   \n",
      "15604                  0.0                                             4.0   \n",
      "\n",
      "       Disponibilité alimentaire en quantité (kg/personne/an)  \\\n",
      "0                                                   1.72        \n",
      "1                                                   1.29        \n",
      "2                                                   0.06        \n",
      "3                                                   0.00        \n",
      "4                                                   2.70        \n",
      "...                                                  ...        \n",
      "15600                                               4.70        \n",
      "15601                                               3.34        \n",
      "15602                                               0.06        \n",
      "15603                                               0.07        \n",
      "15604                                               0.48        \n",
      "\n",
      "       Disponibilité de matière grasse en quantité (g/personne/jour)  \\\n",
      "0                                                   0.20               \n",
      "1                                                   0.01               \n",
      "2                                                   0.01               \n",
      "3                                                   0.00               \n",
      "4                                                   0.02               \n",
      "...                                                  ...               \n",
      "15600                                               4.28               \n",
      "15601                                               0.69               \n",
      "15602                                               0.00               \n",
      "15603                                               0.00               \n",
      "15604                                               0.21               \n",
      "\n",
      "       Disponibilité de protéines en quantité (g/personne/jour)  \\\n",
      "0                                                   0.77          \n",
      "1                                                   0.02          \n",
      "2                                                   0.03          \n",
      "3                                                   0.00          \n",
      "4                                                   0.05          \n",
      "...                                                  ...          \n",
      "15600                                               1.41          \n",
      "15601                                               1.14          \n",
      "15602                                               0.04          \n",
      "15603                                               0.00          \n",
      "15604                                               0.15          \n",
      "\n",
      "       Disponibilité intérieure  Exportations - Quantité  \\\n",
      "0                          53.0                      0.0   \n",
      "1                          41.0                      2.0   \n",
      "2                           2.0                      0.0   \n",
      "3                           0.0                      0.0   \n",
      "4                          82.0                      0.0   \n",
      "...                         ...                      ...   \n",
      "15600                       3.0                      0.0   \n",
      "15601                       2.0                      0.0   \n",
      "15602                       0.0                      0.0   \n",
      "15603                       0.0                      0.0   \n",
      "15604                       0.0                      0.0   \n",
      "\n",
      "       Importations - Quantité  Nourriture  Pertes  Production  Semences  \\\n",
      "0                          0.0        53.0     0.0        53.0       0.0   \n",
      "1                         40.0        39.0     2.0         3.0       0.0   \n",
      "2                          2.0         2.0     0.0         0.0       0.0   \n",
      "3                          0.0         0.0     0.0         0.0       0.0   \n",
      "4                         82.0        82.0     0.0         0.0       0.0   \n",
      "...                        ...         ...     ...         ...       ...   \n",
      "15600                      0.0         3.0     0.0         2.0       0.0   \n",
      "15601                      2.0         2.0     0.0         0.0       0.0   \n",
      "15602                      0.0         0.0     0.0         0.0       0.0   \n",
      "15603                      0.0         0.0     0.0         0.0       0.0   \n",
      "15604                      0.0         0.0     0.0         0.0       0.0   \n",
      "\n",
      "       Traitement  Variation de stock  \n",
      "0             0.0                 0.0  \n",
      "1             0.0                 0.0  \n",
      "2             0.0                 0.0  \n",
      "3             0.0                 0.0  \n",
      "4             0.0                 0.0  \n",
      "...           ...                 ...  \n",
      "15600         0.0                 0.0  \n",
      "15601         0.0                 0.0  \n",
      "15602         0.0                 0.0  \n",
      "15603         0.0                 0.0  \n",
      "15604         0.0                 0.0  \n",
      "\n",
      "[15605 rows x 18 columns]\n"
     ]
    }
   ],
   "source": [
    "print(foodAvailability)"
   ]
  },
  {
   "cell_type": "markdown",
   "id": "56315480",
   "metadata": {},
   "source": [
    "- .dtypes display :"
   ]
  },
  {
   "cell_type": "code",
   "execution_count": 184,
   "id": "7884bd41",
   "metadata": {},
   "outputs": [
    {
     "data": {
      "text/plain": [
       "Zone                                                              object\n",
       "Produit                                                           object\n",
       "Origine                                                           object\n",
       "Aliments pour animaux                                            float64\n",
       "Autres Utilisations                                              float64\n",
       "Disponibilité alimentaire (Kcal/personne/jour)                   float64\n",
       "Disponibilité alimentaire en quantité (kg/personne/an)           float64\n",
       "Disponibilité de matière grasse en quantité (g/personne/jour)    float64\n",
       "Disponibilité de protéines en quantité (g/personne/jour)         float64\n",
       "Disponibilité intérieure                                         float64\n",
       "Exportations - Quantité                                          float64\n",
       "Importations - Quantité                                          float64\n",
       "Nourriture                                                       float64\n",
       "Pertes                                                           float64\n",
       "Production                                                       float64\n",
       "Semences                                                         float64\n",
       "Traitement                                                       float64\n",
       "Variation de stock                                               float64\n",
       "dtype: object"
      ]
     },
     "execution_count": 184,
     "metadata": {},
     "output_type": "execute_result"
    }
   ],
   "source": [
    "foodAvailability.dtypes"
   ]
  },
  {
   "cell_type": "markdown",
   "id": "defdc40a",
   "metadata": {},
   "source": [
    "- Convert use of food availability columns in tons :"
   ]
  },
  {
   "cell_type": "code",
   "execution_count": 186,
   "id": "a034887a",
   "metadata": {},
   "outputs": [],
   "source": [
    "foodAvailability[\"Aliments pour animaux\"] = foodAvailability[\"Aliments pour animaux\"] * 1000000"
   ]
  },
  {
   "cell_type": "code",
   "execution_count": 187,
   "id": "54e0f45d",
   "metadata": {},
   "outputs": [],
   "source": [
    "foodAvailability[\"Autres Utilisations\"] = foodAvailability[\"Autres Utilisations\"] * 1000000"
   ]
  },
  {
   "cell_type": "code",
   "execution_count": 188,
   "id": "d8855bdf",
   "metadata": {},
   "outputs": [],
   "source": [
    "foodAvailability[\"Disponibilité intérieure\"] = foodAvailability[\"Disponibilité intérieure\"] * 1000000"
   ]
  },
  {
   "cell_type": "code",
   "execution_count": 189,
   "id": "f23f381c",
   "metadata": {},
   "outputs": [],
   "source": [
    "foodAvailability[\"Exportations - Quantité\"] = foodAvailability[\"Exportations - Quantité\"] * 1000000"
   ]
  },
  {
   "cell_type": "code",
   "execution_count": 190,
   "id": "93b2d60c",
   "metadata": {},
   "outputs": [],
   "source": [
    "foodAvailability[\"Importations - Quantité\"] = foodAvailability[\"Importations - Quantité\"] * 1000000"
   ]
  },
  {
   "cell_type": "code",
   "execution_count": 191,
   "id": "5850f9c0",
   "metadata": {},
   "outputs": [],
   "source": [
    "foodAvailability[\"Nourriture\"] = foodAvailability[\"Nourriture\"] * 1000000"
   ]
  },
  {
   "cell_type": "code",
   "execution_count": 192,
   "id": "2a3da3a9",
   "metadata": {},
   "outputs": [],
   "source": [
    "foodAvailability[\"Pertes\"] = foodAvailability[\"Pertes\"] * 1000000"
   ]
  },
  {
   "cell_type": "code",
   "execution_count": 193,
   "id": "adc2ee0f",
   "metadata": {},
   "outputs": [],
   "source": [
    "foodAvailability[\"Production\"] = foodAvailability[\"Production\"] * 1000000"
   ]
  },
  {
   "cell_type": "code",
   "execution_count": 194,
   "id": "69c4fb44",
   "metadata": {},
   "outputs": [],
   "source": [
    "foodAvailability[\"Semences\"] = foodAvailability[\"Semences\"] * 1000000"
   ]
  },
  {
   "cell_type": "code",
   "execution_count": 195,
   "id": "8ce84a7a",
   "metadata": {},
   "outputs": [],
   "source": [
    "foodAvailability[\"Traitement\"] = foodAvailability[\"Traitement\"] * 1000000"
   ]
  },
  {
   "cell_type": "code",
   "execution_count": 196,
   "id": "f1f0e39c",
   "metadata": {},
   "outputs": [],
   "source": [
    "foodAvailability[\"Variation de stock\"] = foodAvailability[\"Variation de stock\"] * 1000000"
   ]
  },
  {
   "cell_type": "markdown",
   "id": "2e73b685",
   "metadata": {},
   "source": [
    "- foodAvailability dataframe display :"
   ]
  },
  {
   "cell_type": "code",
   "execution_count": 197,
   "id": "328cfef9",
   "metadata": {},
   "outputs": [
    {
     "name": "stdout",
     "output_type": "stream",
     "text": [
      "               Zone                Produit   Origine  Aliments pour animaux  \\\n",
      "0       Afghanistan       Abats Comestible   animale                    0.0   \n",
      "1       Afghanistan        Agrumes, Autres  vegetale                    0.0   \n",
      "2       Afghanistan  Aliments pour enfants  vegetale                    0.0   \n",
      "3       Afghanistan                 Ananas  vegetale                    0.0   \n",
      "4       Afghanistan                Bananes  vegetale                    0.0   \n",
      "...             ...                    ...       ...                    ...   \n",
      "15600  Îles Salomon       Viande de Suides   animale                    0.0   \n",
      "15601  Îles Salomon    Viande de Volailles   animale                    0.0   \n",
      "15602  Îles Salomon          Viande, Autre   animale                    0.0   \n",
      "15603  Îles Salomon                    Vin  vegetale                    0.0   \n",
      "15604  Îles Salomon         Épices, Autres  vegetale                    0.0   \n",
      "\n",
      "       Autres Utilisations  Disponibilité alimentaire (Kcal/personne/jour)  \\\n",
      "0                      0.0                                             5.0   \n",
      "1                      0.0                                             1.0   \n",
      "2                      0.0                                             1.0   \n",
      "3                      0.0                                             0.0   \n",
      "4                      0.0                                             4.0   \n",
      "...                    ...                                             ...   \n",
      "15600                  0.0                                            45.0   \n",
      "15601                  0.0                                            11.0   \n",
      "15602                  0.0                                             0.0   \n",
      "15603                  0.0                                             0.0   \n",
      "15604                  0.0                                             4.0   \n",
      "\n",
      "       Disponibilité alimentaire en quantité (kg/personne/an)  \\\n",
      "0                                                   1.72        \n",
      "1                                                   1.29        \n",
      "2                                                   0.06        \n",
      "3                                                   0.00        \n",
      "4                                                   2.70        \n",
      "...                                                  ...        \n",
      "15600                                               4.70        \n",
      "15601                                               3.34        \n",
      "15602                                               0.06        \n",
      "15603                                               0.07        \n",
      "15604                                               0.48        \n",
      "\n",
      "       Disponibilité de matière grasse en quantité (g/personne/jour)  \\\n",
      "0                                                   0.20               \n",
      "1                                                   0.01               \n",
      "2                                                   0.01               \n",
      "3                                                   0.00               \n",
      "4                                                   0.02               \n",
      "...                                                  ...               \n",
      "15600                                               4.28               \n",
      "15601                                               0.69               \n",
      "15602                                               0.00               \n",
      "15603                                               0.00               \n",
      "15604                                               0.21               \n",
      "\n",
      "       Disponibilité de protéines en quantité (g/personne/jour)  \\\n",
      "0                                                   0.77          \n",
      "1                                                   0.02          \n",
      "2                                                   0.03          \n",
      "3                                                   0.00          \n",
      "4                                                   0.05          \n",
      "...                                                  ...          \n",
      "15600                                               1.41          \n",
      "15601                                               1.14          \n",
      "15602                                               0.04          \n",
      "15603                                               0.00          \n",
      "15604                                               0.15          \n",
      "\n",
      "       Disponibilité intérieure  Exportations - Quantité  \\\n",
      "0                    53000000.0                      0.0   \n",
      "1                    41000000.0                2000000.0   \n",
      "2                     2000000.0                      0.0   \n",
      "3                           0.0                      0.0   \n",
      "4                    82000000.0                      0.0   \n",
      "...                         ...                      ...   \n",
      "15600                 3000000.0                      0.0   \n",
      "15601                 2000000.0                      0.0   \n",
      "15602                       0.0                      0.0   \n",
      "15603                       0.0                      0.0   \n",
      "15604                       0.0                      0.0   \n",
      "\n",
      "       Importations - Quantité  Nourriture     Pertes  Production  Semences  \\\n",
      "0                          0.0  53000000.0        0.0  53000000.0       0.0   \n",
      "1                   40000000.0  39000000.0  2000000.0   3000000.0       0.0   \n",
      "2                    2000000.0   2000000.0        0.0         0.0       0.0   \n",
      "3                          0.0         0.0        0.0         0.0       0.0   \n",
      "4                   82000000.0  82000000.0        0.0         0.0       0.0   \n",
      "...                        ...         ...        ...         ...       ...   \n",
      "15600                      0.0   3000000.0        0.0   2000000.0       0.0   \n",
      "15601                2000000.0   2000000.0        0.0         0.0       0.0   \n",
      "15602                      0.0         0.0        0.0         0.0       0.0   \n",
      "15603                      0.0         0.0        0.0         0.0       0.0   \n",
      "15604                      0.0         0.0        0.0         0.0       0.0   \n",
      "\n",
      "       Traitement  Variation de stock  \n",
      "0             0.0                 0.0  \n",
      "1             0.0                 0.0  \n",
      "2             0.0                 0.0  \n",
      "3             0.0                 0.0  \n",
      "4             0.0                 0.0  \n",
      "...           ...                 ...  \n",
      "15600         0.0                 0.0  \n",
      "15601         0.0                 0.0  \n",
      "15602         0.0                 0.0  \n",
      "15603         0.0                 0.0  \n",
      "15604         0.0                 0.0  \n",
      "\n",
      "[15605 rows x 18 columns]\n"
     ]
    }
   ],
   "source": [
    "print(foodAvailability)"
   ]
  },
  {
   "cell_type": "markdown",
   "id": "1d38953d",
   "metadata": {},
   "source": [
    "- Rename use of food availability columns by adding \"(en tonnes)\" :"
   ]
  },
  {
   "cell_type": "code",
   "execution_count": 199,
   "id": "8565e576",
   "metadata": {},
   "outputs": [
    {
     "data": {
      "text/html": [
       "<div>\n",
       "<style scoped>\n",
       "    .dataframe tbody tr th:only-of-type {\n",
       "        vertical-align: middle;\n",
       "    }\n",
       "\n",
       "    .dataframe tbody tr th {\n",
       "        vertical-align: top;\n",
       "    }\n",
       "\n",
       "    .dataframe thead th {\n",
       "        text-align: right;\n",
       "    }\n",
       "</style>\n",
       "<table border=\"1\" class=\"dataframe\">\n",
       "  <thead>\n",
       "    <tr style=\"text-align: right;\">\n",
       "      <th></th>\n",
       "      <th>Zone</th>\n",
       "      <th>Produit</th>\n",
       "      <th>Origine</th>\n",
       "      <th>Aliments pour animaux (en kg)</th>\n",
       "      <th>Autres Utilisations (en kg)</th>\n",
       "      <th>Disponibilité alimentaire (Kcal/personne/jour)</th>\n",
       "      <th>Disponibilité alimentaire en quantité (kg/personne/an)</th>\n",
       "      <th>Disponibilité de matière grasse en quantité (g/personne/jour)</th>\n",
       "      <th>Disponibilité de protéines en quantité (g/personne/jour)</th>\n",
       "      <th>Disponibilité intérieure (en kg)</th>\n",
       "      <th>Exportations - Quantité (en kg)</th>\n",
       "      <th>Importations - Quantité (en kg)</th>\n",
       "      <th>Nourriture (en kg)</th>\n",
       "      <th>Pertes (en kg)</th>\n",
       "      <th>Production (en kg)</th>\n",
       "      <th>Semences (en kg)</th>\n",
       "      <th>Traitement (en kg)</th>\n",
       "      <th>Variation de stock (en kg)</th>\n",
       "    </tr>\n",
       "  </thead>\n",
       "  <tbody>\n",
       "    <tr>\n",
       "      <th>0</th>\n",
       "      <td>Afghanistan</td>\n",
       "      <td>Abats Comestible</td>\n",
       "      <td>animale</td>\n",
       "      <td>0.0</td>\n",
       "      <td>0.0</td>\n",
       "      <td>5.0</td>\n",
       "      <td>1.72</td>\n",
       "      <td>0.20</td>\n",
       "      <td>0.77</td>\n",
       "      <td>53000000.0</td>\n",
       "      <td>0.0</td>\n",
       "      <td>0.0</td>\n",
       "      <td>53000000.0</td>\n",
       "      <td>0.0</td>\n",
       "      <td>53000000.0</td>\n",
       "      <td>0.0</td>\n",
       "      <td>0.0</td>\n",
       "      <td>0.0</td>\n",
       "    </tr>\n",
       "    <tr>\n",
       "      <th>1</th>\n",
       "      <td>Afghanistan</td>\n",
       "      <td>Agrumes, Autres</td>\n",
       "      <td>vegetale</td>\n",
       "      <td>0.0</td>\n",
       "      <td>0.0</td>\n",
       "      <td>1.0</td>\n",
       "      <td>1.29</td>\n",
       "      <td>0.01</td>\n",
       "      <td>0.02</td>\n",
       "      <td>41000000.0</td>\n",
       "      <td>2000000.0</td>\n",
       "      <td>40000000.0</td>\n",
       "      <td>39000000.0</td>\n",
       "      <td>2000000.0</td>\n",
       "      <td>3000000.0</td>\n",
       "      <td>0.0</td>\n",
       "      <td>0.0</td>\n",
       "      <td>0.0</td>\n",
       "    </tr>\n",
       "    <tr>\n",
       "      <th>2</th>\n",
       "      <td>Afghanistan</td>\n",
       "      <td>Aliments pour enfants</td>\n",
       "      <td>vegetale</td>\n",
       "      <td>0.0</td>\n",
       "      <td>0.0</td>\n",
       "      <td>1.0</td>\n",
       "      <td>0.06</td>\n",
       "      <td>0.01</td>\n",
       "      <td>0.03</td>\n",
       "      <td>2000000.0</td>\n",
       "      <td>0.0</td>\n",
       "      <td>2000000.0</td>\n",
       "      <td>2000000.0</td>\n",
       "      <td>0.0</td>\n",
       "      <td>0.0</td>\n",
       "      <td>0.0</td>\n",
       "      <td>0.0</td>\n",
       "      <td>0.0</td>\n",
       "    </tr>\n",
       "    <tr>\n",
       "      <th>3</th>\n",
       "      <td>Afghanistan</td>\n",
       "      <td>Ananas</td>\n",
       "      <td>vegetale</td>\n",
       "      <td>0.0</td>\n",
       "      <td>0.0</td>\n",
       "      <td>0.0</td>\n",
       "      <td>0.00</td>\n",
       "      <td>0.00</td>\n",
       "      <td>0.00</td>\n",
       "      <td>0.0</td>\n",
       "      <td>0.0</td>\n",
       "      <td>0.0</td>\n",
       "      <td>0.0</td>\n",
       "      <td>0.0</td>\n",
       "      <td>0.0</td>\n",
       "      <td>0.0</td>\n",
       "      <td>0.0</td>\n",
       "      <td>0.0</td>\n",
       "    </tr>\n",
       "    <tr>\n",
       "      <th>4</th>\n",
       "      <td>Afghanistan</td>\n",
       "      <td>Bananes</td>\n",
       "      <td>vegetale</td>\n",
       "      <td>0.0</td>\n",
       "      <td>0.0</td>\n",
       "      <td>4.0</td>\n",
       "      <td>2.70</td>\n",
       "      <td>0.02</td>\n",
       "      <td>0.05</td>\n",
       "      <td>82000000.0</td>\n",
       "      <td>0.0</td>\n",
       "      <td>82000000.0</td>\n",
       "      <td>82000000.0</td>\n",
       "      <td>0.0</td>\n",
       "      <td>0.0</td>\n",
       "      <td>0.0</td>\n",
       "      <td>0.0</td>\n",
       "      <td>0.0</td>\n",
       "    </tr>\n",
       "    <tr>\n",
       "      <th>...</th>\n",
       "      <td>...</td>\n",
       "      <td>...</td>\n",
       "      <td>...</td>\n",
       "      <td>...</td>\n",
       "      <td>...</td>\n",
       "      <td>...</td>\n",
       "      <td>...</td>\n",
       "      <td>...</td>\n",
       "      <td>...</td>\n",
       "      <td>...</td>\n",
       "      <td>...</td>\n",
       "      <td>...</td>\n",
       "      <td>...</td>\n",
       "      <td>...</td>\n",
       "      <td>...</td>\n",
       "      <td>...</td>\n",
       "      <td>...</td>\n",
       "      <td>...</td>\n",
       "    </tr>\n",
       "    <tr>\n",
       "      <th>15600</th>\n",
       "      <td>Îles Salomon</td>\n",
       "      <td>Viande de Suides</td>\n",
       "      <td>animale</td>\n",
       "      <td>0.0</td>\n",
       "      <td>0.0</td>\n",
       "      <td>45.0</td>\n",
       "      <td>4.70</td>\n",
       "      <td>4.28</td>\n",
       "      <td>1.41</td>\n",
       "      <td>3000000.0</td>\n",
       "      <td>0.0</td>\n",
       "      <td>0.0</td>\n",
       "      <td>3000000.0</td>\n",
       "      <td>0.0</td>\n",
       "      <td>2000000.0</td>\n",
       "      <td>0.0</td>\n",
       "      <td>0.0</td>\n",
       "      <td>0.0</td>\n",
       "    </tr>\n",
       "    <tr>\n",
       "      <th>15601</th>\n",
       "      <td>Îles Salomon</td>\n",
       "      <td>Viande de Volailles</td>\n",
       "      <td>animale</td>\n",
       "      <td>0.0</td>\n",
       "      <td>0.0</td>\n",
       "      <td>11.0</td>\n",
       "      <td>3.34</td>\n",
       "      <td>0.69</td>\n",
       "      <td>1.14</td>\n",
       "      <td>2000000.0</td>\n",
       "      <td>0.0</td>\n",
       "      <td>2000000.0</td>\n",
       "      <td>2000000.0</td>\n",
       "      <td>0.0</td>\n",
       "      <td>0.0</td>\n",
       "      <td>0.0</td>\n",
       "      <td>0.0</td>\n",
       "      <td>0.0</td>\n",
       "    </tr>\n",
       "    <tr>\n",
       "      <th>15602</th>\n",
       "      <td>Îles Salomon</td>\n",
       "      <td>Viande, Autre</td>\n",
       "      <td>animale</td>\n",
       "      <td>0.0</td>\n",
       "      <td>0.0</td>\n",
       "      <td>0.0</td>\n",
       "      <td>0.06</td>\n",
       "      <td>0.00</td>\n",
       "      <td>0.04</td>\n",
       "      <td>0.0</td>\n",
       "      <td>0.0</td>\n",
       "      <td>0.0</td>\n",
       "      <td>0.0</td>\n",
       "      <td>0.0</td>\n",
       "      <td>0.0</td>\n",
       "      <td>0.0</td>\n",
       "      <td>0.0</td>\n",
       "      <td>0.0</td>\n",
       "    </tr>\n",
       "    <tr>\n",
       "      <th>15603</th>\n",
       "      <td>Îles Salomon</td>\n",
       "      <td>Vin</td>\n",
       "      <td>vegetale</td>\n",
       "      <td>0.0</td>\n",
       "      <td>0.0</td>\n",
       "      <td>0.0</td>\n",
       "      <td>0.07</td>\n",
       "      <td>0.00</td>\n",
       "      <td>0.00</td>\n",
       "      <td>0.0</td>\n",
       "      <td>0.0</td>\n",
       "      <td>0.0</td>\n",
       "      <td>0.0</td>\n",
       "      <td>0.0</td>\n",
       "      <td>0.0</td>\n",
       "      <td>0.0</td>\n",
       "      <td>0.0</td>\n",
       "      <td>0.0</td>\n",
       "    </tr>\n",
       "    <tr>\n",
       "      <th>15604</th>\n",
       "      <td>Îles Salomon</td>\n",
       "      <td>Épices, Autres</td>\n",
       "      <td>vegetale</td>\n",
       "      <td>0.0</td>\n",
       "      <td>0.0</td>\n",
       "      <td>4.0</td>\n",
       "      <td>0.48</td>\n",
       "      <td>0.21</td>\n",
       "      <td>0.15</td>\n",
       "      <td>0.0</td>\n",
       "      <td>0.0</td>\n",
       "      <td>0.0</td>\n",
       "      <td>0.0</td>\n",
       "      <td>0.0</td>\n",
       "      <td>0.0</td>\n",
       "      <td>0.0</td>\n",
       "      <td>0.0</td>\n",
       "      <td>0.0</td>\n",
       "    </tr>\n",
       "  </tbody>\n",
       "</table>\n",
       "<p>15605 rows × 18 columns</p>\n",
       "</div>"
      ],
      "text/plain": [
       "               Zone                Produit   Origine  \\\n",
       "0       Afghanistan       Abats Comestible   animale   \n",
       "1       Afghanistan        Agrumes, Autres  vegetale   \n",
       "2       Afghanistan  Aliments pour enfants  vegetale   \n",
       "3       Afghanistan                 Ananas  vegetale   \n",
       "4       Afghanistan                Bananes  vegetale   \n",
       "...             ...                    ...       ...   \n",
       "15600  Îles Salomon       Viande de Suides   animale   \n",
       "15601  Îles Salomon    Viande de Volailles   animale   \n",
       "15602  Îles Salomon          Viande, Autre   animale   \n",
       "15603  Îles Salomon                    Vin  vegetale   \n",
       "15604  Îles Salomon         Épices, Autres  vegetale   \n",
       "\n",
       "       Aliments pour animaux (en kg)  Autres Utilisations (en kg)  \\\n",
       "0                                0.0                          0.0   \n",
       "1                                0.0                          0.0   \n",
       "2                                0.0                          0.0   \n",
       "3                                0.0                          0.0   \n",
       "4                                0.0                          0.0   \n",
       "...                              ...                          ...   \n",
       "15600                            0.0                          0.0   \n",
       "15601                            0.0                          0.0   \n",
       "15602                            0.0                          0.0   \n",
       "15603                            0.0                          0.0   \n",
       "15604                            0.0                          0.0   \n",
       "\n",
       "       Disponibilité alimentaire (Kcal/personne/jour)  \\\n",
       "0                                                 5.0   \n",
       "1                                                 1.0   \n",
       "2                                                 1.0   \n",
       "3                                                 0.0   \n",
       "4                                                 4.0   \n",
       "...                                               ...   \n",
       "15600                                            45.0   \n",
       "15601                                            11.0   \n",
       "15602                                             0.0   \n",
       "15603                                             0.0   \n",
       "15604                                             4.0   \n",
       "\n",
       "       Disponibilité alimentaire en quantité (kg/personne/an)  \\\n",
       "0                                                   1.72        \n",
       "1                                                   1.29        \n",
       "2                                                   0.06        \n",
       "3                                                   0.00        \n",
       "4                                                   2.70        \n",
       "...                                                  ...        \n",
       "15600                                               4.70        \n",
       "15601                                               3.34        \n",
       "15602                                               0.06        \n",
       "15603                                               0.07        \n",
       "15604                                               0.48        \n",
       "\n",
       "       Disponibilité de matière grasse en quantité (g/personne/jour)  \\\n",
       "0                                                   0.20               \n",
       "1                                                   0.01               \n",
       "2                                                   0.01               \n",
       "3                                                   0.00               \n",
       "4                                                   0.02               \n",
       "...                                                  ...               \n",
       "15600                                               4.28               \n",
       "15601                                               0.69               \n",
       "15602                                               0.00               \n",
       "15603                                               0.00               \n",
       "15604                                               0.21               \n",
       "\n",
       "       Disponibilité de protéines en quantité (g/personne/jour)  \\\n",
       "0                                                   0.77          \n",
       "1                                                   0.02          \n",
       "2                                                   0.03          \n",
       "3                                                   0.00          \n",
       "4                                                   0.05          \n",
       "...                                                  ...          \n",
       "15600                                               1.41          \n",
       "15601                                               1.14          \n",
       "15602                                               0.04          \n",
       "15603                                               0.00          \n",
       "15604                                               0.15          \n",
       "\n",
       "       Disponibilité intérieure (en kg)  Exportations - Quantité (en kg)  \\\n",
       "0                            53000000.0                              0.0   \n",
       "1                            41000000.0                        2000000.0   \n",
       "2                             2000000.0                              0.0   \n",
       "3                                   0.0                              0.0   \n",
       "4                            82000000.0                              0.0   \n",
       "...                                 ...                              ...   \n",
       "15600                         3000000.0                              0.0   \n",
       "15601                         2000000.0                              0.0   \n",
       "15602                               0.0                              0.0   \n",
       "15603                               0.0                              0.0   \n",
       "15604                               0.0                              0.0   \n",
       "\n",
       "       Importations - Quantité (en kg)  Nourriture (en kg)  Pertes (en kg)  \\\n",
       "0                                  0.0          53000000.0             0.0   \n",
       "1                           40000000.0          39000000.0       2000000.0   \n",
       "2                            2000000.0           2000000.0             0.0   \n",
       "3                                  0.0                 0.0             0.0   \n",
       "4                           82000000.0          82000000.0             0.0   \n",
       "...                                ...                 ...             ...   \n",
       "15600                              0.0           3000000.0             0.0   \n",
       "15601                        2000000.0           2000000.0             0.0   \n",
       "15602                              0.0                 0.0             0.0   \n",
       "15603                              0.0                 0.0             0.0   \n",
       "15604                              0.0                 0.0             0.0   \n",
       "\n",
       "       Production (en kg)  Semences (en kg)  Traitement (en kg)  \\\n",
       "0              53000000.0               0.0                 0.0   \n",
       "1               3000000.0               0.0                 0.0   \n",
       "2                     0.0               0.0                 0.0   \n",
       "3                     0.0               0.0                 0.0   \n",
       "4                     0.0               0.0                 0.0   \n",
       "...                   ...               ...                 ...   \n",
       "15600           2000000.0               0.0                 0.0   \n",
       "15601                 0.0               0.0                 0.0   \n",
       "15602                 0.0               0.0                 0.0   \n",
       "15603                 0.0               0.0                 0.0   \n",
       "15604                 0.0               0.0                 0.0   \n",
       "\n",
       "       Variation de stock (en kg)  \n",
       "0                             0.0  \n",
       "1                             0.0  \n",
       "2                             0.0  \n",
       "3                             0.0  \n",
       "4                             0.0  \n",
       "...                           ...  \n",
       "15600                         0.0  \n",
       "15601                         0.0  \n",
       "15602                         0.0  \n",
       "15603                         0.0  \n",
       "15604                         0.0  \n",
       "\n",
       "[15605 rows x 18 columns]"
      ]
     },
     "execution_count": 199,
     "metadata": {},
     "output_type": "execute_result"
    }
   ],
   "source": [
    "foodAvailability.rename(columns = {'Nourriture': 'Nourriture (en kg)','Pertes': 'Pertes (en kg)','Aliments pour animaux': 'Aliments pour animaux (en kg)','Autres Utilisations': 'Autres Utilisations (en kg)','Disponibilité intérieure': 'Disponibilité intérieure (en kg)','Exportations - Quantité': 'Exportations - Quantité (en kg)','Importations - Quantité': 'Importations - Quantité (en kg)','Nourriture (en kg)': 'Nourriture (en kg)','Pertes': 'Pertes (en kg)','Production': 'Production (en kg)','Semences': 'Semences (en kg)','Traitement': 'Traitement (en kg)','Variation de stock': 'Variation de stock (en kg)'}) "
   ]
  },
  {
   "cell_type": "markdown",
   "id": "bbfd10b4",
   "metadata": {},
   "source": [
    " "
   ]
  },
  {
   "cell_type": "markdown",
   "id": "cf5e1c5f",
   "metadata": {},
   "source": [
    "**The State of Food Security and Nutrition in the World 2017**"
   ]
  },
  {
   "cell_type": "markdown",
   "id": "8ba149c6",
   "metadata": {},
   "source": [
    "*1. Proportion of people undernourished in 2017 :*"
   ]
  },
  {
   "cell_type": "code",
   "execution_count": 177,
   "id": "e2cf4664",
   "metadata": {},
   "outputs": [
    {
     "data": {
      "text/html": [
       "<div>\n",
       "<style scoped>\n",
       "    .dataframe tbody tr th:only-of-type {\n",
       "        vertical-align: middle;\n",
       "    }\n",
       "\n",
       "    .dataframe tbody tr th {\n",
       "        vertical-align: top;\n",
       "    }\n",
       "\n",
       "    .dataframe thead th {\n",
       "        text-align: right;\n",
       "    }\n",
       "</style>\n",
       "<table border=\"1\" class=\"dataframe\">\n",
       "  <thead>\n",
       "    <tr style=\"text-align: right;\">\n",
       "      <th></th>\n",
       "      <th>Zone</th>\n",
       "      <th>Produit</th>\n",
       "      <th>Origine</th>\n",
       "      <th>Aliments pour animaux</th>\n",
       "      <th>Autres Utilisations</th>\n",
       "      <th>Disponibilité alimentaire (Kcal/personne/jour)</th>\n",
       "      <th>Disponibilité alimentaire en quantité (kg/personne/an)</th>\n",
       "      <th>Disponibilité de matière grasse en quantité (g/personne/jour)</th>\n",
       "      <th>Disponibilité de protéines en quantité (g/personne/jour)</th>\n",
       "      <th>Disponibilité intérieure</th>\n",
       "      <th>Exportations - Quantité</th>\n",
       "      <th>Importations - Quantité</th>\n",
       "      <th>Nourriture</th>\n",
       "      <th>Pertes</th>\n",
       "      <th>Production</th>\n",
       "      <th>Semences</th>\n",
       "      <th>Traitement</th>\n",
       "      <th>Variation de stock</th>\n",
       "    </tr>\n",
       "  </thead>\n",
       "  <tbody>\n",
       "    <tr>\n",
       "      <th>0</th>\n",
       "      <td>Afghanistan</td>\n",
       "      <td>Abats Comestible</td>\n",
       "      <td>animale</td>\n",
       "      <td>0.0</td>\n",
       "      <td>0.0</td>\n",
       "      <td>5.0</td>\n",
       "      <td>1.72</td>\n",
       "      <td>0.20</td>\n",
       "      <td>0.77</td>\n",
       "      <td>53000000.0</td>\n",
       "      <td>0.0</td>\n",
       "      <td>0.0</td>\n",
       "      <td>53000000.0</td>\n",
       "      <td>0.0</td>\n",
       "      <td>53000000.0</td>\n",
       "      <td>0.0</td>\n",
       "      <td>0.0</td>\n",
       "      <td>0.0</td>\n",
       "    </tr>\n",
       "    <tr>\n",
       "      <th>1</th>\n",
       "      <td>Afghanistan</td>\n",
       "      <td>Agrumes, Autres</td>\n",
       "      <td>vegetale</td>\n",
       "      <td>0.0</td>\n",
       "      <td>0.0</td>\n",
       "      <td>1.0</td>\n",
       "      <td>1.29</td>\n",
       "      <td>0.01</td>\n",
       "      <td>0.02</td>\n",
       "      <td>41000000.0</td>\n",
       "      <td>2000000.0</td>\n",
       "      <td>40000000.0</td>\n",
       "      <td>39000000.0</td>\n",
       "      <td>2000000.0</td>\n",
       "      <td>3000000.0</td>\n",
       "      <td>0.0</td>\n",
       "      <td>0.0</td>\n",
       "      <td>0.0</td>\n",
       "    </tr>\n",
       "    <tr>\n",
       "      <th>2</th>\n",
       "      <td>Afghanistan</td>\n",
       "      <td>Aliments pour enfants</td>\n",
       "      <td>vegetale</td>\n",
       "      <td>0.0</td>\n",
       "      <td>0.0</td>\n",
       "      <td>1.0</td>\n",
       "      <td>0.06</td>\n",
       "      <td>0.01</td>\n",
       "      <td>0.03</td>\n",
       "      <td>2000000.0</td>\n",
       "      <td>0.0</td>\n",
       "      <td>2000000.0</td>\n",
       "      <td>2000000.0</td>\n",
       "      <td>0.0</td>\n",
       "      <td>0.0</td>\n",
       "      <td>0.0</td>\n",
       "      <td>0.0</td>\n",
       "      <td>0.0</td>\n",
       "    </tr>\n",
       "    <tr>\n",
       "      <th>3</th>\n",
       "      <td>Afghanistan</td>\n",
       "      <td>Ananas</td>\n",
       "      <td>vegetale</td>\n",
       "      <td>0.0</td>\n",
       "      <td>0.0</td>\n",
       "      <td>0.0</td>\n",
       "      <td>0.00</td>\n",
       "      <td>0.00</td>\n",
       "      <td>0.00</td>\n",
       "      <td>0.0</td>\n",
       "      <td>0.0</td>\n",
       "      <td>0.0</td>\n",
       "      <td>0.0</td>\n",
       "      <td>0.0</td>\n",
       "      <td>0.0</td>\n",
       "      <td>0.0</td>\n",
       "      <td>0.0</td>\n",
       "      <td>0.0</td>\n",
       "    </tr>\n",
       "    <tr>\n",
       "      <th>4</th>\n",
       "      <td>Afghanistan</td>\n",
       "      <td>Bananes</td>\n",
       "      <td>vegetale</td>\n",
       "      <td>0.0</td>\n",
       "      <td>0.0</td>\n",
       "      <td>4.0</td>\n",
       "      <td>2.70</td>\n",
       "      <td>0.02</td>\n",
       "      <td>0.05</td>\n",
       "      <td>82000000.0</td>\n",
       "      <td>0.0</td>\n",
       "      <td>82000000.0</td>\n",
       "      <td>82000000.0</td>\n",
       "      <td>0.0</td>\n",
       "      <td>0.0</td>\n",
       "      <td>0.0</td>\n",
       "      <td>0.0</td>\n",
       "      <td>0.0</td>\n",
       "    </tr>\n",
       "  </tbody>\n",
       "</table>\n",
       "</div>"
      ],
      "text/plain": [
       "          Zone                Produit   Origine  Aliments pour animaux  \\\n",
       "0  Afghanistan       Abats Comestible   animale                    0.0   \n",
       "1  Afghanistan        Agrumes, Autres  vegetale                    0.0   \n",
       "2  Afghanistan  Aliments pour enfants  vegetale                    0.0   \n",
       "3  Afghanistan                 Ananas  vegetale                    0.0   \n",
       "4  Afghanistan                Bananes  vegetale                    0.0   \n",
       "\n",
       "   Autres Utilisations  Disponibilité alimentaire (Kcal/personne/jour)  \\\n",
       "0                  0.0                                             5.0   \n",
       "1                  0.0                                             1.0   \n",
       "2                  0.0                                             1.0   \n",
       "3                  0.0                                             0.0   \n",
       "4                  0.0                                             4.0   \n",
       "\n",
       "   Disponibilité alimentaire en quantité (kg/personne/an)  \\\n",
       "0                                               1.72        \n",
       "1                                               1.29        \n",
       "2                                               0.06        \n",
       "3                                               0.00        \n",
       "4                                               2.70        \n",
       "\n",
       "   Disponibilité de matière grasse en quantité (g/personne/jour)  \\\n",
       "0                                               0.20               \n",
       "1                                               0.01               \n",
       "2                                               0.01               \n",
       "3                                               0.00               \n",
       "4                                               0.02               \n",
       "\n",
       "   Disponibilité de protéines en quantité (g/personne/jour)  \\\n",
       "0                                               0.77          \n",
       "1                                               0.02          \n",
       "2                                               0.03          \n",
       "3                                               0.00          \n",
       "4                                               0.05          \n",
       "\n",
       "   Disponibilité intérieure  Exportations - Quantité  Importations - Quantité  \\\n",
       "0                53000000.0                      0.0                      0.0   \n",
       "1                41000000.0                2000000.0               40000000.0   \n",
       "2                 2000000.0                      0.0                2000000.0   \n",
       "3                       0.0                      0.0                      0.0   \n",
       "4                82000000.0                      0.0               82000000.0   \n",
       "\n",
       "   Nourriture     Pertes  Production  Semences  Traitement  Variation de stock  \n",
       "0  53000000.0        0.0  53000000.0       0.0         0.0                 0.0  \n",
       "1  39000000.0  2000000.0   3000000.0       0.0         0.0                 0.0  \n",
       "2   2000000.0        0.0         0.0       0.0         0.0                 0.0  \n",
       "3         0.0        0.0         0.0       0.0         0.0                 0.0  \n",
       "4  82000000.0        0.0         0.0       0.0         0.0                 0.0  "
      ]
     },
     "execution_count": 177,
     "metadata": {},
     "output_type": "execute_result"
    }
   ],
   "source": [
    "foodAvailibility.head()"
   ]
  },
  {
   "cell_type": "code",
   "execution_count": 212,
   "id": "1c675882",
   "metadata": {},
   "outputs": [],
   "source": [
    "foodAvailibilityKcal = foodAvailibility[{\"Zone\",\"Disponibilité alimentaire (Kcal/personne/jour)\"}]"
   ]
  },
  {
   "cell_type": "code",
   "execution_count": 213,
   "id": "81313056",
   "metadata": {},
   "outputs": [
    {
     "data": {
      "text/html": [
       "<div>\n",
       "<style scoped>\n",
       "    .dataframe tbody tr th:only-of-type {\n",
       "        vertical-align: middle;\n",
       "    }\n",
       "\n",
       "    .dataframe tbody tr th {\n",
       "        vertical-align: top;\n",
       "    }\n",
       "\n",
       "    .dataframe thead th {\n",
       "        text-align: right;\n",
       "    }\n",
       "</style>\n",
       "<table border=\"1\" class=\"dataframe\">\n",
       "  <thead>\n",
       "    <tr style=\"text-align: right;\">\n",
       "      <th></th>\n",
       "      <th>Zone</th>\n",
       "      <th>Disponibilité alimentaire (Kcal/personne/jour)</th>\n",
       "    </tr>\n",
       "  </thead>\n",
       "  <tbody>\n",
       "    <tr>\n",
       "      <th>0</th>\n",
       "      <td>Afghanistan</td>\n",
       "      <td>5.0</td>\n",
       "    </tr>\n",
       "    <tr>\n",
       "      <th>1</th>\n",
       "      <td>Afghanistan</td>\n",
       "      <td>1.0</td>\n",
       "    </tr>\n",
       "    <tr>\n",
       "      <th>2</th>\n",
       "      <td>Afghanistan</td>\n",
       "      <td>1.0</td>\n",
       "    </tr>\n",
       "    <tr>\n",
       "      <th>3</th>\n",
       "      <td>Afghanistan</td>\n",
       "      <td>0.0</td>\n",
       "    </tr>\n",
       "    <tr>\n",
       "      <th>4</th>\n",
       "      <td>Afghanistan</td>\n",
       "      <td>4.0</td>\n",
       "    </tr>\n",
       "  </tbody>\n",
       "</table>\n",
       "</div>"
      ],
      "text/plain": [
       "          Zone  Disponibilité alimentaire (Kcal/personne/jour)\n",
       "0  Afghanistan                                             5.0\n",
       "1  Afghanistan                                             1.0\n",
       "2  Afghanistan                                             1.0\n",
       "3  Afghanistan                                             0.0\n",
       "4  Afghanistan                                             4.0"
      ]
     },
     "execution_count": 213,
     "metadata": {},
     "output_type": "execute_result"
    }
   ],
   "source": [
    "foodAvailibilityKcal.head()"
   ]
  },
  {
   "cell_type": "code",
   "execution_count": 249,
   "id": "6ba78ab5",
   "metadata": {},
   "outputs": [],
   "source": [
    "foodAvailibilityKcalGroupByZone = foodAvailibilityKcal.groupby(by=\"Zone\").sum()"
   ]
  },
  {
   "cell_type": "code",
   "execution_count": 250,
   "id": "7ba3cb4a",
   "metadata": {},
   "outputs": [
    {
     "data": {
      "text/html": [
       "<div>\n",
       "<style scoped>\n",
       "    .dataframe tbody tr th:only-of-type {\n",
       "        vertical-align: middle;\n",
       "    }\n",
       "\n",
       "    .dataframe tbody tr th {\n",
       "        vertical-align: top;\n",
       "    }\n",
       "\n",
       "    .dataframe thead th {\n",
       "        text-align: right;\n",
       "    }\n",
       "</style>\n",
       "<table border=\"1\" class=\"dataframe\">\n",
       "  <thead>\n",
       "    <tr style=\"text-align: right;\">\n",
       "      <th></th>\n",
       "      <th>Disponibilité alimentaire (Kcal/personne/jour)</th>\n",
       "    </tr>\n",
       "    <tr>\n",
       "      <th>Zone</th>\n",
       "      <th></th>\n",
       "    </tr>\n",
       "  </thead>\n",
       "  <tbody>\n",
       "    <tr>\n",
       "      <th>Afghanistan</th>\n",
       "      <td>2087.0</td>\n",
       "    </tr>\n",
       "    <tr>\n",
       "      <th>Afrique du Sud</th>\n",
       "      <td>3020.0</td>\n",
       "    </tr>\n",
       "    <tr>\n",
       "      <th>Albanie</th>\n",
       "      <td>3188.0</td>\n",
       "    </tr>\n",
       "    <tr>\n",
       "      <th>Algérie</th>\n",
       "      <td>3293.0</td>\n",
       "    </tr>\n",
       "    <tr>\n",
       "      <th>Allemagne</th>\n",
       "      <td>3503.0</td>\n",
       "    </tr>\n",
       "  </tbody>\n",
       "</table>\n",
       "</div>"
      ],
      "text/plain": [
       "                Disponibilité alimentaire (Kcal/personne/jour)\n",
       "Zone                                                          \n",
       "Afghanistan                                             2087.0\n",
       "Afrique du Sud                                          3020.0\n",
       "Albanie                                                 3188.0\n",
       "Algérie                                                 3293.0\n",
       "Allemagne                                               3503.0"
      ]
     },
     "execution_count": 250,
     "metadata": {},
     "output_type": "execute_result"
    }
   ],
   "source": [
    "foodAvailibilityKcalGroupByZone.head()"
   ]
  },
  {
   "cell_type": "code",
   "execution_count": 251,
   "id": "c80af39d",
   "metadata": {},
   "outputs": [],
   "source": [
    "foodAvailibilityKcalGroupByZone = foodAvailibilityKcalGroupByZone.astype({\"Disponibilité alimentaire (Kcal/personne/jour)\": int})"
   ]
  },
  {
   "cell_type": "code",
   "execution_count": 252,
   "id": "96f2fe58",
   "metadata": {},
   "outputs": [
    {
     "data": {
      "text/html": [
       "<div>\n",
       "<style scoped>\n",
       "    .dataframe tbody tr th:only-of-type {\n",
       "        vertical-align: middle;\n",
       "    }\n",
       "\n",
       "    .dataframe tbody tr th {\n",
       "        vertical-align: top;\n",
       "    }\n",
       "\n",
       "    .dataframe thead th {\n",
       "        text-align: right;\n",
       "    }\n",
       "</style>\n",
       "<table border=\"1\" class=\"dataframe\">\n",
       "  <thead>\n",
       "    <tr style=\"text-align: right;\">\n",
       "      <th></th>\n",
       "      <th>Disponibilité alimentaire (Kcal/personne/jour)</th>\n",
       "    </tr>\n",
       "    <tr>\n",
       "      <th>Zone</th>\n",
       "      <th></th>\n",
       "    </tr>\n",
       "  </thead>\n",
       "  <tbody>\n",
       "    <tr>\n",
       "      <th>Afghanistan</th>\n",
       "      <td>2087</td>\n",
       "    </tr>\n",
       "    <tr>\n",
       "      <th>Afrique du Sud</th>\n",
       "      <td>3020</td>\n",
       "    </tr>\n",
       "    <tr>\n",
       "      <th>Albanie</th>\n",
       "      <td>3188</td>\n",
       "    </tr>\n",
       "    <tr>\n",
       "      <th>Algérie</th>\n",
       "      <td>3293</td>\n",
       "    </tr>\n",
       "    <tr>\n",
       "      <th>Allemagne</th>\n",
       "      <td>3503</td>\n",
       "    </tr>\n",
       "  </tbody>\n",
       "</table>\n",
       "</div>"
      ],
      "text/plain": [
       "                Disponibilité alimentaire (Kcal/personne/jour)\n",
       "Zone                                                          \n",
       "Afghanistan                                               2087\n",
       "Afrique du Sud                                            3020\n",
       "Albanie                                                   3188\n",
       "Algérie                                                   3293\n",
       "Allemagne                                                 3503"
      ]
     },
     "execution_count": 252,
     "metadata": {},
     "output_type": "execute_result"
    }
   ],
   "source": [
    "foodAvailibilityKcalGroupByZone.head()"
   ]
  },
  {
   "cell_type": "code",
   "execution_count": 253,
   "id": "0f3e2947",
   "metadata": {},
   "outputs": [
    {
     "data": {
      "text/plain": [
       "(175, 1)"
      ]
     },
     "execution_count": 253,
     "metadata": {},
     "output_type": "execute_result"
    }
   ],
   "source": [
    "foodAvailibilityKcalGroupByZone.shape"
   ]
  },
  {
   "cell_type": "code",
   "execution_count": null,
   "id": "9a4bd98d",
   "metadata": {},
   "outputs": [],
   "source": []
  },
  {
   "cell_type": "code",
   "execution_count": null,
   "id": "686437a1",
   "metadata": {},
   "outputs": [],
   "source": []
  },
  {
   "cell_type": "code",
   "execution_count": null,
   "id": "1411baac",
   "metadata": {},
   "outputs": [],
   "source": []
  },
  {
   "cell_type": "code",
   "execution_count": null,
   "id": "7265c01e",
   "metadata": {},
   "outputs": [],
   "source": []
  }
 ],
 "metadata": {
  "kernelspec": {
   "display_name": "Python 3",
   "language": "python",
   "name": "python3"
  },
  "language_info": {
   "codemirror_mode": {
    "name": "ipython",
    "version": 3
   },
   "file_extension": ".py",
   "mimetype": "text/x-python",
   "name": "python",
   "nbconvert_exporter": "python",
   "pygments_lexer": "ipython3",
   "version": "3.8.8"
  }
 },
 "nbformat": 4,
 "nbformat_minor": 5
}
