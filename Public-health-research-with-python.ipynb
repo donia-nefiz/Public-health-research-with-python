{
 "cells": [
  {
   "cell_type": "markdown",
   "id": "f8b22c1d",
   "metadata": {},
   "source": [
    "# Public health research with python"
   ]
  },
  {
   "cell_type": "markdown",
   "id": "4200ab3a",
   "metadata": {},
   "source": [
    "**FAO data, exploration et nettoyage des fichiers**"
   ]
  },
  {
   "cell_type": "code",
   "execution_count": 179,
   "id": "95056797",
   "metadata": {},
   "outputs": [],
   "source": [
    "import pandas as pd"
   ]
  },
  {
   "cell_type": "code",
   "execution_count": 180,
   "id": "24b9522c",
   "metadata": {},
   "outputs": [],
   "source": [
    "import numpy as np"
   ]
  },
  {
   "cell_type": "markdown",
   "id": "b3292232",
   "metadata": {},
   "source": [
    "*a. Exploration et nettoyage du fichier \"[undernutrition.csv](http://localhost:8888/edit/undernutrition.csv)\" :*\n",
    "\n"
   ]
  },
  {
   "cell_type": "code",
   "execution_count": 181,
   "id": "045b66e5",
   "metadata": {},
   "outputs": [],
   "source": [
    "undernutrition = pd.read_csv('undernutrition.csv', sep=';')"
   ]
  },
  {
   "cell_type": "code",
   "execution_count": 182,
   "id": "49a5be12",
   "metadata": {},
   "outputs": [
    {
     "data": {
      "text/html": [
       "<div>\n",
       "<style scoped>\n",
       "    .dataframe tbody tr th:only-of-type {\n",
       "        vertical-align: middle;\n",
       "    }\n",
       "\n",
       "    .dataframe tbody tr th {\n",
       "        vertical-align: top;\n",
       "    }\n",
       "\n",
       "    .dataframe thead th {\n",
       "        text-align: right;\n",
       "    }\n",
       "</style>\n",
       "<table border=\"1\" class=\"dataframe\">\n",
       "  <thead>\n",
       "    <tr style=\"text-align: right;\">\n",
       "      <th></th>\n",
       "      <th>Zone</th>\n",
       "      <th>Année</th>\n",
       "      <th>Valeur (en million d'hab)</th>\n",
       "    </tr>\n",
       "  </thead>\n",
       "  <tbody>\n",
       "    <tr>\n",
       "      <th>0</th>\n",
       "      <td>Afghanistan</td>\n",
       "      <td>2012-2014</td>\n",
       "      <td>8.6</td>\n",
       "    </tr>\n",
       "    <tr>\n",
       "      <th>1</th>\n",
       "      <td>Afghanistan</td>\n",
       "      <td>2013-2015</td>\n",
       "      <td>8.8</td>\n",
       "    </tr>\n",
       "    <tr>\n",
       "      <th>2</th>\n",
       "      <td>Afghanistan</td>\n",
       "      <td>2014-2016</td>\n",
       "      <td>8.9</td>\n",
       "    </tr>\n",
       "    <tr>\n",
       "      <th>3</th>\n",
       "      <td>Afghanistan</td>\n",
       "      <td>2015-2017</td>\n",
       "      <td>9.7</td>\n",
       "    </tr>\n",
       "    <tr>\n",
       "      <th>4</th>\n",
       "      <td>Afghanistan</td>\n",
       "      <td>2016-2018</td>\n",
       "      <td>10.5</td>\n",
       "    </tr>\n",
       "  </tbody>\n",
       "</table>\n",
       "</div>"
      ],
      "text/plain": [
       "          Zone      Année Valeur (en million d'hab)\n",
       "0  Afghanistan  2012-2014                       8.6\n",
       "1  Afghanistan  2013-2015                       8.8\n",
       "2  Afghanistan  2014-2016                       8.9\n",
       "3  Afghanistan  2015-2017                       9.7\n",
       "4  Afghanistan  2016-2018                      10.5"
      ]
     },
     "execution_count": 182,
     "metadata": {},
     "output_type": "execute_result"
    }
   ],
   "source": [
    "undernutrition.head()"
   ]
  },
  {
   "cell_type": "code",
   "execution_count": 183,
   "id": "7b00a5ae",
   "metadata": {},
   "outputs": [
    {
     "data": {
      "text/plain": [
       "(1218, 3)"
      ]
     },
     "execution_count": 183,
     "metadata": {},
     "output_type": "execute_result"
    }
   ],
   "source": [
    "undernutrition.shape"
   ]
  },
  {
   "cell_type": "code",
   "execution_count": 184,
   "id": "a2a85271",
   "metadata": {},
   "outputs": [],
   "source": [
    "undernutrition[\"Valeur (en million d'hab)\"] = pd.to_numeric(undernutrition[\"Valeur (en million d'hab)\"],errors = 'coerce')"
   ]
  },
  {
   "cell_type": "code",
   "execution_count": 185,
   "id": "f31a5d8f",
   "metadata": {},
   "outputs": [
    {
     "data": {
      "text/plain": [
       "Zone                          object\n",
       "Année                         object\n",
       "Valeur (en million d'hab)    float64\n",
       "dtype: object"
      ]
     },
     "execution_count": 185,
     "metadata": {},
     "output_type": "execute_result"
    }
   ],
   "source": [
    "undernutrition.dtypes"
   ]
  },
  {
   "cell_type": "code",
   "execution_count": 186,
   "id": "129e7334",
   "metadata": {
    "scrolled": true
   },
   "outputs": [
    {
     "data": {
      "text/plain": [
       "array([8.600e+00, 8.800e+00, 8.900e+00, 9.700e+00, 1.050e+01, 1.110e+01,\n",
       "       2.200e+00, 2.500e+00, 2.800e+00, 3.000e+00, 3.100e+00, 3.300e+00,\n",
       "       1.000e-01, 1.300e+00, 1.200e+00,       nan, 7.600e+00, 6.200e+00,\n",
       "       5.300e+00, 5.600e+00, 5.800e+00, 5.700e+00, 1.500e+00, 1.600e+00,\n",
       "       1.100e+00, 1.700e+00, 2.170e+01, 2.240e+01, 2.330e+01, 2.230e+01,\n",
       "       2.150e+01, 2.090e+01, 8.000e-01, 2.000e+00, 1.900e+00, 1.800e+00,\n",
       "       4.000e-01, 5.000e-01, 3.000e-01, 2.000e-01, 3.200e+00, 3.400e+00,\n",
       "       3.600e+00, 3.800e+00, 2.100e+00, 2.300e+00, 2.400e+00, 6.000e-01,\n",
       "       7.000e-01, 9.000e-01, 3.900e+00, 2.700e+00, 1.400e+00, 4.800e+00,\n",
       "       4.600e+00, 4.900e+00, 5.000e+00, 4.400e+00, 4.300e+00, 4.200e+00,\n",
       "       4.500e+00, 2.620e+01, 2.430e+01, 2.130e+01, 2.110e+01, 2.900e+00,\n",
       "       5.100e+00, 5.200e+00, 5.400e+00, 2.038e+02, 1.983e+02, 1.931e+02,\n",
       "       1.909e+02, 1.901e+02, 1.892e+02, 2.360e+01, 2.400e+01, 2.410e+01,\n",
       "       3.700e+00, 7.300e+00, 7.800e+00, 8.400e+00, 9.000e+00, 9.100e+00,\n",
       "       1.010e+01, 1.000e+01, 1.070e+01, 1.150e+01, 1.190e+01, 1.180e+01,\n",
       "       8.700e+00, 1.030e+01, 1.100e+01, 1.000e+00, 5.500e+00, 6.800e+00,\n",
       "       7.900e+00, 5.900e+00, 7.000e+00, 9.200e+00, 9.400e+00, 9.600e+00,\n",
       "       6.700e+00, 7.100e+00, 7.200e+00, 1.470e+01, 1.740e+01, 2.020e+01,\n",
       "       2.220e+01, 2.280e+01, 2.460e+01, 3.110e+01, 2.850e+01, 2.540e+01,\n",
       "       2.480e+01, 2.610e+01, 1.450e+01, 1.540e+01, 1.650e+01, 1.580e+01,\n",
       "       1.570e+01, 1.080e+01, 1.120e+01, 1.160e+01, 1.200e+01, 1.220e+01,\n",
       "       1.350e+01, 1.320e+01, 1.280e+01, 1.300e+01, 1.340e+01, 1.410e+01,\n",
       "       4.100e+00, 6.100e+00, 6.000e+00, 6.500e+00, 2.600e+00, 8.000e+00,\n",
       "       8.300e+00])"
      ]
     },
     "execution_count": 186,
     "metadata": {},
     "output_type": "execute_result"
    }
   ],
   "source": [
    "undernutrition[\"Valeur (en million d'hab)\"].unique()"
   ]
  },
  {
   "cell_type": "code",
   "execution_count": 187,
   "id": "19852c19",
   "metadata": {
    "scrolled": true
   },
   "outputs": [
    {
     "data": {
      "text/plain": [
       "139"
      ]
     },
     "execution_count": 187,
     "metadata": {},
     "output_type": "execute_result"
    }
   ],
   "source": [
    "len(undernutrition[\"Valeur (en million d'hab)\"].unique())"
   ]
  },
  {
   "cell_type": "code",
   "execution_count": 188,
   "id": "3e85d59a",
   "metadata": {},
   "outputs": [
    {
     "data": {
      "text/plain": [
       "0        8.6\n",
       "1        8.8\n",
       "2        8.9\n",
       "3        9.7\n",
       "4       10.5\n",
       "        ... \n",
       "1213     NaN\n",
       "1214     NaN\n",
       "1215     NaN\n",
       "1216     NaN\n",
       "1217     NaN\n",
       "Name: Valeur (en million d'hab), Length: 1218, dtype: float64"
      ]
     },
     "execution_count": 188,
     "metadata": {},
     "output_type": "execute_result"
    }
   ],
   "source": [
    "undernutrition[\"Valeur (en million d'hab)\"]"
   ]
  },
  {
   "cell_type": "code",
   "execution_count": 189,
   "id": "6198f52b",
   "metadata": {},
   "outputs": [],
   "source": [
    "undernutrition.fillna(0, inplace=True)"
   ]
  },
  {
   "cell_type": "code",
   "execution_count": 190,
   "id": "255f0bcb",
   "metadata": {},
   "outputs": [
    {
     "data": {
      "text/plain": [
       "0        8.6\n",
       "1        8.8\n",
       "2        8.9\n",
       "3        9.7\n",
       "4       10.5\n",
       "        ... \n",
       "1213     0.0\n",
       "1214     0.0\n",
       "1215     0.0\n",
       "1216     0.0\n",
       "1217     0.0\n",
       "Name: Valeur (en million d'hab), Length: 1218, dtype: float64"
      ]
     },
     "execution_count": 190,
     "metadata": {},
     "output_type": "execute_result"
    }
   ],
   "source": [
    "undernutrition[\"Valeur (en million d'hab)\"]"
   ]
  },
  {
   "cell_type": "code",
   "execution_count": 191,
   "id": "d8e6ef0c",
   "metadata": {},
   "outputs": [],
   "source": [
    "undernutrition = undernutrition.replace(\"2012-2014\",\"2013\")"
   ]
  },
  {
   "cell_type": "code",
   "execution_count": 192,
   "id": "69e69dbe",
   "metadata": {},
   "outputs": [],
   "source": [
    "undernutrition = undernutrition.replace(\"2013-2015\",\"2014\")"
   ]
  },
  {
   "cell_type": "code",
   "execution_count": 193,
   "id": "9554f7a8",
   "metadata": {},
   "outputs": [],
   "source": [
    "undernutrition = undernutrition.replace(\"2014-2016\",\"2015\")"
   ]
  },
  {
   "cell_type": "code",
   "execution_count": 194,
   "id": "42e5a059",
   "metadata": {},
   "outputs": [],
   "source": [
    "undernutrition = undernutrition.replace(\"2015-2017\",\"2016\")"
   ]
  },
  {
   "cell_type": "code",
   "execution_count": 195,
   "id": "19919002",
   "metadata": {},
   "outputs": [],
   "source": [
    "undernutrition = undernutrition.replace(\"2016-2018\",\"2017\")"
   ]
  },
  {
   "cell_type": "code",
   "execution_count": 197,
   "id": "e9db18c5",
   "metadata": {},
   "outputs": [],
   "source": [
    "undernutrition = undernutrition.replace(\"2017-2019\",\"2018\")"
   ]
  },
  {
   "cell_type": "code",
   "execution_count": 198,
   "id": "58682bba",
   "metadata": {},
   "outputs": [
    {
     "name": "stdout",
     "output_type": "stream",
     "text": [
      "             Zone Année  Valeur (en million d'hab)\n",
      "0     Afghanistan  2013                        8.6\n",
      "1     Afghanistan  2014                        8.8\n",
      "2     Afghanistan  2015                        8.9\n",
      "3     Afghanistan  2016                        9.7\n",
      "4     Afghanistan  2017                       10.5\n",
      "...           ...   ...                        ...\n",
      "1213     Zimbabwe  2014                        0.0\n",
      "1214     Zimbabwe  2015                        0.0\n",
      "1215     Zimbabwe  2016                        0.0\n",
      "1216     Zimbabwe  2017                        0.0\n",
      "1217     Zimbabwe  2018                        0.0\n",
      "\n",
      "[1218 rows x 3 columns]\n"
     ]
    }
   ],
   "source": [
    "print(undernutrition)"
   ]
  },
  {
   "cell_type": "code",
   "execution_count": null,
   "id": "cdf5b589",
   "metadata": {},
   "outputs": [],
   "source": []
  },
  {
   "cell_type": "markdown",
   "id": "e048b34a",
   "metadata": {},
   "source": [
    "*a. Exploration et nettoyage du fichier \"[population.csv](http://localhost:8888/edit/population.csv)\" :*\n",
    "\n"
   ]
  },
  {
   "cell_type": "code",
   "execution_count": 210,
   "id": "21a03945",
   "metadata": {},
   "outputs": [],
   "source": [
    "population = pd.read_csv('population.csv', sep=';')"
   ]
  },
  {
   "cell_type": "code",
   "execution_count": 211,
   "id": "a68c9d67",
   "metadata": {},
   "outputs": [
    {
     "data": {
      "text/html": [
       "<div>\n",
       "<style scoped>\n",
       "    .dataframe tbody tr th:only-of-type {\n",
       "        vertical-align: middle;\n",
       "    }\n",
       "\n",
       "    .dataframe tbody tr th {\n",
       "        vertical-align: top;\n",
       "    }\n",
       "\n",
       "    .dataframe thead th {\n",
       "        text-align: right;\n",
       "    }\n",
       "</style>\n",
       "<table border=\"1\" class=\"dataframe\">\n",
       "  <thead>\n",
       "    <tr style=\"text-align: right;\">\n",
       "      <th></th>\n",
       "      <th>Zone</th>\n",
       "      <th>Année</th>\n",
       "      <th>Valeur (en milliers d'hab)</th>\n",
       "    </tr>\n",
       "  </thead>\n",
       "  <tbody>\n",
       "    <tr>\n",
       "      <th>0</th>\n",
       "      <td>Afghanistan</td>\n",
       "      <td>2013</td>\n",
       "      <td>32269.589</td>\n",
       "    </tr>\n",
       "    <tr>\n",
       "      <th>1</th>\n",
       "      <td>Afghanistan</td>\n",
       "      <td>2014</td>\n",
       "      <td>33370.794</td>\n",
       "    </tr>\n",
       "    <tr>\n",
       "      <th>2</th>\n",
       "      <td>Afghanistan</td>\n",
       "      <td>2015</td>\n",
       "      <td>34413.603</td>\n",
       "    </tr>\n",
       "    <tr>\n",
       "      <th>3</th>\n",
       "      <td>Afghanistan</td>\n",
       "      <td>2016</td>\n",
       "      <td>35383.032</td>\n",
       "    </tr>\n",
       "    <tr>\n",
       "      <th>4</th>\n",
       "      <td>Afghanistan</td>\n",
       "      <td>2017</td>\n",
       "      <td>36296.113</td>\n",
       "    </tr>\n",
       "  </tbody>\n",
       "</table>\n",
       "</div>"
      ],
      "text/plain": [
       "          Zone  Année  Valeur (en milliers d'hab)\n",
       "0  Afghanistan   2013                   32269.589\n",
       "1  Afghanistan   2014                   33370.794\n",
       "2  Afghanistan   2015                   34413.603\n",
       "3  Afghanistan   2016                   35383.032\n",
       "4  Afghanistan   2017                   36296.113"
      ]
     },
     "execution_count": 211,
     "metadata": {},
     "output_type": "execute_result"
    }
   ],
   "source": [
    "population.head()"
   ]
  },
  {
   "cell_type": "markdown",
   "id": "cf5e1c5f",
   "metadata": {},
   "source": [
    "1. *Proportion de personnes en état de sous-nutrition en 2017 :*"
   ]
  }
 ],
 "metadata": {
  "kernelspec": {
   "display_name": "Python 3",
   "language": "python",
   "name": "python3"
  },
  "language_info": {
   "codemirror_mode": {
    "name": "ipython",
    "version": 3
   },
   "file_extension": ".py",
   "mimetype": "text/x-python",
   "name": "python",
   "nbconvert_exporter": "python",
   "pygments_lexer": "ipython3",
   "version": "3.8.8"
  }
 },
 "nbformat": 4,
 "nbformat_minor": 5
}
